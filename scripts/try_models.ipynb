{
 "cells": [
  {
   "cell_type": "markdown",
   "metadata": {},
   "source": [
    "# Try different models"
   ]
  },
  {
   "cell_type": "markdown",
   "metadata": {},
   "source": [
    "This jupyter notebook is dedicated to training and evaluating different models"
   ]
  },
  {
   "cell_type": "code",
   "execution_count": 8,
   "metadata": {},
   "outputs": [],
   "source": [
    "import pandas as pd\n",
    "import numpy as np\n",
    "import matplotlib.pyplot as plt\n",
    "import pdb\n",
    "import random"
   ]
  },
  {
   "cell_type": "markdown",
   "metadata": {},
   "source": [
    "## 1. Open and view all the files"
   ]
  },
  {
   "cell_type": "code",
   "execution_count": 48,
   "metadata": {},
   "outputs": [],
   "source": [
    "train=pd.read_csv('../data/flat_train.csv',index_col=0)\n",
    "test=pd.read_csv('../data/flat_test.csv',index_col=0)\n",
    "IC50=pd.read_csv('../data/flat_IC50.csv',index_col=0)\n",
    "isolates_list = [line.rstrip('\\n') for line in open('../data/isolates.txt')]\n",
    "isolates_list_test = [line.rstrip('\\n') for line in open('../data/isolates_test.txt')]\n",
    "genes_column_labels_df=pd.read_csv('../data/genes_column_labels.csv',index_col=0)\n",
    "genes_list = [line.rstrip('\\n') for line in open('../data/genes_to_keep.txt')]"
   ]
  },
  {
   "cell_type": "code",
   "execution_count": 3,
   "metadata": {},
   "outputs": [
    {
     "data": {
      "text/html": [
       "<div>\n",
       "<style scoped>\n",
       "    .dataframe tbody tr th:only-of-type {\n",
       "        vertical-align: middle;\n",
       "    }\n",
       "\n",
       "    .dataframe tbody tr th {\n",
       "        vertical-align: top;\n",
       "    }\n",
       "\n",
       "    .dataframe thead th {\n",
       "        text-align: right;\n",
       "    }\n",
       "</style>\n",
       "<table border=\"1\" class=\"dataframe\">\n",
       "  <thead>\n",
       "    <tr style=\"text-align: right;\">\n",
       "      <th></th>\n",
       "      <th>PF3D7_1340700_24HR_DHA</th>\n",
       "      <th>PF3D7_1340700_24HR_UT</th>\n",
       "      <th>PF3D7_1340700_6HR_DHA</th>\n",
       "      <th>PF3D7_1340700_6HR_UT</th>\n",
       "      <th>PF3D7_1246100_24HR_DHA</th>\n",
       "      <th>PF3D7_1246100_24HR_UT</th>\n",
       "      <th>PF3D7_1246100_6HR_DHA</th>\n",
       "      <th>PF3D7_1246100_6HR_UT</th>\n",
       "      <th>PF3D7_0106800_24HR_DHA</th>\n",
       "      <th>PF3D7_0106800_24HR_UT</th>\n",
       "      <th>...</th>\n",
       "      <th>PF3D7_0626800_DHA_UT_6HR</th>\n",
       "      <th>PF3D7_0626800_DHA_UT_24HR</th>\n",
       "      <th>PF3D7_1457000_24HR_6HR_DHA</th>\n",
       "      <th>PF3D7_1457000_24_6HR_UT</th>\n",
       "      <th>PF3D7_1457000_DHA_UT_6HR</th>\n",
       "      <th>PF3D7_1457000_DHA_UT_24HR</th>\n",
       "      <th>PF3D7_1361800_24HR_6HR_DHA</th>\n",
       "      <th>PF3D7_1361800_24_6HR_UT</th>\n",
       "      <th>PF3D7_1361800_DHA_UT_6HR</th>\n",
       "      <th>PF3D7_1361800_DHA_UT_24HR</th>\n",
       "    </tr>\n",
       "  </thead>\n",
       "  <tbody>\n",
       "    <tr>\n",
       "      <th>isolate_01</th>\n",
       "      <td>-0.407052</td>\n",
       "      <td>-0.454890</td>\n",
       "      <td>0.240787</td>\n",
       "      <td>-0.323857</td>\n",
       "      <td>1.010718</td>\n",
       "      <td>1.297258</td>\n",
       "      <td>0.878644</td>\n",
       "      <td>0.462625</td>\n",
       "      <td>-0.174305</td>\n",
       "      <td>0.026291</td>\n",
       "      <td>...</td>\n",
       "      <td>-0.861167</td>\n",
       "      <td>-0.788560</td>\n",
       "      <td>-0.449115</td>\n",
       "      <td>0.103816</td>\n",
       "      <td>-0.387161</td>\n",
       "      <td>-0.940092</td>\n",
       "      <td>-0.204190</td>\n",
       "      <td>-0.306021</td>\n",
       "      <td>0.607113</td>\n",
       "      <td>0.708944</td>\n",
       "    </tr>\n",
       "    <tr>\n",
       "      <th>isolate_02</th>\n",
       "      <td>0.013135</td>\n",
       "      <td>-0.288905</td>\n",
       "      <td>0.156844</td>\n",
       "      <td>-0.258988</td>\n",
       "      <td>0.929380</td>\n",
       "      <td>1.122397</td>\n",
       "      <td>0.590085</td>\n",
       "      <td>1.358618</td>\n",
       "      <td>-0.556308</td>\n",
       "      <td>-0.449670</td>\n",
       "      <td>...</td>\n",
       "      <td>0.638573</td>\n",
       "      <td>-0.022643</td>\n",
       "      <td>-0.044861</td>\n",
       "      <td>-0.012785</td>\n",
       "      <td>0.488644</td>\n",
       "      <td>0.456568</td>\n",
       "      <td>-0.280932</td>\n",
       "      <td>0.137645</td>\n",
       "      <td>0.074284</td>\n",
       "      <td>-0.344293</td>\n",
       "    </tr>\n",
       "    <tr>\n",
       "      <th>isolate_03</th>\n",
       "      <td>0.048070</td>\n",
       "      <td>-0.340294</td>\n",
       "      <td>-0.135059</td>\n",
       "      <td>-0.284724</td>\n",
       "      <td>1.046211</td>\n",
       "      <td>1.230160</td>\n",
       "      <td>0.508137</td>\n",
       "      <td>0.867778</td>\n",
       "      <td>0.921045</td>\n",
       "      <td>-0.025513</td>\n",
       "      <td>...</td>\n",
       "      <td>1.312910</td>\n",
       "      <td>0.855652</td>\n",
       "      <td>-0.861166</td>\n",
       "      <td>0.302824</td>\n",
       "      <td>1.743635</td>\n",
       "      <td>0.579645</td>\n",
       "      <td>0.586608</td>\n",
       "      <td>-0.008594</td>\n",
       "      <td>-0.708807</td>\n",
       "      <td>-0.113605</td>\n",
       "    </tr>\n",
       "    <tr>\n",
       "      <th>isolate_04</th>\n",
       "      <td>-0.072510</td>\n",
       "      <td>-0.545671</td>\n",
       "      <td>-0.385077</td>\n",
       "      <td>-0.304287</td>\n",
       "      <td>0.965489</td>\n",
       "      <td>1.154897</td>\n",
       "      <td>0.879867</td>\n",
       "      <td>1.587606</td>\n",
       "      <td>0.367313</td>\n",
       "      <td>-0.390621</td>\n",
       "      <td>...</td>\n",
       "      <td>0.640146</td>\n",
       "      <td>-0.186046</td>\n",
       "      <td>-0.064471</td>\n",
       "      <td>0.092535</td>\n",
       "      <td>0.253309</td>\n",
       "      <td>0.096304</td>\n",
       "      <td>-0.065763</td>\n",
       "      <td>-1.011158</td>\n",
       "      <td>-0.072207</td>\n",
       "      <td>0.873189</td>\n",
       "    </tr>\n",
       "    <tr>\n",
       "      <th>isolate_05</th>\n",
       "      <td>-0.226061</td>\n",
       "      <td>-0.371508</td>\n",
       "      <td>-0.262047</td>\n",
       "      <td>-0.062498</td>\n",
       "      <td>1.234422</td>\n",
       "      <td>1.881968</td>\n",
       "      <td>1.436707</td>\n",
       "      <td>0.874129</td>\n",
       "      <td>-0.399773</td>\n",
       "      <td>-1.257496</td>\n",
       "      <td>...</td>\n",
       "      <td>-0.223396</td>\n",
       "      <td>1.337816</td>\n",
       "      <td>-0.006811</td>\n",
       "      <td>-1.209072</td>\n",
       "      <td>0.150276</td>\n",
       "      <td>1.352536</td>\n",
       "      <td>-0.197253</td>\n",
       "      <td>1.041507</td>\n",
       "      <td>0.677745</td>\n",
       "      <td>-0.561015</td>\n",
       "    </tr>\n",
       "  </tbody>\n",
       "</table>\n",
       "<p>5 rows × 3848 columns</p>\n",
       "</div>"
      ],
      "text/plain": [
       "            PF3D7_1340700_24HR_DHA  PF3D7_1340700_24HR_UT  \\\n",
       "isolate_01               -0.407052              -0.454890   \n",
       "isolate_02                0.013135              -0.288905   \n",
       "isolate_03                0.048070              -0.340294   \n",
       "isolate_04               -0.072510              -0.545671   \n",
       "isolate_05               -0.226061              -0.371508   \n",
       "\n",
       "            PF3D7_1340700_6HR_DHA  PF3D7_1340700_6HR_UT  \\\n",
       "isolate_01               0.240787             -0.323857   \n",
       "isolate_02               0.156844             -0.258988   \n",
       "isolate_03              -0.135059             -0.284724   \n",
       "isolate_04              -0.385077             -0.304287   \n",
       "isolate_05              -0.262047             -0.062498   \n",
       "\n",
       "            PF3D7_1246100_24HR_DHA  PF3D7_1246100_24HR_UT  \\\n",
       "isolate_01                1.010718               1.297258   \n",
       "isolate_02                0.929380               1.122397   \n",
       "isolate_03                1.046211               1.230160   \n",
       "isolate_04                0.965489               1.154897   \n",
       "isolate_05                1.234422               1.881968   \n",
       "\n",
       "            PF3D7_1246100_6HR_DHA  PF3D7_1246100_6HR_UT  \\\n",
       "isolate_01               0.878644              0.462625   \n",
       "isolate_02               0.590085              1.358618   \n",
       "isolate_03               0.508137              0.867778   \n",
       "isolate_04               0.879867              1.587606   \n",
       "isolate_05               1.436707              0.874129   \n",
       "\n",
       "            PF3D7_0106800_24HR_DHA  PF3D7_0106800_24HR_UT  ...  \\\n",
       "isolate_01               -0.174305               0.026291  ...   \n",
       "isolate_02               -0.556308              -0.449670  ...   \n",
       "isolate_03                0.921045              -0.025513  ...   \n",
       "isolate_04                0.367313              -0.390621  ...   \n",
       "isolate_05               -0.399773              -1.257496  ...   \n",
       "\n",
       "            PF3D7_0626800_DHA_UT_6HR  PF3D7_0626800_DHA_UT_24HR  \\\n",
       "isolate_01                 -0.861167                  -0.788560   \n",
       "isolate_02                  0.638573                  -0.022643   \n",
       "isolate_03                  1.312910                   0.855652   \n",
       "isolate_04                  0.640146                  -0.186046   \n",
       "isolate_05                 -0.223396                   1.337816   \n",
       "\n",
       "            PF3D7_1457000_24HR_6HR_DHA  PF3D7_1457000_24_6HR_UT  \\\n",
       "isolate_01                   -0.449115                 0.103816   \n",
       "isolate_02                   -0.044861                -0.012785   \n",
       "isolate_03                   -0.861166                 0.302824   \n",
       "isolate_04                   -0.064471                 0.092535   \n",
       "isolate_05                   -0.006811                -1.209072   \n",
       "\n",
       "            PF3D7_1457000_DHA_UT_6HR  PF3D7_1457000_DHA_UT_24HR  \\\n",
       "isolate_01                 -0.387161                  -0.940092   \n",
       "isolate_02                  0.488644                   0.456568   \n",
       "isolate_03                  1.743635                   0.579645   \n",
       "isolate_04                  0.253309                   0.096304   \n",
       "isolate_05                  0.150276                   1.352536   \n",
       "\n",
       "            PF3D7_1361800_24HR_6HR_DHA  PF3D7_1361800_24_6HR_UT  \\\n",
       "isolate_01                   -0.204190                -0.306021   \n",
       "isolate_02                   -0.280932                 0.137645   \n",
       "isolate_03                    0.586608                -0.008594   \n",
       "isolate_04                   -0.065763                -1.011158   \n",
       "isolate_05                   -0.197253                 1.041507   \n",
       "\n",
       "            PF3D7_1361800_DHA_UT_6HR  PF3D7_1361800_DHA_UT_24HR  \n",
       "isolate_01                  0.607113                   0.708944  \n",
       "isolate_02                  0.074284                  -0.344293  \n",
       "isolate_03                 -0.708807                  -0.113605  \n",
       "isolate_04                 -0.072207                   0.873189  \n",
       "isolate_05                  0.677745                  -0.561015  \n",
       "\n",
       "[5 rows x 3848 columns]"
      ]
     },
     "execution_count": 3,
     "metadata": {},
     "output_type": "execute_result"
    }
   ],
   "source": [
    "train.head()"
   ]
  },
  {
   "cell_type": "code",
   "execution_count": 4,
   "metadata": {},
   "outputs": [
    {
     "data": {
      "text/html": [
       "<div>\n",
       "<style scoped>\n",
       "    .dataframe tbody tr th:only-of-type {\n",
       "        vertical-align: middle;\n",
       "    }\n",
       "\n",
       "    .dataframe tbody tr th {\n",
       "        vertical-align: top;\n",
       "    }\n",
       "\n",
       "    .dataframe thead th {\n",
       "        text-align: right;\n",
       "    }\n",
       "</style>\n",
       "<table border=\"1\" class=\"dataframe\">\n",
       "  <thead>\n",
       "    <tr style=\"text-align: right;\">\n",
       "      <th></th>\n",
       "      <th>DHA_IC50</th>\n",
       "    </tr>\n",
       "  </thead>\n",
       "  <tbody>\n",
       "    <tr>\n",
       "      <th>isolate_01</th>\n",
       "      <td>2.177</td>\n",
       "    </tr>\n",
       "    <tr>\n",
       "      <th>isolate_02</th>\n",
       "      <td>1.697</td>\n",
       "    </tr>\n",
       "    <tr>\n",
       "      <th>isolate_03</th>\n",
       "      <td>1.799</td>\n",
       "    </tr>\n",
       "    <tr>\n",
       "      <th>isolate_04</th>\n",
       "      <td>0.710</td>\n",
       "    </tr>\n",
       "    <tr>\n",
       "      <th>isolate_05</th>\n",
       "      <td>2.025</td>\n",
       "    </tr>\n",
       "  </tbody>\n",
       "</table>\n",
       "</div>"
      ],
      "text/plain": [
       "            DHA_IC50\n",
       "isolate_01     2.177\n",
       "isolate_02     1.697\n",
       "isolate_03     1.799\n",
       "isolate_04     0.710\n",
       "isolate_05     2.025"
      ]
     },
     "execution_count": 4,
     "metadata": {},
     "output_type": "execute_result"
    }
   ],
   "source": [
    "IC50.head()"
   ]
  },
  {
   "cell_type": "code",
   "execution_count": 5,
   "metadata": {},
   "outputs": [
    {
     "data": {
      "text/html": [
       "<div>\n",
       "<style scoped>\n",
       "    .dataframe tbody tr th:only-of-type {\n",
       "        vertical-align: middle;\n",
       "    }\n",
       "\n",
       "    .dataframe tbody tr th {\n",
       "        vertical-align: top;\n",
       "    }\n",
       "\n",
       "    .dataframe thead th {\n",
       "        text-align: right;\n",
       "    }\n",
       "</style>\n",
       "<table border=\"1\" class=\"dataframe\">\n",
       "  <thead>\n",
       "    <tr style=\"text-align: right;\">\n",
       "      <th></th>\n",
       "      <th>PF3D7_1340700_24HR_DHA</th>\n",
       "      <th>PF3D7_1340700_24HR_UT</th>\n",
       "      <th>PF3D7_1340700_6HR_DHA</th>\n",
       "      <th>PF3D7_1340700_6HR_UT</th>\n",
       "      <th>PF3D7_1246100_24HR_DHA</th>\n",
       "      <th>PF3D7_1246100_24HR_UT</th>\n",
       "      <th>PF3D7_1246100_6HR_DHA</th>\n",
       "      <th>PF3D7_1246100_6HR_UT</th>\n",
       "      <th>PF3D7_0106800_24HR_DHA</th>\n",
       "      <th>PF3D7_0106800_24HR_UT</th>\n",
       "      <th>...</th>\n",
       "      <th>PF3D7_0626800_DHA_UT_6HR</th>\n",
       "      <th>PF3D7_0626800_DHA_UT_24HR</th>\n",
       "      <th>PF3D7_1457000_24HR_6HR_DHA</th>\n",
       "      <th>PF3D7_1457000_24_6HR_UT</th>\n",
       "      <th>PF3D7_1457000_DHA_UT_6HR</th>\n",
       "      <th>PF3D7_1457000_DHA_UT_24HR</th>\n",
       "      <th>PF3D7_1361800_24HR_6HR_DHA</th>\n",
       "      <th>PF3D7_1361800_24_6HR_UT</th>\n",
       "      <th>PF3D7_1361800_DHA_UT_6HR</th>\n",
       "      <th>PF3D7_1361800_DHA_UT_24HR</th>\n",
       "    </tr>\n",
       "  </thead>\n",
       "  <tbody>\n",
       "    <tr>\n",
       "      <th>isolate_31</th>\n",
       "      <td>-0.083810</td>\n",
       "      <td>-0.237601</td>\n",
       "      <td>-0.393627</td>\n",
       "      <td>0.157657</td>\n",
       "      <td>1.241742</td>\n",
       "      <td>0.892842</td>\n",
       "      <td>0.944031</td>\n",
       "      <td>1.185809</td>\n",
       "      <td>-0.584764</td>\n",
       "      <td>-1.392044</td>\n",
       "      <td>...</td>\n",
       "      <td>-1.183098</td>\n",
       "      <td>0.495186</td>\n",
       "      <td>0.059165</td>\n",
       "      <td>-0.586973</td>\n",
       "      <td>-0.565675</td>\n",
       "      <td>0.080463</td>\n",
       "      <td>-0.555443</td>\n",
       "      <td>0.797244</td>\n",
       "      <td>0.992569</td>\n",
       "      <td>-0.360118</td>\n",
       "    </tr>\n",
       "    <tr>\n",
       "      <th>isolate_32</th>\n",
       "      <td>-0.100321</td>\n",
       "      <td>-0.315922</td>\n",
       "      <td>-0.205521</td>\n",
       "      <td>-0.549832</td>\n",
       "      <td>0.499754</td>\n",
       "      <td>1.074672</td>\n",
       "      <td>0.484960</td>\n",
       "      <td>1.243588</td>\n",
       "      <td>-0.369133</td>\n",
       "      <td>0.305464</td>\n",
       "      <td>...</td>\n",
       "      <td>0.529374</td>\n",
       "      <td>0.228348</td>\n",
       "      <td>-0.479942</td>\n",
       "      <td>-0.070097</td>\n",
       "      <td>0.490606</td>\n",
       "      <td>0.080761</td>\n",
       "      <td>0.248413</td>\n",
       "      <td>-1.265139</td>\n",
       "      <td>-1.552093</td>\n",
       "      <td>-0.038541</td>\n",
       "    </tr>\n",
       "    <tr>\n",
       "      <th>isolate_33</th>\n",
       "      <td>-0.306169</td>\n",
       "      <td>-0.196336</td>\n",
       "      <td>-0.129218</td>\n",
       "      <td>-0.254396</td>\n",
       "      <td>1.711083</td>\n",
       "      <td>0.716859</td>\n",
       "      <td>0.887892</td>\n",
       "      <td>1.320313</td>\n",
       "      <td>0.176647</td>\n",
       "      <td>-1.046201</td>\n",
       "      <td>...</td>\n",
       "      <td>0.592113</td>\n",
       "      <td>0.538705</td>\n",
       "      <td>0.148453</td>\n",
       "      <td>-0.215818</td>\n",
       "      <td>-0.019406</td>\n",
       "      <td>0.344865</td>\n",
       "      <td>-0.061137</td>\n",
       "      <td>-0.450015</td>\n",
       "      <td>-0.265031</td>\n",
       "      <td>0.123846</td>\n",
       "    </tr>\n",
       "    <tr>\n",
       "      <th>isolate_34</th>\n",
       "      <td>0.108025</td>\n",
       "      <td>-0.107807</td>\n",
       "      <td>-0.210586</td>\n",
       "      <td>-0.346967</td>\n",
       "      <td>0.856864</td>\n",
       "      <td>0.916836</td>\n",
       "      <td>0.771997</td>\n",
       "      <td>1.151976</td>\n",
       "      <td>0.257807</td>\n",
       "      <td>0.219475</td>\n",
       "      <td>...</td>\n",
       "      <td>-0.041319</td>\n",
       "      <td>0.201217</td>\n",
       "      <td>0.477662</td>\n",
       "      <td>-0.799427</td>\n",
       "      <td>-1.046440</td>\n",
       "      <td>0.230649</td>\n",
       "      <td>-0.277628</td>\n",
       "      <td>0.877974</td>\n",
       "      <td>1.153233</td>\n",
       "      <td>-0.002368</td>\n",
       "    </tr>\n",
       "    <tr>\n",
       "      <th>isolate_35</th>\n",
       "      <td>-0.383524</td>\n",
       "      <td>-0.542011</td>\n",
       "      <td>-0.383707</td>\n",
       "      <td>-0.488203</td>\n",
       "      <td>1.240874</td>\n",
       "      <td>0.366477</td>\n",
       "      <td>0.248377</td>\n",
       "      <td>0.872176</td>\n",
       "      <td>-0.288073</td>\n",
       "      <td>0.539267</td>\n",
       "      <td>...</td>\n",
       "      <td>1.450840</td>\n",
       "      <td>-0.549614</td>\n",
       "      <td>-0.840660</td>\n",
       "      <td>1.094264</td>\n",
       "      <td>1.443738</td>\n",
       "      <td>-0.491185</td>\n",
       "      <td>1.181817</td>\n",
       "      <td>-0.896510</td>\n",
       "      <td>-2.229431</td>\n",
       "      <td>-0.151104</td>\n",
       "    </tr>\n",
       "  </tbody>\n",
       "</table>\n",
       "<p>5 rows × 3848 columns</p>\n",
       "</div>"
      ],
      "text/plain": [
       "            PF3D7_1340700_24HR_DHA  PF3D7_1340700_24HR_UT  \\\n",
       "isolate_31               -0.083810              -0.237601   \n",
       "isolate_32               -0.100321              -0.315922   \n",
       "isolate_33               -0.306169              -0.196336   \n",
       "isolate_34                0.108025              -0.107807   \n",
       "isolate_35               -0.383524              -0.542011   \n",
       "\n",
       "            PF3D7_1340700_6HR_DHA  PF3D7_1340700_6HR_UT  \\\n",
       "isolate_31              -0.393627              0.157657   \n",
       "isolate_32              -0.205521             -0.549832   \n",
       "isolate_33              -0.129218             -0.254396   \n",
       "isolate_34              -0.210586             -0.346967   \n",
       "isolate_35              -0.383707             -0.488203   \n",
       "\n",
       "            PF3D7_1246100_24HR_DHA  PF3D7_1246100_24HR_UT  \\\n",
       "isolate_31                1.241742               0.892842   \n",
       "isolate_32                0.499754               1.074672   \n",
       "isolate_33                1.711083               0.716859   \n",
       "isolate_34                0.856864               0.916836   \n",
       "isolate_35                1.240874               0.366477   \n",
       "\n",
       "            PF3D7_1246100_6HR_DHA  PF3D7_1246100_6HR_UT  \\\n",
       "isolate_31               0.944031              1.185809   \n",
       "isolate_32               0.484960              1.243588   \n",
       "isolate_33               0.887892              1.320313   \n",
       "isolate_34               0.771997              1.151976   \n",
       "isolate_35               0.248377              0.872176   \n",
       "\n",
       "            PF3D7_0106800_24HR_DHA  PF3D7_0106800_24HR_UT  ...  \\\n",
       "isolate_31               -0.584764              -1.392044  ...   \n",
       "isolate_32               -0.369133               0.305464  ...   \n",
       "isolate_33                0.176647              -1.046201  ...   \n",
       "isolate_34                0.257807               0.219475  ...   \n",
       "isolate_35               -0.288073               0.539267  ...   \n",
       "\n",
       "            PF3D7_0626800_DHA_UT_6HR  PF3D7_0626800_DHA_UT_24HR  \\\n",
       "isolate_31                 -1.183098                   0.495186   \n",
       "isolate_32                  0.529374                   0.228348   \n",
       "isolate_33                  0.592113                   0.538705   \n",
       "isolate_34                 -0.041319                   0.201217   \n",
       "isolate_35                  1.450840                  -0.549614   \n",
       "\n",
       "            PF3D7_1457000_24HR_6HR_DHA  PF3D7_1457000_24_6HR_UT  \\\n",
       "isolate_31                    0.059165                -0.586973   \n",
       "isolate_32                   -0.479942                -0.070097   \n",
       "isolate_33                    0.148453                -0.215818   \n",
       "isolate_34                    0.477662                -0.799427   \n",
       "isolate_35                   -0.840660                 1.094264   \n",
       "\n",
       "            PF3D7_1457000_DHA_UT_6HR  PF3D7_1457000_DHA_UT_24HR  \\\n",
       "isolate_31                 -0.565675                   0.080463   \n",
       "isolate_32                  0.490606                   0.080761   \n",
       "isolate_33                 -0.019406                   0.344865   \n",
       "isolate_34                 -1.046440                   0.230649   \n",
       "isolate_35                  1.443738                  -0.491185   \n",
       "\n",
       "            PF3D7_1361800_24HR_6HR_DHA  PF3D7_1361800_24_6HR_UT  \\\n",
       "isolate_31                   -0.555443                 0.797244   \n",
       "isolate_32                    0.248413                -1.265139   \n",
       "isolate_33                   -0.061137                -0.450015   \n",
       "isolate_34                   -0.277628                 0.877974   \n",
       "isolate_35                    1.181817                -0.896510   \n",
       "\n",
       "            PF3D7_1361800_DHA_UT_6HR  PF3D7_1361800_DHA_UT_24HR  \n",
       "isolate_31                  0.992569                  -0.360118  \n",
       "isolate_32                 -1.552093                  -0.038541  \n",
       "isolate_33                 -0.265031                   0.123846  \n",
       "isolate_34                  1.153233                  -0.002368  \n",
       "isolate_35                 -2.229431                  -0.151104  \n",
       "\n",
       "[5 rows x 3848 columns]"
      ]
     },
     "execution_count": 5,
     "metadata": {},
     "output_type": "execute_result"
    }
   ],
   "source": [
    "test.head()"
   ]
  },
  {
   "cell_type": "code",
   "execution_count": 6,
   "metadata": {},
   "outputs": [
    {
     "data": {
      "text/plain": [
       "['isolate_01',\n",
       " 'isolate_02',\n",
       " 'isolate_03',\n",
       " 'isolate_04',\n",
       " 'isolate_05',\n",
       " 'isolate_06',\n",
       " 'isolate_07',\n",
       " 'isolate_08',\n",
       " 'isolate_09',\n",
       " 'isolate_10',\n",
       " 'isolate_11',\n",
       " 'isolate_12',\n",
       " 'isolate_13',\n",
       " 'isolate_14',\n",
       " 'isolate_15',\n",
       " 'isolate_16',\n",
       " 'isolate_17',\n",
       " 'isolate_18',\n",
       " 'isolate_19',\n",
       " 'isolate_20',\n",
       " 'isolate_21',\n",
       " 'isolate_22',\n",
       " 'isolate_23',\n",
       " 'isolate_24',\n",
       " 'isolate_25',\n",
       " 'isolate_26',\n",
       " 'isolate_27',\n",
       " 'isolate_28',\n",
       " 'isolate_29',\n",
       " 'isolate_30']"
      ]
     },
     "execution_count": 6,
     "metadata": {},
     "output_type": "execute_result"
    }
   ],
   "source": [
    "isolates_list"
   ]
  },
  {
   "cell_type": "code",
   "execution_count": 7,
   "metadata": {},
   "outputs": [
    {
     "data": {
      "text/html": [
       "<div>\n",
       "<style scoped>\n",
       "    .dataframe tbody tr th:only-of-type {\n",
       "        vertical-align: middle;\n",
       "    }\n",
       "\n",
       "    .dataframe tbody tr th {\n",
       "        vertical-align: top;\n",
       "    }\n",
       "\n",
       "    .dataframe thead th {\n",
       "        text-align: right;\n",
       "    }\n",
       "</style>\n",
       "<table border=\"1\" class=\"dataframe\">\n",
       "  <thead>\n",
       "    <tr style=\"text-align: right;\">\n",
       "      <th></th>\n",
       "      <th>PF3D7_1340700</th>\n",
       "      <th>PF3D7_1246100</th>\n",
       "      <th>PF3D7_0106800</th>\n",
       "      <th>PF3D7_1431300</th>\n",
       "      <th>PF3D7_1426500</th>\n",
       "      <th>PF3D7_1216500</th>\n",
       "      <th>PF3D7_0418500</th>\n",
       "      <th>PF3D7_0821800</th>\n",
       "      <th>PF3D7_1432700</th>\n",
       "      <th>PF3D7_1463700</th>\n",
       "      <th>...</th>\n",
       "      <th>PF3D7_0417100</th>\n",
       "      <th>PF3D7_1332000</th>\n",
       "      <th>PF3D7_1204300</th>\n",
       "      <th>PF3D7_0729400</th>\n",
       "      <th>PF3D7_0820700</th>\n",
       "      <th>PF3D7_1320500</th>\n",
       "      <th>PF3D7_0109400</th>\n",
       "      <th>PF3D7_0626800</th>\n",
       "      <th>PF3D7_1457000</th>\n",
       "      <th>PF3D7_1361800</th>\n",
       "    </tr>\n",
       "  </thead>\n",
       "  <tbody>\n",
       "    <tr>\n",
       "      <th>0</th>\n",
       "      <td>PF3D7_1340700_24HR_DHA</td>\n",
       "      <td>PF3D7_1246100_24HR_DHA</td>\n",
       "      <td>PF3D7_0106800_24HR_DHA</td>\n",
       "      <td>PF3D7_1431300_24HR_DHA</td>\n",
       "      <td>PF3D7_1426500_24HR_DHA</td>\n",
       "      <td>PF3D7_1216500_24HR_DHA</td>\n",
       "      <td>PF3D7_0418500_24HR_DHA</td>\n",
       "      <td>PF3D7_0821800_24HR_DHA</td>\n",
       "      <td>PF3D7_1432700_24HR_DHA</td>\n",
       "      <td>PF3D7_1463700_24HR_DHA</td>\n",
       "      <td>...</td>\n",
       "      <td>PF3D7_0417100_24HR_DHA</td>\n",
       "      <td>PF3D7_1332000_24HR_DHA</td>\n",
       "      <td>PF3D7_1204300_24HR_DHA</td>\n",
       "      <td>PF3D7_0729400_24HR_DHA</td>\n",
       "      <td>PF3D7_0820700_24HR_DHA</td>\n",
       "      <td>PF3D7_1320500_24HR_DHA</td>\n",
       "      <td>PF3D7_0109400_24HR_DHA</td>\n",
       "      <td>PF3D7_0626800_24HR_DHA</td>\n",
       "      <td>PF3D7_1457000_24HR_DHA</td>\n",
       "      <td>PF3D7_1361800_24HR_DHA</td>\n",
       "    </tr>\n",
       "    <tr>\n",
       "      <th>1</th>\n",
       "      <td>PF3D7_1340700_24HR_UT</td>\n",
       "      <td>PF3D7_1246100_24HR_UT</td>\n",
       "      <td>PF3D7_0106800_24HR_UT</td>\n",
       "      <td>PF3D7_1431300_24HR_UT</td>\n",
       "      <td>PF3D7_1426500_24HR_UT</td>\n",
       "      <td>PF3D7_1216500_24HR_UT</td>\n",
       "      <td>PF3D7_0418500_24HR_UT</td>\n",
       "      <td>PF3D7_0821800_24HR_UT</td>\n",
       "      <td>PF3D7_1432700_24HR_UT</td>\n",
       "      <td>PF3D7_1463700_24HR_UT</td>\n",
       "      <td>...</td>\n",
       "      <td>PF3D7_0417100_24HR_UT</td>\n",
       "      <td>PF3D7_1332000_24HR_UT</td>\n",
       "      <td>PF3D7_1204300_24HR_UT</td>\n",
       "      <td>PF3D7_0729400_24HR_UT</td>\n",
       "      <td>PF3D7_0820700_24HR_UT</td>\n",
       "      <td>PF3D7_1320500_24HR_UT</td>\n",
       "      <td>PF3D7_0109400_24HR_UT</td>\n",
       "      <td>PF3D7_0626800_24HR_UT</td>\n",
       "      <td>PF3D7_1457000_24HR_UT</td>\n",
       "      <td>PF3D7_1361800_24HR_UT</td>\n",
       "    </tr>\n",
       "    <tr>\n",
       "      <th>2</th>\n",
       "      <td>PF3D7_1340700_6HR_DHA</td>\n",
       "      <td>PF3D7_1246100_6HR_DHA</td>\n",
       "      <td>PF3D7_0106800_6HR_DHA</td>\n",
       "      <td>PF3D7_1431300_6HR_DHA</td>\n",
       "      <td>PF3D7_1426500_6HR_DHA</td>\n",
       "      <td>PF3D7_1216500_6HR_DHA</td>\n",
       "      <td>PF3D7_0418500_6HR_DHA</td>\n",
       "      <td>PF3D7_0821800_6HR_DHA</td>\n",
       "      <td>PF3D7_1432700_6HR_DHA</td>\n",
       "      <td>PF3D7_1463700_6HR_DHA</td>\n",
       "      <td>...</td>\n",
       "      <td>PF3D7_0417100_6HR_DHA</td>\n",
       "      <td>PF3D7_1332000_6HR_DHA</td>\n",
       "      <td>PF3D7_1204300_6HR_DHA</td>\n",
       "      <td>PF3D7_0729400_6HR_DHA</td>\n",
       "      <td>PF3D7_0820700_6HR_DHA</td>\n",
       "      <td>PF3D7_1320500_6HR_DHA</td>\n",
       "      <td>PF3D7_0109400_6HR_DHA</td>\n",
       "      <td>PF3D7_0626800_6HR_DHA</td>\n",
       "      <td>PF3D7_1457000_6HR_DHA</td>\n",
       "      <td>PF3D7_1361800_6HR_DHA</td>\n",
       "    </tr>\n",
       "    <tr>\n",
       "      <th>3</th>\n",
       "      <td>PF3D7_1340700_6HR_UT</td>\n",
       "      <td>PF3D7_1246100_6HR_UT</td>\n",
       "      <td>PF3D7_0106800_6HR_UT</td>\n",
       "      <td>PF3D7_1431300_6HR_UT</td>\n",
       "      <td>PF3D7_1426500_6HR_UT</td>\n",
       "      <td>PF3D7_1216500_6HR_UT</td>\n",
       "      <td>PF3D7_0418500_6HR_UT</td>\n",
       "      <td>PF3D7_0821800_6HR_UT</td>\n",
       "      <td>PF3D7_1432700_6HR_UT</td>\n",
       "      <td>PF3D7_1463700_6HR_UT</td>\n",
       "      <td>...</td>\n",
       "      <td>PF3D7_0417100_6HR_UT</td>\n",
       "      <td>PF3D7_1332000_6HR_UT</td>\n",
       "      <td>PF3D7_1204300_6HR_UT</td>\n",
       "      <td>PF3D7_0729400_6HR_UT</td>\n",
       "      <td>PF3D7_0820700_6HR_UT</td>\n",
       "      <td>PF3D7_1320500_6HR_UT</td>\n",
       "      <td>PF3D7_0109400_6HR_UT</td>\n",
       "      <td>PF3D7_0626800_6HR_UT</td>\n",
       "      <td>PF3D7_1457000_6HR_UT</td>\n",
       "      <td>PF3D7_1361800_6HR_UT</td>\n",
       "    </tr>\n",
       "    <tr>\n",
       "      <th>4</th>\n",
       "      <td>PF3D7_1340700_24HR_6HR_DHA</td>\n",
       "      <td>PF3D7_1246100_24HR_6HR_DHA</td>\n",
       "      <td>PF3D7_0106800_24HR_6HR_DHA</td>\n",
       "      <td>PF3D7_1431300_24HR_6HR_DHA</td>\n",
       "      <td>PF3D7_1426500_24HR_6HR_DHA</td>\n",
       "      <td>PF3D7_1216500_24HR_6HR_DHA</td>\n",
       "      <td>PF3D7_0418500_24HR_6HR_DHA</td>\n",
       "      <td>PF3D7_0821800_24HR_6HR_DHA</td>\n",
       "      <td>PF3D7_1432700_24HR_6HR_DHA</td>\n",
       "      <td>PF3D7_1463700_24HR_6HR_DHA</td>\n",
       "      <td>...</td>\n",
       "      <td>PF3D7_0417100_24HR_6HR_DHA</td>\n",
       "      <td>PF3D7_1332000_24HR_6HR_DHA</td>\n",
       "      <td>PF3D7_1204300_24HR_6HR_DHA</td>\n",
       "      <td>PF3D7_0729400_24HR_6HR_DHA</td>\n",
       "      <td>PF3D7_0820700_24HR_6HR_DHA</td>\n",
       "      <td>PF3D7_1320500_24HR_6HR_DHA</td>\n",
       "      <td>PF3D7_0109400_24HR_6HR_DHA</td>\n",
       "      <td>PF3D7_0626800_24HR_6HR_DHA</td>\n",
       "      <td>PF3D7_1457000_24HR_6HR_DHA</td>\n",
       "      <td>PF3D7_1361800_24HR_6HR_DHA</td>\n",
       "    </tr>\n",
       "    <tr>\n",
       "      <th>5</th>\n",
       "      <td>PF3D7_1340700_24_6HR_UT</td>\n",
       "      <td>PF3D7_1246100_24_6HR_UT</td>\n",
       "      <td>PF3D7_0106800_24_6HR_UT</td>\n",
       "      <td>PF3D7_1431300_24_6HR_UT</td>\n",
       "      <td>PF3D7_1426500_24_6HR_UT</td>\n",
       "      <td>PF3D7_1216500_24_6HR_UT</td>\n",
       "      <td>PF3D7_0418500_24_6HR_UT</td>\n",
       "      <td>PF3D7_0821800_24_6HR_UT</td>\n",
       "      <td>PF3D7_1432700_24_6HR_UT</td>\n",
       "      <td>PF3D7_1463700_24_6HR_UT</td>\n",
       "      <td>...</td>\n",
       "      <td>PF3D7_0417100_24_6HR_UT</td>\n",
       "      <td>PF3D7_1332000_24_6HR_UT</td>\n",
       "      <td>PF3D7_1204300_24_6HR_UT</td>\n",
       "      <td>PF3D7_0729400_24_6HR_UT</td>\n",
       "      <td>PF3D7_0820700_24_6HR_UT</td>\n",
       "      <td>PF3D7_1320500_24_6HR_UT</td>\n",
       "      <td>PF3D7_0109400_24_6HR_UT</td>\n",
       "      <td>PF3D7_0626800_24_6HR_UT</td>\n",
       "      <td>PF3D7_1457000_24_6HR_UT</td>\n",
       "      <td>PF3D7_1361800_24_6HR_UT</td>\n",
       "    </tr>\n",
       "    <tr>\n",
       "      <th>6</th>\n",
       "      <td>PF3D7_1340700_DHA_UT_6HR</td>\n",
       "      <td>PF3D7_1246100_DHA_UT_6HR</td>\n",
       "      <td>PF3D7_0106800_DHA_UT_6HR</td>\n",
       "      <td>PF3D7_1431300_DHA_UT_6HR</td>\n",
       "      <td>PF3D7_1426500_DHA_UT_6HR</td>\n",
       "      <td>PF3D7_1216500_DHA_UT_6HR</td>\n",
       "      <td>PF3D7_0418500_DHA_UT_6HR</td>\n",
       "      <td>PF3D7_0821800_DHA_UT_6HR</td>\n",
       "      <td>PF3D7_1432700_DHA_UT_6HR</td>\n",
       "      <td>PF3D7_1463700_DHA_UT_6HR</td>\n",
       "      <td>...</td>\n",
       "      <td>PF3D7_0417100_DHA_UT_6HR</td>\n",
       "      <td>PF3D7_1332000_DHA_UT_6HR</td>\n",
       "      <td>PF3D7_1204300_DHA_UT_6HR</td>\n",
       "      <td>PF3D7_0729400_DHA_UT_6HR</td>\n",
       "      <td>PF3D7_0820700_DHA_UT_6HR</td>\n",
       "      <td>PF3D7_1320500_DHA_UT_6HR</td>\n",
       "      <td>PF3D7_0109400_DHA_UT_6HR</td>\n",
       "      <td>PF3D7_0626800_DHA_UT_6HR</td>\n",
       "      <td>PF3D7_1457000_DHA_UT_6HR</td>\n",
       "      <td>PF3D7_1361800_DHA_UT_6HR</td>\n",
       "    </tr>\n",
       "    <tr>\n",
       "      <th>7</th>\n",
       "      <td>PF3D7_1340700_DHA_UT_24HR</td>\n",
       "      <td>PF3D7_1246100_DHA_UT_24HR</td>\n",
       "      <td>PF3D7_0106800_DHA_UT_24HR</td>\n",
       "      <td>PF3D7_1431300_DHA_UT_24HR</td>\n",
       "      <td>PF3D7_1426500_DHA_UT_24HR</td>\n",
       "      <td>PF3D7_1216500_DHA_UT_24HR</td>\n",
       "      <td>PF3D7_0418500_DHA_UT_24HR</td>\n",
       "      <td>PF3D7_0821800_DHA_UT_24HR</td>\n",
       "      <td>PF3D7_1432700_DHA_UT_24HR</td>\n",
       "      <td>PF3D7_1463700_DHA_UT_24HR</td>\n",
       "      <td>...</td>\n",
       "      <td>PF3D7_0417100_DHA_UT_24HR</td>\n",
       "      <td>PF3D7_1332000_DHA_UT_24HR</td>\n",
       "      <td>PF3D7_1204300_DHA_UT_24HR</td>\n",
       "      <td>PF3D7_0729400_DHA_UT_24HR</td>\n",
       "      <td>PF3D7_0820700_DHA_UT_24HR</td>\n",
       "      <td>PF3D7_1320500_DHA_UT_24HR</td>\n",
       "      <td>PF3D7_0109400_DHA_UT_24HR</td>\n",
       "      <td>PF3D7_0626800_DHA_UT_24HR</td>\n",
       "      <td>PF3D7_1457000_DHA_UT_24HR</td>\n",
       "      <td>PF3D7_1361800_DHA_UT_24HR</td>\n",
       "    </tr>\n",
       "  </tbody>\n",
       "</table>\n",
       "<p>8 rows × 481 columns</p>\n",
       "</div>"
      ],
      "text/plain": [
       "                PF3D7_1340700               PF3D7_1246100  \\\n",
       "0      PF3D7_1340700_24HR_DHA      PF3D7_1246100_24HR_DHA   \n",
       "1       PF3D7_1340700_24HR_UT       PF3D7_1246100_24HR_UT   \n",
       "2       PF3D7_1340700_6HR_DHA       PF3D7_1246100_6HR_DHA   \n",
       "3        PF3D7_1340700_6HR_UT        PF3D7_1246100_6HR_UT   \n",
       "4  PF3D7_1340700_24HR_6HR_DHA  PF3D7_1246100_24HR_6HR_DHA   \n",
       "5     PF3D7_1340700_24_6HR_UT     PF3D7_1246100_24_6HR_UT   \n",
       "6    PF3D7_1340700_DHA_UT_6HR    PF3D7_1246100_DHA_UT_6HR   \n",
       "7   PF3D7_1340700_DHA_UT_24HR   PF3D7_1246100_DHA_UT_24HR   \n",
       "\n",
       "                PF3D7_0106800               PF3D7_1431300  \\\n",
       "0      PF3D7_0106800_24HR_DHA      PF3D7_1431300_24HR_DHA   \n",
       "1       PF3D7_0106800_24HR_UT       PF3D7_1431300_24HR_UT   \n",
       "2       PF3D7_0106800_6HR_DHA       PF3D7_1431300_6HR_DHA   \n",
       "3        PF3D7_0106800_6HR_UT        PF3D7_1431300_6HR_UT   \n",
       "4  PF3D7_0106800_24HR_6HR_DHA  PF3D7_1431300_24HR_6HR_DHA   \n",
       "5     PF3D7_0106800_24_6HR_UT     PF3D7_1431300_24_6HR_UT   \n",
       "6    PF3D7_0106800_DHA_UT_6HR    PF3D7_1431300_DHA_UT_6HR   \n",
       "7   PF3D7_0106800_DHA_UT_24HR   PF3D7_1431300_DHA_UT_24HR   \n",
       "\n",
       "                PF3D7_1426500               PF3D7_1216500  \\\n",
       "0      PF3D7_1426500_24HR_DHA      PF3D7_1216500_24HR_DHA   \n",
       "1       PF3D7_1426500_24HR_UT       PF3D7_1216500_24HR_UT   \n",
       "2       PF3D7_1426500_6HR_DHA       PF3D7_1216500_6HR_DHA   \n",
       "3        PF3D7_1426500_6HR_UT        PF3D7_1216500_6HR_UT   \n",
       "4  PF3D7_1426500_24HR_6HR_DHA  PF3D7_1216500_24HR_6HR_DHA   \n",
       "5     PF3D7_1426500_24_6HR_UT     PF3D7_1216500_24_6HR_UT   \n",
       "6    PF3D7_1426500_DHA_UT_6HR    PF3D7_1216500_DHA_UT_6HR   \n",
       "7   PF3D7_1426500_DHA_UT_24HR   PF3D7_1216500_DHA_UT_24HR   \n",
       "\n",
       "                PF3D7_0418500               PF3D7_0821800  \\\n",
       "0      PF3D7_0418500_24HR_DHA      PF3D7_0821800_24HR_DHA   \n",
       "1       PF3D7_0418500_24HR_UT       PF3D7_0821800_24HR_UT   \n",
       "2       PF3D7_0418500_6HR_DHA       PF3D7_0821800_6HR_DHA   \n",
       "3        PF3D7_0418500_6HR_UT        PF3D7_0821800_6HR_UT   \n",
       "4  PF3D7_0418500_24HR_6HR_DHA  PF3D7_0821800_24HR_6HR_DHA   \n",
       "5     PF3D7_0418500_24_6HR_UT     PF3D7_0821800_24_6HR_UT   \n",
       "6    PF3D7_0418500_DHA_UT_6HR    PF3D7_0821800_DHA_UT_6HR   \n",
       "7   PF3D7_0418500_DHA_UT_24HR   PF3D7_0821800_DHA_UT_24HR   \n",
       "\n",
       "                PF3D7_1432700               PF3D7_1463700  ...  \\\n",
       "0      PF3D7_1432700_24HR_DHA      PF3D7_1463700_24HR_DHA  ...   \n",
       "1       PF3D7_1432700_24HR_UT       PF3D7_1463700_24HR_UT  ...   \n",
       "2       PF3D7_1432700_6HR_DHA       PF3D7_1463700_6HR_DHA  ...   \n",
       "3        PF3D7_1432700_6HR_UT        PF3D7_1463700_6HR_UT  ...   \n",
       "4  PF3D7_1432700_24HR_6HR_DHA  PF3D7_1463700_24HR_6HR_DHA  ...   \n",
       "5     PF3D7_1432700_24_6HR_UT     PF3D7_1463700_24_6HR_UT  ...   \n",
       "6    PF3D7_1432700_DHA_UT_6HR    PF3D7_1463700_DHA_UT_6HR  ...   \n",
       "7   PF3D7_1432700_DHA_UT_24HR   PF3D7_1463700_DHA_UT_24HR  ...   \n",
       "\n",
       "                PF3D7_0417100               PF3D7_1332000  \\\n",
       "0      PF3D7_0417100_24HR_DHA      PF3D7_1332000_24HR_DHA   \n",
       "1       PF3D7_0417100_24HR_UT       PF3D7_1332000_24HR_UT   \n",
       "2       PF3D7_0417100_6HR_DHA       PF3D7_1332000_6HR_DHA   \n",
       "3        PF3D7_0417100_6HR_UT        PF3D7_1332000_6HR_UT   \n",
       "4  PF3D7_0417100_24HR_6HR_DHA  PF3D7_1332000_24HR_6HR_DHA   \n",
       "5     PF3D7_0417100_24_6HR_UT     PF3D7_1332000_24_6HR_UT   \n",
       "6    PF3D7_0417100_DHA_UT_6HR    PF3D7_1332000_DHA_UT_6HR   \n",
       "7   PF3D7_0417100_DHA_UT_24HR   PF3D7_1332000_DHA_UT_24HR   \n",
       "\n",
       "                PF3D7_1204300               PF3D7_0729400  \\\n",
       "0      PF3D7_1204300_24HR_DHA      PF3D7_0729400_24HR_DHA   \n",
       "1       PF3D7_1204300_24HR_UT       PF3D7_0729400_24HR_UT   \n",
       "2       PF3D7_1204300_6HR_DHA       PF3D7_0729400_6HR_DHA   \n",
       "3        PF3D7_1204300_6HR_UT        PF3D7_0729400_6HR_UT   \n",
       "4  PF3D7_1204300_24HR_6HR_DHA  PF3D7_0729400_24HR_6HR_DHA   \n",
       "5     PF3D7_1204300_24_6HR_UT     PF3D7_0729400_24_6HR_UT   \n",
       "6    PF3D7_1204300_DHA_UT_6HR    PF3D7_0729400_DHA_UT_6HR   \n",
       "7   PF3D7_1204300_DHA_UT_24HR   PF3D7_0729400_DHA_UT_24HR   \n",
       "\n",
       "                PF3D7_0820700               PF3D7_1320500  \\\n",
       "0      PF3D7_0820700_24HR_DHA      PF3D7_1320500_24HR_DHA   \n",
       "1       PF3D7_0820700_24HR_UT       PF3D7_1320500_24HR_UT   \n",
       "2       PF3D7_0820700_6HR_DHA       PF3D7_1320500_6HR_DHA   \n",
       "3        PF3D7_0820700_6HR_UT        PF3D7_1320500_6HR_UT   \n",
       "4  PF3D7_0820700_24HR_6HR_DHA  PF3D7_1320500_24HR_6HR_DHA   \n",
       "5     PF3D7_0820700_24_6HR_UT     PF3D7_1320500_24_6HR_UT   \n",
       "6    PF3D7_0820700_DHA_UT_6HR    PF3D7_1320500_DHA_UT_6HR   \n",
       "7   PF3D7_0820700_DHA_UT_24HR   PF3D7_1320500_DHA_UT_24HR   \n",
       "\n",
       "                PF3D7_0109400               PF3D7_0626800  \\\n",
       "0      PF3D7_0109400_24HR_DHA      PF3D7_0626800_24HR_DHA   \n",
       "1       PF3D7_0109400_24HR_UT       PF3D7_0626800_24HR_UT   \n",
       "2       PF3D7_0109400_6HR_DHA       PF3D7_0626800_6HR_DHA   \n",
       "3        PF3D7_0109400_6HR_UT        PF3D7_0626800_6HR_UT   \n",
       "4  PF3D7_0109400_24HR_6HR_DHA  PF3D7_0626800_24HR_6HR_DHA   \n",
       "5     PF3D7_0109400_24_6HR_UT     PF3D7_0626800_24_6HR_UT   \n",
       "6    PF3D7_0109400_DHA_UT_6HR    PF3D7_0626800_DHA_UT_6HR   \n",
       "7   PF3D7_0109400_DHA_UT_24HR   PF3D7_0626800_DHA_UT_24HR   \n",
       "\n",
       "                PF3D7_1457000               PF3D7_1361800  \n",
       "0      PF3D7_1457000_24HR_DHA      PF3D7_1361800_24HR_DHA  \n",
       "1       PF3D7_1457000_24HR_UT       PF3D7_1361800_24HR_UT  \n",
       "2       PF3D7_1457000_6HR_DHA       PF3D7_1361800_6HR_DHA  \n",
       "3        PF3D7_1457000_6HR_UT        PF3D7_1361800_6HR_UT  \n",
       "4  PF3D7_1457000_24HR_6HR_DHA  PF3D7_1361800_24HR_6HR_DHA  \n",
       "5     PF3D7_1457000_24_6HR_UT     PF3D7_1361800_24_6HR_UT  \n",
       "6    PF3D7_1457000_DHA_UT_6HR    PF3D7_1361800_DHA_UT_6HR  \n",
       "7   PF3D7_1457000_DHA_UT_24HR   PF3D7_1361800_DHA_UT_24HR  \n",
       "\n",
       "[8 rows x 481 columns]"
      ]
     },
     "execution_count": 7,
     "metadata": {},
     "output_type": "execute_result"
    }
   ],
   "source": [
    "genes_column_labels_df"
   ]
  },
  {
   "cell_type": "markdown",
   "metadata": {},
   "source": [
    "## 2. Hacer modelo lineal de manera incremental (un gen con sus 8 valores a la vez)\n",
    "\n",
    "### Isolates for validation\n",
    "* isolate_07\n",
    "* isolate_27\n",
    "* isolate_18\n",
    "* isolate_11\n",
    "* isolate_16\n",
    "\n",
    "### Models to try out\n",
    "* [LASSO (R2)](https://scikit-learn.org/stable/modules/generated/sklearn.linear_model.Lasso.html)\n",
    "* [Linear Regression (RMSE)](https://scikit-learn.org/stable/modules/generated/sklearn.linear_model.LinearRegression.html#sklearn.linear_model.LinearRegression)"
   ]
  },
  {
   "cell_type": "code",
   "execution_count": 8,
   "metadata": {},
   "outputs": [],
   "source": [
    "from sklearn.linear_model import LinearRegression\n",
    "from sklearn import metrics"
   ]
  },
  {
   "cell_type": "markdown",
   "metadata": {},
   "source": [
    "### 2.1 Create the functions"
   ]
  },
  {
   "cell_type": "code",
   "execution_count": 16,
   "metadata": {},
   "outputs": [],
   "source": [
    "#Global variables\n",
    "#val_isolates\n",
    "#genes_dict\n",
    "val_isolates=['isolate_07','isolate_11','isolate_16','isolate_18','isolate_27']"
   ]
  },
  {
   "cell_type": "code",
   "execution_count": 17,
   "metadata": {},
   "outputs": [],
   "source": [
    "def getGenesColumnLabels(genes):\n",
    "#Takes a list of genes and returns the genes labels\n",
    "    genes_list=[]\n",
    "    for gene in genes:\n",
    "        genes_list=genes_list+list(genes_column_labels_df[gene])\n",
    "    return genes_list"
   ]
  },
  {
   "cell_type": "code",
   "execution_count": 18,
   "metadata": {},
   "outputs": [],
   "source": [
    "def findTrainIsolates(val_isolates,df):\n",
    "#Takes a list of isolates chosen to be the validation set and the train df.\n",
    "#Returns the isolates not in val_isolates\n",
    "    train_isolates=list(set(df.index)-set(val_isolates))\n",
    "    train_isolates.sort()\n",
    "    return train_isolates"
   ]
  },
  {
   "cell_type": "code",
   "execution_count": 19,
   "metadata": {},
   "outputs": [],
   "source": [
    "def filterDfByIsolates(isolates,df):\n",
    "#Takes a list of isolates and a dataframe\n",
    "#Returns the rows of the dataframe whose index are in isolates\n",
    "    filtered_df=df.loc[isolates]\n",
    "    return filtered_df"
   ]
  },
  {
   "cell_type": "code",
   "execution_count": 20,
   "metadata": {},
   "outputs": [],
   "source": [
    "def filterDfByGenes(genes,df):\n",
    "#Takes a list of genes e.g.['PF3D7_1360200','PF3D7_1212800'] and a dataframe\n",
    "#Returns the columns of the dataframe whose labels are in genes\n",
    "    genes_to_filter=getGenesColumnLabels(genes)\n",
    "    filtered_df=df[genes_to_filter]\n",
    "    return filtered_df"
   ]
  },
  {
   "cell_type": "code",
   "execution_count": 21,
   "metadata": {},
   "outputs": [],
   "source": [
    "def trainModel(genes,val_isolates,dfx,dfy):\n",
    "    train_isolates=findTrainIsolates(val_isolates,dfx)\n",
    "    \n",
    "    X=filterDfByIsolates(train_isolates,dfx)\n",
    "    X=filterDfByGenes(genes,X)\n",
    "    \n",
    "    y=filterDfByIsolates(train_isolates,dfy)\n",
    "    \n",
    "    model=LinearRegression().fit(X.values,y.values)\n",
    "    \n",
    "    X_val=filterDfByIsolates(val_isolates,dfx)\n",
    "    X_val=filterDfByGenes(genes,X_val)\n",
    "    \n",
    "    y_val=filterDfByIsolates(val_isolates,dfy).values\n",
    "    \n",
    "    score=model.score(X_val,y_val)\n",
    "    \n",
    "    return score"
   ]
  },
  {
   "cell_type": "markdown",
   "metadata": {},
   "source": [
    "### 2.2 Train the model using linear regression"
   ]
  },
  {
   "cell_type": "code",
   "execution_count": 44,
   "metadata": {},
   "outputs": [],
   "source": [
    "selected_genes=[]\n",
    "selected_scores=[0]\n",
    "N=100\n",
    "for i in range(N):\n",
    "    best_gene_so_far=''\n",
    "    best_score_so_far=selected_scores[-1]\n",
    "    \n",
    "    for gene in genes_list:\n",
    "        \n",
    "        if gene not in selected_genes:\n",
    "            genes_to_use=selected_genes+[gene]\n",
    "            \n",
    "            model_score=trainModel(genes_to_use,val_isolates,train,IC50)\n",
    "            \n",
    "            if model_score > best_score_so_far:\n",
    "                best_score_so_far=model_score\n",
    "                best_gene_so_far=gene\n",
    "\n",
    "    \n",
    "    if best_score_so_far>selected_scores[-1]:\n",
    "        selected_genes.append(best_gene_so_far)\n",
    "        selected_scores.append(best_score_so_far)"
   ]
  },
  {
   "cell_type": "code",
   "execution_count": 16,
   "metadata": {},
   "outputs": [
    {
     "data": {
      "text/plain": [
       "[0, 0.7232934274782723, 0.9647245375940365, 0.9926399964586666]"
      ]
     },
     "execution_count": 16,
     "metadata": {},
     "output_type": "execute_result"
    }
   ],
   "source": [
    "selected_scores"
   ]
  },
  {
   "cell_type": "code",
   "execution_count": 17,
   "metadata": {},
   "outputs": [
    {
     "data": {
      "text/plain": [
       "<function matplotlib.pyplot.show(*args, **kw)>"
      ]
     },
     "execution_count": 17,
     "metadata": {},
     "output_type": "execute_result"
    },
    {
     "data": {
      "image/png": "[encoded data removed]",
      "text/plain": [
       "<Figure size 432x288 with 1 Axes>"
      ]
     },
     "metadata": {
      "needs_background": "light"
     },
     "output_type": "display_data"
    }
   ],
   "source": [
    "#N=100\n",
    "x=np.arange(len(selected_scores))\n",
    "y=selected_scores\n",
    "plt.plot(x,y)\n",
    "plt.xticks(x,selected_genes,rotation='vertical')\n",
    "plt.show"
   ]
  },
  {
   "cell_type": "markdown",
   "metadata": {},
   "source": [
    "### 2.3 Try the model with the three selected genes"
   ]
  },
  {
   "cell_type": "code",
   "execution_count": 18,
   "metadata": {},
   "outputs": [],
   "source": [
    "selected_genes=['PF3D7_0730200','PF3D7_1341600','PF3D7_1426200']"
   ]
  },
  {
   "cell_type": "code",
   "execution_count": 19,
   "metadata": {},
   "outputs": [],
   "source": [
    "def tryModel(genes,val_isolates,dfx,dfy):\n",
    "    model_info={}\n",
    "    \n",
    "    train_isolates=findTrainIsolates(val_isolates,dfx)\n",
    "    \n",
    "    X=filterDfByIsolates(train_isolates,dfx)\n",
    "    X=filterDfByGenes(genes,X)\n",
    "    \n",
    "    y=filterDfByIsolates(train_isolates,dfy)\n",
    "    \n",
    "    model=LinearRegression().fit(X.values,y.values)\n",
    "    \n",
    "    X_val=filterDfByIsolates(val_isolates,dfx)\n",
    "    X_val=filterDfByGenes(genes,X_val)\n",
    "    \n",
    "    y_val=filterDfByIsolates(val_isolates,dfy).values\n",
    "    \n",
    "    y_pred=model.predict(X_val)\n",
    "    \n",
    "    score=model.score(X_val,y_val)\n",
    "    \n",
    "    model_info['y']=y.values\n",
    "    model_info['y_val']=y_val\n",
    "    model_info['X']=X.values\n",
    "    model_info['X_val']=X_val\n",
    "    model_info['y_pred']=y_pred\n",
    "    model_info['score']=score\n",
    "    return model_info"
   ]
  },
  {
   "cell_type": "code",
   "execution_count": 20,
   "metadata": {},
   "outputs": [],
   "source": [
    "#Try the model with the first selected gene\n",
    "gene=['PF3D7_0730200']"
   ]
  },
  {
   "cell_type": "code",
   "execution_count": 21,
   "metadata": {},
   "outputs": [],
   "source": [
    "try_model=tryModel(selected_genes,val_isolates,train,IC50)"
   ]
  },
  {
   "cell_type": "code",
   "execution_count": 22,
   "metadata": {},
   "outputs": [],
   "source": [
    "y=[try_model['y_val'][i][0] for i in range(len(try_model['y_val']))]\n",
    "y_pred=[try_model['y_pred'][i][0] for i in range(len(try_model['y_pred']))]"
   ]
  },
  {
   "cell_type": "code",
   "execution_count": 23,
   "metadata": {
    "scrolled": true
   },
   "outputs": [
    {
     "data": {
      "text/plain": [
       "<matplotlib.collections.PathCollection at 0x186bd2e7630>"
      ]
     },
     "execution_count": 23,
     "metadata": {},
     "output_type": "execute_result"
    },
    {
     "data": {
      "image/png": "[encoded data removed]",
      "text/plain": [
       "<Figure size 432x288 with 1 Axes>"
      ]
     },
     "metadata": {
      "needs_background": "light"
     },
     "output_type": "display_data"
    }
   ],
   "source": [
    "plt.scatter(y,y_pred)"
   ]
  },
  {
   "cell_type": "markdown",
   "metadata": {},
   "source": [
    "### 2.4 Train the model with all the isolates and only the three selected genes"
   ]
  },
  {
   "cell_type": "code",
   "execution_count": 24,
   "metadata": {},
   "outputs": [
    {
     "data": {
      "text/plain": [
       "['PF3D7_0730200', 'PF3D7_1341600', 'PF3D7_1426200']"
      ]
     },
     "execution_count": 24,
     "metadata": {},
     "output_type": "execute_result"
    }
   ],
   "source": [
    "selected_genes"
   ]
  },
  {
   "cell_type": "code",
   "execution_count": 25,
   "metadata": {},
   "outputs": [
    {
     "data": {
      "text/html": [
       "<div>\n",
       "<style scoped>\n",
       "    .dataframe tbody tr th:only-of-type {\n",
       "        vertical-align: middle;\n",
       "    }\n",
       "\n",
       "    .dataframe tbody tr th {\n",
       "        vertical-align: top;\n",
       "    }\n",
       "\n",
       "    .dataframe thead th {\n",
       "        text-align: right;\n",
       "    }\n",
       "</style>\n",
       "<table border=\"1\" class=\"dataframe\">\n",
       "  <thead>\n",
       "    <tr style=\"text-align: right;\">\n",
       "      <th></th>\n",
       "      <th>PF3D7_0730200_24HR_DHA</th>\n",
       "      <th>PF3D7_0730200_24HR_UT</th>\n",
       "      <th>PF3D7_0730200_6HR_DHA</th>\n",
       "      <th>PF3D7_0730200_6HR_UT</th>\n",
       "      <th>PF3D7_0730200_24HR_6HR_DHA</th>\n",
       "      <th>PF3D7_0730200_24_6HR_UT</th>\n",
       "      <th>PF3D7_0730200_DHA_UT_6HR</th>\n",
       "      <th>PF3D7_0730200_DHA_UT_24HR</th>\n",
       "      <th>PF3D7_1341600_24HR_DHA</th>\n",
       "      <th>PF3D7_1341600_24HR_UT</th>\n",
       "      <th>...</th>\n",
       "      <th>PF3D7_1341600_DHA_UT_6HR</th>\n",
       "      <th>PF3D7_1341600_DHA_UT_24HR</th>\n",
       "      <th>PF3D7_1426200_24HR_DHA</th>\n",
       "      <th>PF3D7_1426200_24HR_UT</th>\n",
       "      <th>PF3D7_1426200_6HR_DHA</th>\n",
       "      <th>PF3D7_1426200_6HR_UT</th>\n",
       "      <th>PF3D7_1426200_24HR_6HR_DHA</th>\n",
       "      <th>PF3D7_1426200_24_6HR_UT</th>\n",
       "      <th>PF3D7_1426200_DHA_UT_6HR</th>\n",
       "      <th>PF3D7_1426200_DHA_UT_24HR</th>\n",
       "    </tr>\n",
       "  </thead>\n",
       "  <tbody>\n",
       "    <tr>\n",
       "      <th>isolate_01</th>\n",
       "      <td>-0.037031</td>\n",
       "      <td>-0.073334</td>\n",
       "      <td>-0.530240</td>\n",
       "      <td>-0.245317</td>\n",
       "      <td>0.493209</td>\n",
       "      <td>0.171984</td>\n",
       "      <td>-0.284922</td>\n",
       "      <td>0.036303</td>\n",
       "      <td>0.188004</td>\n",
       "      <td>-0.787045</td>\n",
       "      <td>...</td>\n",
       "      <td>0.253384</td>\n",
       "      <td>0.975049</td>\n",
       "      <td>-0.128304</td>\n",
       "      <td>0.715598</td>\n",
       "      <td>0.011499</td>\n",
       "      <td>0.981056</td>\n",
       "      <td>-0.139804</td>\n",
       "      <td>-0.265458</td>\n",
       "      <td>-0.969557</td>\n",
       "      <td>-0.843902</td>\n",
       "    </tr>\n",
       "    <tr>\n",
       "      <th>isolate_02</th>\n",
       "      <td>-0.112674</td>\n",
       "      <td>-0.302915</td>\n",
       "      <td>-0.450089</td>\n",
       "      <td>-0.428044</td>\n",
       "      <td>0.337415</td>\n",
       "      <td>0.125129</td>\n",
       "      <td>-0.022045</td>\n",
       "      <td>0.190242</td>\n",
       "      <td>-0.517961</td>\n",
       "      <td>-0.480987</td>\n",
       "      <td>...</td>\n",
       "      <td>-0.250033</td>\n",
       "      <td>-0.036974</td>\n",
       "      <td>0.240229</td>\n",
       "      <td>0.013204</td>\n",
       "      <td>0.108668</td>\n",
       "      <td>0.220774</td>\n",
       "      <td>0.131561</td>\n",
       "      <td>-0.207570</td>\n",
       "      <td>-0.112106</td>\n",
       "      <td>0.227026</td>\n",
       "    </tr>\n",
       "    <tr>\n",
       "      <th>isolate_03</th>\n",
       "      <td>0.074458</td>\n",
       "      <td>-0.100457</td>\n",
       "      <td>0.117450</td>\n",
       "      <td>-0.109150</td>\n",
       "      <td>-0.042992</td>\n",
       "      <td>0.008693</td>\n",
       "      <td>0.226599</td>\n",
       "      <td>0.174914</td>\n",
       "      <td>-0.434341</td>\n",
       "      <td>0.022822</td>\n",
       "      <td>...</td>\n",
       "      <td>-0.940996</td>\n",
       "      <td>-0.457163</td>\n",
       "      <td>0.345671</td>\n",
       "      <td>-0.097277</td>\n",
       "      <td>0.413015</td>\n",
       "      <td>-0.258171</td>\n",
       "      <td>-0.067345</td>\n",
       "      <td>0.160894</td>\n",
       "      <td>0.671187</td>\n",
       "      <td>0.442948</td>\n",
       "    </tr>\n",
       "    <tr>\n",
       "      <th>isolate_04</th>\n",
       "      <td>-0.321503</td>\n",
       "      <td>-0.201828</td>\n",
       "      <td>-0.112915</td>\n",
       "      <td>-0.380831</td>\n",
       "      <td>-0.208588</td>\n",
       "      <td>0.179003</td>\n",
       "      <td>0.267916</td>\n",
       "      <td>-0.119675</td>\n",
       "      <td>-0.347945</td>\n",
       "      <td>-1.016586</td>\n",
       "      <td>...</td>\n",
       "      <td>0.370128</td>\n",
       "      <td>0.668641</td>\n",
       "      <td>0.017374</td>\n",
       "      <td>0.456434</td>\n",
       "      <td>-0.186565</td>\n",
       "      <td>-0.109549</td>\n",
       "      <td>0.203938</td>\n",
       "      <td>0.565983</td>\n",
       "      <td>-0.077016</td>\n",
       "      <td>-0.439060</td>\n",
       "    </tr>\n",
       "    <tr>\n",
       "      <th>isolate_05</th>\n",
       "      <td>-0.038549</td>\n",
       "      <td>-0.250931</td>\n",
       "      <td>-0.265711</td>\n",
       "      <td>-0.085343</td>\n",
       "      <td>0.227162</td>\n",
       "      <td>-0.165588</td>\n",
       "      <td>-0.180369</td>\n",
       "      <td>0.212381</td>\n",
       "      <td>-0.818626</td>\n",
       "      <td>-0.143570</td>\n",
       "      <td>...</td>\n",
       "      <td>0.805311</td>\n",
       "      <td>-0.675056</td>\n",
       "      <td>0.652695</td>\n",
       "      <td>-0.293320</td>\n",
       "      <td>0.351933</td>\n",
       "      <td>0.334961</td>\n",
       "      <td>0.300762</td>\n",
       "      <td>-0.628281</td>\n",
       "      <td>0.016973</td>\n",
       "      <td>0.946015</td>\n",
       "    </tr>\n",
       "  </tbody>\n",
       "</table>\n",
       "<p>5 rows × 24 columns</p>\n",
       "</div>"
      ],
      "text/plain": [
       "            PF3D7_0730200_24HR_DHA  PF3D7_0730200_24HR_UT  \\\n",
       "isolate_01               -0.037031              -0.073334   \n",
       "isolate_02               -0.112674              -0.302915   \n",
       "isolate_03                0.074458              -0.100457   \n",
       "isolate_04               -0.321503              -0.201828   \n",
       "isolate_05               -0.038549              -0.250931   \n",
       "\n",
       "            PF3D7_0730200_6HR_DHA  PF3D7_0730200_6HR_UT  \\\n",
       "isolate_01              -0.530240             -0.245317   \n",
       "isolate_02              -0.450089             -0.428044   \n",
       "isolate_03               0.117450             -0.109150   \n",
       "isolate_04              -0.112915             -0.380831   \n",
       "isolate_05              -0.265711             -0.085343   \n",
       "\n",
       "            PF3D7_0730200_24HR_6HR_DHA  PF3D7_0730200_24_6HR_UT  \\\n",
       "isolate_01                    0.493209                 0.171984   \n",
       "isolate_02                    0.337415                 0.125129   \n",
       "isolate_03                   -0.042992                 0.008693   \n",
       "isolate_04                   -0.208588                 0.179003   \n",
       "isolate_05                    0.227162                -0.165588   \n",
       "\n",
       "            PF3D7_0730200_DHA_UT_6HR  PF3D7_0730200_DHA_UT_24HR  \\\n",
       "isolate_01                 -0.284922                   0.036303   \n",
       "isolate_02                 -0.022045                   0.190242   \n",
       "isolate_03                  0.226599                   0.174914   \n",
       "isolate_04                  0.267916                  -0.119675   \n",
       "isolate_05                 -0.180369                   0.212381   \n",
       "\n",
       "            PF3D7_1341600_24HR_DHA  PF3D7_1341600_24HR_UT  ...  \\\n",
       "isolate_01                0.188004              -0.787045  ...   \n",
       "isolate_02               -0.517961              -0.480987  ...   \n",
       "isolate_03               -0.434341               0.022822  ...   \n",
       "isolate_04               -0.347945              -1.016586  ...   \n",
       "isolate_05               -0.818626              -0.143570  ...   \n",
       "\n",
       "            PF3D7_1341600_DHA_UT_6HR  PF3D7_1341600_DHA_UT_24HR  \\\n",
       "isolate_01                  0.253384                   0.975049   \n",
       "isolate_02                 -0.250033                  -0.036974   \n",
       "isolate_03                 -0.940996                  -0.457163   \n",
       "isolate_04                  0.370128                   0.668641   \n",
       "isolate_05                  0.805311                  -0.675056   \n",
       "\n",
       "            PF3D7_1426200_24HR_DHA  PF3D7_1426200_24HR_UT  \\\n",
       "isolate_01               -0.128304               0.715598   \n",
       "isolate_02                0.240229               0.013204   \n",
       "isolate_03                0.345671              -0.097277   \n",
       "isolate_04                0.017374               0.456434   \n",
       "isolate_05                0.652695              -0.293320   \n",
       "\n",
       "            PF3D7_1426200_6HR_DHA  PF3D7_1426200_6HR_UT  \\\n",
       "isolate_01               0.011499              0.981056   \n",
       "isolate_02               0.108668              0.220774   \n",
       "isolate_03               0.413015             -0.258171   \n",
       "isolate_04              -0.186565             -0.109549   \n",
       "isolate_05               0.351933              0.334961   \n",
       "\n",
       "            PF3D7_1426200_24HR_6HR_DHA  PF3D7_1426200_24_6HR_UT  \\\n",
       "isolate_01                   -0.139804                -0.265458   \n",
       "isolate_02                    0.131561                -0.207570   \n",
       "isolate_03                   -0.067345                 0.160894   \n",
       "isolate_04                    0.203938                 0.565983   \n",
       "isolate_05                    0.300762                -0.628281   \n",
       "\n",
       "            PF3D7_1426200_DHA_UT_6HR  PF3D7_1426200_DHA_UT_24HR  \n",
       "isolate_01                 -0.969557                  -0.843902  \n",
       "isolate_02                 -0.112106                   0.227026  \n",
       "isolate_03                  0.671187                   0.442948  \n",
       "isolate_04                 -0.077016                  -0.439060  \n",
       "isolate_05                  0.016973                   0.946015  \n",
       "\n",
       "[5 rows x 24 columns]"
      ]
     },
     "execution_count": 25,
     "metadata": {},
     "output_type": "execute_result"
    }
   ],
   "source": [
    "selected_train=train[getGenesColumnLabels(selected_genes)]\n",
    "selected_train.head()"
   ]
  },
  {
   "cell_type": "code",
   "execution_count": 26,
   "metadata": {},
   "outputs": [],
   "source": [
    "X=selected_train\n",
    "y=IC50\n",
    "\n",
    "model=LinearRegression().fit(X.values,y.values)"
   ]
  },
  {
   "cell_type": "markdown",
   "metadata": {},
   "source": [
    "### 2.5 Save the model"
   ]
  },
  {
   "cell_type": "code",
   "execution_count": 27,
   "metadata": {},
   "outputs": [
    {
     "data": {
      "text/plain": [
       "['model1_140719.pkl']"
      ]
     },
     "execution_count": 27,
     "metadata": {},
     "output_type": "execute_result"
    }
   ],
   "source": [
    "from sklearn.externals import joblib\n",
    "# Output a pickle file for the model\n",
    "joblib.dump(model, '../models/model1_140719.pkl') "
   ]
  },
  {
   "cell_type": "markdown",
   "metadata": {},
   "source": [
    "## 3. Use the model1 on the test data"
   ]
  },
  {
   "cell_type": "code",
   "execution_count": 28,
   "metadata": {
    "scrolled": true
   },
   "outputs": [
    {
     "data": {
      "text/html": [
       "<div>\n",
       "<style scoped>\n",
       "    .dataframe tbody tr th:only-of-type {\n",
       "        vertical-align: middle;\n",
       "    }\n",
       "\n",
       "    .dataframe tbody tr th {\n",
       "        vertical-align: top;\n",
       "    }\n",
       "\n",
       "    .dataframe thead th {\n",
       "        text-align: right;\n",
       "    }\n",
       "</style>\n",
       "<table border=\"1\" class=\"dataframe\">\n",
       "  <thead>\n",
       "    <tr style=\"text-align: right;\">\n",
       "      <th></th>\n",
       "      <th>PF3D7_1340700_24HR_DHA</th>\n",
       "      <th>PF3D7_1340700_24HR_UT</th>\n",
       "      <th>PF3D7_1340700_6HR_DHA</th>\n",
       "      <th>PF3D7_1340700_6HR_UT</th>\n",
       "      <th>PF3D7_1246100_24HR_DHA</th>\n",
       "      <th>PF3D7_1246100_24HR_UT</th>\n",
       "      <th>PF3D7_1246100_6HR_DHA</th>\n",
       "      <th>PF3D7_1246100_6HR_UT</th>\n",
       "      <th>PF3D7_0106800_24HR_DHA</th>\n",
       "      <th>PF3D7_0106800_24HR_UT</th>\n",
       "      <th>...</th>\n",
       "      <th>PF3D7_0626800_DHA_UT_6HR</th>\n",
       "      <th>PF3D7_0626800_DHA_UT_24HR</th>\n",
       "      <th>PF3D7_1457000_24HR_6HR_DHA</th>\n",
       "      <th>PF3D7_1457000_24_6HR_UT</th>\n",
       "      <th>PF3D7_1457000_DHA_UT_6HR</th>\n",
       "      <th>PF3D7_1457000_DHA_UT_24HR</th>\n",
       "      <th>PF3D7_1361800_24HR_6HR_DHA</th>\n",
       "      <th>PF3D7_1361800_24_6HR_UT</th>\n",
       "      <th>PF3D7_1361800_DHA_UT_6HR</th>\n",
       "      <th>PF3D7_1361800_DHA_UT_24HR</th>\n",
       "    </tr>\n",
       "  </thead>\n",
       "  <tbody>\n",
       "    <tr>\n",
       "      <th>isolate_31</th>\n",
       "      <td>-0.083810</td>\n",
       "      <td>-0.237601</td>\n",
       "      <td>-0.393627</td>\n",
       "      <td>0.157657</td>\n",
       "      <td>1.241742</td>\n",
       "      <td>0.892842</td>\n",
       "      <td>0.944031</td>\n",
       "      <td>1.185809</td>\n",
       "      <td>-0.584764</td>\n",
       "      <td>-1.392044</td>\n",
       "      <td>...</td>\n",
       "      <td>-1.183098</td>\n",
       "      <td>0.495186</td>\n",
       "      <td>0.059165</td>\n",
       "      <td>-0.586973</td>\n",
       "      <td>-0.565675</td>\n",
       "      <td>0.080463</td>\n",
       "      <td>-0.555443</td>\n",
       "      <td>0.797244</td>\n",
       "      <td>0.992569</td>\n",
       "      <td>-0.360118</td>\n",
       "    </tr>\n",
       "    <tr>\n",
       "      <th>isolate_32</th>\n",
       "      <td>-0.100321</td>\n",
       "      <td>-0.315922</td>\n",
       "      <td>-0.205521</td>\n",
       "      <td>-0.549832</td>\n",
       "      <td>0.499754</td>\n",
       "      <td>1.074672</td>\n",
       "      <td>0.484960</td>\n",
       "      <td>1.243588</td>\n",
       "      <td>-0.369133</td>\n",
       "      <td>0.305464</td>\n",
       "      <td>...</td>\n",
       "      <td>0.529374</td>\n",
       "      <td>0.228348</td>\n",
       "      <td>-0.479942</td>\n",
       "      <td>-0.070097</td>\n",
       "      <td>0.490606</td>\n",
       "      <td>0.080761</td>\n",
       "      <td>0.248413</td>\n",
       "      <td>-1.265139</td>\n",
       "      <td>-1.552093</td>\n",
       "      <td>-0.038541</td>\n",
       "    </tr>\n",
       "    <tr>\n",
       "      <th>isolate_33</th>\n",
       "      <td>-0.306169</td>\n",
       "      <td>-0.196336</td>\n",
       "      <td>-0.129218</td>\n",
       "      <td>-0.254396</td>\n",
       "      <td>1.711083</td>\n",
       "      <td>0.716859</td>\n",
       "      <td>0.887892</td>\n",
       "      <td>1.320313</td>\n",
       "      <td>0.176647</td>\n",
       "      <td>-1.046201</td>\n",
       "      <td>...</td>\n",
       "      <td>0.592113</td>\n",
       "      <td>0.538705</td>\n",
       "      <td>0.148453</td>\n",
       "      <td>-0.215818</td>\n",
       "      <td>-0.019406</td>\n",
       "      <td>0.344865</td>\n",
       "      <td>-0.061137</td>\n",
       "      <td>-0.450015</td>\n",
       "      <td>-0.265031</td>\n",
       "      <td>0.123846</td>\n",
       "    </tr>\n",
       "    <tr>\n",
       "      <th>isolate_34</th>\n",
       "      <td>0.108025</td>\n",
       "      <td>-0.107807</td>\n",
       "      <td>-0.210586</td>\n",
       "      <td>-0.346967</td>\n",
       "      <td>0.856864</td>\n",
       "      <td>0.916836</td>\n",
       "      <td>0.771997</td>\n",
       "      <td>1.151976</td>\n",
       "      <td>0.257807</td>\n",
       "      <td>0.219475</td>\n",
       "      <td>...</td>\n",
       "      <td>-0.041319</td>\n",
       "      <td>0.201217</td>\n",
       "      <td>0.477662</td>\n",
       "      <td>-0.799427</td>\n",
       "      <td>-1.046440</td>\n",
       "      <td>0.230649</td>\n",
       "      <td>-0.277628</td>\n",
       "      <td>0.877974</td>\n",
       "      <td>1.153233</td>\n",
       "      <td>-0.002368</td>\n",
       "    </tr>\n",
       "    <tr>\n",
       "      <th>isolate_35</th>\n",
       "      <td>-0.383524</td>\n",
       "      <td>-0.542011</td>\n",
       "      <td>-0.383707</td>\n",
       "      <td>-0.488203</td>\n",
       "      <td>1.240874</td>\n",
       "      <td>0.366477</td>\n",
       "      <td>0.248377</td>\n",
       "      <td>0.872176</td>\n",
       "      <td>-0.288073</td>\n",
       "      <td>0.539267</td>\n",
       "      <td>...</td>\n",
       "      <td>1.450840</td>\n",
       "      <td>-0.549614</td>\n",
       "      <td>-0.840660</td>\n",
       "      <td>1.094264</td>\n",
       "      <td>1.443738</td>\n",
       "      <td>-0.491185</td>\n",
       "      <td>1.181817</td>\n",
       "      <td>-0.896510</td>\n",
       "      <td>-2.229431</td>\n",
       "      <td>-0.151104</td>\n",
       "    </tr>\n",
       "  </tbody>\n",
       "</table>\n",
       "<p>5 rows × 3848 columns</p>\n",
       "</div>"
      ],
      "text/plain": [
       "            PF3D7_1340700_24HR_DHA  PF3D7_1340700_24HR_UT  \\\n",
       "isolate_31               -0.083810              -0.237601   \n",
       "isolate_32               -0.100321              -0.315922   \n",
       "isolate_33               -0.306169              -0.196336   \n",
       "isolate_34                0.108025              -0.107807   \n",
       "isolate_35               -0.383524              -0.542011   \n",
       "\n",
       "            PF3D7_1340700_6HR_DHA  PF3D7_1340700_6HR_UT  \\\n",
       "isolate_31              -0.393627              0.157657   \n",
       "isolate_32              -0.205521             -0.549832   \n",
       "isolate_33              -0.129218             -0.254396   \n",
       "isolate_34              -0.210586             -0.346967   \n",
       "isolate_35              -0.383707             -0.488203   \n",
       "\n",
       "            PF3D7_1246100_24HR_DHA  PF3D7_1246100_24HR_UT  \\\n",
       "isolate_31                1.241742               0.892842   \n",
       "isolate_32                0.499754               1.074672   \n",
       "isolate_33                1.711083               0.716859   \n",
       "isolate_34                0.856864               0.916836   \n",
       "isolate_35                1.240874               0.366477   \n",
       "\n",
       "            PF3D7_1246100_6HR_DHA  PF3D7_1246100_6HR_UT  \\\n",
       "isolate_31               0.944031              1.185809   \n",
       "isolate_32               0.484960              1.243588   \n",
       "isolate_33               0.887892              1.320313   \n",
       "isolate_34               0.771997              1.151976   \n",
       "isolate_35               0.248377              0.872176   \n",
       "\n",
       "            PF3D7_0106800_24HR_DHA  PF3D7_0106800_24HR_UT  ...  \\\n",
       "isolate_31               -0.584764              -1.392044  ...   \n",
       "isolate_32               -0.369133               0.305464  ...   \n",
       "isolate_33                0.176647              -1.046201  ...   \n",
       "isolate_34                0.257807               0.219475  ...   \n",
       "isolate_35               -0.288073               0.539267  ...   \n",
       "\n",
       "            PF3D7_0626800_DHA_UT_6HR  PF3D7_0626800_DHA_UT_24HR  \\\n",
       "isolate_31                 -1.183098                   0.495186   \n",
       "isolate_32                  0.529374                   0.228348   \n",
       "isolate_33                  0.592113                   0.538705   \n",
       "isolate_34                 -0.041319                   0.201217   \n",
       "isolate_35                  1.450840                  -0.549614   \n",
       "\n",
       "            PF3D7_1457000_24HR_6HR_DHA  PF3D7_1457000_24_6HR_UT  \\\n",
       "isolate_31                    0.059165                -0.586973   \n",
       "isolate_32                   -0.479942                -0.070097   \n",
       "isolate_33                    0.148453                -0.215818   \n",
       "isolate_34                    0.477662                -0.799427   \n",
       "isolate_35                   -0.840660                 1.094264   \n",
       "\n",
       "            PF3D7_1457000_DHA_UT_6HR  PF3D7_1457000_DHA_UT_24HR  \\\n",
       "isolate_31                 -0.565675                   0.080463   \n",
       "isolate_32                  0.490606                   0.080761   \n",
       "isolate_33                 -0.019406                   0.344865   \n",
       "isolate_34                 -1.046440                   0.230649   \n",
       "isolate_35                  1.443738                  -0.491185   \n",
       "\n",
       "            PF3D7_1361800_24HR_6HR_DHA  PF3D7_1361800_24_6HR_UT  \\\n",
       "isolate_31                   -0.555443                 0.797244   \n",
       "isolate_32                    0.248413                -1.265139   \n",
       "isolate_33                   -0.061137                -0.450015   \n",
       "isolate_34                   -0.277628                 0.877974   \n",
       "isolate_35                    1.181817                -0.896510   \n",
       "\n",
       "            PF3D7_1361800_DHA_UT_6HR  PF3D7_1361800_DHA_UT_24HR  \n",
       "isolate_31                  0.992569                  -0.360118  \n",
       "isolate_32                 -1.552093                  -0.038541  \n",
       "isolate_33                 -0.265031                   0.123846  \n",
       "isolate_34                  1.153233                  -0.002368  \n",
       "isolate_35                 -2.229431                  -0.151104  \n",
       "\n",
       "[5 rows x 3848 columns]"
      ]
     },
     "execution_count": 28,
     "metadata": {},
     "output_type": "execute_result"
    }
   ],
   "source": [
    "test.head()"
   ]
  },
  {
   "cell_type": "markdown",
   "metadata": {},
   "source": [
    "### 3.1 Make the IC50 predictions"
   ]
  },
  {
   "cell_type": "code",
   "execution_count": 29,
   "metadata": {},
   "outputs": [],
   "source": [
    "#Load the model\n",
    "model_load = joblib.load('../models/model1_140719.pkl') "
   ]
  },
  {
   "cell_type": "code",
   "execution_count": 30,
   "metadata": {},
   "outputs": [
    {
     "data": {
      "text/html": [
       "<div>\n",
       "<style scoped>\n",
       "    .dataframe tbody tr th:only-of-type {\n",
       "        vertical-align: middle;\n",
       "    }\n",
       "\n",
       "    .dataframe tbody tr th {\n",
       "        vertical-align: top;\n",
       "    }\n",
       "\n",
       "    .dataframe thead th {\n",
       "        text-align: right;\n",
       "    }\n",
       "</style>\n",
       "<table border=\"1\" class=\"dataframe\">\n",
       "  <thead>\n",
       "    <tr style=\"text-align: right;\">\n",
       "      <th></th>\n",
       "      <th>PF3D7_0730200_24HR_DHA</th>\n",
       "      <th>PF3D7_0730200_24HR_UT</th>\n",
       "      <th>PF3D7_0730200_6HR_DHA</th>\n",
       "      <th>PF3D7_0730200_6HR_UT</th>\n",
       "      <th>PF3D7_0730200_24HR_6HR_DHA</th>\n",
       "      <th>PF3D7_0730200_24_6HR_UT</th>\n",
       "      <th>PF3D7_0730200_DHA_UT_6HR</th>\n",
       "      <th>PF3D7_0730200_DHA_UT_24HR</th>\n",
       "      <th>PF3D7_1341600_24HR_DHA</th>\n",
       "      <th>PF3D7_1341600_24HR_UT</th>\n",
       "      <th>...</th>\n",
       "      <th>PF3D7_1341600_DHA_UT_6HR</th>\n",
       "      <th>PF3D7_1341600_DHA_UT_24HR</th>\n",
       "      <th>PF3D7_1426200_24HR_DHA</th>\n",
       "      <th>PF3D7_1426200_24HR_UT</th>\n",
       "      <th>PF3D7_1426200_6HR_DHA</th>\n",
       "      <th>PF3D7_1426200_6HR_UT</th>\n",
       "      <th>PF3D7_1426200_24HR_6HR_DHA</th>\n",
       "      <th>PF3D7_1426200_24_6HR_UT</th>\n",
       "      <th>PF3D7_1426200_DHA_UT_6HR</th>\n",
       "      <th>PF3D7_1426200_DHA_UT_24HR</th>\n",
       "    </tr>\n",
       "  </thead>\n",
       "  <tbody>\n",
       "    <tr>\n",
       "      <th>isolate_31</th>\n",
       "      <td>-0.703596</td>\n",
       "      <td>-0.700134</td>\n",
       "      <td>-0.272551</td>\n",
       "      <td>-0.040702</td>\n",
       "      <td>-0.431046</td>\n",
       "      <td>-0.659432</td>\n",
       "      <td>-0.231848</td>\n",
       "      <td>-0.003463</td>\n",
       "      <td>-0.858399</td>\n",
       "      <td>-0.277527</td>\n",
       "      <td>...</td>\n",
       "      <td>0.178323</td>\n",
       "      <td>-0.580871</td>\n",
       "      <td>0.329245</td>\n",
       "      <td>0.178702</td>\n",
       "      <td>0.371113</td>\n",
       "      <td>0.707257</td>\n",
       "      <td>-0.041868</td>\n",
       "      <td>-0.528555</td>\n",
       "      <td>-0.336144</td>\n",
       "      <td>0.150544</td>\n",
       "    </tr>\n",
       "    <tr>\n",
       "      <th>isolate_32</th>\n",
       "      <td>-0.347220</td>\n",
       "      <td>-0.008325</td>\n",
       "      <td>-0.213340</td>\n",
       "      <td>-0.346004</td>\n",
       "      <td>-0.133880</td>\n",
       "      <td>0.337679</td>\n",
       "      <td>0.132664</td>\n",
       "      <td>-0.338894</td>\n",
       "      <td>-0.599167</td>\n",
       "      <td>-0.773197</td>\n",
       "      <td>...</td>\n",
       "      <td>-0.168488</td>\n",
       "      <td>0.174030</td>\n",
       "      <td>0.645354</td>\n",
       "      <td>0.735466</td>\n",
       "      <td>0.810575</td>\n",
       "      <td>0.376228</td>\n",
       "      <td>-0.165220</td>\n",
       "      <td>0.359238</td>\n",
       "      <td>0.434347</td>\n",
       "      <td>-0.090111</td>\n",
       "    </tr>\n",
       "    <tr>\n",
       "      <th>isolate_33</th>\n",
       "      <td>0.047989</td>\n",
       "      <td>-0.684308</td>\n",
       "      <td>-0.351197</td>\n",
       "      <td>-0.047073</td>\n",
       "      <td>0.399185</td>\n",
       "      <td>-0.637235</td>\n",
       "      <td>-0.304124</td>\n",
       "      <td>0.732297</td>\n",
       "      <td>-0.082528</td>\n",
       "      <td>-0.173893</td>\n",
       "      <td>...</td>\n",
       "      <td>0.422157</td>\n",
       "      <td>0.091365</td>\n",
       "      <td>0.018793</td>\n",
       "      <td>0.287341</td>\n",
       "      <td>0.440818</td>\n",
       "      <td>-0.049872</td>\n",
       "      <td>-0.422026</td>\n",
       "      <td>0.337213</td>\n",
       "      <td>0.490690</td>\n",
       "      <td>-0.268549</td>\n",
       "    </tr>\n",
       "    <tr>\n",
       "      <th>isolate_34</th>\n",
       "      <td>-0.664713</td>\n",
       "      <td>-0.401648</td>\n",
       "      <td>-0.273990</td>\n",
       "      <td>0.010716</td>\n",
       "      <td>-0.390724</td>\n",
       "      <td>-0.412364</td>\n",
       "      <td>-0.284705</td>\n",
       "      <td>-0.263065</td>\n",
       "      <td>-0.406698</td>\n",
       "      <td>-0.458120</td>\n",
       "      <td>...</td>\n",
       "      <td>0.479332</td>\n",
       "      <td>0.051422</td>\n",
       "      <td>0.170532</td>\n",
       "      <td>0.075933</td>\n",
       "      <td>0.375788</td>\n",
       "      <td>0.925295</td>\n",
       "      <td>-0.205256</td>\n",
       "      <td>-0.849361</td>\n",
       "      <td>-0.549507</td>\n",
       "      <td>0.094599</td>\n",
       "    </tr>\n",
       "    <tr>\n",
       "      <th>isolate_35</th>\n",
       "      <td>-0.312158</td>\n",
       "      <td>-0.053026</td>\n",
       "      <td>0.007652</td>\n",
       "      <td>-0.213307</td>\n",
       "      <td>-0.319810</td>\n",
       "      <td>0.160280</td>\n",
       "      <td>0.220958</td>\n",
       "      <td>-0.259132</td>\n",
       "      <td>-0.379456</td>\n",
       "      <td>-0.656161</td>\n",
       "      <td>...</td>\n",
       "      <td>-0.798243</td>\n",
       "      <td>0.276706</td>\n",
       "      <td>0.186138</td>\n",
       "      <td>0.498472</td>\n",
       "      <td>1.244600</td>\n",
       "      <td>-0.329952</td>\n",
       "      <td>-1.058462</td>\n",
       "      <td>0.828424</td>\n",
       "      <td>1.574552</td>\n",
       "      <td>-0.312334</td>\n",
       "    </tr>\n",
       "  </tbody>\n",
       "</table>\n",
       "<p>5 rows × 24 columns</p>\n",
       "</div>"
      ],
      "text/plain": [
       "            PF3D7_0730200_24HR_DHA  PF3D7_0730200_24HR_UT  \\\n",
       "isolate_31               -0.703596              -0.700134   \n",
       "isolate_32               -0.347220              -0.008325   \n",
       "isolate_33                0.047989              -0.684308   \n",
       "isolate_34               -0.664713              -0.401648   \n",
       "isolate_35               -0.312158              -0.053026   \n",
       "\n",
       "            PF3D7_0730200_6HR_DHA  PF3D7_0730200_6HR_UT  \\\n",
       "isolate_31              -0.272551             -0.040702   \n",
       "isolate_32              -0.213340             -0.346004   \n",
       "isolate_33              -0.351197             -0.047073   \n",
       "isolate_34              -0.273990              0.010716   \n",
       "isolate_35               0.007652             -0.213307   \n",
       "\n",
       "            PF3D7_0730200_24HR_6HR_DHA  PF3D7_0730200_24_6HR_UT  \\\n",
       "isolate_31                   -0.431046                -0.659432   \n",
       "isolate_32                   -0.133880                 0.337679   \n",
       "isolate_33                    0.399185                -0.637235   \n",
       "isolate_34                   -0.390724                -0.412364   \n",
       "isolate_35                   -0.319810                 0.160280   \n",
       "\n",
       "            PF3D7_0730200_DHA_UT_6HR  PF3D7_0730200_DHA_UT_24HR  \\\n",
       "isolate_31                 -0.231848                  -0.003463   \n",
       "isolate_32                  0.132664                  -0.338894   \n",
       "isolate_33                 -0.304124                   0.732297   \n",
       "isolate_34                 -0.284705                  -0.263065   \n",
       "isolate_35                  0.220958                  -0.259132   \n",
       "\n",
       "            PF3D7_1341600_24HR_DHA  PF3D7_1341600_24HR_UT  ...  \\\n",
       "isolate_31               -0.858399              -0.277527  ...   \n",
       "isolate_32               -0.599167              -0.773197  ...   \n",
       "isolate_33               -0.082528              -0.173893  ...   \n",
       "isolate_34               -0.406698              -0.458120  ...   \n",
       "isolate_35               -0.379456              -0.656161  ...   \n",
       "\n",
       "            PF3D7_1341600_DHA_UT_6HR  PF3D7_1341600_DHA_UT_24HR  \\\n",
       "isolate_31                  0.178323                  -0.580871   \n",
       "isolate_32                 -0.168488                   0.174030   \n",
       "isolate_33                  0.422157                   0.091365   \n",
       "isolate_34                  0.479332                   0.051422   \n",
       "isolate_35                 -0.798243                   0.276706   \n",
       "\n",
       "            PF3D7_1426200_24HR_DHA  PF3D7_1426200_24HR_UT  \\\n",
       "isolate_31                0.329245               0.178702   \n",
       "isolate_32                0.645354               0.735466   \n",
       "isolate_33                0.018793               0.287341   \n",
       "isolate_34                0.170532               0.075933   \n",
       "isolate_35                0.186138               0.498472   \n",
       "\n",
       "            PF3D7_1426200_6HR_DHA  PF3D7_1426200_6HR_UT  \\\n",
       "isolate_31               0.371113              0.707257   \n",
       "isolate_32               0.810575              0.376228   \n",
       "isolate_33               0.440818             -0.049872   \n",
       "isolate_34               0.375788              0.925295   \n",
       "isolate_35               1.244600             -0.329952   \n",
       "\n",
       "            PF3D7_1426200_24HR_6HR_DHA  PF3D7_1426200_24_6HR_UT  \\\n",
       "isolate_31                   -0.041868                -0.528555   \n",
       "isolate_32                   -0.165220                 0.359238   \n",
       "isolate_33                   -0.422026                 0.337213   \n",
       "isolate_34                   -0.205256                -0.849361   \n",
       "isolate_35                   -1.058462                 0.828424   \n",
       "\n",
       "            PF3D7_1426200_DHA_UT_6HR  PF3D7_1426200_DHA_UT_24HR  \n",
       "isolate_31                 -0.336144                   0.150544  \n",
       "isolate_32                  0.434347                  -0.090111  \n",
       "isolate_33                  0.490690                  -0.268549  \n",
       "isolate_34                 -0.549507                   0.094599  \n",
       "isolate_35                  1.574552                  -0.312334  \n",
       "\n",
       "[5 rows x 24 columns]"
      ]
     },
     "execution_count": 30,
     "metadata": {},
     "output_type": "execute_result"
    }
   ],
   "source": [
    "selected_test=test[getGenesColumnLabels(selected_genes)]\n",
    "selected_test.head()"
   ]
  },
  {
   "cell_type": "code",
   "execution_count": 31,
   "metadata": {},
   "outputs": [
    {
     "data": {
      "text/html": [
       "<div>\n",
       "<style scoped>\n",
       "    .dataframe tbody tr th:only-of-type {\n",
       "        vertical-align: middle;\n",
       "    }\n",
       "\n",
       "    .dataframe tbody tr th {\n",
       "        vertical-align: top;\n",
       "    }\n",
       "\n",
       "    .dataframe thead th {\n",
       "        text-align: right;\n",
       "    }\n",
       "</style>\n",
       "<table border=\"1\" class=\"dataframe\">\n",
       "  <thead>\n",
       "    <tr style=\"text-align: right;\">\n",
       "      <th></th>\n",
       "      <th>PF3D7_0730200_24HR_DHA</th>\n",
       "      <th>PF3D7_0730200_24HR_UT</th>\n",
       "      <th>PF3D7_0730200_6HR_DHA</th>\n",
       "      <th>PF3D7_0730200_6HR_UT</th>\n",
       "      <th>PF3D7_0730200_24HR_6HR_DHA</th>\n",
       "      <th>PF3D7_0730200_24_6HR_UT</th>\n",
       "      <th>PF3D7_0730200_DHA_UT_6HR</th>\n",
       "      <th>PF3D7_0730200_DHA_UT_24HR</th>\n",
       "      <th>PF3D7_1341600_24HR_DHA</th>\n",
       "      <th>PF3D7_1341600_24HR_UT</th>\n",
       "      <th>...</th>\n",
       "      <th>PF3D7_1341600_DHA_UT_6HR</th>\n",
       "      <th>PF3D7_1341600_DHA_UT_24HR</th>\n",
       "      <th>PF3D7_1426200_24HR_DHA</th>\n",
       "      <th>PF3D7_1426200_24HR_UT</th>\n",
       "      <th>PF3D7_1426200_6HR_DHA</th>\n",
       "      <th>PF3D7_1426200_6HR_UT</th>\n",
       "      <th>PF3D7_1426200_24HR_6HR_DHA</th>\n",
       "      <th>PF3D7_1426200_24_6HR_UT</th>\n",
       "      <th>PF3D7_1426200_DHA_UT_6HR</th>\n",
       "      <th>PF3D7_1426200_DHA_UT_24HR</th>\n",
       "    </tr>\n",
       "  </thead>\n",
       "  <tbody>\n",
       "    <tr>\n",
       "      <th>isolate_31</th>\n",
       "      <td>-0.703596</td>\n",
       "      <td>-0.700134</td>\n",
       "      <td>-0.272551</td>\n",
       "      <td>-0.040702</td>\n",
       "      <td>-0.431046</td>\n",
       "      <td>-0.659432</td>\n",
       "      <td>-0.231848</td>\n",
       "      <td>-0.003463</td>\n",
       "      <td>-0.858399</td>\n",
       "      <td>-0.277527</td>\n",
       "      <td>...</td>\n",
       "      <td>0.178323</td>\n",
       "      <td>-0.580871</td>\n",
       "      <td>0.329245</td>\n",
       "      <td>0.178702</td>\n",
       "      <td>0.371113</td>\n",
       "      <td>0.707257</td>\n",
       "      <td>-0.041868</td>\n",
       "      <td>-0.528555</td>\n",
       "      <td>-0.336144</td>\n",
       "      <td>0.150544</td>\n",
       "    </tr>\n",
       "    <tr>\n",
       "      <th>isolate_32</th>\n",
       "      <td>-0.347220</td>\n",
       "      <td>-0.008325</td>\n",
       "      <td>-0.213340</td>\n",
       "      <td>-0.346004</td>\n",
       "      <td>-0.133880</td>\n",
       "      <td>0.337679</td>\n",
       "      <td>0.132664</td>\n",
       "      <td>-0.338894</td>\n",
       "      <td>-0.599167</td>\n",
       "      <td>-0.773197</td>\n",
       "      <td>...</td>\n",
       "      <td>-0.168488</td>\n",
       "      <td>0.174030</td>\n",
       "      <td>0.645354</td>\n",
       "      <td>0.735466</td>\n",
       "      <td>0.810575</td>\n",
       "      <td>0.376228</td>\n",
       "      <td>-0.165220</td>\n",
       "      <td>0.359238</td>\n",
       "      <td>0.434347</td>\n",
       "      <td>-0.090111</td>\n",
       "    </tr>\n",
       "    <tr>\n",
       "      <th>isolate_33</th>\n",
       "      <td>0.047989</td>\n",
       "      <td>-0.684308</td>\n",
       "      <td>-0.351197</td>\n",
       "      <td>-0.047073</td>\n",
       "      <td>0.399185</td>\n",
       "      <td>-0.637235</td>\n",
       "      <td>-0.304124</td>\n",
       "      <td>0.732297</td>\n",
       "      <td>-0.082528</td>\n",
       "      <td>-0.173893</td>\n",
       "      <td>...</td>\n",
       "      <td>0.422157</td>\n",
       "      <td>0.091365</td>\n",
       "      <td>0.018793</td>\n",
       "      <td>0.287341</td>\n",
       "      <td>0.440818</td>\n",
       "      <td>-0.049872</td>\n",
       "      <td>-0.422026</td>\n",
       "      <td>0.337213</td>\n",
       "      <td>0.490690</td>\n",
       "      <td>-0.268549</td>\n",
       "    </tr>\n",
       "    <tr>\n",
       "      <th>isolate_34</th>\n",
       "      <td>-0.664713</td>\n",
       "      <td>-0.401648</td>\n",
       "      <td>-0.273990</td>\n",
       "      <td>0.010716</td>\n",
       "      <td>-0.390724</td>\n",
       "      <td>-0.412364</td>\n",
       "      <td>-0.284705</td>\n",
       "      <td>-0.263065</td>\n",
       "      <td>-0.406698</td>\n",
       "      <td>-0.458120</td>\n",
       "      <td>...</td>\n",
       "      <td>0.479332</td>\n",
       "      <td>0.051422</td>\n",
       "      <td>0.170532</td>\n",
       "      <td>0.075933</td>\n",
       "      <td>0.375788</td>\n",
       "      <td>0.925295</td>\n",
       "      <td>-0.205256</td>\n",
       "      <td>-0.849361</td>\n",
       "      <td>-0.549507</td>\n",
       "      <td>0.094599</td>\n",
       "    </tr>\n",
       "    <tr>\n",
       "      <th>isolate_35</th>\n",
       "      <td>-0.312158</td>\n",
       "      <td>-0.053026</td>\n",
       "      <td>0.007652</td>\n",
       "      <td>-0.213307</td>\n",
       "      <td>-0.319810</td>\n",
       "      <td>0.160280</td>\n",
       "      <td>0.220958</td>\n",
       "      <td>-0.259132</td>\n",
       "      <td>-0.379456</td>\n",
       "      <td>-0.656161</td>\n",
       "      <td>...</td>\n",
       "      <td>-0.798243</td>\n",
       "      <td>0.276706</td>\n",
       "      <td>0.186138</td>\n",
       "      <td>0.498472</td>\n",
       "      <td>1.244600</td>\n",
       "      <td>-0.329952</td>\n",
       "      <td>-1.058462</td>\n",
       "      <td>0.828424</td>\n",
       "      <td>1.574552</td>\n",
       "      <td>-0.312334</td>\n",
       "    </tr>\n",
       "  </tbody>\n",
       "</table>\n",
       "<p>5 rows × 24 columns</p>\n",
       "</div>"
      ],
      "text/plain": [
       "            PF3D7_0730200_24HR_DHA  PF3D7_0730200_24HR_UT  \\\n",
       "isolate_31               -0.703596              -0.700134   \n",
       "isolate_32               -0.347220              -0.008325   \n",
       "isolate_33                0.047989              -0.684308   \n",
       "isolate_34               -0.664713              -0.401648   \n",
       "isolate_35               -0.312158              -0.053026   \n",
       "\n",
       "            PF3D7_0730200_6HR_DHA  PF3D7_0730200_6HR_UT  \\\n",
       "isolate_31              -0.272551             -0.040702   \n",
       "isolate_32              -0.213340             -0.346004   \n",
       "isolate_33              -0.351197             -0.047073   \n",
       "isolate_34              -0.273990              0.010716   \n",
       "isolate_35               0.007652             -0.213307   \n",
       "\n",
       "            PF3D7_0730200_24HR_6HR_DHA  PF3D7_0730200_24_6HR_UT  \\\n",
       "isolate_31                   -0.431046                -0.659432   \n",
       "isolate_32                   -0.133880                 0.337679   \n",
       "isolate_33                    0.399185                -0.637235   \n",
       "isolate_34                   -0.390724                -0.412364   \n",
       "isolate_35                   -0.319810                 0.160280   \n",
       "\n",
       "            PF3D7_0730200_DHA_UT_6HR  PF3D7_0730200_DHA_UT_24HR  \\\n",
       "isolate_31                 -0.231848                  -0.003463   \n",
       "isolate_32                  0.132664                  -0.338894   \n",
       "isolate_33                 -0.304124                   0.732297   \n",
       "isolate_34                 -0.284705                  -0.263065   \n",
       "isolate_35                  0.220958                  -0.259132   \n",
       "\n",
       "            PF3D7_1341600_24HR_DHA  PF3D7_1341600_24HR_UT  ...  \\\n",
       "isolate_31               -0.858399              -0.277527  ...   \n",
       "isolate_32               -0.599167              -0.773197  ...   \n",
       "isolate_33               -0.082528              -0.173893  ...   \n",
       "isolate_34               -0.406698              -0.458120  ...   \n",
       "isolate_35               -0.379456              -0.656161  ...   \n",
       "\n",
       "            PF3D7_1341600_DHA_UT_6HR  PF3D7_1341600_DHA_UT_24HR  \\\n",
       "isolate_31                  0.178323                  -0.580871   \n",
       "isolate_32                 -0.168488                   0.174030   \n",
       "isolate_33                  0.422157                   0.091365   \n",
       "isolate_34                  0.479332                   0.051422   \n",
       "isolate_35                 -0.798243                   0.276706   \n",
       "\n",
       "            PF3D7_1426200_24HR_DHA  PF3D7_1426200_24HR_UT  \\\n",
       "isolate_31                0.329245               0.178702   \n",
       "isolate_32                0.645354               0.735466   \n",
       "isolate_33                0.018793               0.287341   \n",
       "isolate_34                0.170532               0.075933   \n",
       "isolate_35                0.186138               0.498472   \n",
       "\n",
       "            PF3D7_1426200_6HR_DHA  PF3D7_1426200_6HR_UT  \\\n",
       "isolate_31               0.371113              0.707257   \n",
       "isolate_32               0.810575              0.376228   \n",
       "isolate_33               0.440818             -0.049872   \n",
       "isolate_34               0.375788              0.925295   \n",
       "isolate_35               1.244600             -0.329952   \n",
       "\n",
       "            PF3D7_1426200_24HR_6HR_DHA  PF3D7_1426200_24_6HR_UT  \\\n",
       "isolate_31                   -0.041868                -0.528555   \n",
       "isolate_32                   -0.165220                 0.359238   \n",
       "isolate_33                   -0.422026                 0.337213   \n",
       "isolate_34                   -0.205256                -0.849361   \n",
       "isolate_35                   -1.058462                 0.828424   \n",
       "\n",
       "            PF3D7_1426200_DHA_UT_6HR  PF3D7_1426200_DHA_UT_24HR  \n",
       "isolate_31                 -0.336144                   0.150544  \n",
       "isolate_32                  0.434347                  -0.090111  \n",
       "isolate_33                  0.490690                  -0.268549  \n",
       "isolate_34                 -0.549507                   0.094599  \n",
       "isolate_35                  1.574552                  -0.312334  \n",
       "\n",
       "[5 rows x 24 columns]"
      ]
     },
     "execution_count": 31,
     "metadata": {},
     "output_type": "execute_result"
    }
   ],
   "source": [
    "X_test=selected_test\n",
    "X_test.head()"
   ]
  },
  {
   "cell_type": "code",
   "execution_count": 32,
   "metadata": {},
   "outputs": [],
   "source": [
    "IC50_pred=model_load.predict(X_test)"
   ]
  },
  {
   "cell_type": "markdown",
   "metadata": {},
   "source": [
    "### 3.2 Format the predictions for submission"
   ]
  },
  {
   "cell_type": "code",
   "execution_count": 33,
   "metadata": {},
   "outputs": [],
   "source": [
    "temp_list=[]\n",
    "for value in IC50_pred:\n",
    "    temp_list.append(value[0])\n",
    "IC50_pred=temp_list"
   ]
  },
  {
   "cell_type": "code",
   "execution_count": 34,
   "metadata": {},
   "outputs": [],
   "source": [
    "submission=pd.DataFrame({'Isolate':isolates_list_test,'Predicted_IC50':IC50_pred})"
   ]
  },
  {
   "cell_type": "code",
   "execution_count": 35,
   "metadata": {
    "scrolled": true
   },
   "outputs": [
    {
     "data": {
      "text/html": [
       "<div>\n",
       "<style scoped>\n",
       "    .dataframe tbody tr th:only-of-type {\n",
       "        vertical-align: middle;\n",
       "    }\n",
       "\n",
       "    .dataframe tbody tr th {\n",
       "        vertical-align: top;\n",
       "    }\n",
       "\n",
       "    .dataframe thead th {\n",
       "        text-align: right;\n",
       "    }\n",
       "</style>\n",
       "<table border=\"1\" class=\"dataframe\">\n",
       "  <thead>\n",
       "    <tr style=\"text-align: right;\">\n",
       "      <th></th>\n",
       "      <th>Isolate</th>\n",
       "      <th>Predicted_IC50</th>\n",
       "    </tr>\n",
       "  </thead>\n",
       "  <tbody>\n",
       "    <tr>\n",
       "      <th>0</th>\n",
       "      <td>isolate_31</td>\n",
       "      <td>[1.6437809715876175]</td>\n",
       "    </tr>\n",
       "    <tr>\n",
       "      <th>1</th>\n",
       "      <td>isolate_32</td>\n",
       "      <td>[1.2973943249476458]</td>\n",
       "    </tr>\n",
       "    <tr>\n",
       "      <th>2</th>\n",
       "      <td>isolate_33</td>\n",
       "      <td>[2.0784638284435824]</td>\n",
       "    </tr>\n",
       "    <tr>\n",
       "      <th>3</th>\n",
       "      <td>isolate_34</td>\n",
       "      <td>[1.460311533172019]</td>\n",
       "    </tr>\n",
       "    <tr>\n",
       "      <th>4</th>\n",
       "      <td>isolate_35</td>\n",
       "      <td>[0.5425151896322731]</td>\n",
       "    </tr>\n",
       "  </tbody>\n",
       "</table>\n",
       "</div>"
      ],
      "text/plain": [
       "      Isolate        Predicted_IC50\n",
       "0  isolate_31  [1.6437809715876175]\n",
       "1  isolate_32  [1.2973943249476458]\n",
       "2  isolate_33  [2.0784638284435824]\n",
       "3  isolate_34   [1.460311533172019]\n",
       "4  isolate_35  [0.5425151896322731]"
      ]
     },
     "execution_count": 35,
     "metadata": {},
     "output_type": "execute_result"
    }
   ],
   "source": [
    "submission.head()"
   ]
  },
  {
   "cell_type": "markdown",
   "metadata": {},
   "source": [
    "### 3.3 Save submissions to file"
   ]
  },
  {
   "cell_type": "code",
   "execution_count": 36,
   "metadata": {},
   "outputs": [],
   "source": [
    "#submission.to_csv('../submissions/lylat_SubCh1_model1_140719.txt', sep='\\t',index=None)"
   ]
  },
  {
   "cell_type": "markdown",
   "metadata": {},
   "source": [
    "## 4. Confirm that the deltas improve the score of the model\n",
    "\n",
    "Run section 2.2 again but now each gene of the train set will have four columns ingoring the 4 columns correspondint to the differecial between the isolates sampling condition."
   ]
  },
  {
   "cell_type": "markdown",
   "metadata": {},
   "source": [
    "## 4.1 Modify getGenesColumns"
   ]
  },
  {
   "cell_type": "code",
   "execution_count": 37,
   "metadata": {},
   "outputs": [
    {
     "data": {
      "text/html": [
       "<div>\n",
       "<style scoped>\n",
       "    .dataframe tbody tr th:only-of-type {\n",
       "        vertical-align: middle;\n",
       "    }\n",
       "\n",
       "    .dataframe tbody tr th {\n",
       "        vertical-align: top;\n",
       "    }\n",
       "\n",
       "    .dataframe thead th {\n",
       "        text-align: right;\n",
       "    }\n",
       "</style>\n",
       "<table border=\"1\" class=\"dataframe\">\n",
       "  <thead>\n",
       "    <tr style=\"text-align: right;\">\n",
       "      <th></th>\n",
       "      <th>PF3D7_1340700</th>\n",
       "      <th>PF3D7_1246100</th>\n",
       "      <th>PF3D7_0106800</th>\n",
       "      <th>PF3D7_1431300</th>\n",
       "      <th>PF3D7_1426500</th>\n",
       "      <th>PF3D7_1216500</th>\n",
       "      <th>PF3D7_0418500</th>\n",
       "      <th>PF3D7_0821800</th>\n",
       "      <th>PF3D7_1432700</th>\n",
       "      <th>PF3D7_1463700</th>\n",
       "      <th>...</th>\n",
       "      <th>PF3D7_0417100</th>\n",
       "      <th>PF3D7_1332000</th>\n",
       "      <th>PF3D7_1204300</th>\n",
       "      <th>PF3D7_0729400</th>\n",
       "      <th>PF3D7_0820700</th>\n",
       "      <th>PF3D7_1320500</th>\n",
       "      <th>PF3D7_0109400</th>\n",
       "      <th>PF3D7_0626800</th>\n",
       "      <th>PF3D7_1457000</th>\n",
       "      <th>PF3D7_1361800</th>\n",
       "    </tr>\n",
       "  </thead>\n",
       "  <tbody>\n",
       "    <tr>\n",
       "      <th>0</th>\n",
       "      <td>PF3D7_1340700_24HR_DHA</td>\n",
       "      <td>PF3D7_1246100_24HR_DHA</td>\n",
       "      <td>PF3D7_0106800_24HR_DHA</td>\n",
       "      <td>PF3D7_1431300_24HR_DHA</td>\n",
       "      <td>PF3D7_1426500_24HR_DHA</td>\n",
       "      <td>PF3D7_1216500_24HR_DHA</td>\n",
       "      <td>PF3D7_0418500_24HR_DHA</td>\n",
       "      <td>PF3D7_0821800_24HR_DHA</td>\n",
       "      <td>PF3D7_1432700_24HR_DHA</td>\n",
       "      <td>PF3D7_1463700_24HR_DHA</td>\n",
       "      <td>...</td>\n",
       "      <td>PF3D7_0417100_24HR_DHA</td>\n",
       "      <td>PF3D7_1332000_24HR_DHA</td>\n",
       "      <td>PF3D7_1204300_24HR_DHA</td>\n",
       "      <td>PF3D7_0729400_24HR_DHA</td>\n",
       "      <td>PF3D7_0820700_24HR_DHA</td>\n",
       "      <td>PF3D7_1320500_24HR_DHA</td>\n",
       "      <td>PF3D7_0109400_24HR_DHA</td>\n",
       "      <td>PF3D7_0626800_24HR_DHA</td>\n",
       "      <td>PF3D7_1457000_24HR_DHA</td>\n",
       "      <td>PF3D7_1361800_24HR_DHA</td>\n",
       "    </tr>\n",
       "    <tr>\n",
       "      <th>1</th>\n",
       "      <td>PF3D7_1340700_24HR_UT</td>\n",
       "      <td>PF3D7_1246100_24HR_UT</td>\n",
       "      <td>PF3D7_0106800_24HR_UT</td>\n",
       "      <td>PF3D7_1431300_24HR_UT</td>\n",
       "      <td>PF3D7_1426500_24HR_UT</td>\n",
       "      <td>PF3D7_1216500_24HR_UT</td>\n",
       "      <td>PF3D7_0418500_24HR_UT</td>\n",
       "      <td>PF3D7_0821800_24HR_UT</td>\n",
       "      <td>PF3D7_1432700_24HR_UT</td>\n",
       "      <td>PF3D7_1463700_24HR_UT</td>\n",
       "      <td>...</td>\n",
       "      <td>PF3D7_0417100_24HR_UT</td>\n",
       "      <td>PF3D7_1332000_24HR_UT</td>\n",
       "      <td>PF3D7_1204300_24HR_UT</td>\n",
       "      <td>PF3D7_0729400_24HR_UT</td>\n",
       "      <td>PF3D7_0820700_24HR_UT</td>\n",
       "      <td>PF3D7_1320500_24HR_UT</td>\n",
       "      <td>PF3D7_0109400_24HR_UT</td>\n",
       "      <td>PF3D7_0626800_24HR_UT</td>\n",
       "      <td>PF3D7_1457000_24HR_UT</td>\n",
       "      <td>PF3D7_1361800_24HR_UT</td>\n",
       "    </tr>\n",
       "    <tr>\n",
       "      <th>2</th>\n",
       "      <td>PF3D7_1340700_6HR_DHA</td>\n",
       "      <td>PF3D7_1246100_6HR_DHA</td>\n",
       "      <td>PF3D7_0106800_6HR_DHA</td>\n",
       "      <td>PF3D7_1431300_6HR_DHA</td>\n",
       "      <td>PF3D7_1426500_6HR_DHA</td>\n",
       "      <td>PF3D7_1216500_6HR_DHA</td>\n",
       "      <td>PF3D7_0418500_6HR_DHA</td>\n",
       "      <td>PF3D7_0821800_6HR_DHA</td>\n",
       "      <td>PF3D7_1432700_6HR_DHA</td>\n",
       "      <td>PF3D7_1463700_6HR_DHA</td>\n",
       "      <td>...</td>\n",
       "      <td>PF3D7_0417100_6HR_DHA</td>\n",
       "      <td>PF3D7_1332000_6HR_DHA</td>\n",
       "      <td>PF3D7_1204300_6HR_DHA</td>\n",
       "      <td>PF3D7_0729400_6HR_DHA</td>\n",
       "      <td>PF3D7_0820700_6HR_DHA</td>\n",
       "      <td>PF3D7_1320500_6HR_DHA</td>\n",
       "      <td>PF3D7_0109400_6HR_DHA</td>\n",
       "      <td>PF3D7_0626800_6HR_DHA</td>\n",
       "      <td>PF3D7_1457000_6HR_DHA</td>\n",
       "      <td>PF3D7_1361800_6HR_DHA</td>\n",
       "    </tr>\n",
       "    <tr>\n",
       "      <th>3</th>\n",
       "      <td>PF3D7_1340700_6HR_UT</td>\n",
       "      <td>PF3D7_1246100_6HR_UT</td>\n",
       "      <td>PF3D7_0106800_6HR_UT</td>\n",
       "      <td>PF3D7_1431300_6HR_UT</td>\n",
       "      <td>PF3D7_1426500_6HR_UT</td>\n",
       "      <td>PF3D7_1216500_6HR_UT</td>\n",
       "      <td>PF3D7_0418500_6HR_UT</td>\n",
       "      <td>PF3D7_0821800_6HR_UT</td>\n",
       "      <td>PF3D7_1432700_6HR_UT</td>\n",
       "      <td>PF3D7_1463700_6HR_UT</td>\n",
       "      <td>...</td>\n",
       "      <td>PF3D7_0417100_6HR_UT</td>\n",
       "      <td>PF3D7_1332000_6HR_UT</td>\n",
       "      <td>PF3D7_1204300_6HR_UT</td>\n",
       "      <td>PF3D7_0729400_6HR_UT</td>\n",
       "      <td>PF3D7_0820700_6HR_UT</td>\n",
       "      <td>PF3D7_1320500_6HR_UT</td>\n",
       "      <td>PF3D7_0109400_6HR_UT</td>\n",
       "      <td>PF3D7_0626800_6HR_UT</td>\n",
       "      <td>PF3D7_1457000_6HR_UT</td>\n",
       "      <td>PF3D7_1361800_6HR_UT</td>\n",
       "    </tr>\n",
       "  </tbody>\n",
       "</table>\n",
       "<p>4 rows × 481 columns</p>\n",
       "</div>"
      ],
      "text/plain": [
       "            PF3D7_1340700           PF3D7_1246100           PF3D7_0106800  \\\n",
       "0  PF3D7_1340700_24HR_DHA  PF3D7_1246100_24HR_DHA  PF3D7_0106800_24HR_DHA   \n",
       "1   PF3D7_1340700_24HR_UT   PF3D7_1246100_24HR_UT   PF3D7_0106800_24HR_UT   \n",
       "2   PF3D7_1340700_6HR_DHA   PF3D7_1246100_6HR_DHA   PF3D7_0106800_6HR_DHA   \n",
       "3    PF3D7_1340700_6HR_UT    PF3D7_1246100_6HR_UT    PF3D7_0106800_6HR_UT   \n",
       "\n",
       "            PF3D7_1431300           PF3D7_1426500           PF3D7_1216500  \\\n",
       "0  PF3D7_1431300_24HR_DHA  PF3D7_1426500_24HR_DHA  PF3D7_1216500_24HR_DHA   \n",
       "1   PF3D7_1431300_24HR_UT   PF3D7_1426500_24HR_UT   PF3D7_1216500_24HR_UT   \n",
       "2   PF3D7_1431300_6HR_DHA   PF3D7_1426500_6HR_DHA   PF3D7_1216500_6HR_DHA   \n",
       "3    PF3D7_1431300_6HR_UT    PF3D7_1426500_6HR_UT    PF3D7_1216500_6HR_UT   \n",
       "\n",
       "            PF3D7_0418500           PF3D7_0821800           PF3D7_1432700  \\\n",
       "0  PF3D7_0418500_24HR_DHA  PF3D7_0821800_24HR_DHA  PF3D7_1432700_24HR_DHA   \n",
       "1   PF3D7_0418500_24HR_UT   PF3D7_0821800_24HR_UT   PF3D7_1432700_24HR_UT   \n",
       "2   PF3D7_0418500_6HR_DHA   PF3D7_0821800_6HR_DHA   PF3D7_1432700_6HR_DHA   \n",
       "3    PF3D7_0418500_6HR_UT    PF3D7_0821800_6HR_UT    PF3D7_1432700_6HR_UT   \n",
       "\n",
       "            PF3D7_1463700  ...           PF3D7_0417100  \\\n",
       "0  PF3D7_1463700_24HR_DHA  ...  PF3D7_0417100_24HR_DHA   \n",
       "1   PF3D7_1463700_24HR_UT  ...   PF3D7_0417100_24HR_UT   \n",
       "2   PF3D7_1463700_6HR_DHA  ...   PF3D7_0417100_6HR_DHA   \n",
       "3    PF3D7_1463700_6HR_UT  ...    PF3D7_0417100_6HR_UT   \n",
       "\n",
       "            PF3D7_1332000           PF3D7_1204300           PF3D7_0729400  \\\n",
       "0  PF3D7_1332000_24HR_DHA  PF3D7_1204300_24HR_DHA  PF3D7_0729400_24HR_DHA   \n",
       "1   PF3D7_1332000_24HR_UT   PF3D7_1204300_24HR_UT   PF3D7_0729400_24HR_UT   \n",
       "2   PF3D7_1332000_6HR_DHA   PF3D7_1204300_6HR_DHA   PF3D7_0729400_6HR_DHA   \n",
       "3    PF3D7_1332000_6HR_UT    PF3D7_1204300_6HR_UT    PF3D7_0729400_6HR_UT   \n",
       "\n",
       "            PF3D7_0820700           PF3D7_1320500           PF3D7_0109400  \\\n",
       "0  PF3D7_0820700_24HR_DHA  PF3D7_1320500_24HR_DHA  PF3D7_0109400_24HR_DHA   \n",
       "1   PF3D7_0820700_24HR_UT   PF3D7_1320500_24HR_UT   PF3D7_0109400_24HR_UT   \n",
       "2   PF3D7_0820700_6HR_DHA   PF3D7_1320500_6HR_DHA   PF3D7_0109400_6HR_DHA   \n",
       "3    PF3D7_0820700_6HR_UT    PF3D7_1320500_6HR_UT    PF3D7_0109400_6HR_UT   \n",
       "\n",
       "            PF3D7_0626800           PF3D7_1457000           PF3D7_1361800  \n",
       "0  PF3D7_0626800_24HR_DHA  PF3D7_1457000_24HR_DHA  PF3D7_1361800_24HR_DHA  \n",
       "1   PF3D7_0626800_24HR_UT   PF3D7_1457000_24HR_UT   PF3D7_1361800_24HR_UT  \n",
       "2   PF3D7_0626800_6HR_DHA   PF3D7_1457000_6HR_DHA   PF3D7_1361800_6HR_DHA  \n",
       "3    PF3D7_0626800_6HR_UT    PF3D7_1457000_6HR_UT    PF3D7_1361800_6HR_UT  \n",
       "\n",
       "[4 rows x 481 columns]"
      ]
     },
     "execution_count": 37,
     "metadata": {},
     "output_type": "execute_result"
    }
   ],
   "source": [
    "genes_column_labels_df.loc[0:3]"
   ]
  },
  {
   "cell_type": "code",
   "execution_count": 38,
   "metadata": {},
   "outputs": [],
   "source": [
    "def getGenesColumnLabels2(genes):\n",
    "    genes_list=[]\n",
    "    for gene in genes:\n",
    "        genes_list=genes_list+list(genes_column_labels_df[gene][0:4])\n",
    "    return genes_list"
   ]
  },
  {
   "cell_type": "code",
   "execution_count": 39,
   "metadata": {},
   "outputs": [],
   "source": [
    "def filterDfByGenes2(genes,df):\n",
    "    #genes is a list of genes: e.g.['PF3D7_1360200','PF3D7_1212800']\n",
    "    genes_to_filter=getGenesColumnLabels2(genes)\n",
    "    filtered_df=df[genes_to_filter]\n",
    "    return filtered_df"
   ]
  },
  {
   "cell_type": "code",
   "execution_count": 40,
   "metadata": {},
   "outputs": [],
   "source": [
    "def trainModel(genes,val_isolates,dfx,dfy):\n",
    "    train_isolates=findTrainIsolates(val_isolates,dfx)\n",
    "    \n",
    "    X=filterDfByIsolates(train_isolates,dfx)\n",
    "    X=filterDfByGenes2(genes,X)\n",
    "    \n",
    "    y=filterDfByIsolates(train_isolates,dfy)\n",
    "    \n",
    "    model=LinearRegression().fit(X.values,y.values)\n",
    "    \n",
    "    X_val=filterDfByIsolates(val_isolates,dfx)\n",
    "    X_val=filterDfByGenes2(genes,X_val)\n",
    "    \n",
    "    y_val=filterDfByIsolates(val_isolates,dfy).values\n",
    "    \n",
    "    score=model.score(X_val,y_val)\n",
    "    \n",
    "    return score"
   ]
  },
  {
   "cell_type": "code",
   "execution_count": 41,
   "metadata": {},
   "outputs": [],
   "source": [
    "selected_genes=[]\n",
    "selected_scores=[0]\n",
    "N=10\n",
    "for i in range(N):\n",
    "    best_gene_so_far=''\n",
    "    best_score_so_far=selected_scores[-1]\n",
    "    \n",
    "    for gene in genes_list:\n",
    "        \n",
    "        if gene not in selected_genes:\n",
    "            genes_to_use=selected_genes+[gene]\n",
    "            \n",
    "            model_score=trainModel(genes_to_use,val_isolates,train,IC50)\n",
    "            \n",
    "            if model_score > best_score_so_far:\n",
    "                best_score_so_far=model_score\n",
    "                best_gene_so_far=gene\n",
    "\n",
    "    \n",
    "    if best_score_so_far>selected_scores[-1]:\n",
    "        selected_genes.append(best_gene_so_far)\n",
    "        selected_scores.append(best_score_so_far)"
   ]
  },
  {
   "cell_type": "code",
   "execution_count": 42,
   "metadata": {},
   "outputs": [
    {
     "data": {
      "text/plain": [
       "([<matplotlib.axis.XTick at 0x186bd3800b8>,\n",
       "  <matplotlib.axis.XTick at 0x186bd36a0b8>,\n",
       "  <matplotlib.axis.XTick at 0x186bd36a588>,\n",
       "  <matplotlib.axis.XTick at 0x186bd39a278>],\n",
       " <a list of 3 Text xticklabel objects>)"
      ]
     },
     "execution_count": 42,
     "metadata": {},
     "output_type": "execute_result"
    },
    {
     "data": {
      "image/png": "[encoded data removed]",
      "text/plain": [
       "<Figure size 432x288 with 1 Axes>"
      ]
     },
     "metadata": {
      "needs_background": "light"
     },
     "output_type": "display_data"
    }
   ],
   "source": [
    "#N=100\n",
    "x=np.arange(len(selected_scores))\n",
    "y=selected_scores\n",
    "plt.plot(x,y)\n",
    "plt.xticks(x,selected_genes,rotation='vertical')\n"
   ]
  },
  {
   "cell_type": "code",
   "execution_count": 43,
   "metadata": {},
   "outputs": [
    {
     "data": {
      "text/plain": [
       "[0, 0.7232934274782725, 0.9647245375940361, 0.9926399964586666]"
      ]
     },
     "execution_count": 43,
     "metadata": {},
     "output_type": "execute_result"
    }
   ],
   "source": [
    "selected_scores"
   ]
  },
  {
   "cell_type": "markdown",
   "metadata": {},
   "source": [
    "Conclussion: The differential don't improve the model"
   ]
  },
  {
   "cell_type": "markdown",
   "metadata": {},
   "source": [
    "### 5. Validate the model\n",
    "\n",
    "Train the same model choosing different validation sets each time"
   ]
  },
  {
   "cell_type": "code",
   "execution_count": 97,
   "metadata": {},
   "outputs": [],
   "source": [
    "new_val_isolates=[]\n",
    "val_isolate_list=[]\n",
    "val_score_list=[]\n",
    "val_genes_list=[]\n",
    "\n",
    "M=100\n",
    "\n",
    "for i in range(M):\n",
    "    new_val_isolates=random.sample(isolates_list,5)\n",
    "    \n",
    "    #Train model to find the best combination of genes for the new_val_isolates\n",
    "    selected_genes=[]\n",
    "    selected_scores=[0]\n",
    "    N=10\n",
    "    \n",
    "    for i in range(N):\n",
    "        best_gene_so_far=''\n",
    "        best_score_so_far=selected_scores[-1]\n",
    "\n",
    "        for gene in genes_list:\n",
    "\n",
    "            if gene not in selected_genes:\n",
    "                genes_to_use=selected_genes+[gene]\n",
    "\n",
    "                model_score=trainModel(genes_to_use,new_val_isolates,train,IC50)\n",
    "\n",
    "                if model_score > best_score_so_far:\n",
    "                    best_score_so_far=model_score\n",
    "                    best_gene_so_far=gene\n",
    "\n",
    "\n",
    "        if best_score_so_far>selected_scores[-1]:\n",
    "            selected_genes.append(best_gene_so_far)\n",
    "            selected_scores.append(best_score_so_far)\n",
    "    \n",
    "    val_isolate_list.append(new_val_isolates)\n",
    "    val_score_list.append(selected_scores)\n",
    "    val_genes_list.append(selected_genes)\n",
    "    \n",
    "    \n",
    "    "
   ]
  },
  {
   "cell_type": "code",
   "execution_count": 98,
   "metadata": {},
   "outputs": [
    {
     "data": {
      "text/plain": [
       "[['PF3D7_1146900', 'PF3D7_1238800', 'PF3D7_1466400'],\n",
       " ['PF3D7_1120100', 'PF3D7_0211400', 'PF3D7_1466700'],\n",
       " ['PF3D7_1233000', 'PF3D7_0321200', 'PF3D7_0210000'],\n",
       " ['PF3D7_1116600', 'PF3D7_1235400', 'PF3D7_1347200'],\n",
       " ['PF3D7_1125400',\n",
       "  'PF3D7_1116600',\n",
       "  'PF3D7_0618900',\n",
       "  'PF3D7_1338200',\n",
       "  'PF3D7_1128700'],\n",
       " ['PF3D7_0110100', 'PF3D7_1342800', 'PF3D7_1242800'],\n",
       " ['PF3D7_1244800', 'PF3D7_1314600'],\n",
       " ['PF3D7_1306400', 'PF3D7_0630500', 'PF3D7_1215300'],\n",
       " ['PF3D7_0104200', 'PF3D7_1137800', 'PF3D7_1116400'],\n",
       " ['PF3D7_1120100', 'PF3D7_1469000', 'PF3D7_1361400'],\n",
       " ['PF3D7_1250600', 'PF3D7_1313000', 'PF3D7_1431300'],\n",
       " ['PF3D7_1423000', 'PF3D7_1463500', 'PF3D7_1122100'],\n",
       " ['PF3D7_0826700', 'PF3D7_1233000', 'PF3D7_0905900', 'PF3D7_0317800'],\n",
       " ['PF3D7_0910600', 'PF3D7_1312400', 'PF3D7_0932200', 'PF3D7_1365400'],\n",
       " ['PF3D7_1253400', 'PF3D7_0110100', 'PF3D7_1342500', 'PF3D7_1245100'],\n",
       " ['PF3D7_0910600', 'PF3D7_0602400', 'PF3D7_0210000'],\n",
       " ['PF3D7_1120100', 'PF3D7_1223900', 'PF3D7_1426300', 'PF3D7_1352100'],\n",
       " ['PF3D7_1216300', 'PF3D7_0827100', 'PF3D7_0505800'],\n",
       " ['PF3D7_0729000', 'PF3D7_0504600', 'PF3D7_0624000', 'PF3D7_0527200'],\n",
       " ['PF3D7_1122900', 'PF3D7_0211600', 'PF3D7_1110500'],\n",
       " ['PF3D7_1120100',\n",
       "  'PF3D7_0909200',\n",
       "  'PF3D7_0826700',\n",
       "  'PF3D7_1439900',\n",
       "  'PF3D7_0511200'],\n",
       " ['PF3D7_1230600', 'PF3D7_0713400', 'PF3D7_1462800'],\n",
       " ['PF3D7_1116600', 'PF3D7_0910600', 'PF3D7_1347500'],\n",
       " ['PF3D7_0826700', 'PF3D7_0930300', 'PF3D7_1118200'],\n",
       " ['PF3D7_0528100', 'PF3D7_0610600', 'PF3D7_1223400'],\n",
       " ['PF3D7_1216300', 'PF3D7_1345700', 'PF3D7_0316600'],\n",
       " ['PF3D7_1120100',\n",
       "  'PF3D7_1125400',\n",
       "  'PF3D7_1342500',\n",
       "  'PF3D7_0203700',\n",
       "  'PF3D7_1324700'],\n",
       " ['PF3D7_1419100', 'PF3D7_1453800', 'PF3D7_1364600', 'PF3D7_1028100'],\n",
       " ['PF3D7_0306700', 'PF3D7_1450100'],\n",
       " ['PF3D7_1234600', 'PF3D7_1461200', 'PF3D7_1014400', 'PF3D7_1444500'],\n",
       " ['PF3D7_1361800', 'PF3D7_1212800', 'PF3D7_1207300'],\n",
       " ['PF3D7_1125400',\n",
       "  'PF3D7_0607300',\n",
       "  'PF3D7_1471000',\n",
       "  'PF3D7_0104200',\n",
       "  'PF3D7_1438100'],\n",
       " ['PF3D7_1326800', 'PF3D7_1235400', 'PF3D7_1110500'],\n",
       " ['PF3D7_1146000', 'PF3D7_1463500', 'PF3D7_1463700'],\n",
       " ['PF3D7_0730200', 'PF3D7_1234600', 'PF3D7_1449500', 'PF3D7_1431300'],\n",
       " ['PF3D7_1125400', 'PF3D7_1439800', 'PF3D7_1118200'],\n",
       " ['PF3D7_1125400', 'PF3D7_1438100', 'PF3D7_0530100', 'PF3D7_1017400'],\n",
       " [],\n",
       " ['PF3D7_1120100', 'PF3D7_0805200', 'PF3D7_0618600'],\n",
       " ['PF3D7_1463700', 'PF3D7_1246200', 'PF3D7_0813800'],\n",
       " ['PF3D7_1223900', 'PF3D7_0508300', 'PF3D7_1306400'],\n",
       " ['PF3D7_0104200', 'PF3D7_1356900', 'PF3D7_1209600', 'PF3D7_0609100'],\n",
       " ['PF3D7_0729900', 'PF3D7_0528100', 'PF3D7_0812300', 'PF3D7_0729300'],\n",
       " ['PF3D7_1120100',\n",
       "  'PF3D7_0909200',\n",
       "  'PF3D7_1223900',\n",
       "  'PF3D7_1219600',\n",
       "  'PF3D7_0210000'],\n",
       " ['PF3D7_1233000', 'PF3D7_1105600', 'PF3D7_1461200'],\n",
       " ['PF3D7_1428300', 'PF3D7_0304200', 'PF3D7_1431300', 'PF3D7_1435400'],\n",
       " ['PF3D7_0110100', 'PF3D7_1431600', 'PF3D7_1015900'],\n",
       " ['PF3D7_1304700', 'PF3D7_0729900', 'PF3D7_1105600', 'PF3D7_0203700'],\n",
       " ['PF3D7_1120100',\n",
       "  'PF3D7_0730200',\n",
       "  'PF3D7_0923100',\n",
       "  'PF3D7_1330300',\n",
       "  'PF3D7_1436000'],\n",
       " ['PF3D7_0930300', 'PF3D7_1234600', 'PF3D7_1008400'],\n",
       " [],\n",
       " ['PF3D7_0104200', 'PF3D7_1432700', 'PF3D7_1251200'],\n",
       " ['PF3D7_1116600', 'PF3D7_1132800', 'PF3D7_1345700'],\n",
       " ['PF3D7_1223900', 'PF3D7_0508300', 'PF3D7_1347500'],\n",
       " ['PF3D7_1125400',\n",
       "  'PF3D7_0820700',\n",
       "  'PF3D7_0607300',\n",
       "  'PF3D7_0618900',\n",
       "  'PF3D7_1129100'],\n",
       " ['PF3D7_1120100',\n",
       "  'PF3D7_1125400',\n",
       "  'PF3D7_1468500',\n",
       "  'PF3D7_1145500',\n",
       "  'PF3D7_0518400'],\n",
       " ['PF3D7_1216300', 'PF3D7_1352100', 'PF3D7_1305500', 'PF3D7_0932200'],\n",
       " ['PF3D7_1419100', 'PF3D7_1129600', 'PF3D7_1420300'],\n",
       " ['PF3D7_1305500', 'PF3D7_1022700', 'PF3D7_1304500'],\n",
       " ['PF3D7_1125400', 'PF3D7_1229400', 'PF3D7_0311600'],\n",
       " ['PF3D7_0821500', 'PF3D7_1034400', 'PF3D7_0729300'],\n",
       " ['PF3D7_1125400',\n",
       "  'PF3D7_1145400',\n",
       "  'PF3D7_1146900',\n",
       "  'PF3D7_1452300',\n",
       "  'PF3D7_1445200'],\n",
       " ['PF3D7_0826700', 'PF3D7_1436000', 'PF3D7_0603200', 'PF3D7_0719500'],\n",
       " ['PF3D7_1140500', 'PF3D7_1229400', 'PF3D7_0615100'],\n",
       " ['PF3D7_1125400', 'PF3D7_0812300'],\n",
       " ['PF3D7_1122900', 'PF3D7_1431600', 'PF3D7_0932200'],\n",
       " ['PF3D7_1419100', 'PF3D7_0730200', 'PF3D7_0821500'],\n",
       " ['PF3D7_0223100', 'PF3D7_0916500', 'PF3D7_1111300'],\n",
       " ['PF3D7_1125400', 'PF3D7_1430700', 'PF3D7_0719500'],\n",
       " ['PF3D7_1250600', 'PF3D7_0403500', 'PF3D7_0527200'],\n",
       " ['PF3D7_1230600', 'PF3D7_1022500', 'PF3D7_1213600', 'PF3D7_1469600'],\n",
       " ['PF3D7_1125400',\n",
       "  'PF3D7_1114800',\n",
       "  'PF3D7_1315600',\n",
       "  'PF3D7_1417800',\n",
       "  'PF3D7_0317200'],\n",
       " ['PF3D7_0413500', 'PF3D7_0629900', 'PF3D7_1130400'],\n",
       " ['PF3D7_1223900', 'PF3D7_0417100', 'PF3D7_1419100'],\n",
       " ['PF3D7_1233000', 'PF3D7_0806300', 'PF3D7_0528100'],\n",
       " ['PF3D7_1120100', 'PF3D7_0909200', 'PF3D7_1223900', 'PF3D7_0317800'],\n",
       " ['PF3D7_0516700', 'PF3D7_1310600', 'PF3D7_0813800'],\n",
       " ['PF3D7_1020800', 'PF3D7_0935900'],\n",
       " ['PF3D7_0110100', 'PF3D7_0731500'],\n",
       " ['PF3D7_1305500', 'PF3D7_1116400', 'PF3D7_0211400'],\n",
       " ['PF3D7_0110100', 'PF3D7_1234600', 'PF3D7_1420900'],\n",
       " [],\n",
       " ['PF3D7_0223100', 'PF3D7_1326400', 'PF3D7_1129600'],\n",
       " ['PF3D7_1419100', 'PF3D7_1431600', 'PF3D7_0831800'],\n",
       " ['PF3D7_1419100', 'PF3D7_0615500', 'PF3D7_1107700'],\n",
       " ['PF3D7_1230600', 'PF3D7_0818600', 'PF3D7_1426200'],\n",
       " ['PF3D7_0909200', 'PF3D7_0529200'],\n",
       " ['PF3D7_0907900', 'PF3D7_0223100', 'PF3D7_1145500', 'PF3D7_0826100'],\n",
       " ['PF3D7_0909200', 'PF3D7_1238800', 'PF3D7_0309600', 'PF3D7_0730200'],\n",
       " ['PF3D7_1120100',\n",
       "  'PF3D7_1125400',\n",
       "  'PF3D7_1342500',\n",
       "  'PF3D7_1420900',\n",
       "  'PF3D7_1422800'],\n",
       " ['PF3D7_1332000', 'PF3D7_1332800', 'PF3D7_1214400'],\n",
       " ['PF3D7_1406700', 'PF3D7_1037500', 'PF3D7_1332800'],\n",
       " ['PF3D7_1419100', 'PF3D7_0512600', 'PF3D7_1351000'],\n",
       " ['PF3D7_1120100',\n",
       "  'PF3D7_0909200',\n",
       "  'PF3D7_1448600',\n",
       "  'PF3D7_0518700',\n",
       "  'PF3D7_0629300'],\n",
       " ['PF3D7_1125400',\n",
       "  'PF3D7_1145400',\n",
       "  'PF3D7_1146900',\n",
       "  'PF3D7_0413600',\n",
       "  'PF3D7_1453800'],\n",
       " ['PF3D7_0104200', 'PF3D7_1432700', 'PF3D7_1130400'],\n",
       " ['PF3D7_1431600', 'PF3D7_1323000', 'PF3D7_0525400'],\n",
       " ['PF3D7_1254800',\n",
       "  'PF3D7_0317800',\n",
       "  'PF3D7_0909200',\n",
       "  'PF3D7_1420600',\n",
       "  'PF3D7_0624700'],\n",
       " ['PF3D7_1116600', 'PF3D7_1351600', 'PF3D7_1453800'],\n",
       " []]"
      ]
     },
     "execution_count": 98,
     "metadata": {},
     "output_type": "execute_result"
    }
   ],
   "source": [
    "val_genes_list"
   ]
  },
  {
   "cell_type": "code",
   "execution_count": 99,
   "metadata": {},
   "outputs": [
    {
     "data": {
      "text/plain": [
       "[['isolate_15', 'isolate_01', 'isolate_23', 'isolate_06', 'isolate_22'],\n",
       " ['isolate_26', 'isolate_13', 'isolate_28', 'isolate_22', 'isolate_15'],\n",
       " ['isolate_15', 'isolate_29', 'isolate_13', 'isolate_30', 'isolate_19'],\n",
       " ['isolate_14', 'isolate_22', 'isolate_24', 'isolate_01', 'isolate_02'],\n",
       " ['isolate_21', 'isolate_17', 'isolate_06', 'isolate_16', 'isolate_08'],\n",
       " ['isolate_11', 'isolate_26', 'isolate_01', 'isolate_06', 'isolate_12'],\n",
       " ['isolate_10', 'isolate_11', 'isolate_22', 'isolate_02', 'isolate_13'],\n",
       " ['isolate_11', 'isolate_20', 'isolate_27', 'isolate_29', 'isolate_03'],\n",
       " ['isolate_04', 'isolate_25', 'isolate_21', 'isolate_03', 'isolate_20'],\n",
       " ['isolate_29', 'isolate_15', 'isolate_19', 'isolate_14', 'isolate_03'],\n",
       " ['isolate_21', 'isolate_25', 'isolate_26', 'isolate_10', 'isolate_24'],\n",
       " ['isolate_13', 'isolate_05', 'isolate_15', 'isolate_18', 'isolate_21'],\n",
       " ['isolate_25', 'isolate_19', 'isolate_27', 'isolate_23', 'isolate_11'],\n",
       " ['isolate_04', 'isolate_24', 'isolate_29', 'isolate_01', 'isolate_27'],\n",
       " ['isolate_11', 'isolate_24', 'isolate_01', 'isolate_02', 'isolate_25'],\n",
       " ['isolate_29', 'isolate_05', 'isolate_06', 'isolate_24', 'isolate_07'],\n",
       " ['isolate_15', 'isolate_11', 'isolate_04', 'isolate_26', 'isolate_29'],\n",
       " ['isolate_16', 'isolate_01', 'isolate_10', 'isolate_21', 'isolate_19'],\n",
       " ['isolate_18', 'isolate_19', 'isolate_24', 'isolate_12', 'isolate_17'],\n",
       " ['isolate_11', 'isolate_01', 'isolate_30', 'isolate_24', 'isolate_26'],\n",
       " ['isolate_08', 'isolate_17', 'isolate_29', 'isolate_20', 'isolate_15'],\n",
       " ['isolate_14', 'isolate_18', 'isolate_27', 'isolate_06', 'isolate_29'],\n",
       " ['isolate_28', 'isolate_18', 'isolate_21', 'isolate_11', 'isolate_01'],\n",
       " ['isolate_23', 'isolate_25', 'isolate_29', 'isolate_22', 'isolate_24'],\n",
       " ['isolate_24', 'isolate_10', 'isolate_30', 'isolate_06', 'isolate_20'],\n",
       " ['isolate_02', 'isolate_12', 'isolate_29', 'isolate_03', 'isolate_01'],\n",
       " ['isolate_10', 'isolate_21', 'isolate_08', 'isolate_03', 'isolate_13'],\n",
       " ['isolate_10', 'isolate_04', 'isolate_24', 'isolate_17', 'isolate_18'],\n",
       " ['isolate_11', 'isolate_21', 'isolate_14', 'isolate_16', 'isolate_12'],\n",
       " ['isolate_16', 'isolate_19', 'isolate_11', 'isolate_04', 'isolate_14'],\n",
       " ['isolate_25', 'isolate_23', 'isolate_14', 'isolate_13', 'isolate_16'],\n",
       " ['isolate_27', 'isolate_07', 'isolate_29', 'isolate_08', 'isolate_09'],\n",
       " ['isolate_07', 'isolate_14', 'isolate_09', 'isolate_20', 'isolate_21'],\n",
       " ['isolate_20', 'isolate_03', 'isolate_01', 'isolate_28', 'isolate_27'],\n",
       " ['isolate_12', 'isolate_19', 'isolate_04', 'isolate_07', 'isolate_27'],\n",
       " ['isolate_18', 'isolate_12', 'isolate_17', 'isolate_25', 'isolate_26'],\n",
       " ['isolate_18', 'isolate_20', 'isolate_22', 'isolate_05', 'isolate_08'],\n",
       " ['isolate_08', 'isolate_24', 'isolate_30', 'isolate_29', 'isolate_02'],\n",
       " ['isolate_14', 'isolate_21', 'isolate_15', 'isolate_16', 'isolate_25'],\n",
       " ['isolate_13', 'isolate_28', 'isolate_12', 'isolate_16', 'isolate_20'],\n",
       " ['isolate_20', 'isolate_17', 'isolate_04', 'isolate_23', 'isolate_02'],\n",
       " ['isolate_04', 'isolate_09', 'isolate_25', 'isolate_20', 'isolate_06'],\n",
       " ['isolate_17', 'isolate_22', 'isolate_30', 'isolate_15', 'isolate_16'],\n",
       " ['isolate_30', 'isolate_17', 'isolate_08', 'isolate_26', 'isolate_01'],\n",
       " ['isolate_11', 'isolate_16', 'isolate_30', 'isolate_14', 'isolate_10'],\n",
       " ['isolate_24', 'isolate_28', 'isolate_02', 'isolate_18', 'isolate_13'],\n",
       " ['isolate_01', 'isolate_25', 'isolate_09', 'isolate_02', 'isolate_12'],\n",
       " ['isolate_07', 'isolate_22', 'isolate_30', 'isolate_03', 'isolate_27'],\n",
       " ['isolate_17', 'isolate_10', 'isolate_19', 'isolate_11', 'isolate_08'],\n",
       " ['isolate_11', 'isolate_06', 'isolate_18', 'isolate_28', 'isolate_01'],\n",
       " ['isolate_18', 'isolate_05', 'isolate_14', 'isolate_24', 'isolate_08'],\n",
       " ['isolate_21', 'isolate_29', 'isolate_01', 'isolate_25', 'isolate_02'],\n",
       " ['isolate_24', 'isolate_22', 'isolate_01', 'isolate_02', 'isolate_11'],\n",
       " ['isolate_30', 'isolate_04', 'isolate_14', 'isolate_02', 'isolate_23'],\n",
       " ['isolate_07', 'isolate_12', 'isolate_08', 'isolate_01', 'isolate_17'],\n",
       " ['isolate_08', 'isolate_15', 'isolate_25', 'isolate_30', 'isolate_13'],\n",
       " ['isolate_21', 'isolate_20', 'isolate_10', 'isolate_01', 'isolate_04'],\n",
       " ['isolate_05', 'isolate_27', 'isolate_09', 'isolate_17', 'isolate_01'],\n",
       " ['isolate_11', 'isolate_01', 'isolate_28', 'isolate_05', 'isolate_23'],\n",
       " ['isolate_17', 'isolate_22', 'isolate_09', 'isolate_06', 'isolate_20'],\n",
       " ['isolate_11', 'isolate_02', 'isolate_19', 'isolate_28', 'isolate_15'],\n",
       " ['isolate_08', 'isolate_20', 'isolate_22', 'isolate_28', 'isolate_02'],\n",
       " ['isolate_30', 'isolate_24', 'isolate_22', 'isolate_20', 'isolate_25'],\n",
       " ['isolate_30', 'isolate_10', 'isolate_14', 'isolate_17', 'isolate_22'],\n",
       " ['isolate_13', 'isolate_17', 'isolate_12', 'isolate_11', 'isolate_06'],\n",
       " ['isolate_28', 'isolate_05', 'isolate_22', 'isolate_06', 'isolate_16'],\n",
       " ['isolate_22', 'isolate_05', 'isolate_21', 'isolate_01', 'isolate_17'],\n",
       " ['isolate_27', 'isolate_23', 'isolate_22', 'isolate_07', 'isolate_12'],\n",
       " ['isolate_23', 'isolate_16', 'isolate_09', 'isolate_25', 'isolate_13'],\n",
       " ['isolate_12', 'isolate_26', 'isolate_14', 'isolate_25', 'isolate_24'],\n",
       " ['isolate_16', 'isolate_20', 'isolate_05', 'isolate_03', 'isolate_22'],\n",
       " ['isolate_05', 'isolate_28', 'isolate_12', 'isolate_13', 'isolate_08'],\n",
       " ['isolate_21', 'isolate_27', 'isolate_18', 'isolate_20', 'isolate_29'],\n",
       " ['isolate_17', 'isolate_02', 'isolate_09', 'isolate_12', 'isolate_04'],\n",
       " ['isolate_27', 'isolate_16', 'isolate_15', 'isolate_26', 'isolate_30'],\n",
       " ['isolate_23', 'isolate_08', 'isolate_09', 'isolate_29', 'isolate_22'],\n",
       " ['isolate_28', 'isolate_16', 'isolate_30', 'isolate_02', 'isolate_22'],\n",
       " ['isolate_14', 'isolate_12', 'isolate_30', 'isolate_21', 'isolate_02'],\n",
       " ['isolate_26', 'isolate_12', 'isolate_23', 'isolate_20', 'isolate_01'],\n",
       " ['isolate_05', 'isolate_11', 'isolate_01', 'isolate_03', 'isolate_21'],\n",
       " ['isolate_20', 'isolate_04', 'isolate_22', 'isolate_26', 'isolate_21'],\n",
       " ['isolate_09', 'isolate_25', 'isolate_04', 'isolate_02', 'isolate_15'],\n",
       " ['isolate_21', 'isolate_07', 'isolate_29', 'isolate_02', 'isolate_28'],\n",
       " ['isolate_04', 'isolate_27', 'isolate_17', 'isolate_22', 'isolate_11'],\n",
       " ['isolate_11', 'isolate_17', 'isolate_01', 'isolate_18', 'isolate_29'],\n",
       " ['isolate_16', 'isolate_12', 'isolate_14', 'isolate_23', 'isolate_26'],\n",
       " ['isolate_20', 'isolate_01', 'isolate_14', 'isolate_12', 'isolate_05'],\n",
       " ['isolate_25', 'isolate_17', 'isolate_24', 'isolate_23', 'isolate_07'],\n",
       " ['isolate_01', 'isolate_24', 'isolate_07', 'isolate_21', 'isolate_28'],\n",
       " ['isolate_08', 'isolate_15', 'isolate_01', 'isolate_13', 'isolate_25'],\n",
       " ['isolate_24', 'isolate_06', 'isolate_29', 'isolate_05', 'isolate_19'],\n",
       " ['isolate_14', 'isolate_27', 'isolate_17', 'isolate_11', 'isolate_26'],\n",
       " ['isolate_17', 'isolate_01', 'isolate_12', 'isolate_19', 'isolate_05'],\n",
       " ['isolate_15', 'isolate_05', 'isolate_25', 'isolate_08', 'isolate_24'],\n",
       " ['isolate_11', 'isolate_17', 'isolate_22', 'isolate_08', 'isolate_05'],\n",
       " ['isolate_02', 'isolate_25', 'isolate_01', 'isolate_09', 'isolate_30'],\n",
       " ['isolate_01', 'isolate_10', 'isolate_27', 'isolate_19', 'isolate_28'],\n",
       " ['isolate_05', 'isolate_27', 'isolate_08', 'isolate_04', 'isolate_30'],\n",
       " ['isolate_21', 'isolate_01', 'isolate_23', 'isolate_19', 'isolate_09'],\n",
       " ['isolate_25', 'isolate_17', 'isolate_02', 'isolate_10', 'isolate_07']]"
      ]
     },
     "execution_count": 99,
     "metadata": {},
     "output_type": "execute_result"
    }
   ],
   "source": [
    "val_isolate_list"
   ]
  },
  {
   "cell_type": "code",
   "execution_count": 100,
   "metadata": {},
   "outputs": [
    {
     "data": {
      "text/plain": [
       "[[0, 0.5195809416289303, 0.9281491820161777, 0.9793301860619373],\n",
       " [0, 0.4483364826074798, 0.9832159487710083, 0.9870875241147318],\n",
       " [0, 0.6951994862645282, 0.9752734137957766, 0.9841568498471672],\n",
       " [0, 0.6360934445237498, 0.937008514885735, 0.9476953639581859],\n",
       " [0,\n",
       "  0.2453629210613023,\n",
       "  0.6041600210315757,\n",
       "  0.7934385773565162,\n",
       "  0.9563291568400897,\n",
       "  0.9859842661399524],\n",
       " [0, 0.8823818126175157, 0.9362931525276543, 0.9565054133942235],\n",
       " [0, 0.6868841438579272, 0.7909778617326363],\n",
       " [0, 0.5483821627254787, 0.9048602586655828, 0.9475032335027815],\n",
       " [0, 0.4444546450869403, 0.8695181147391521, 0.9870914246409505],\n",
       " [0, 0.6291234748421055, 0.9470738718531436, 0.9910007023233705],\n",
       " [0, 0.5481295238917404, 0.9431592801143093, 0.9864979718035864],\n",
       " [0, 0.6960079402005919, 0.9550323315115614, 0.964064848859248],\n",
       " [0,\n",
       "  0.6958419297886438,\n",
       "  0.8949418241536097,\n",
       "  0.9596341699289495,\n",
       "  0.9713137338546476],\n",
       " [0,\n",
       "  0.4882857024351246,\n",
       "  0.8283404740452238,\n",
       "  0.9909998645578842,\n",
       "  0.9947108156536093],\n",
       " [0,\n",
       "  0.291169025559884,\n",
       "  0.5852714886666706,\n",
       "  0.8764541601050231,\n",
       "  0.9703328797095493],\n",
       " [0, 0.5855199269916176, 0.8847575958269274, 0.9586352403504662],\n",
       " [0,\n",
       "  0.34915064037406596,\n",
       "  0.7360893044326289,\n",
       "  0.9387490725224313,\n",
       "  0.9833616894035825],\n",
       " [0, 0.6847811519751422, 0.9487322026489524, 0.9755424849611332],\n",
       " [0,\n",
       "  0.7073365051225238,\n",
       "  0.9757445827593113,\n",
       "  0.9795388236405814,\n",
       "  0.980964671332425],\n",
       " [0, 0.47036640659669365, 0.8404473730846553, 0.9315327302405619],\n",
       " [0,\n",
       "  0.41150231529597264,\n",
       "  0.6979281975165083,\n",
       "  0.8443240403031357,\n",
       "  0.963773639069275,\n",
       "  0.9835320077838153],\n",
       " [0, 0.7395164621486581, 0.9318062138849885, 0.9608606493925238],\n",
       " [0, 0.7274917350341488, 0.9658142809271221, 0.9680047728713581],\n",
       " [0, 0.5478517666964428, 0.9444198296789287, 0.9690257811638358],\n",
       " [0, 0.6810077893797968, 0.9214970404441815, 0.9632587403355578],\n",
       " [0, 0.3315978295209443, 0.8019410308701769, 0.9528140540115254],\n",
       " [0,\n",
       "  0.1577847425826816,\n",
       "  0.5593880798955555,\n",
       "  0.8777309780159851,\n",
       "  0.9786777318733818,\n",
       "  0.9892060617749374],\n",
       " [0,\n",
       "  0.4739319809856648,\n",
       "  0.8618473870195767,\n",
       "  0.9830477920462545,\n",
       "  0.98839840196116],\n",
       " [0, 0.7955937899284399, 0.9367946611117517],\n",
       " [0,\n",
       "  0.5616204368467597,\n",
       "  0.881966573043856,\n",
       "  0.9692588115690776,\n",
       "  0.9832691153602893],\n",
       " [0, 0.7519832811423846, 0.9718094019718139, 0.9747850219798415],\n",
       " [0,\n",
       "  0.20094427771389922,\n",
       "  0.5912272217664332,\n",
       "  0.9332128383988356,\n",
       "  0.9925126323163685,\n",
       "  0.9976467550426854],\n",
       " [0, 0.4152054845377875, 0.7649509127853409, 0.8866265450542874],\n",
       " [0, 0.5628038391145822, 0.9016404484524517, 0.9697138260463588],\n",
       " [0,\n",
       "  0.34949475006816155,\n",
       "  0.9134988500921725,\n",
       "  0.9757628385494298,\n",
       "  0.9923553467167723],\n",
       " [0, 0.5569592867545522, 0.8495242854044561, 0.9521462205491862],\n",
       " [0,\n",
       "  0.02334388468310844,\n",
       "  0.5369840566286077,\n",
       "  0.8460731981553822,\n",
       "  0.9612777971883011],\n",
       " [0],\n",
       " [0, 0.5355421205463967, 0.9588735576239271, 0.9826517183561758],\n",
       " [0, 0.7785685112103332, 0.9300949091024856, 0.9648092062064655],\n",
       " [0, 0.4893748916436735, 0.9042175086441083, 0.9698553088440461],\n",
       " [0,\n",
       "  0.4184462902217623,\n",
       "  0.8593900154031625,\n",
       "  0.953125066023226,\n",
       "  0.9673501797604047],\n",
       " [0,\n",
       "  0.36808066978859943,\n",
       "  0.7678320601833085,\n",
       "  0.9765286075226547,\n",
       "  0.9917885877144548],\n",
       " [0,\n",
       "  0.26473578560793154,\n",
       "  0.5793489802311858,\n",
       "  0.7825716397596276,\n",
       "  0.957383695991114,\n",
       "  0.9609989215484881],\n",
       " [0, 0.5683166538822801, 0.898229576801044, 0.9178006917206367],\n",
       " [0,\n",
       "  0.6083389552751839,\n",
       "  0.939799676256299,\n",
       "  0.9745059806412993,\n",
       "  0.9756904619223165],\n",
       " [0, 0.7566406584313129, 0.9457381678761183, 0.9855235119745115],\n",
       " [0,\n",
       "  0.3180088021540586,\n",
       "  0.9090066885081942,\n",
       "  0.9580783275197942,\n",
       "  0.9903062020738569],\n",
       " [0,\n",
       "  0.23473719781011737,\n",
       "  0.5791886230938015,\n",
       "  0.8674958935734866,\n",
       "  0.9695527273283086,\n",
       "  0.9724326665562166],\n",
       " [0, 0.6157018156558574, 0.9249587439725481, 0.9678828444828617],\n",
       " [0],\n",
       " [0, 0.7825871225902826, 0.9518639582970754, 0.9731602518672284],\n",
       " [0, 0.4462348150663667, 0.9280203518758772, 0.9607518756446662],\n",
       " [0, 0.3489079840221797, 0.8589798946740673, 0.965750892186487],\n",
       " [0,\n",
       "  0.30439367056121225,\n",
       "  0.6279829983724223,\n",
       "  0.8810898942710021,\n",
       "  0.9658703845036886,\n",
       "  0.9848884077546514],\n",
       " [0,\n",
       "  0.35185697877393585,\n",
       "  0.593988782691957,\n",
       "  0.8933731320941043,\n",
       "  0.9801776039064755,\n",
       "  0.984625344717449],\n",
       " [0,\n",
       "  0.5973457298195669,\n",
       "  0.9257194427924453,\n",
       "  0.9782409890263221,\n",
       "  0.9830794813813267],\n",
       " [0, 0.8118466163865703, 0.9423220775695943, 0.9986311659338224],\n",
       " [0, 0.5568329418178469, 0.848586965303232, 0.9799019183631967],\n",
       " [0, 0.8433203269528928, 0.939394142271328, 0.985714792966562],\n",
       " [0, 0.8214634984459469, 0.9768505253156731, 0.9954897679787305],\n",
       " [0,\n",
       "  0.24150269998546237,\n",
       "  0.6902422766871867,\n",
       "  0.9332384681923146,\n",
       "  0.9797055647805648,\n",
       "  0.9892861058716239],\n",
       " [0,\n",
       "  0.6985328807291622,\n",
       "  0.898441550840901,\n",
       "  0.9619655491127864,\n",
       "  0.9650545371508833],\n",
       " [0, 0.5533847745718681, 0.8874098441688884, 0.9454193134111267],\n",
       " [0, 0.8303608215728666, 0.982435799127348],\n",
       " [0, 0.8760431624234418, 0.9609542655018117, 0.9788567451905532],\n",
       " [0, 0.6010836092434186, 0.8899877210188692, 0.9835120339246952],\n",
       " [0, 0.3977409560227195, 0.9065466914156172, 0.9854033299247837],\n",
       " [0, 0.8594702567945535, 0.9654086620991378, 0.9769552408003103],\n",
       " [0, 0.5744202035900718, 0.8918192391514347, 0.9777474266603793],\n",
       " [0,\n",
       "  0.7065299498640718,\n",
       "  0.863719526321157,\n",
       "  0.9454260999030977,\n",
       "  0.9526225353852926],\n",
       " [0,\n",
       "  0.19394964039523,\n",
       "  0.6270695983720744,\n",
       "  0.8923337617645647,\n",
       "  0.9815190526329096,\n",
       "  0.9928997368948096],\n",
       " [0, 0.8109869039796963, 0.9448918197341178, 0.948470233077507],\n",
       " [0, 0.5142327205184738, 0.8913672198931323, 0.951693376773756],\n",
       " [0, 0.7477286121080482, 0.9590483394662689, 0.9784018393922913],\n",
       " [0,\n",
       "  0.14357522496229458,\n",
       "  0.6172442787496817,\n",
       "  0.9222681242179629,\n",
       "  0.9811053173324299],\n",
       " [0, 0.8055903588623359, 0.921428934651782, 0.9376090032444766],\n",
       " [0, 0.5926665689127162, 0.9793907918741451],\n",
       " [0, 0.9114068166839865, 0.9699607372857227],\n",
       " [0, 0.7179414584193827, 0.8821887155600427, 0.9692288834614007],\n",
       " [0, 0.3318504482922139, 0.8736892796968236, 0.9578728171886501],\n",
       " [0],\n",
       " [0, 0.6216070376792311, 0.8769653380856134, 0.9773699448252291],\n",
       " [0, 0.12862048877707355, 0.8615565536343274, 0.9520745886335645],\n",
       " [0, 0.645294595493036, 0.9393950162171236, 0.9799774394356598],\n",
       " [0, 0.938139585428746, 0.987031943802354, 0.992002802647676],\n",
       " [0, 0.2802764090816854, 0.9096011994904806],\n",
       " [0,\n",
       "  0.1729665199198348,\n",
       "  0.7972247190604321,\n",
       "  0.9727144977357263,\n",
       "  0.9948350692866406],\n",
       " [0,\n",
       "  0.6157280524293143,\n",
       "  0.9566930405242623,\n",
       "  0.9856993874353638,\n",
       "  0.9962095769748315],\n",
       " [0,\n",
       "  0.3936146407814116,\n",
       "  0.6216440596511164,\n",
       "  0.886807854324336,\n",
       "  0.9796603496527558,\n",
       "  0.9919389360110639],\n",
       " [0, 0.5498680648499252, 0.8813628744897561, 0.954501624735755],\n",
       " [0, 0.6432673649291494, 0.8499413543494293, 0.9630056767173636],\n",
       " [0, 0.6881175327575553, 0.950463800520553, 0.9696392229196071],\n",
       " [0,\n",
       "  0.26849487311801257,\n",
       "  0.6843350148104654,\n",
       "  0.8694147507409873,\n",
       "  0.9687912617442385,\n",
       "  0.9964613826174171],\n",
       " [0,\n",
       "  0.2530664428732976,\n",
       "  0.701741099518615,\n",
       "  0.8734355544948309,\n",
       "  0.9774419587245948,\n",
       "  0.9970052349073227],\n",
       " [0, 0.7073665809765638, 0.9429355057944221, 0.9486273138105991],\n",
       " [0, 0.569150546922099, 0.9445597615589779, 0.9608343032702098],\n",
       " [0,\n",
       "  0.23100836384341475,\n",
       "  0.5514000250922421,\n",
       "  0.8124714316344234,\n",
       "  0.9854499740452304,\n",
       "  0.9965784880472046],\n",
       " [0, 0.7407737221317734, 0.9532766310650942, 0.9651943285981168],\n",
       " [0]]"
      ]
     },
     "execution_count": 100,
     "metadata": {},
     "output_type": "execute_result"
    }
   ],
   "source": [
    "val_score_list"
   ]
  },
  {
   "cell_type": "markdown",
   "metadata": {},
   "source": [
    "### 6. Train model using LASSO"
   ]
  },
  {
   "cell_type": "code",
   "execution_count": 106,
   "metadata": {},
   "outputs": [],
   "source": [
    "from sklearn import linear_model"
   ]
  },
  {
   "cell_type": "code",
   "execution_count": 101,
   "metadata": {},
   "outputs": [],
   "source": [
    "#Global variables\n",
    "#val_isolates\n",
    "#genes_dict\n",
    "val_isolates=['isolate_07','isolate_11','isolate_16','isolate_18','isolate_27']"
   ]
  },
  {
   "cell_type": "markdown",
   "metadata": {},
   "source": [
    "### 6.1 Define the new train function"
   ]
  },
  {
   "cell_type": "code",
   "execution_count": 107,
   "metadata": {},
   "outputs": [],
   "source": [
    "def trainModelLASSO(genes,val_isolates,dfx,dfy):\n",
    "    train_isolates=findTrainIsolates(val_isolates,dfx)\n",
    "    \n",
    "    X=filterDfByIsolates(train_isolates,dfx)\n",
    "    X=filterDfByGenes(genes,X)\n",
    "    \n",
    "    y=filterDfByIsolates(train_isolates,dfy)\n",
    "    \n",
    "    model=linear_model.Lasso(alpha=0.1).fit(X.values,y.values)\n",
    "    \n",
    "    X_val=filterDfByIsolates(val_isolates,dfx)\n",
    "    X_val=filterDfByGenes(genes,X_val)\n",
    "    \n",
    "    y_val=filterDfByIsolates(val_isolates,dfy).values\n",
    "    \n",
    "    score=model.score(X_val,y_val)\n",
    "    \n",
    "    return score"
   ]
  },
  {
   "cell_type": "markdown",
   "metadata": {},
   "source": [
    "### 6.2 Train the model using linear regression"
   ]
  },
  {
   "cell_type": "code",
   "execution_count": 117,
   "metadata": {},
   "outputs": [],
   "source": [
    "selected_genes=[]\n",
    "selected_scores=[0]\n",
    "N=20\n",
    "for i in range(N):\n",
    "    best_gene_so_far=''\n",
    "    best_score_so_far=selected_scores[-1]\n",
    "    \n",
    "    for gene in genes_list:\n",
    "        \n",
    "        if gene not in selected_genes:\n",
    "            genes_to_use=selected_genes+[gene]\n",
    "            \n",
    "            model_score=trainModelLASSO(genes_to_use,val_isolates,train,IC50)\n",
    "            \n",
    "            if model_score > best_score_so_far:\n",
    "                best_score_so_far=model_score\n",
    "                best_gene_so_far=gene\n",
    "\n",
    "    \n",
    "    if best_score_so_far>selected_scores[-1]:\n",
    "        selected_genes.append(best_gene_so_far)\n",
    "        selected_scores.append(best_score_so_far)"
   ]
  },
  {
   "cell_type": "code",
   "execution_count": 114,
   "metadata": {},
   "outputs": [
    {
     "data": {
      "text/plain": [
       "[0,\n",
       " 0.2530370211698727,\n",
       " 0.4599599236123799,\n",
       " 0.5826717331695985,\n",
       " 0.6559621390951622,\n",
       " 0.6937164634972335,\n",
       " 0.6982359507405541,\n",
       " 0.6982487787599694,\n",
       " 0.6982492605426571]"
      ]
     },
     "execution_count": 114,
     "metadata": {},
     "output_type": "execute_result"
    }
   ],
   "source": [
    "selected_scores"
   ]
  },
  {
   "cell_type": "code",
   "execution_count": 118,
   "metadata": {},
   "outputs": [
    {
     "data": {
      "text/plain": [
       "['PF3D7_1418100',\n",
       " 'PF3D7_0223100',\n",
       " 'PF3D7_0731500',\n",
       " 'PF3D7_0801300',\n",
       " 'PF3D7_1223900',\n",
       " 'PF3D7_1335900',\n",
       " 'PF3D7_1428300',\n",
       " 'PF3D7_0602400']"
      ]
     },
     "execution_count": 118,
     "metadata": {},
     "output_type": "execute_result"
    }
   ],
   "source": [
    "selected_genes"
   ]
  },
  {
   "cell_type": "code",
   "execution_count": 119,
   "metadata": {},
   "outputs": [
    {
     "data": {
      "text/plain": [
       "<function matplotlib.pyplot.show(*args, **kw)>"
      ]
     },
     "execution_count": 119,
     "metadata": {},
     "output_type": "execute_result"
    },
    {
     "data": {
      "image/png": "[encoded data removed]",
      "text/plain": [
       "<Figure size 432x288 with 1 Axes>"
      ]
     },
     "metadata": {
      "needs_background": "light"
     },
     "output_type": "display_data"
    }
   ],
   "source": [
    "#N=100\n",
    "x=np.arange(len(selected_scores))\n",
    "y=selected_scores\n",
    "plt.plot(x,y)\n",
    "plt.xticks(x,selected_genes,rotation='vertical')\n",
    "plt.show"
   ]
  },
  {
   "cell_type": "markdown",
   "metadata": {},
   "source": [
    "###  6.3 Try the model with the new selected genes"
   ]
  },
  {
   "cell_type": "code",
   "execution_count": 124,
   "metadata": {},
   "outputs": [],
   "source": [
    "def tryModelLASSO(genes,val_isolates,dfx,dfy):\n",
    "    model_info={}\n",
    "    \n",
    "    train_isolates=findTrainIsolates(val_isolates,dfx)\n",
    "    \n",
    "    X=filterDfByIsolates(train_isolates,dfx)\n",
    "    X=filterDfByGenes(genes,X)\n",
    "    \n",
    "    y=filterDfByIsolates(train_isolates,dfy)\n",
    "    \n",
    "    model=linear_model.Lasso(alpha=0.1).fit(X.values,y.values)\n",
    "    \n",
    "    X_val=filterDfByIsolates(val_isolates,dfx)\n",
    "    X_val=filterDfByGenes(genes,X_val)\n",
    "    \n",
    "    y_val=filterDfByIsolates(val_isolates,dfy).values\n",
    "    \n",
    "    y_pred=model.predict(X_val)\n",
    "    \n",
    "    score=model.score(X_val,y_val)\n",
    "    \n",
    "    model_info['y']=y.values\n",
    "    model_info['y_val']=y_val\n",
    "    model_info['X']=X.values\n",
    "    model_info['X_val']=X_val\n",
    "    model_info['y_pred']=y_pred\n",
    "    model_info['score']=score\n",
    "    return model_info"
   ]
  },
  {
   "cell_type": "code",
   "execution_count": 20,
   "metadata": {},
   "outputs": [],
   "source": [
    "#Try the model with the first selected gene\n",
    "gene=['PF3D7_0730200']"
   ]
  },
  {
   "cell_type": "code",
   "execution_count": 125,
   "metadata": {},
   "outputs": [],
   "source": [
    "try_model=tryModelLASSO(selected_genes,val_isolates,train,IC50)"
   ]
  },
  {
   "cell_type": "code",
   "execution_count": 126,
   "metadata": {},
   "outputs": [
    {
     "data": {
      "text/plain": [
       "array([[0.8567],\n",
       "       [1.82  ],\n",
       "       [2.21  ],\n",
       "       [1.647 ],\n",
       "       [1.348 ]])"
      ]
     },
     "execution_count": 126,
     "metadata": {},
     "output_type": "execute_result"
    }
   ],
   "source": [
    "try_model['y_val']"
   ]
  },
  {
   "cell_type": "code",
   "execution_count": 127,
   "metadata": {},
   "outputs": [
    {
     "data": {
      "text/plain": [
       "array([1.16248361, 1.6723602 , 1.80485489, 1.69374343, 1.52394784])"
      ]
     },
     "execution_count": 127,
     "metadata": {},
     "output_type": "execute_result"
    }
   ],
   "source": [
    "try_model['y_pred']"
   ]
  },
  {
   "cell_type": "code",
   "execution_count": 128,
   "metadata": {},
   "outputs": [],
   "source": [
    "y=[try_model['y_val'][i][0] for i in range(len(try_model['y_val']))]\n",
    "y_pred=try_model['y_pred']"
   ]
  },
  {
   "cell_type": "code",
   "execution_count": 129,
   "metadata": {
    "scrolled": true
   },
   "outputs": [
    {
     "data": {
      "text/plain": [
       "<matplotlib.collections.PathCollection at 0x186be022898>"
      ]
     },
     "execution_count": 129,
     "metadata": {},
     "output_type": "execute_result"
    },
    {
     "data": {
      "image/png": "[encoded data removed]",
      "text/plain": [
       "<Figure size 432x288 with 1 Axes>"
      ]
     },
     "metadata": {
      "needs_background": "light"
     },
     "output_type": "display_data"
    }
   ],
   "source": [
    "plt.scatter(y,y_pred)"
   ]
  },
  {
   "cell_type": "markdown",
   "metadata": {},
   "source": [
    "### 7. Train model using linear regression and all the genes without the diferentials"
   ]
  },
  {
   "cell_type": "code",
   "execution_count": 130,
   "metadata": {},
   "outputs": [
    {
     "data": {
      "text/plain": [
       "['isolate_07', 'isolate_11', 'isolate_16', 'isolate_18', 'isolate_27']"
      ]
     },
     "execution_count": 130,
     "metadata": {},
     "output_type": "execute_result"
    }
   ],
   "source": [
    "val_isolates"
   ]
  },
  {
   "cell_type": "code",
   "execution_count": 131,
   "metadata": {},
   "outputs": [
    {
     "data": {
      "text/plain": [
       "['PF3D7_1340700',\n",
       " 'PF3D7_1246100',\n",
       " 'PF3D7_0106800',\n",
       " 'PF3D7_1431300',\n",
       " 'PF3D7_1426500',\n",
       " 'PF3D7_1216500',\n",
       " 'PF3D7_0418500',\n",
       " 'PF3D7_0821800',\n",
       " 'PF3D7_1432700',\n",
       " 'PF3D7_1463700',\n",
       " 'PF3D7_1329100',\n",
       " 'PF3D7_1032500',\n",
       " 'PF3D7_0319600',\n",
       " 'PF3D7_0503100',\n",
       " 'PF3D7_0813800',\n",
       " 'PF3D7_0415400',\n",
       " 'PF3D7_1423000',\n",
       " 'PF3D7_1223900',\n",
       " 'PF3D7_0321200',\n",
       " 'PF3D7_1220900',\n",
       " 'PF3D7_1034400',\n",
       " 'PF3D7_0211400',\n",
       " 'PF3D7_0708500',\n",
       " 'PF3D7_1211000',\n",
       " 'PF3D7_1418100',\n",
       " 'PF3D7_1437700',\n",
       " 'PF3D7_0729900',\n",
       " 'PF3D7_1426300',\n",
       " 'PF3D7_1134000',\n",
       " 'PF3D7_0807300',\n",
       " 'PF3D7_1302200',\n",
       " 'PF3D7_0805200',\n",
       " 'PF3D7_0816000',\n",
       " 'PF3D7_0909200',\n",
       " 'PF3D7_1251200',\n",
       " 'PF3D7_0826100',\n",
       " 'PF3D7_1446600',\n",
       " 'PF3D7_0820200',\n",
       " 'PF3D7_1144900',\n",
       " 'PF3D7_0826700',\n",
       " 'PF3D7_0711000',\n",
       " 'PF3D7_1209900',\n",
       " 'PF3D7_0206200',\n",
       " 'PF3D7_1246200',\n",
       " 'PF3D7_1119500',\n",
       " 'PF3D7_1121700',\n",
       " 'PF3D7_0211600',\n",
       " 'PF3D7_1141600',\n",
       " 'PF3D7_1360500',\n",
       " 'PF3D7_1008400',\n",
       " 'PF3D7_1471100',\n",
       " 'PF3D7_1311400',\n",
       " 'PF3D7_1250100',\n",
       " 'PF3D7_1245100',\n",
       " 'PF3D7_0209000',\n",
       " 'PF3D7_0606700',\n",
       " 'PF3D7_0420200',\n",
       " 'PF3D7_1022500',\n",
       " 'PF3D7_0921800',\n",
       " 'PF3D7_0530900',\n",
       " 'PF3D7_0316600',\n",
       " 'PF3D7_1362200',\n",
       " 'PF3D7_0713400',\n",
       " 'PF3D7_1449500',\n",
       " 'PF3D7_1434700',\n",
       " 'PF3D7_1137800',\n",
       " 'PF3D7_0907900',\n",
       " 'PF3D7_1129400',\n",
       " 'PF3D7_0603200',\n",
       " 'PF3D7_0217500',\n",
       " 'PF3D7_0828000',\n",
       " 'PF3D7_0936500',\n",
       " 'PF3D7_1248900',\n",
       " 'PF3D7_0401900',\n",
       " 'PF3D7_1465000',\n",
       " 'PF3D7_0918300',\n",
       " 'PF3D7_1237000',\n",
       " 'PF3D7_1422800',\n",
       " 'PF3D7_0507500',\n",
       " 'PF3D7_0502000',\n",
       " 'PF3D7_0716800',\n",
       " 'PF3D7_1403700',\n",
       " 'PF3D7_1310600',\n",
       " 'PF3D7_0718500',\n",
       " 'PF3D7_0716900',\n",
       " 'PF3D7_0422000',\n",
       " 'PF3D7_1326800',\n",
       " 'PF3D7_0618600',\n",
       " 'PF3D7_1422500',\n",
       " 'PF3D7_0729800',\n",
       " 'PF3D7_1128700',\n",
       " 'PF3D7_0530100',\n",
       " 'PF3D7_0607300',\n",
       " 'PF3D7_1448600',\n",
       " 'PF3D7_1343600',\n",
       " 'PF3D7_0810800',\n",
       " 'PF3D7_1313200',\n",
       " 'PF3D7_1441700',\n",
       " 'PF3D7_1432000',\n",
       " 'PF3D7_0506900',\n",
       " 'PF3D7_1210100',\n",
       " 'PF3D7_1130500',\n",
       " 'PF3D7_0629300',\n",
       " 'PF3D7_1037500',\n",
       " 'PF3D7_1229400',\n",
       " 'PF3D7_1465700',\n",
       " 'PF3D7_1209300',\n",
       " 'PF3D7_1444800',\n",
       " 'PF3D7_1451100',\n",
       " 'PF3D7_1330300',\n",
       " 'PF3D7_0916500',\n",
       " 'PF3D7_1238800',\n",
       " 'PF3D7_1323800',\n",
       " 'PF3D7_1313000',\n",
       " 'PF3D7_1008000',\n",
       " 'PF3D7_1007900',\n",
       " 'PF3D7_1460400',\n",
       " 'PF3D7_1116400',\n",
       " 'PF3D7_1417800',\n",
       " 'PF3D7_0318800',\n",
       " 'PF3D7_0529200',\n",
       " 'PF3D7_0618500',\n",
       " 'PF3D7_1230600',\n",
       " 'PF3D7_1468700',\n",
       " 'PF3D7_1254800',\n",
       " 'PF3D7_1219600',\n",
       " 'PF3D7_0930300',\n",
       " 'PF3D7_0203700',\n",
       " 'PF3D7_0112200',\n",
       " 'PF3D7_1104100',\n",
       " 'PF3D7_1338200',\n",
       " 'PF3D7_1324900',\n",
       " 'PF3D7_0731500',\n",
       " 'PF3D7_1469600',\n",
       " 'PF3D7_1145500',\n",
       " 'PF3D7_1250600',\n",
       " 'PF3D7_1122900',\n",
       " 'PF3D7_1216200',\n",
       " 'PF3D7_1438100',\n",
       " 'PF3D7_0319400',\n",
       " 'PF3D7_1108500',\n",
       " 'PF3D7_1015600',\n",
       " 'PF3D7_1317900',\n",
       " 'PF3D7_1202200',\n",
       " 'PF3D7_0528000',\n",
       " 'PF3D7_0828500',\n",
       " 'PF3D7_0111000',\n",
       " 'PF3D7_0605500',\n",
       " 'PF3D7_0530200',\n",
       " 'PF3D7_1361100',\n",
       " 'PF3D7_1020800',\n",
       " 'PF3D7_1368700',\n",
       " 'PF3D7_1335900',\n",
       " 'PF3D7_1435400',\n",
       " 'PF3D7_0509800',\n",
       " 'PF3D7_1364900',\n",
       " 'PF3D7_1235400',\n",
       " 'PF3D7_1146900',\n",
       " 'PF3D7_1469000',\n",
       " 'PF3D7_1136900',\n",
       " 'PF3D7_0815800',\n",
       " 'PF3D7_0420400',\n",
       " 'PF3D7_0728000',\n",
       " 'PF3D7_1211400',\n",
       " 'PF3D7_1445400',\n",
       " 'PF3D7_1129600',\n",
       " 'PF3D7_0512600',\n",
       " 'PF3D7_0722500',\n",
       " 'PF3D7_1342100',\n",
       " 'PF3D7_1407500',\n",
       " 'PF3D7_1241600',\n",
       " 'PF3D7_1117700',\n",
       " 'PF3D7_1113400',\n",
       " 'PF3D7_1367600',\n",
       " 'PF3D7_0413500',\n",
       " 'PF3D7_0524700',\n",
       " 'PF3D7_1431600',\n",
       " 'PF3D7_0621200',\n",
       " 'PF3D7_1240000',\n",
       " 'PF3D7_1028100',\n",
       " 'PF3D7_0317200',\n",
       " 'PF3D7_1120100',\n",
       " 'PF3D7_1243600',\n",
       " 'PF3D7_0422700',\n",
       " 'PF3D7_1216300',\n",
       " 'PF3D7_1406700',\n",
       " 'PF3D7_0305000',\n",
       " 'PF3D7_1304700',\n",
       " 'PF3D7_1351600',\n",
       " 'PF3D7_1452300',\n",
       " 'PF3D7_1352100',\n",
       " 'PF3D7_1111300',\n",
       " 'PF3D7_1206700',\n",
       " 'PF3D7_0616500',\n",
       " 'PF3D7_0823700',\n",
       " 'PF3D7_1122100',\n",
       " 'PF3D7_1419100',\n",
       " 'PF3D7_0723500',\n",
       " 'PF3D7_1140500',\n",
       " 'PF3D7_1347500',\n",
       " 'PF3D7_0419900',\n",
       " 'PF3D7_1446400',\n",
       " 'PF3D7_1348300',\n",
       " 'PF3D7_1017400',\n",
       " 'PF3D7_1430700',\n",
       " 'PF3D7_0731100',\n",
       " 'PF3D7_1331300',\n",
       " 'PF3D7_1022700',\n",
       " 'PF3D7_0821700',\n",
       " 'PF3D7_1132800',\n",
       " 'PF3D7_1342800',\n",
       " 'PF3D7_1461200',\n",
       " 'PF3D7_0815700',\n",
       " 'PF3D7_1213600',\n",
       " 'PF3D7_0511200',\n",
       " 'PF3D7_0210000',\n",
       " 'PF3D7_1020300',\n",
       " 'PF3D7_0612900',\n",
       " 'PF3D7_1448400',\n",
       " 'PF3D7_1436000',\n",
       " 'PF3D7_1345500',\n",
       " 'PF3D7_0423100',\n",
       " 'PF3D7_0616000',\n",
       " 'PF3D7_0529500',\n",
       " 'PF3D7_0729000',\n",
       " 'PF3D7_1439900',\n",
       " 'PF3D7_1219100',\n",
       " 'PF3D7_0624000',\n",
       " 'PF3D7_1207300',\n",
       " 'PF3D7_1445200',\n",
       " 'PF3D7_1318800',\n",
       " 'PF3D7_1326400',\n",
       " 'PF3D7_1418000',\n",
       " 'PF3D7_1253400',\n",
       " 'PF3D7_1333200',\n",
       " 'PF3D7_1142400',\n",
       " 'PF3D7_1477800',\n",
       " 'PF3D7_1134800',\n",
       " 'PF3D7_1234600',\n",
       " 'PF3D7_1032400',\n",
       " 'PF3D7_0811200',\n",
       " 'PF3D7_0514600',\n",
       " 'PF3D7_0934800',\n",
       " 'PF3D7_0107600',\n",
       " 'PF3D7_1321600',\n",
       " 'PF3D7_0304200',\n",
       " 'PF3D7_0821500',\n",
       " 'PF3D7_0715000',\n",
       " 'PF3D7_0818600',\n",
       " 'PF3D7_1146000',\n",
       " 'PF3D7_0815900',\n",
       " 'PF3D7_1005100',\n",
       " 'PF3D7_0213100',\n",
       " 'PF3D7_0320100',\n",
       " 'PF3D7_0527500',\n",
       " 'PF3D7_0729300',\n",
       " 'PF3D7_1472100',\n",
       " 'PF3D7_1144700',\n",
       " 'PF3D7_0518700',\n",
       " 'PF3D7_1434000',\n",
       " 'PF3D7_0811000',\n",
       " 'PF3D7_0806200',\n",
       " 'PF3D7_0814300',\n",
       " 'PF3D7_0214100',\n",
       " 'PF3D7_1466400',\n",
       " 'PF3D7_0801300',\n",
       " 'PF3D7_0932200',\n",
       " 'PF3D7_0610600',\n",
       " 'PF3D7_0223100',\n",
       " 'PF3D7_0628200',\n",
       " 'PF3D7_0910600',\n",
       " 'PF3D7_1124500',\n",
       " 'PF3D7_0320700',\n",
       " 'PF3D7_0615500',\n",
       " 'PF3D7_1428300',\n",
       " 'PF3D7_0503400',\n",
       " 'PF3D7_0302600',\n",
       " 'PF3D7_1446800',\n",
       " 'PF3D7_0403500',\n",
       " 'PF3D7_1214400',\n",
       " 'PF3D7_1223400',\n",
       " 'PF3D7_1250300',\n",
       " 'PF3D7_0311600',\n",
       " 'PF3D7_1128400',\n",
       " 'PF3D7_1439800',\n",
       " 'PF3D7_1323000',\n",
       " 'PF3D7_0507700',\n",
       " 'PF3D7_1244800',\n",
       " 'PF3D7_1114800',\n",
       " 'PF3D7_0816500',\n",
       " 'PF3D7_1212800',\n",
       " 'PF3D7_1226600',\n",
       " 'PF3D7_1004300',\n",
       " 'PF3D7_1247800',\n",
       " 'PF3D7_1014400',\n",
       " 'PF3D7_1212700',\n",
       " 'PF3D7_0103200',\n",
       " 'PF3D7_1320400',\n",
       " 'PF3D7_0615100',\n",
       " 'PF3D7_1450100',\n",
       " 'PF3D7_1468500',\n",
       " 'PF3D7_0516500',\n",
       " 'PF3D7_0216400',\n",
       " 'PF3D7_0818800',\n",
       " 'PF3D7_0204500',\n",
       " 'PF3D7_0208200',\n",
       " 'PF3D7_0621800',\n",
       " 'PF3D7_1347200',\n",
       " 'PF3D7_1208300',\n",
       " 'PF3D7_1125400',\n",
       " 'PF3D7_0827100',\n",
       " 'PF3D7_1306400',\n",
       " 'PF3D7_1302700',\n",
       " 'PF3D7_0505800',\n",
       " 'PF3D7_1209600',\n",
       " 'PF3D7_1110500',\n",
       " 'PF3D7_1364600',\n",
       " 'PF3D7_1242800',\n",
       " 'PF3D7_1215300',\n",
       " 'PF3D7_0831800',\n",
       " 'PF3D7_1014000',\n",
       " 'PF3D7_0710800',\n",
       " 'PF3D7_1426200',\n",
       " 'PF3D7_1145100',\n",
       " 'PF3D7_0602400',\n",
       " 'PF3D7_1028700',\n",
       " 'PF3D7_0808400',\n",
       " 'PF3D7_1037100',\n",
       " 'PF3D7_1330600',\n",
       " 'PF3D7_0413600',\n",
       " 'PF3D7_0933600',\n",
       " 'PF3D7_1251500',\n",
       " 'PF3D7_1243000',\n",
       " 'PF3D7_1346800',\n",
       " 'PF3D7_1444500',\n",
       " 'PF3D7_1116600',\n",
       " 'PF3D7_1361400',\n",
       " 'PF3D7_0812300',\n",
       " 'PF3D7_0515300',\n",
       " 'PF3D7_1145400',\n",
       " 'PF3D7_0618900',\n",
       " 'PF3D7_0629000',\n",
       " 'PF3D7_1028300',\n",
       " 'PF3D7_1339900',\n",
       " 'PF3D7_0110100',\n",
       " 'PF3D7_1312000',\n",
       " 'PF3D7_0107000',\n",
       " 'PF3D7_0808200',\n",
       " 'PF3D7_1345700',\n",
       " 'PF3D7_0210700',\n",
       " 'PF3D7_1356200',\n",
       " 'PF3D7_0730200',\n",
       " 'PF3D7_0923100',\n",
       " 'PF3D7_1434600',\n",
       " 'PF3D7_0815600',\n",
       " 'PF3D7_0911900',\n",
       " 'PF3D7_1315600',\n",
       " 'PF3D7_0629500',\n",
       " 'PF3D7_0211200',\n",
       " 'PF3D7_1429800',\n",
       " 'PF3D7_1356900',\n",
       " 'PF3D7_0104200',\n",
       " 'PF3D7_1233000',\n",
       " 'PF3D7_1410000',\n",
       " 'PF3D7_0609100',\n",
       " 'PF3D7_1116800',\n",
       " 'PF3D7_0303000',\n",
       " 'PF3D7_1107700',\n",
       " 'PF3D7_1365900',\n",
       " 'PF3D7_0317800',\n",
       " 'PF3D7_1463500',\n",
       " 'PF3D7_0826600',\n",
       " 'PF3D7_0501700',\n",
       " 'PF3D7_0806400',\n",
       " 'PF3D7_0627800',\n",
       " 'PF3D7_1338300',\n",
       " 'PF3D7_0905900',\n",
       " 'PF3D7_0501300',\n",
       " 'PF3D7_0935900',\n",
       " 'PF3D7_1143400',\n",
       " 'PF3D7_1015900',\n",
       " 'PF3D7_1406600',\n",
       " 'PF3D7_1118100',\n",
       " 'PF3D7_1245000',\n",
       " 'PF3D7_0515000',\n",
       " 'PF3D7_0613500',\n",
       " 'PF3D7_1410600',\n",
       " 'PF3D7_1324700',\n",
       " 'PF3D7_1203900',\n",
       " 'PF3D7_0525400',\n",
       " 'PF3D7_0207600',\n",
       " 'PF3D7_1305500',\n",
       " 'PF3D7_0806300',\n",
       " 'PF3D7_1231100',\n",
       " 'PF3D7_1314800',\n",
       " 'PF3D7_0527100',\n",
       " 'PF3D7_1118200',\n",
       " 'PF3D7_0822600',\n",
       " 'PF3D7_1337800',\n",
       " 'PF3D7_1010600',\n",
       " 'PF3D7_1003300',\n",
       " 'PF3D7_1341600',\n",
       " 'PF3D7_0619400',\n",
       " 'PF3D7_0504600',\n",
       " 'PF3D7_0508300',\n",
       " 'PF3D7_1475700',\n",
       " 'PF3D7_1320600',\n",
       " 'PF3D7_1216600',\n",
       " 'PF3D7_0719500',\n",
       " 'PF3D7_1332300',\n",
       " 'PF3D7_1462800',\n",
       " 'PF3D7_0527200',\n",
       " 'PF3D7_1242900',\n",
       " 'PF3D7_1123400',\n",
       " 'PF3D7_1332800',\n",
       " 'PF3D7_1130400',\n",
       " 'PF3D7_0112000',\n",
       " 'PF3D7_1447900',\n",
       " 'PF3D7_0624700',\n",
       " 'PF3D7_0629900',\n",
       " 'PF3D7_0207500',\n",
       " 'PF3D7_0315100',\n",
       " 'PF3D7_1129100',\n",
       " 'PF3D7_1351000',\n",
       " 'PF3D7_1008900',\n",
       " 'PF3D7_1312400',\n",
       " 'PF3D7_1342500',\n",
       " 'PF3D7_0607000',\n",
       " 'PF3D7_1314600',\n",
       " 'PF3D7_0523100',\n",
       " 'PF3D7_0306700',\n",
       " 'PF3D7_1319700',\n",
       " 'PF3D7_0103100',\n",
       " 'PF3D7_1229800',\n",
       " 'PF3D7_1365400',\n",
       " 'PF3D7_1420300',\n",
       " 'PF3D7_1440300',\n",
       " 'PF3D7_0314300',\n",
       " 'PF3D7_1471000',\n",
       " 'PF3D7_0518400',\n",
       " 'PF3D7_1455800',\n",
       " 'PF3D7_0630500',\n",
       " 'PF3D7_1449000',\n",
       " 'PF3D7_0818900',\n",
       " 'PF3D7_1420900',\n",
       " 'PF3D7_1466700',\n",
       " 'PF3D7_0208600',\n",
       " 'PF3D7_1453800',\n",
       " 'PF3D7_1451800',\n",
       " 'PF3D7_0917000',\n",
       " 'PF3D7_0822700',\n",
       " 'PF3D7_1105600',\n",
       " 'PF3D7_1420600',\n",
       " 'PF3D7_1013900',\n",
       " 'PF3D7_0903200',\n",
       " 'PF3D7_1360200',\n",
       " 'PF3D7_1436300',\n",
       " 'PF3D7_0626100',\n",
       " 'PF3D7_1229100',\n",
       " 'PF3D7_0715600',\n",
       " 'PF3D7_0528100',\n",
       " 'PF3D7_1335700',\n",
       " 'PF3D7_0202400',\n",
       " 'PF3D7_0309600',\n",
       " 'PF3D7_1113100',\n",
       " 'PF3D7_0516700',\n",
       " 'PF3D7_0313100',\n",
       " 'PF3D7_1234700',\n",
       " 'PF3D7_1304500',\n",
       " 'PF3D7_1117100',\n",
       " 'PF3D7_1105500',\n",
       " 'PF3D7_0417100',\n",
       " 'PF3D7_1332000',\n",
       " 'PF3D7_1204300',\n",
       " 'PF3D7_0729400',\n",
       " 'PF3D7_0820700',\n",
       " 'PF3D7_1320500',\n",
       " 'PF3D7_0109400',\n",
       " 'PF3D7_0626800',\n",
       " 'PF3D7_1457000',\n",
       " 'PF3D7_1361800']"
      ]
     },
     "execution_count": 131,
     "metadata": {},
     "output_type": "execute_result"
    }
   ],
   "source": [
    "genes_list"
   ]
  },
  {
   "cell_type": "code",
   "execution_count": 132,
   "metadata": {},
   "outputs": [],
   "source": [
    "X=train\n",
    "y=IC50\n",
    "\n",
    "model=LinearRegression().fit(X.values,y.values)"
   ]
  },
  {
   "cell_type": "code",
   "execution_count": 133,
   "metadata": {},
   "outputs": [
    {
     "data": {
      "text/plain": [
       "['model2_220719.pkl']"
      ]
     },
     "execution_count": 133,
     "metadata": {},
     "output_type": "execute_result"
    }
   ],
   "source": [
    "from sklearn.externals import joblib\n",
    "# Output a pickle file for the model\n",
    "joblib.dump(model, 'model2_220719.pkl') "
   ]
  },
  {
   "cell_type": "markdown",
   "metadata": {},
   "source": [
    "### 7.1 Use the model2 on the test data"
   ]
  },
  {
   "cell_type": "code",
   "execution_count": 134,
   "metadata": {
    "scrolled": false
   },
   "outputs": [
    {
     "data": {
      "text/html": [
       "<div>\n",
       "<style scoped>\n",
       "    .dataframe tbody tr th:only-of-type {\n",
       "        vertical-align: middle;\n",
       "    }\n",
       "\n",
       "    .dataframe tbody tr th {\n",
       "        vertical-align: top;\n",
       "    }\n",
       "\n",
       "    .dataframe thead th {\n",
       "        text-align: right;\n",
       "    }\n",
       "</style>\n",
       "<table border=\"1\" class=\"dataframe\">\n",
       "  <thead>\n",
       "    <tr style=\"text-align: right;\">\n",
       "      <th></th>\n",
       "      <th>PF3D7_1340700_24HR_DHA</th>\n",
       "      <th>PF3D7_1340700_24HR_UT</th>\n",
       "      <th>PF3D7_1340700_6HR_DHA</th>\n",
       "      <th>PF3D7_1340700_6HR_UT</th>\n",
       "      <th>PF3D7_1246100_24HR_DHA</th>\n",
       "      <th>PF3D7_1246100_24HR_UT</th>\n",
       "      <th>PF3D7_1246100_6HR_DHA</th>\n",
       "      <th>PF3D7_1246100_6HR_UT</th>\n",
       "      <th>PF3D7_0106800_24HR_DHA</th>\n",
       "      <th>PF3D7_0106800_24HR_UT</th>\n",
       "      <th>...</th>\n",
       "      <th>PF3D7_0626800_DHA_UT_6HR</th>\n",
       "      <th>PF3D7_0626800_DHA_UT_24HR</th>\n",
       "      <th>PF3D7_1457000_24HR_6HR_DHA</th>\n",
       "      <th>PF3D7_1457000_24_6HR_UT</th>\n",
       "      <th>PF3D7_1457000_DHA_UT_6HR</th>\n",
       "      <th>PF3D7_1457000_DHA_UT_24HR</th>\n",
       "      <th>PF3D7_1361800_24HR_6HR_DHA</th>\n",
       "      <th>PF3D7_1361800_24_6HR_UT</th>\n",
       "      <th>PF3D7_1361800_DHA_UT_6HR</th>\n",
       "      <th>PF3D7_1361800_DHA_UT_24HR</th>\n",
       "    </tr>\n",
       "  </thead>\n",
       "  <tbody>\n",
       "    <tr>\n",
       "      <th>isolate_31</th>\n",
       "      <td>-0.083810</td>\n",
       "      <td>-0.237601</td>\n",
       "      <td>-0.393627</td>\n",
       "      <td>0.157657</td>\n",
       "      <td>1.241742</td>\n",
       "      <td>0.892842</td>\n",
       "      <td>0.944031</td>\n",
       "      <td>1.185809</td>\n",
       "      <td>-0.584764</td>\n",
       "      <td>-1.392044</td>\n",
       "      <td>...</td>\n",
       "      <td>-1.183098</td>\n",
       "      <td>0.495186</td>\n",
       "      <td>0.059165</td>\n",
       "      <td>-0.586973</td>\n",
       "      <td>-0.565675</td>\n",
       "      <td>0.080463</td>\n",
       "      <td>-0.555443</td>\n",
       "      <td>0.797244</td>\n",
       "      <td>0.992569</td>\n",
       "      <td>-0.360118</td>\n",
       "    </tr>\n",
       "    <tr>\n",
       "      <th>isolate_32</th>\n",
       "      <td>-0.100321</td>\n",
       "      <td>-0.315922</td>\n",
       "      <td>-0.205521</td>\n",
       "      <td>-0.549832</td>\n",
       "      <td>0.499754</td>\n",
       "      <td>1.074672</td>\n",
       "      <td>0.484960</td>\n",
       "      <td>1.243588</td>\n",
       "      <td>-0.369133</td>\n",
       "      <td>0.305464</td>\n",
       "      <td>...</td>\n",
       "      <td>0.529374</td>\n",
       "      <td>0.228348</td>\n",
       "      <td>-0.479942</td>\n",
       "      <td>-0.070097</td>\n",
       "      <td>0.490606</td>\n",
       "      <td>0.080761</td>\n",
       "      <td>0.248413</td>\n",
       "      <td>-1.265139</td>\n",
       "      <td>-1.552093</td>\n",
       "      <td>-0.038541</td>\n",
       "    </tr>\n",
       "    <tr>\n",
       "      <th>isolate_33</th>\n",
       "      <td>-0.306169</td>\n",
       "      <td>-0.196336</td>\n",
       "      <td>-0.129218</td>\n",
       "      <td>-0.254396</td>\n",
       "      <td>1.711083</td>\n",
       "      <td>0.716859</td>\n",
       "      <td>0.887892</td>\n",
       "      <td>1.320313</td>\n",
       "      <td>0.176647</td>\n",
       "      <td>-1.046201</td>\n",
       "      <td>...</td>\n",
       "      <td>0.592113</td>\n",
       "      <td>0.538705</td>\n",
       "      <td>0.148453</td>\n",
       "      <td>-0.215818</td>\n",
       "      <td>-0.019406</td>\n",
       "      <td>0.344865</td>\n",
       "      <td>-0.061137</td>\n",
       "      <td>-0.450015</td>\n",
       "      <td>-0.265031</td>\n",
       "      <td>0.123846</td>\n",
       "    </tr>\n",
       "    <tr>\n",
       "      <th>isolate_34</th>\n",
       "      <td>0.108025</td>\n",
       "      <td>-0.107807</td>\n",
       "      <td>-0.210586</td>\n",
       "      <td>-0.346967</td>\n",
       "      <td>0.856864</td>\n",
       "      <td>0.916836</td>\n",
       "      <td>0.771997</td>\n",
       "      <td>1.151976</td>\n",
       "      <td>0.257807</td>\n",
       "      <td>0.219475</td>\n",
       "      <td>...</td>\n",
       "      <td>-0.041319</td>\n",
       "      <td>0.201217</td>\n",
       "      <td>0.477662</td>\n",
       "      <td>-0.799427</td>\n",
       "      <td>-1.046440</td>\n",
       "      <td>0.230649</td>\n",
       "      <td>-0.277628</td>\n",
       "      <td>0.877974</td>\n",
       "      <td>1.153233</td>\n",
       "      <td>-0.002368</td>\n",
       "    </tr>\n",
       "    <tr>\n",
       "      <th>isolate_35</th>\n",
       "      <td>-0.383524</td>\n",
       "      <td>-0.542011</td>\n",
       "      <td>-0.383707</td>\n",
       "      <td>-0.488203</td>\n",
       "      <td>1.240874</td>\n",
       "      <td>0.366477</td>\n",
       "      <td>0.248377</td>\n",
       "      <td>0.872176</td>\n",
       "      <td>-0.288073</td>\n",
       "      <td>0.539267</td>\n",
       "      <td>...</td>\n",
       "      <td>1.450840</td>\n",
       "      <td>-0.549614</td>\n",
       "      <td>-0.840660</td>\n",
       "      <td>1.094264</td>\n",
       "      <td>1.443738</td>\n",
       "      <td>-0.491185</td>\n",
       "      <td>1.181817</td>\n",
       "      <td>-0.896510</td>\n",
       "      <td>-2.229431</td>\n",
       "      <td>-0.151104</td>\n",
       "    </tr>\n",
       "  </tbody>\n",
       "</table>\n",
       "<p>5 rows × 3848 columns</p>\n",
       "</div>"
      ],
      "text/plain": [
       "            PF3D7_1340700_24HR_DHA  PF3D7_1340700_24HR_UT  \\\n",
       "isolate_31               -0.083810              -0.237601   \n",
       "isolate_32               -0.100321              -0.315922   \n",
       "isolate_33               -0.306169              -0.196336   \n",
       "isolate_34                0.108025              -0.107807   \n",
       "isolate_35               -0.383524              -0.542011   \n",
       "\n",
       "            PF3D7_1340700_6HR_DHA  PF3D7_1340700_6HR_UT  \\\n",
       "isolate_31              -0.393627              0.157657   \n",
       "isolate_32              -0.205521             -0.549832   \n",
       "isolate_33              -0.129218             -0.254396   \n",
       "isolate_34              -0.210586             -0.346967   \n",
       "isolate_35              -0.383707             -0.488203   \n",
       "\n",
       "            PF3D7_1246100_24HR_DHA  PF3D7_1246100_24HR_UT  \\\n",
       "isolate_31                1.241742               0.892842   \n",
       "isolate_32                0.499754               1.074672   \n",
       "isolate_33                1.711083               0.716859   \n",
       "isolate_34                0.856864               0.916836   \n",
       "isolate_35                1.240874               0.366477   \n",
       "\n",
       "            PF3D7_1246100_6HR_DHA  PF3D7_1246100_6HR_UT  \\\n",
       "isolate_31               0.944031              1.185809   \n",
       "isolate_32               0.484960              1.243588   \n",
       "isolate_33               0.887892              1.320313   \n",
       "isolate_34               0.771997              1.151976   \n",
       "isolate_35               0.248377              0.872176   \n",
       "\n",
       "            PF3D7_0106800_24HR_DHA  PF3D7_0106800_24HR_UT  ...  \\\n",
       "isolate_31               -0.584764              -1.392044  ...   \n",
       "isolate_32               -0.369133               0.305464  ...   \n",
       "isolate_33                0.176647              -1.046201  ...   \n",
       "isolate_34                0.257807               0.219475  ...   \n",
       "isolate_35               -0.288073               0.539267  ...   \n",
       "\n",
       "            PF3D7_0626800_DHA_UT_6HR  PF3D7_0626800_DHA_UT_24HR  \\\n",
       "isolate_31                 -1.183098                   0.495186   \n",
       "isolate_32                  0.529374                   0.228348   \n",
       "isolate_33                  0.592113                   0.538705   \n",
       "isolate_34                 -0.041319                   0.201217   \n",
       "isolate_35                  1.450840                  -0.549614   \n",
       "\n",
       "            PF3D7_1457000_24HR_6HR_DHA  PF3D7_1457000_24_6HR_UT  \\\n",
       "isolate_31                    0.059165                -0.586973   \n",
       "isolate_32                   -0.479942                -0.070097   \n",
       "isolate_33                    0.148453                -0.215818   \n",
       "isolate_34                    0.477662                -0.799427   \n",
       "isolate_35                   -0.840660                 1.094264   \n",
       "\n",
       "            PF3D7_1457000_DHA_UT_6HR  PF3D7_1457000_DHA_UT_24HR  \\\n",
       "isolate_31                 -0.565675                   0.080463   \n",
       "isolate_32                  0.490606                   0.080761   \n",
       "isolate_33                 -0.019406                   0.344865   \n",
       "isolate_34                 -1.046440                   0.230649   \n",
       "isolate_35                  1.443738                  -0.491185   \n",
       "\n",
       "            PF3D7_1361800_24HR_6HR_DHA  PF3D7_1361800_24_6HR_UT  \\\n",
       "isolate_31                   -0.555443                 0.797244   \n",
       "isolate_32                    0.248413                -1.265139   \n",
       "isolate_33                   -0.061137                -0.450015   \n",
       "isolate_34                   -0.277628                 0.877974   \n",
       "isolate_35                    1.181817                -0.896510   \n",
       "\n",
       "            PF3D7_1361800_DHA_UT_6HR  PF3D7_1361800_DHA_UT_24HR  \n",
       "isolate_31                  0.992569                  -0.360118  \n",
       "isolate_32                 -1.552093                  -0.038541  \n",
       "isolate_33                 -0.265031                   0.123846  \n",
       "isolate_34                  1.153233                  -0.002368  \n",
       "isolate_35                 -2.229431                  -0.151104  \n",
       "\n",
       "[5 rows x 3848 columns]"
      ]
     },
     "execution_count": 134,
     "metadata": {},
     "output_type": "execute_result"
    }
   ],
   "source": [
    "test.head()"
   ]
  },
  {
   "cell_type": "markdown",
   "metadata": {},
   "source": [
    "### 7.2 Make the IC50 predictions"
   ]
  },
  {
   "cell_type": "code",
   "execution_count": 135,
   "metadata": {},
   "outputs": [],
   "source": [
    "#Load the model\n",
    "model_load = joblib.load('../models/model2_220719.pkl') "
   ]
  },
  {
   "cell_type": "code",
   "execution_count": 136,
   "metadata": {},
   "outputs": [
    {
     "data": {
      "text/html": [
       "<div>\n",
       "<style scoped>\n",
       "    .dataframe tbody tr th:only-of-type {\n",
       "        vertical-align: middle;\n",
       "    }\n",
       "\n",
       "    .dataframe tbody tr th {\n",
       "        vertical-align: top;\n",
       "    }\n",
       "\n",
       "    .dataframe thead th {\n",
       "        text-align: right;\n",
       "    }\n",
       "</style>\n",
       "<table border=\"1\" class=\"dataframe\">\n",
       "  <thead>\n",
       "    <tr style=\"text-align: right;\">\n",
       "      <th></th>\n",
       "      <th>PF3D7_1340700_24HR_DHA</th>\n",
       "      <th>PF3D7_1340700_24HR_UT</th>\n",
       "      <th>PF3D7_1340700_6HR_DHA</th>\n",
       "      <th>PF3D7_1340700_6HR_UT</th>\n",
       "      <th>PF3D7_1246100_24HR_DHA</th>\n",
       "      <th>PF3D7_1246100_24HR_UT</th>\n",
       "      <th>PF3D7_1246100_6HR_DHA</th>\n",
       "      <th>PF3D7_1246100_6HR_UT</th>\n",
       "      <th>PF3D7_0106800_24HR_DHA</th>\n",
       "      <th>PF3D7_0106800_24HR_UT</th>\n",
       "      <th>...</th>\n",
       "      <th>PF3D7_0626800_DHA_UT_6HR</th>\n",
       "      <th>PF3D7_0626800_DHA_UT_24HR</th>\n",
       "      <th>PF3D7_1457000_24HR_6HR_DHA</th>\n",
       "      <th>PF3D7_1457000_24_6HR_UT</th>\n",
       "      <th>PF3D7_1457000_DHA_UT_6HR</th>\n",
       "      <th>PF3D7_1457000_DHA_UT_24HR</th>\n",
       "      <th>PF3D7_1361800_24HR_6HR_DHA</th>\n",
       "      <th>PF3D7_1361800_24_6HR_UT</th>\n",
       "      <th>PF3D7_1361800_DHA_UT_6HR</th>\n",
       "      <th>PF3D7_1361800_DHA_UT_24HR</th>\n",
       "    </tr>\n",
       "  </thead>\n",
       "  <tbody>\n",
       "    <tr>\n",
       "      <th>isolate_31</th>\n",
       "      <td>-0.083810</td>\n",
       "      <td>-0.237601</td>\n",
       "      <td>-0.393627</td>\n",
       "      <td>0.157657</td>\n",
       "      <td>1.241742</td>\n",
       "      <td>0.892842</td>\n",
       "      <td>0.944031</td>\n",
       "      <td>1.185809</td>\n",
       "      <td>-0.584764</td>\n",
       "      <td>-1.392044</td>\n",
       "      <td>...</td>\n",
       "      <td>-1.183098</td>\n",
       "      <td>0.495186</td>\n",
       "      <td>0.059165</td>\n",
       "      <td>-0.586973</td>\n",
       "      <td>-0.565675</td>\n",
       "      <td>0.080463</td>\n",
       "      <td>-0.555443</td>\n",
       "      <td>0.797244</td>\n",
       "      <td>0.992569</td>\n",
       "      <td>-0.360118</td>\n",
       "    </tr>\n",
       "    <tr>\n",
       "      <th>isolate_32</th>\n",
       "      <td>-0.100321</td>\n",
       "      <td>-0.315922</td>\n",
       "      <td>-0.205521</td>\n",
       "      <td>-0.549832</td>\n",
       "      <td>0.499754</td>\n",
       "      <td>1.074672</td>\n",
       "      <td>0.484960</td>\n",
       "      <td>1.243588</td>\n",
       "      <td>-0.369133</td>\n",
       "      <td>0.305464</td>\n",
       "      <td>...</td>\n",
       "      <td>0.529374</td>\n",
       "      <td>0.228348</td>\n",
       "      <td>-0.479942</td>\n",
       "      <td>-0.070097</td>\n",
       "      <td>0.490606</td>\n",
       "      <td>0.080761</td>\n",
       "      <td>0.248413</td>\n",
       "      <td>-1.265139</td>\n",
       "      <td>-1.552093</td>\n",
       "      <td>-0.038541</td>\n",
       "    </tr>\n",
       "    <tr>\n",
       "      <th>isolate_33</th>\n",
       "      <td>-0.306169</td>\n",
       "      <td>-0.196336</td>\n",
       "      <td>-0.129218</td>\n",
       "      <td>-0.254396</td>\n",
       "      <td>1.711083</td>\n",
       "      <td>0.716859</td>\n",
       "      <td>0.887892</td>\n",
       "      <td>1.320313</td>\n",
       "      <td>0.176647</td>\n",
       "      <td>-1.046201</td>\n",
       "      <td>...</td>\n",
       "      <td>0.592113</td>\n",
       "      <td>0.538705</td>\n",
       "      <td>0.148453</td>\n",
       "      <td>-0.215818</td>\n",
       "      <td>-0.019406</td>\n",
       "      <td>0.344865</td>\n",
       "      <td>-0.061137</td>\n",
       "      <td>-0.450015</td>\n",
       "      <td>-0.265031</td>\n",
       "      <td>0.123846</td>\n",
       "    </tr>\n",
       "    <tr>\n",
       "      <th>isolate_34</th>\n",
       "      <td>0.108025</td>\n",
       "      <td>-0.107807</td>\n",
       "      <td>-0.210586</td>\n",
       "      <td>-0.346967</td>\n",
       "      <td>0.856864</td>\n",
       "      <td>0.916836</td>\n",
       "      <td>0.771997</td>\n",
       "      <td>1.151976</td>\n",
       "      <td>0.257807</td>\n",
       "      <td>0.219475</td>\n",
       "      <td>...</td>\n",
       "      <td>-0.041319</td>\n",
       "      <td>0.201217</td>\n",
       "      <td>0.477662</td>\n",
       "      <td>-0.799427</td>\n",
       "      <td>-1.046440</td>\n",
       "      <td>0.230649</td>\n",
       "      <td>-0.277628</td>\n",
       "      <td>0.877974</td>\n",
       "      <td>1.153233</td>\n",
       "      <td>-0.002368</td>\n",
       "    </tr>\n",
       "    <tr>\n",
       "      <th>isolate_35</th>\n",
       "      <td>-0.383524</td>\n",
       "      <td>-0.542011</td>\n",
       "      <td>-0.383707</td>\n",
       "      <td>-0.488203</td>\n",
       "      <td>1.240874</td>\n",
       "      <td>0.366477</td>\n",
       "      <td>0.248377</td>\n",
       "      <td>0.872176</td>\n",
       "      <td>-0.288073</td>\n",
       "      <td>0.539267</td>\n",
       "      <td>...</td>\n",
       "      <td>1.450840</td>\n",
       "      <td>-0.549614</td>\n",
       "      <td>-0.840660</td>\n",
       "      <td>1.094264</td>\n",
       "      <td>1.443738</td>\n",
       "      <td>-0.491185</td>\n",
       "      <td>1.181817</td>\n",
       "      <td>-0.896510</td>\n",
       "      <td>-2.229431</td>\n",
       "      <td>-0.151104</td>\n",
       "    </tr>\n",
       "  </tbody>\n",
       "</table>\n",
       "<p>5 rows × 3848 columns</p>\n",
       "</div>"
      ],
      "text/plain": [
       "            PF3D7_1340700_24HR_DHA  PF3D7_1340700_24HR_UT  \\\n",
       "isolate_31               -0.083810              -0.237601   \n",
       "isolate_32               -0.100321              -0.315922   \n",
       "isolate_33               -0.306169              -0.196336   \n",
       "isolate_34                0.108025              -0.107807   \n",
       "isolate_35               -0.383524              -0.542011   \n",
       "\n",
       "            PF3D7_1340700_6HR_DHA  PF3D7_1340700_6HR_UT  \\\n",
       "isolate_31              -0.393627              0.157657   \n",
       "isolate_32              -0.205521             -0.549832   \n",
       "isolate_33              -0.129218             -0.254396   \n",
       "isolate_34              -0.210586             -0.346967   \n",
       "isolate_35              -0.383707             -0.488203   \n",
       "\n",
       "            PF3D7_1246100_24HR_DHA  PF3D7_1246100_24HR_UT  \\\n",
       "isolate_31                1.241742               0.892842   \n",
       "isolate_32                0.499754               1.074672   \n",
       "isolate_33                1.711083               0.716859   \n",
       "isolate_34                0.856864               0.916836   \n",
       "isolate_35                1.240874               0.366477   \n",
       "\n",
       "            PF3D7_1246100_6HR_DHA  PF3D7_1246100_6HR_UT  \\\n",
       "isolate_31               0.944031              1.185809   \n",
       "isolate_32               0.484960              1.243588   \n",
       "isolate_33               0.887892              1.320313   \n",
       "isolate_34               0.771997              1.151976   \n",
       "isolate_35               0.248377              0.872176   \n",
       "\n",
       "            PF3D7_0106800_24HR_DHA  PF3D7_0106800_24HR_UT  ...  \\\n",
       "isolate_31               -0.584764              -1.392044  ...   \n",
       "isolate_32               -0.369133               0.305464  ...   \n",
       "isolate_33                0.176647              -1.046201  ...   \n",
       "isolate_34                0.257807               0.219475  ...   \n",
       "isolate_35               -0.288073               0.539267  ...   \n",
       "\n",
       "            PF3D7_0626800_DHA_UT_6HR  PF3D7_0626800_DHA_UT_24HR  \\\n",
       "isolate_31                 -1.183098                   0.495186   \n",
       "isolate_32                  0.529374                   0.228348   \n",
       "isolate_33                  0.592113                   0.538705   \n",
       "isolate_34                 -0.041319                   0.201217   \n",
       "isolate_35                  1.450840                  -0.549614   \n",
       "\n",
       "            PF3D7_1457000_24HR_6HR_DHA  PF3D7_1457000_24_6HR_UT  \\\n",
       "isolate_31                    0.059165                -0.586973   \n",
       "isolate_32                   -0.479942                -0.070097   \n",
       "isolate_33                    0.148453                -0.215818   \n",
       "isolate_34                    0.477662                -0.799427   \n",
       "isolate_35                   -0.840660                 1.094264   \n",
       "\n",
       "            PF3D7_1457000_DHA_UT_6HR  PF3D7_1457000_DHA_UT_24HR  \\\n",
       "isolate_31                 -0.565675                   0.080463   \n",
       "isolate_32                  0.490606                   0.080761   \n",
       "isolate_33                 -0.019406                   0.344865   \n",
       "isolate_34                 -1.046440                   0.230649   \n",
       "isolate_35                  1.443738                  -0.491185   \n",
       "\n",
       "            PF3D7_1361800_24HR_6HR_DHA  PF3D7_1361800_24_6HR_UT  \\\n",
       "isolate_31                   -0.555443                 0.797244   \n",
       "isolate_32                    0.248413                -1.265139   \n",
       "isolate_33                   -0.061137                -0.450015   \n",
       "isolate_34                   -0.277628                 0.877974   \n",
       "isolate_35                    1.181817                -0.896510   \n",
       "\n",
       "            PF3D7_1361800_DHA_UT_6HR  PF3D7_1361800_DHA_UT_24HR  \n",
       "isolate_31                  0.992569                  -0.360118  \n",
       "isolate_32                 -1.552093                  -0.038541  \n",
       "isolate_33                 -0.265031                   0.123846  \n",
       "isolate_34                  1.153233                  -0.002368  \n",
       "isolate_35                 -2.229431                  -0.151104  \n",
       "\n",
       "[5 rows x 3848 columns]"
      ]
     },
     "execution_count": 136,
     "metadata": {},
     "output_type": "execute_result"
    }
   ],
   "source": [
    "X_test=test\n",
    "X_test.head()"
   ]
  },
  {
   "cell_type": "code",
   "execution_count": 150,
   "metadata": {},
   "outputs": [],
   "source": [
    "IC50_pred=model_load.predict(X_test)"
   ]
  },
  {
   "cell_type": "markdown",
   "metadata": {},
   "source": [
    "### 7.3 Format the predictions for submission"
   ]
  },
  {
   "cell_type": "code",
   "execution_count": 154,
   "metadata": {},
   "outputs": [],
   "source": [
    "temp_list=[]\n",
    "for value in IC50_pred:\n",
    "    temp_list.append(value[0])\n",
    "IC50_pred=temp_list"
   ]
  },
  {
   "cell_type": "code",
   "execution_count": 155,
   "metadata": {},
   "outputs": [],
   "source": [
    "submission=pd.DataFrame({'Isolate':isolates_list_test,'Predicted_IC50':IC50_pred})"
   ]
  },
  {
   "cell_type": "code",
   "execution_count": 156,
   "metadata": {
    "scrolled": true
   },
   "outputs": [
    {
     "data": {
      "text/html": [
       "<div>\n",
       "<style scoped>\n",
       "    .dataframe tbody tr th:only-of-type {\n",
       "        vertical-align: middle;\n",
       "    }\n",
       "\n",
       "    .dataframe tbody tr th {\n",
       "        vertical-align: top;\n",
       "    }\n",
       "\n",
       "    .dataframe thead th {\n",
       "        text-align: right;\n",
       "    }\n",
       "</style>\n",
       "<table border=\"1\" class=\"dataframe\">\n",
       "  <thead>\n",
       "    <tr style=\"text-align: right;\">\n",
       "      <th></th>\n",
       "      <th>Isolate</th>\n",
       "      <th>Predicted_IC50</th>\n",
       "    </tr>\n",
       "  </thead>\n",
       "  <tbody>\n",
       "    <tr>\n",
       "      <th>0</th>\n",
       "      <td>isolate_31</td>\n",
       "      <td>1.963126</td>\n",
       "    </tr>\n",
       "    <tr>\n",
       "      <th>1</th>\n",
       "      <td>isolate_32</td>\n",
       "      <td>1.476340</td>\n",
       "    </tr>\n",
       "    <tr>\n",
       "      <th>2</th>\n",
       "      <td>isolate_33</td>\n",
       "      <td>1.001944</td>\n",
       "    </tr>\n",
       "    <tr>\n",
       "      <th>3</th>\n",
       "      <td>isolate_34</td>\n",
       "      <td>2.349245</td>\n",
       "    </tr>\n",
       "    <tr>\n",
       "      <th>4</th>\n",
       "      <td>isolate_35</td>\n",
       "      <td>0.566230</td>\n",
       "    </tr>\n",
       "  </tbody>\n",
       "</table>\n",
       "</div>"
      ],
      "text/plain": [
       "      Isolate  Predicted_IC50\n",
       "0  isolate_31        1.963126\n",
       "1  isolate_32        1.476340\n",
       "2  isolate_33        1.001944\n",
       "3  isolate_34        2.349245\n",
       "4  isolate_35        0.566230"
      ]
     },
     "execution_count": 156,
     "metadata": {},
     "output_type": "execute_result"
    }
   ],
   "source": [
    "submission.head()"
   ]
  },
  {
   "cell_type": "markdown",
   "metadata": {},
   "source": [
    "### 3.3 Save submissions to file"
   ]
  },
  {
   "cell_type": "code",
   "execution_count": 157,
   "metadata": {},
   "outputs": [],
   "source": [
    "submission.to_csv('../submissions/lylat_SubCh1_model2_220719.txt', sep='\\t',index=None)"
   ]
  },
  {
   "cell_type": "markdown",
   "metadata": {},
   "source": [
    "# 8. Train models using LARS\n",
    "\n",
    "Train the data that has all the genes as pre-prossed in section 5.1 for the **data_explore** notebook"
   ]
  },
  {
   "cell_type": "code",
   "execution_count": 50,
   "metadata": {},
   "outputs": [],
   "source": [
    "Alltrain=pd.read_csv('../data/flat_Alltrain.csv', index_col=0 )\n",
    "Alltest=pd.read_csv('../data/flat_Alltest.csv', index_col=0 )\n",
    "IC50=pd.read_csv('../data/flat_IC50.csv',index_col=0)"
   ]
  },
  {
   "cell_type": "code",
   "execution_count": 4,
   "metadata": {},
   "outputs": [],
   "source": [
    "reg = linear_model.Lars(n_nonzero_coefs=1)"
   ]
  },
  {
   "cell_type": "code",
   "execution_count": 51,
   "metadata": {},
   "outputs": [],
   "source": [
    "X=Alltrain.values\n",
    "y=[v[0] for v in IC50.values]"
   ]
  },
  {
   "cell_type": "code",
   "execution_count": 6,
   "metadata": {},
   "outputs": [
    {
     "data": {
      "text/plain": [
       "Lars(copy_X=True, eps=2.220446049250313e-16, fit_intercept=True,\n",
       "   fit_path=True, n_nonzero_coefs=1, normalize=True, positive=False,\n",
       "   precompute='auto', verbose=False)"
      ]
     },
     "execution_count": 6,
     "metadata": {},
     "output_type": "execute_result"
    }
   ],
   "source": [
    "reg.fit(X,y)"
   ]
  },
  {
   "cell_type": "code",
   "execution_count": 11,
   "metadata": {},
   "outputs": [
    {
     "data": {
      "text/plain": [
       "['../models/model3_140819.pkl']"
      ]
     },
     "execution_count": 11,
     "metadata": {},
     "output_type": "execute_result"
    }
   ],
   "source": [
    "from sklearn.externals import joblib\n",
    "# Output a pickle file for the model\n",
    "joblib.dump(reg, '../models/model3_140819.pkl') "
   ]
  },
  {
   "cell_type": "markdown",
   "metadata": {},
   "source": [
    "### 8.1 Use the model3 on the test data\n",
    "\n",
    "Use Test data that has all the genes as pre-prossed in section 5.2 for the **data_explore** notebook"
   ]
  },
  {
   "cell_type": "code",
   "execution_count": 9,
   "metadata": {
    "scrolled": false
   },
   "outputs": [
    {
     "data": {
      "text/html": [
       "<div>\n",
       "<style scoped>\n",
       "    .dataframe tbody tr th:only-of-type {\n",
       "        vertical-align: middle;\n",
       "    }\n",
       "\n",
       "    .dataframe tbody tr th {\n",
       "        vertical-align: top;\n",
       "    }\n",
       "\n",
       "    .dataframe thead th {\n",
       "        text-align: right;\n",
       "    }\n",
       "</style>\n",
       "<table border=\"1\" class=\"dataframe\">\n",
       "  <thead>\n",
       "    <tr style=\"text-align: right;\">\n",
       "      <th></th>\n",
       "      <th>MAL1.465720.465873.bc..rv.._24HR_DHA</th>\n",
       "      <th>MAL1.465720.465873.bc..rv.._24HR_UT</th>\n",
       "      <th>MAL1.465720.465873.bc..rv.._6HR_DHA</th>\n",
       "      <th>MAL1.465720.465873.bc..rv.._6HR_UT</th>\n",
       "      <th>MAL1.48287.48430....kr...can_24HR_DHA</th>\n",
       "      <th>MAL1.48287.48430....kr...can_24HR_UT</th>\n",
       "      <th>MAL1.48287.48430....kr...can_6HR_DHA</th>\n",
       "      <th>MAL1.48287.48430....kr...can_6HR_UT</th>\n",
       "      <th>MAL1.562126.562246.bc..r..._24HR_DHA</th>\n",
       "      <th>MAL1.562126.562246.bc..r..._24HR_UT</th>\n",
       "      <th>...</th>\n",
       "      <th>PF3D7_1479900_6HR_DHA</th>\n",
       "      <th>PF3D7_1479900_6HR_UT</th>\n",
       "      <th>PF3D7_1480000_24HR_DHA</th>\n",
       "      <th>PF3D7_1480000_24HR_UT</th>\n",
       "      <th>PF3D7_1480000_6HR_DHA</th>\n",
       "      <th>PF3D7_1480000_6HR_UT</th>\n",
       "      <th>PF3D7_1480100_24HR_DHA</th>\n",
       "      <th>PF3D7_1480100_24HR_UT</th>\n",
       "      <th>PF3D7_1480100_6HR_DHA</th>\n",
       "      <th>PF3D7_1480100_6HR_UT</th>\n",
       "    </tr>\n",
       "  </thead>\n",
       "  <tbody>\n",
       "    <tr>\n",
       "      <th>isolate_31</th>\n",
       "      <td>0.331889</td>\n",
       "      <td>0.384609</td>\n",
       "      <td>0.127538</td>\n",
       "      <td>0.770151</td>\n",
       "      <td>-2.240666</td>\n",
       "      <td>-1.148180</td>\n",
       "      <td>-1.429485</td>\n",
       "      <td>-1.250674</td>\n",
       "      <td>-1.374813</td>\n",
       "      <td>-0.415748</td>\n",
       "      <td>...</td>\n",
       "      <td>-1.587528</td>\n",
       "      <td>-1.321217</td>\n",
       "      <td>-4.372933</td>\n",
       "      <td>-5.052881</td>\n",
       "      <td>-4.948757</td>\n",
       "      <td>-4.029268</td>\n",
       "      <td>-1.714546</td>\n",
       "      <td>-1.106747</td>\n",
       "      <td>-1.524659</td>\n",
       "      <td>-2.091407</td>\n",
       "    </tr>\n",
       "    <tr>\n",
       "      <th>isolate_32</th>\n",
       "      <td>0.292870</td>\n",
       "      <td>0.212604</td>\n",
       "      <td>0.488279</td>\n",
       "      <td>-0.270898</td>\n",
       "      <td>-1.708955</td>\n",
       "      <td>-1.877999</td>\n",
       "      <td>-1.579333</td>\n",
       "      <td>-0.894499</td>\n",
       "      <td>-1.075350</td>\n",
       "      <td>-1.759377</td>\n",
       "      <td>...</td>\n",
       "      <td>-1.536142</td>\n",
       "      <td>-1.653011</td>\n",
       "      <td>-4.991477</td>\n",
       "      <td>-4.190220</td>\n",
       "      <td>-4.295806</td>\n",
       "      <td>-4.647708</td>\n",
       "      <td>-2.409299</td>\n",
       "      <td>-2.240881</td>\n",
       "      <td>-2.134556</td>\n",
       "      <td>-0.594054</td>\n",
       "    </tr>\n",
       "    <tr>\n",
       "      <th>isolate_33</th>\n",
       "      <td>0.302845</td>\n",
       "      <td>-0.373568</td>\n",
       "      <td>-0.022357</td>\n",
       "      <td>0.356370</td>\n",
       "      <td>-1.573917</td>\n",
       "      <td>-1.747897</td>\n",
       "      <td>-1.292145</td>\n",
       "      <td>-1.916230</td>\n",
       "      <td>-1.283210</td>\n",
       "      <td>-0.042734</td>\n",
       "      <td>...</td>\n",
       "      <td>-2.008126</td>\n",
       "      <td>-1.283603</td>\n",
       "      <td>-4.789230</td>\n",
       "      <td>-4.215403</td>\n",
       "      <td>-4.265268</td>\n",
       "      <td>-3.698062</td>\n",
       "      <td>-2.349921</td>\n",
       "      <td>-0.950303</td>\n",
       "      <td>-1.778473</td>\n",
       "      <td>-0.490212</td>\n",
       "    </tr>\n",
       "    <tr>\n",
       "      <th>isolate_34</th>\n",
       "      <td>0.138070</td>\n",
       "      <td>0.352066</td>\n",
       "      <td>-0.304539</td>\n",
       "      <td>0.411080</td>\n",
       "      <td>-2.104094</td>\n",
       "      <td>-1.905021</td>\n",
       "      <td>-1.757525</td>\n",
       "      <td>-1.927857</td>\n",
       "      <td>-1.267395</td>\n",
       "      <td>-1.527366</td>\n",
       "      <td>...</td>\n",
       "      <td>-1.289212</td>\n",
       "      <td>-2.489302</td>\n",
       "      <td>-3.553589</td>\n",
       "      <td>-3.480636</td>\n",
       "      <td>-5.401736</td>\n",
       "      <td>-4.154778</td>\n",
       "      <td>-1.451041</td>\n",
       "      <td>-1.425710</td>\n",
       "      <td>-0.562436</td>\n",
       "      <td>-1.825506</td>\n",
       "    </tr>\n",
       "    <tr>\n",
       "      <th>isolate_35</th>\n",
       "      <td>0.317207</td>\n",
       "      <td>0.379982</td>\n",
       "      <td>0.612449</td>\n",
       "      <td>-0.338538</td>\n",
       "      <td>-1.397006</td>\n",
       "      <td>-1.509501</td>\n",
       "      <td>-2.228005</td>\n",
       "      <td>-1.759452</td>\n",
       "      <td>-1.095190</td>\n",
       "      <td>-1.678029</td>\n",
       "      <td>...</td>\n",
       "      <td>-2.643800</td>\n",
       "      <td>-1.427714</td>\n",
       "      <td>-3.432687</td>\n",
       "      <td>-5.218094</td>\n",
       "      <td>-4.269741</td>\n",
       "      <td>-4.324910</td>\n",
       "      <td>-1.446432</td>\n",
       "      <td>-2.176601</td>\n",
       "      <td>-2.230341</td>\n",
       "      <td>-2.021473</td>\n",
       "    </tr>\n",
       "  </tbody>\n",
       "</table>\n",
       "<p>5 rows × 22160 columns</p>\n",
       "</div>"
      ],
      "text/plain": [
       "            MAL1.465720.465873.bc..rv.._24HR_DHA  \\\n",
       "isolate_31                              0.331889   \n",
       "isolate_32                              0.292870   \n",
       "isolate_33                              0.302845   \n",
       "isolate_34                              0.138070   \n",
       "isolate_35                              0.317207   \n",
       "\n",
       "            MAL1.465720.465873.bc..rv.._24HR_UT  \\\n",
       "isolate_31                             0.384609   \n",
       "isolate_32                             0.212604   \n",
       "isolate_33                            -0.373568   \n",
       "isolate_34                             0.352066   \n",
       "isolate_35                             0.379982   \n",
       "\n",
       "            MAL1.465720.465873.bc..rv.._6HR_DHA  \\\n",
       "isolate_31                             0.127538   \n",
       "isolate_32                             0.488279   \n",
       "isolate_33                            -0.022357   \n",
       "isolate_34                            -0.304539   \n",
       "isolate_35                             0.612449   \n",
       "\n",
       "            MAL1.465720.465873.bc..rv.._6HR_UT  \\\n",
       "isolate_31                            0.770151   \n",
       "isolate_32                           -0.270898   \n",
       "isolate_33                            0.356370   \n",
       "isolate_34                            0.411080   \n",
       "isolate_35                           -0.338538   \n",
       "\n",
       "            MAL1.48287.48430....kr...can_24HR_DHA  \\\n",
       "isolate_31                              -2.240666   \n",
       "isolate_32                              -1.708955   \n",
       "isolate_33                              -1.573917   \n",
       "isolate_34                              -2.104094   \n",
       "isolate_35                              -1.397006   \n",
       "\n",
       "            MAL1.48287.48430....kr...can_24HR_UT  \\\n",
       "isolate_31                             -1.148180   \n",
       "isolate_32                             -1.877999   \n",
       "isolate_33                             -1.747897   \n",
       "isolate_34                             -1.905021   \n",
       "isolate_35                             -1.509501   \n",
       "\n",
       "            MAL1.48287.48430....kr...can_6HR_DHA  \\\n",
       "isolate_31                             -1.429485   \n",
       "isolate_32                             -1.579333   \n",
       "isolate_33                             -1.292145   \n",
       "isolate_34                             -1.757525   \n",
       "isolate_35                             -2.228005   \n",
       "\n",
       "            MAL1.48287.48430....kr...can_6HR_UT  \\\n",
       "isolate_31                            -1.250674   \n",
       "isolate_32                            -0.894499   \n",
       "isolate_33                            -1.916230   \n",
       "isolate_34                            -1.927857   \n",
       "isolate_35                            -1.759452   \n",
       "\n",
       "            MAL1.562126.562246.bc..r..._24HR_DHA  \\\n",
       "isolate_31                             -1.374813   \n",
       "isolate_32                             -1.075350   \n",
       "isolate_33                             -1.283210   \n",
       "isolate_34                             -1.267395   \n",
       "isolate_35                             -1.095190   \n",
       "\n",
       "            MAL1.562126.562246.bc..r..._24HR_UT  ...  PF3D7_1479900_6HR_DHA  \\\n",
       "isolate_31                            -0.415748  ...              -1.587528   \n",
       "isolate_32                            -1.759377  ...              -1.536142   \n",
       "isolate_33                            -0.042734  ...              -2.008126   \n",
       "isolate_34                            -1.527366  ...              -1.289212   \n",
       "isolate_35                            -1.678029  ...              -2.643800   \n",
       "\n",
       "            PF3D7_1479900_6HR_UT  PF3D7_1480000_24HR_DHA  \\\n",
       "isolate_31             -1.321217               -4.372933   \n",
       "isolate_32             -1.653011               -4.991477   \n",
       "isolate_33             -1.283603               -4.789230   \n",
       "isolate_34             -2.489302               -3.553589   \n",
       "isolate_35             -1.427714               -3.432687   \n",
       "\n",
       "            PF3D7_1480000_24HR_UT  PF3D7_1480000_6HR_DHA  \\\n",
       "isolate_31              -5.052881              -4.948757   \n",
       "isolate_32              -4.190220              -4.295806   \n",
       "isolate_33              -4.215403              -4.265268   \n",
       "isolate_34              -3.480636              -5.401736   \n",
       "isolate_35              -5.218094              -4.269741   \n",
       "\n",
       "            PF3D7_1480000_6HR_UT  PF3D7_1480100_24HR_DHA  \\\n",
       "isolate_31             -4.029268               -1.714546   \n",
       "isolate_32             -4.647708               -2.409299   \n",
       "isolate_33             -3.698062               -2.349921   \n",
       "isolate_34             -4.154778               -1.451041   \n",
       "isolate_35             -4.324910               -1.446432   \n",
       "\n",
       "            PF3D7_1480100_24HR_UT  PF3D7_1480100_6HR_DHA  PF3D7_1480100_6HR_UT  \n",
       "isolate_31              -1.106747              -1.524659             -2.091407  \n",
       "isolate_32              -2.240881              -2.134556             -0.594054  \n",
       "isolate_33              -0.950303              -1.778473             -0.490212  \n",
       "isolate_34              -1.425710              -0.562436             -1.825506  \n",
       "isolate_35              -2.176601              -2.230341             -2.021473  \n",
       "\n",
       "[5 rows x 22160 columns]"
      ]
     },
     "execution_count": 9,
     "metadata": {},
     "output_type": "execute_result"
    }
   ],
   "source": [
    "Alltest.head()"
   ]
  },
  {
   "cell_type": "markdown",
   "metadata": {},
   "source": [
    "### 8.2 Make the IC50 predictions"
   ]
  },
  {
   "cell_type": "code",
   "execution_count": 12,
   "metadata": {},
   "outputs": [],
   "source": [
    "#Load the model\n",
    "model_load = joblib.load('../models/model3_140819.pkl') "
   ]
  },
  {
   "cell_type": "code",
   "execution_count": 13,
   "metadata": {},
   "outputs": [],
   "source": [
    "X_test=Alltest.values"
   ]
  },
  {
   "cell_type": "code",
   "execution_count": 14,
   "metadata": {},
   "outputs": [],
   "source": [
    "IC50_pred=model_load.predict(X_test)"
   ]
  },
  {
   "cell_type": "code",
   "execution_count": 15,
   "metadata": {},
   "outputs": [
    {
     "data": {
      "text/html": [
       "<div>\n",
       "<style scoped>\n",
       "    .dataframe tbody tr th:only-of-type {\n",
       "        vertical-align: middle;\n",
       "    }\n",
       "\n",
       "    .dataframe tbody tr th {\n",
       "        vertical-align: top;\n",
       "    }\n",
       "\n",
       "    .dataframe thead th {\n",
       "        text-align: right;\n",
       "    }\n",
       "</style>\n",
       "<table border=\"1\" class=\"dataframe\">\n",
       "  <thead>\n",
       "    <tr style=\"text-align: right;\">\n",
       "      <th></th>\n",
       "      <th>DHA_IC50</th>\n",
       "    </tr>\n",
       "  </thead>\n",
       "  <tbody>\n",
       "    <tr>\n",
       "      <th>isolate_01</th>\n",
       "      <td>2.1770</td>\n",
       "    </tr>\n",
       "    <tr>\n",
       "      <th>isolate_02</th>\n",
       "      <td>1.6970</td>\n",
       "    </tr>\n",
       "    <tr>\n",
       "      <th>isolate_03</th>\n",
       "      <td>1.7990</td>\n",
       "    </tr>\n",
       "    <tr>\n",
       "      <th>isolate_04</th>\n",
       "      <td>0.7100</td>\n",
       "    </tr>\n",
       "    <tr>\n",
       "      <th>isolate_05</th>\n",
       "      <td>2.0250</td>\n",
       "    </tr>\n",
       "    <tr>\n",
       "      <th>isolate_06</th>\n",
       "      <td>1.3670</td>\n",
       "    </tr>\n",
       "    <tr>\n",
       "      <th>isolate_07</th>\n",
       "      <td>0.8567</td>\n",
       "    </tr>\n",
       "    <tr>\n",
       "      <th>isolate_08</th>\n",
       "      <td>3.4600</td>\n",
       "    </tr>\n",
       "    <tr>\n",
       "      <th>isolate_09</th>\n",
       "      <td>1.7650</td>\n",
       "    </tr>\n",
       "    <tr>\n",
       "      <th>isolate_10</th>\n",
       "      <td>1.7540</td>\n",
       "    </tr>\n",
       "    <tr>\n",
       "      <th>isolate_11</th>\n",
       "      <td>1.8200</td>\n",
       "    </tr>\n",
       "    <tr>\n",
       "      <th>isolate_12</th>\n",
       "      <td>1.5170</td>\n",
       "    </tr>\n",
       "    <tr>\n",
       "      <th>isolate_13</th>\n",
       "      <td>1.7230</td>\n",
       "    </tr>\n",
       "    <tr>\n",
       "      <th>isolate_14</th>\n",
       "      <td>1.4700</td>\n",
       "    </tr>\n",
       "    <tr>\n",
       "      <th>isolate_15</th>\n",
       "      <td>0.6933</td>\n",
       "    </tr>\n",
       "    <tr>\n",
       "      <th>isolate_16</th>\n",
       "      <td>2.2100</td>\n",
       "    </tr>\n",
       "    <tr>\n",
       "      <th>isolate_17</th>\n",
       "      <td>0.7200</td>\n",
       "    </tr>\n",
       "    <tr>\n",
       "      <th>isolate_18</th>\n",
       "      <td>1.6470</td>\n",
       "    </tr>\n",
       "    <tr>\n",
       "      <th>isolate_19</th>\n",
       "      <td>1.9060</td>\n",
       "    </tr>\n",
       "    <tr>\n",
       "      <th>isolate_20</th>\n",
       "      <td>1.8240</td>\n",
       "    </tr>\n",
       "    <tr>\n",
       "      <th>isolate_21</th>\n",
       "      <td>1.1900</td>\n",
       "    </tr>\n",
       "    <tr>\n",
       "      <th>isolate_22</th>\n",
       "      <td>1.2830</td>\n",
       "    </tr>\n",
       "    <tr>\n",
       "      <th>isolate_23</th>\n",
       "      <td>1.7440</td>\n",
       "    </tr>\n",
       "    <tr>\n",
       "      <th>isolate_24</th>\n",
       "      <td>2.2360</td>\n",
       "    </tr>\n",
       "    <tr>\n",
       "      <th>isolate_25</th>\n",
       "      <td>0.9350</td>\n",
       "    </tr>\n",
       "    <tr>\n",
       "      <th>isolate_26</th>\n",
       "      <td>0.9667</td>\n",
       "    </tr>\n",
       "    <tr>\n",
       "      <th>isolate_27</th>\n",
       "      <td>1.3480</td>\n",
       "    </tr>\n",
       "    <tr>\n",
       "      <th>isolate_28</th>\n",
       "      <td>1.4530</td>\n",
       "    </tr>\n",
       "    <tr>\n",
       "      <th>isolate_29</th>\n",
       "      <td>1.9900</td>\n",
       "    </tr>\n",
       "    <tr>\n",
       "      <th>isolate_30</th>\n",
       "      <td>1.3630</td>\n",
       "    </tr>\n",
       "  </tbody>\n",
       "</table>\n",
       "</div>"
      ],
      "text/plain": [
       "            DHA_IC50\n",
       "isolate_01    2.1770\n",
       "isolate_02    1.6970\n",
       "isolate_03    1.7990\n",
       "isolate_04    0.7100\n",
       "isolate_05    2.0250\n",
       "isolate_06    1.3670\n",
       "isolate_07    0.8567\n",
       "isolate_08    3.4600\n",
       "isolate_09    1.7650\n",
       "isolate_10    1.7540\n",
       "isolate_11    1.8200\n",
       "isolate_12    1.5170\n",
       "isolate_13    1.7230\n",
       "isolate_14    1.4700\n",
       "isolate_15    0.6933\n",
       "isolate_16    2.2100\n",
       "isolate_17    0.7200\n",
       "isolate_18    1.6470\n",
       "isolate_19    1.9060\n",
       "isolate_20    1.8240\n",
       "isolate_21    1.1900\n",
       "isolate_22    1.2830\n",
       "isolate_23    1.7440\n",
       "isolate_24    2.2360\n",
       "isolate_25    0.9350\n",
       "isolate_26    0.9667\n",
       "isolate_27    1.3480\n",
       "isolate_28    1.4530\n",
       "isolate_29    1.9900\n",
       "isolate_30    1.3630"
      ]
     },
     "execution_count": 15,
     "metadata": {},
     "output_type": "execute_result"
    }
   ],
   "source": [
    "IC50"
   ]
  },
  {
   "cell_type": "code",
   "execution_count": 16,
   "metadata": {},
   "outputs": [
    {
     "data": {
      "text/plain": [
       "array([1.58317504, 1.5841044 , 1.593098  , 1.59373276, 1.57822571,\n",
       "       1.59130793, 1.58787105, 1.57895285, 1.57903926, 1.58676688,\n",
       "       1.58695743, 1.58891316, 1.59393108, 1.58533034, 1.59227686,\n",
       "       1.59133918, 1.58907755, 1.58614805, 1.58598201, 1.58821712,\n",
       "       1.58638861, 1.58698062, 1.59469182, 1.59610786, 1.59349301])"
      ]
     },
     "execution_count": 16,
     "metadata": {},
     "output_type": "execute_result"
    }
   ],
   "source": [
    "IC50_pred"
   ]
  },
  {
   "cell_type": "markdown",
   "metadata": {},
   "source": [
    "### 8.3 Perform crossvalidation\n",
    "\n",
    "Perform crossvalidation on "
   ]
  },
  {
   "cell_type": "code",
   "execution_count": 17,
   "metadata": {},
   "outputs": [],
   "source": [
    "from sklearn.model_selection import cross_validate"
   ]
  },
  {
   "cell_type": "code",
   "execution_count": 55,
   "metadata": {},
   "outputs": [],
   "source": [
    "reg = linear_model.Lars(n_nonzero_coefs=5)\n",
    "scores = cross_validate(reg, X,y, scoring='r2', cv=5)"
   ]
  },
  {
   "cell_type": "code",
   "execution_count": 26,
   "metadata": {
    "scrolled": true
   },
   "outputs": [
    {
     "data": {
      "text/plain": [
       "array([-0.10452661, -0.2185645 , -0.24557277, -0.15977527, -0.76671702])"
      ]
     },
     "execution_count": 26,
     "metadata": {},
     "output_type": "execute_result"
    }
   ],
   "source": [
    "#With n_nonzero_coefs=1\n",
    "scores['test_score']"
   ]
  },
  {
   "cell_type": "code",
   "execution_count": 53,
   "metadata": {},
   "outputs": [
    {
     "data": {
      "text/plain": [
       "array([-0.15619116, -0.30780706, -0.52564096, -0.88299754, -1.10023416])"
      ]
     },
     "execution_count": 53,
     "metadata": {},
     "output_type": "execute_result"
    }
   ],
   "source": [
    "#With n_nonzero_coefs=3\n",
    "scores['test_score']"
   ]
  },
  {
   "cell_type": "code",
   "execution_count": 56,
   "metadata": {},
   "outputs": [
    {
     "data": {
      "text/plain": [
       "array([-0.65872339, -0.41638489, -0.73222664, -1.21044662, -1.21189663])"
      ]
     },
     "execution_count": 56,
     "metadata": {},
     "output_type": "execute_result"
    }
   ],
   "source": [
    "#With n_nonzero_coefs=5\n",
    "scores['test_score']"
   ]
  },
  {
   "cell_type": "code",
   "execution_count": 27,
   "metadata": {},
   "outputs": [
    {
     "data": {
      "text/plain": [
       "array([0.13598446, 0.06139339, 0.12145691, 0.00727816, 0.05903198])"
      ]
     },
     "execution_count": 27,
     "metadata": {},
     "output_type": "execute_result"
    }
   ],
   "source": [
    "#With n_nonzero_coefs=1\n",
    "scores['train_score']"
   ]
  },
  {
   "cell_type": "code",
   "execution_count": 54,
   "metadata": {},
   "outputs": [
    {
     "name": "stderr",
     "output_type": "stream",
     "text": [
      "C:\\Users\\Public\\Miniconda3\\lib\\site-packages\\sklearn\\utils\\deprecation.py:125: FutureWarning: You are accessing a training score ('train_score'), which will not be available by default any more in 0.21. If you need training scores, please set return_train_score=True\n",
      "  warnings.warn(*warn_args, **warn_kwargs)\n"
     ]
    },
    {
     "data": {
      "text/plain": [
       "array([0.17890556, 0.23405822, 0.31614439, 0.2902435 , 0.37232455])"
      ]
     },
     "execution_count": 54,
     "metadata": {},
     "output_type": "execute_result"
    }
   ],
   "source": [
    "#With n_nonzero_coefs=3\n",
    "scores['train_score']"
   ]
  },
  {
   "cell_type": "code",
   "execution_count": 57,
   "metadata": {},
   "outputs": [
    {
     "name": "stderr",
     "output_type": "stream",
     "text": [
      "C:\\Users\\Public\\Miniconda3\\lib\\site-packages\\sklearn\\utils\\deprecation.py:125: FutureWarning: You are accessing a training score ('train_score'), which will not be available by default any more in 0.21. If you need training scores, please set return_train_score=True\n",
      "  warnings.warn(*warn_args, **warn_kwargs)\n"
     ]
    },
    {
     "data": {
      "text/plain": [
       "array([0.44485788, 0.41698166, 0.42769307, 0.45683046, 0.49323345])"
      ]
     },
     "execution_count": 57,
     "metadata": {},
     "output_type": "execute_result"
    }
   ],
   "source": [
    "#With n_nonzero_coefs=5\n",
    "scores['train_score']"
   ]
  },
  {
   "cell_type": "markdown",
   "metadata": {},
   "source": [
    "# 9. Train models using LARS after PCA\n",
    "\n",
    "Train the data that has all the genes as and whose features have been reduced using PCA as pre-prossed in section 6.3 in the **data_explore** notebook"
   ]
  },
  {
   "cell_type": "code",
   "execution_count": 58,
   "metadata": {},
   "outputs": [],
   "source": [
    "train_PCA_30=pd.read_csv('../data/Alltrain_PCA_30.csv', index_col=0 )\n",
    "test_PCA_30=pd.read_csv('../data/Alltest_PCA_30.csv', index_col=0 )\n",
    "IC50=pd.read_csv('../data/flat_IC50.csv',index_col=0)"
   ]
  },
  {
   "cell_type": "code",
   "execution_count": 59,
   "metadata": {},
   "outputs": [],
   "source": [
    "X=train_PCA_30.values\n",
    "X_test=test_PCA_30\n",
    "y=IC50.values"
   ]
  },
  {
   "cell_type": "markdown",
   "metadata": {},
   "source": [
    "### 9.1 Perform crossvalidation\n",
    "\n",
    "Perform crossvalidation on "
   ]
  },
  {
   "cell_type": "code",
   "execution_count": 69,
   "metadata": {},
   "outputs": [],
   "source": [
    "reg = linear_model.Lars(n_nonzero_coefs=15)\n",
    "scores = cross_validate(reg, X,y, scoring='r2', cv=5)"
   ]
  },
  {
   "cell_type": "code",
   "execution_count": 45,
   "metadata": {},
   "outputs": [
    {
     "data": {
      "text/plain": [
       "array([-0.13275322, -0.14981445, -0.14457485, -0.19670003, -0.95705979])"
      ]
     },
     "execution_count": 45,
     "metadata": {},
     "output_type": "execute_result"
    }
   ],
   "source": [
    "#n_nonzero_coefs=1\n",
    "scores['test_score']"
   ]
  },
  {
   "cell_type": "code",
   "execution_count": 46,
   "metadata": {},
   "outputs": [
    {
     "name": "stderr",
     "output_type": "stream",
     "text": [
      "C:\\Users\\Public\\Miniconda3\\lib\\site-packages\\sklearn\\utils\\deprecation.py:125: FutureWarning: You are accessing a training score ('train_score'), which will not be available by default any more in 0.21. If you need training scores, please set return_train_score=True\n",
      "  warnings.warn(*warn_args, **warn_kwargs)\n"
     ]
    },
    {
     "data": {
      "text/plain": [
       "array([0.08596497, 0.10205859, 0.10587242, 0.02399014, 0.04038882])"
      ]
     },
     "execution_count": 46,
     "metadata": {},
     "output_type": "execute_result"
    }
   ],
   "source": [
    "#n_nonzero_coefs=1\n",
    "scores['train_score']"
   ]
  },
  {
   "cell_type": "code",
   "execution_count": 61,
   "metadata": {},
   "outputs": [
    {
     "data": {
      "text/plain": [
       "array([-0.2158115 , -0.16124901, -0.15249657, -0.24462078, -1.16917157])"
      ]
     },
     "execution_count": 61,
     "metadata": {},
     "output_type": "execute_result"
    }
   ],
   "source": [
    "#n_nonzero_coefs=3\n",
    "scores['test_score']"
   ]
  },
  {
   "cell_type": "code",
   "execution_count": 62,
   "metadata": {},
   "outputs": [
    {
     "name": "stderr",
     "output_type": "stream",
     "text": [
      "C:\\Users\\Public\\Miniconda3\\lib\\site-packages\\sklearn\\utils\\deprecation.py:125: FutureWarning: You are accessing a training score ('train_score'), which will not be available by default any more in 0.21. If you need training scores, please set return_train_score=True\n",
      "  warnings.warn(*warn_args, **warn_kwargs)\n"
     ]
    },
    {
     "data": {
      "text/plain": [
       "array([0.16735838, 0.1688365 , 0.18346953, 0.06572774, 0.24292484])"
      ]
     },
     "execution_count": 62,
     "metadata": {},
     "output_type": "execute_result"
    }
   ],
   "source": [
    "#n_nonzero_coefs=3\n",
    "scores['train_score']"
   ]
  },
  {
   "cell_type": "code",
   "execution_count": 64,
   "metadata": {},
   "outputs": [
    {
     "data": {
      "text/plain": [
       "array([-0.23625418, -0.17317658, -0.13343252, -0.22141656, -1.21879144])"
      ]
     },
     "execution_count": 64,
     "metadata": {},
     "output_type": "execute_result"
    }
   ],
   "source": [
    "#n_nonzero_coefs=5\n",
    "scores['test_score']"
   ]
  },
  {
   "cell_type": "code",
   "execution_count": 65,
   "metadata": {
    "scrolled": true
   },
   "outputs": [
    {
     "name": "stderr",
     "output_type": "stream",
     "text": [
      "C:\\Users\\Public\\Miniconda3\\lib\\site-packages\\sklearn\\utils\\deprecation.py:125: FutureWarning: You are accessing a training score ('train_score'), which will not be available by default any more in 0.21. If you need training scores, please set return_train_score=True\n",
      "  warnings.warn(*warn_args, **warn_kwargs)\n"
     ]
    },
    {
     "data": {
      "text/plain": [
       "array([0.32918391, 0.34087138, 0.24922036, 0.17871189, 0.35277601])"
      ]
     },
     "execution_count": 65,
     "metadata": {},
     "output_type": "execute_result"
    }
   ],
   "source": [
    "#n_nonzero_coefs=5\n",
    "scores['train_score']"
   ]
  },
  {
   "cell_type": "code",
   "execution_count": 71,
   "metadata": {},
   "outputs": [
    {
     "data": {
      "text/plain": [
       "array([-0.70725393, -0.06823268, -0.12260743, -0.17090597, -2.95188817])"
      ]
     },
     "execution_count": 71,
     "metadata": {},
     "output_type": "execute_result"
    }
   ],
   "source": [
    "#n_nonzero_coefs=15\n",
    "scores['test_score']"
   ]
  },
  {
   "cell_type": "code",
   "execution_count": 70,
   "metadata": {},
   "outputs": [
    {
     "name": "stderr",
     "output_type": "stream",
     "text": [
      "C:\\Users\\Public\\Miniconda3\\lib\\site-packages\\sklearn\\utils\\deprecation.py:125: FutureWarning: You are accessing a training score ('train_score'), which will not be available by default any more in 0.21. If you need training scores, please set return_train_score=True\n",
      "  warnings.warn(*warn_args, **warn_kwargs)\n"
     ]
    },
    {
     "data": {
      "text/plain": [
       "array([0.63943515, 0.8640944 , 0.68634766, 0.74294694, 0.83266432])"
      ]
     },
     "execution_count": 70,
     "metadata": {},
     "output_type": "execute_result"
    }
   ],
   "source": [
    "#n_nonzero_coefs=15\n",
    "scores['train_score']"
   ]
  },
  {
   "cell_type": "markdown",
   "metadata": {},
   "source": [
    "Conclussion: This model doesn't perfom well because all training scores are below 0.1 and the test scores are about -0.15 with the exception of one that is very good (-0.95). However, to say that it is a good model all test scores must be similar and high. Try this approach again but only using the flat_train data."
   ]
  },
  {
   "cell_type": "markdown",
   "metadata": {},
   "source": [
    "#  10. Train model using LARS after PCA on important genes\n",
    "\n",
    "Use train and test data that only contain the important genes as found from steps 2 - 4 in the data_explore notebook."
   ]
  },
  {
   "cell_type": "code",
   "execution_count": 5,
   "metadata": {},
   "outputs": [],
   "source": [
    "train_PCA_30=pd.read_csv('../data/train_PCA_30.csv', index_col=0)\n",
    "test_PCA_30=pd.read_csv('../data/test_PCA_30.csv', index_col=0)\n",
    "IC50=pd.read_csv('../data/flat_IC50.csv',index_col=0)"
   ]
  },
  {
   "cell_type": "code",
   "execution_count": 6,
   "metadata": {},
   "outputs": [],
   "source": [
    "X=train_PCA_30.values\n",
    "X_test=test_PCA_30.values\n",
    "y=IC50.values"
   ]
  },
  {
   "cell_type": "markdown",
   "metadata": {},
   "source": [
    "### 10.1 Perform crossvalidation\n",
    "\n",
    "Perform crossvalidation on "
   ]
  },
  {
   "cell_type": "code",
   "execution_count": 75,
   "metadata": {},
   "outputs": [],
   "source": [
    "from sklearn import linear_model\n",
    "from sklearn.model_selection import cross_validate\n",
    "reg = linear_model.Lars(n_nonzero_coefs=5)\n",
    "scores = cross_validate(reg, X,y, scoring='r2', cv=5)"
   ]
  },
  {
   "cell_type": "code",
   "execution_count": 11,
   "metadata": {},
   "outputs": [
    {
     "data": {
      "text/plain": [
       "array([ 0.3240026 , -0.11179271, -0.06435403,  0.22474563, -0.65544427])"
      ]
     },
     "execution_count": 11,
     "metadata": {},
     "output_type": "execute_result"
    }
   ],
   "source": [
    "#n_nonzero_coefs=1\n",
    "scores['test_score']"
   ]
  },
  {
   "cell_type": "code",
   "execution_count": 12,
   "metadata": {
    "scrolled": true
   },
   "outputs": [
    {
     "name": "stderr",
     "output_type": "stream",
     "text": [
      "C:\\Users\\Public\\Miniconda3\\lib\\site-packages\\sklearn\\utils\\deprecation.py:125: FutureWarning: You are accessing a training score ('train_score'), which will not be available by default any more in 0.21. If you need training scores, please set return_train_score=True\n",
      "  warnings.warn(*warn_args, **warn_kwargs)\n"
     ]
    },
    {
     "data": {
      "text/plain": [
       "array([0.22316528, 0.06273363, 0.25301592, 0.15409133, 0.43105509])"
      ]
     },
     "execution_count": 12,
     "metadata": {},
     "output_type": "execute_result"
    }
   ],
   "source": [
    "#n_nonzero_coefs=1\n",
    "scores['train_score']"
   ]
  },
  {
   "cell_type": "code",
   "execution_count": 73,
   "metadata": {},
   "outputs": [
    {
     "data": {
      "text/plain": [
       "array([-0.2158115 , -0.16124901, -0.15249657, -0.24462078, -1.16917157])"
      ]
     },
     "execution_count": 73,
     "metadata": {},
     "output_type": "execute_result"
    }
   ],
   "source": [
    "#n_nonzero_coefs=3\n",
    "scores['test_score']"
   ]
  },
  {
   "cell_type": "code",
   "execution_count": 74,
   "metadata": {
    "scrolled": true
   },
   "outputs": [
    {
     "name": "stderr",
     "output_type": "stream",
     "text": [
      "C:\\Users\\Public\\Miniconda3\\lib\\site-packages\\sklearn\\utils\\deprecation.py:125: FutureWarning: You are accessing a training score ('train_score'), which will not be available by default any more in 0.21. If you need training scores, please set return_train_score=True\n",
      "  warnings.warn(*warn_args, **warn_kwargs)\n"
     ]
    },
    {
     "data": {
      "text/plain": [
       "array([0.16735838, 0.1688365 , 0.18346953, 0.06572774, 0.24292484])"
      ]
     },
     "execution_count": 74,
     "metadata": {},
     "output_type": "execute_result"
    }
   ],
   "source": [
    "#n_nonzero_coefs=3\n",
    "scores['train_score']"
   ]
  },
  {
   "cell_type": "code",
   "execution_count": 76,
   "metadata": {},
   "outputs": [
    {
     "data": {
      "text/plain": [
       "array([-0.23625418, -0.17317658, -0.13343252, -0.22141656, -1.21879144])"
      ]
     },
     "execution_count": 76,
     "metadata": {},
     "output_type": "execute_result"
    }
   ],
   "source": [
    "#n_nonzero_coefs=5\n",
    "scores['test_score']"
   ]
  },
  {
   "cell_type": "code",
   "execution_count": 77,
   "metadata": {
    "scrolled": false
   },
   "outputs": [
    {
     "name": "stderr",
     "output_type": "stream",
     "text": [
      "C:\\Users\\Public\\Miniconda3\\lib\\site-packages\\sklearn\\utils\\deprecation.py:125: FutureWarning: You are accessing a training score ('train_score'), which will not be available by default any more in 0.21. If you need training scores, please set return_train_score=True\n",
      "  warnings.warn(*warn_args, **warn_kwargs)\n"
     ]
    },
    {
     "data": {
      "text/plain": [
       "array([0.32918391, 0.34087138, 0.24922036, 0.17871189, 0.35277601])"
      ]
     },
     "execution_count": 77,
     "metadata": {},
     "output_type": "execute_result"
    }
   ],
   "source": [
    "#n_nonzero_coefs=5\n",
    "scores['train_score']"
   ]
  },
  {
   "cell_type": "markdown",
   "metadata": {},
   "source": [
    "## 11. Follow steps from section 2 but using LARS\n",
    "Hacer modelo lineal de manera incremental (un gen con sus 8 valores a la vez)\n",
    "\n",
    "### Isolates for validation\n",
    "* isolate_07\n",
    "* isolate_27\n",
    "* isolate_18\n",
    "* isolate_11\n",
    "* isolate_16\n",
    "\n"
   ]
  },
  {
   "cell_type": "code",
   "execution_count": 14,
   "metadata": {},
   "outputs": [],
   "source": [
    "from sklearn.linear_model import LinearRegression\n",
    "from sklearn import metrics"
   ]
  },
  {
   "cell_type": "markdown",
   "metadata": {},
   "source": [
    "### 11.1 Create the functions\n",
    "\n",
    "Functions are created in step 2.1 of the present notebook"
   ]
  },
  {
   "cell_type": "code",
   "execution_count": 78,
   "metadata": {},
   "outputs": [],
   "source": [
    "#Global variables\n",
    "#val_isolates\n",
    "#genes_dict\n",
    "val_isolates=['isolate_07','isolate_11','isolate_16','isolate_18','isolate_27']"
   ]
  },
  {
   "cell_type": "code",
   "execution_count": 79,
   "metadata": {},
   "outputs": [],
   "source": [
    "def trainModelLARS(genes,val_isolates,dfx,dfy):\n",
    "    train_isolates=findTrainIsolates(val_isolates,dfx)\n",
    "    \n",
    "    X=filterDfByIsolates(train_isolates,dfx)\n",
    "    X=filterDfByGenes(genes,X)\n",
    "    \n",
    "    y=filterDfByIsolates(train_isolates,dfy)\n",
    "    \n",
    "    model=linear_model.Lars(n_nonzero_coefs=5)\n",
    "    model=model.fit(X.values,y.values)\n",
    "    \n",
    "    X_val=filterDfByIsolates(val_isolates,dfx)\n",
    "    X_val=filterDfByGenes(genes,X_val)\n",
    "    \n",
    "    y_val=filterDfByIsolates(val_isolates,dfy).values\n",
    "    \n",
    "    score=model.score(X_val,y_val)\n",
    "    \n",
    "    return score"
   ]
  },
  {
   "cell_type": "markdown",
   "metadata": {},
   "source": [
    "### 11.2 Train the model using LARS"
   ]
  },
  {
   "cell_type": "code",
   "execution_count": 80,
   "metadata": {},
   "outputs": [],
   "source": [
    "from sklearn import linear_model"
   ]
  },
  {
   "cell_type": "code",
   "execution_count": 81,
   "metadata": {},
   "outputs": [
    {
     "name": "stderr",
     "output_type": "stream",
     "text": [
      "C:\\Users\\Public\\Miniconda3\\lib\\site-packages\\sklearn\\linear_model\\least_angle.py:311: ConvergenceWarning: Regressors in active set degenerate. Dropping a regressor, after 4 iterations, i.e. alpha=5.656e-03, with an active set of 3 regressors, and the smallest cholesky pivot element being 1.825e-08. Reduce max_iter or increase eps parameters.\n",
      "  ConvergenceWarning)\n",
      "C:\\Users\\Public\\Miniconda3\\lib\\site-packages\\sklearn\\linear_model\\least_angle.py:311: ConvergenceWarning: Regressors in active set degenerate. Dropping a regressor, after 4 iterations, i.e. alpha=3.778e-03, with an active set of 3 regressors, and the smallest cholesky pivot element being 3.942e-08. Reduce max_iter or increase eps parameters.\n",
      "  ConvergenceWarning)\n",
      "C:\\Users\\Public\\Miniconda3\\lib\\site-packages\\sklearn\\linear_model\\least_angle.py:311: ConvergenceWarning: Regressors in active set degenerate. Dropping a regressor, after 4 iterations, i.e. alpha=2.388e-03, with an active set of 3 regressors, and the smallest cholesky pivot element being 1.490e-08. Reduce max_iter or increase eps parameters.\n",
      "  ConvergenceWarning)\n",
      "C:\\Users\\Public\\Miniconda3\\lib\\site-packages\\sklearn\\linear_model\\least_angle.py:311: ConvergenceWarning: Regressors in active set degenerate. Dropping a regressor, after 4 iterations, i.e. alpha=3.368e-03, with an active set of 3 regressors, and the smallest cholesky pivot element being 2.356e-08. Reduce max_iter or increase eps parameters.\n",
      "  ConvergenceWarning)\n",
      "C:\\Users\\Public\\Miniconda3\\lib\\site-packages\\sklearn\\linear_model\\least_angle.py:311: ConvergenceWarning: Regressors in active set degenerate. Dropping a regressor, after 4 iterations, i.e. alpha=2.456e-03, with an active set of 3 regressors, and the smallest cholesky pivot element being 2.788e-08. Reduce max_iter or increase eps parameters.\n",
      "  ConvergenceWarning)\n",
      "C:\\Users\\Public\\Miniconda3\\lib\\site-packages\\sklearn\\linear_model\\least_angle.py:311: ConvergenceWarning: Regressors in active set degenerate. Dropping a regressor, after 4 iterations, i.e. alpha=1.848e-03, with an active set of 3 regressors, and the smallest cholesky pivot element being 2.788e-08. Reduce max_iter or increase eps parameters.\n",
      "  ConvergenceWarning)\n",
      "C:\\Users\\Public\\Miniconda3\\lib\\site-packages\\sklearn\\linear_model\\least_angle.py:311: ConvergenceWarning: Regressors in active set degenerate. Dropping a regressor, after 4 iterations, i.e. alpha=3.478e-03, with an active set of 3 regressors, and the smallest cholesky pivot element being 3.161e-08. Reduce max_iter or increase eps parameters.\n",
      "  ConvergenceWarning)\n",
      "C:\\Users\\Public\\Miniconda3\\lib\\site-packages\\sklearn\\linear_model\\least_angle.py:311: ConvergenceWarning: Regressors in active set degenerate. Dropping a regressor, after 4 iterations, i.e. alpha=4.683e-03, with an active set of 3 regressors, and the smallest cholesky pivot element being 1.054e-08. Reduce max_iter or increase eps parameters.\n",
      "  ConvergenceWarning)\n",
      "C:\\Users\\Public\\Miniconda3\\lib\\site-packages\\sklearn\\linear_model\\least_angle.py:311: ConvergenceWarning: Regressors in active set degenerate. Dropping a regressor, after 4 iterations, i.e. alpha=8.839e-03, with an active set of 3 regressors, and the smallest cholesky pivot element being 3.942e-08. Reduce max_iter or increase eps parameters.\n",
      "  ConvergenceWarning)\n",
      "C:\\Users\\Public\\Miniconda3\\lib\\site-packages\\sklearn\\linear_model\\least_angle.py:311: ConvergenceWarning: Regressors in active set degenerate. Dropping a regressor, after 4 iterations, i.e. alpha=7.668e-03, with an active set of 3 regressors, and the smallest cholesky pivot element being 2.107e-08. Reduce max_iter or increase eps parameters.\n",
      "  ConvergenceWarning)\n",
      "C:\\Users\\Public\\Miniconda3\\lib\\site-packages\\sklearn\\linear_model\\least_angle.py:311: ConvergenceWarning: Regressors in active set degenerate. Dropping a regressor, after 4 iterations, i.e. alpha=2.550e-03, with an active set of 3 regressors, and the smallest cholesky pivot element being 2.220e-16. Reduce max_iter or increase eps parameters.\n",
      "  ConvergenceWarning)\n"
     ]
    }
   ],
   "source": [
    "selected_genes=[]\n",
    "selected_scores=[0]\n",
    "N=100\n",
    "for i in range(N):\n",
    "    best_gene_so_far=''\n",
    "    best_score_so_far=selected_scores[-1]\n",
    "    \n",
    "    for gene in genes_list:\n",
    "        \n",
    "        if gene not in selected_genes:\n",
    "            genes_to_use=selected_genes+[gene]\n",
    "            \n",
    "            model_score=trainModelLARS(genes_to_use,val_isolates,train,IC50)\n",
    "            \n",
    "            if model_score > best_score_so_far:\n",
    "                best_score_so_far=model_score\n",
    "                best_gene_so_far=gene\n",
    "\n",
    "    \n",
    "    if best_score_so_far>selected_scores[-1]:\n",
    "        selected_genes.append(best_gene_so_far)\n",
    "        selected_scores.append(best_score_so_far)"
   ]
  },
  {
   "cell_type": "code",
   "execution_count": 82,
   "metadata": {},
   "outputs": [
    {
     "data": {
      "text/plain": [
       "[0,\n",
       " 0.7232934274782723,\n",
       " 0.8965236406729211,\n",
       " 0.9356480202389428,\n",
       " 0.9612603758151324]"
      ]
     },
     "execution_count": 82,
     "metadata": {},
     "output_type": "execute_result"
    }
   ],
   "source": [
    "selected_scores"
   ]
  },
  {
   "cell_type": "code",
   "execution_count": 83,
   "metadata": {},
   "outputs": [
    {
     "data": {
      "text/plain": [
       "<function matplotlib.pyplot.show(*args, **kw)>"
      ]
     },
     "execution_count": 83,
     "metadata": {},
     "output_type": "execute_result"
    },
    {
     "data": {
      "image/png": "[encoded data removed]",
      "text/plain": [
       "<Figure size 432x288 with 1 Axes>"
      ]
     },
     "metadata": {
      "needs_background": "light"
     },
     "output_type": "display_data"
    }
   ],
   "source": [
    "#N=100\n",
    "x=np.arange(len(selected_scores))\n",
    "y=selected_scores\n",
    "plt.plot(x,y)\n",
    "plt.xticks(x,selected_genes,rotation='vertical')\n",
    "plt.show"
   ]
  },
  {
   "cell_type": "markdown",
   "metadata": {},
   "source": [
    "### 11.3 Try the model with the three selected genes"
   ]
  },
  {
   "cell_type": "code",
   "execution_count": 84,
   "metadata": {},
   "outputs": [],
   "source": [
    "selected_genes=['PF3D7_0730200','PF3D7_1247800','PF3D7_0933600','PF3D7_0206200']"
   ]
  },
  {
   "cell_type": "code",
   "execution_count": 85,
   "metadata": {},
   "outputs": [],
   "source": [
    "def tryModel(genes,val_isolates,dfx,dfy):\n",
    "    model_info={}\n",
    "    \n",
    "    train_isolates=findTrainIsolates(val_isolates,dfx)\n",
    "    \n",
    "    X=filterDfByIsolates(train_isolates,dfx)\n",
    "    X=filterDfByGenes(genes,X)\n",
    "    \n",
    "    y=filterDfByIsolates(train_isolates,dfy)\n",
    "    \n",
    "    model=linear_model.Lars(n_nonzero_coefs=1)\n",
    "    model=model.fit(X.values,y.values)\n",
    "    \n",
    "    X_val=filterDfByIsolates(val_isolates,dfx)\n",
    "    X_val=filterDfByGenes(genes,X_val)\n",
    "    \n",
    "    y_val=filterDfByIsolates(val_isolates,dfy).values\n",
    "    \n",
    "    y_pred=model.predict(X_val)\n",
    "    \n",
    "    score=model.score(X_val,y_val)\n",
    "    \n",
    "    model_info['y']=y.values\n",
    "    model_info['y_val']=y_val\n",
    "    model_info['X']=X.values\n",
    "    model_info['X_val']=X_val\n",
    "    model_info['y_pred']=y_pred\n",
    "    model_info['score']=score\n",
    "    return model_info"
   ]
  },
  {
   "cell_type": "code",
   "execution_count": 32,
   "metadata": {},
   "outputs": [],
   "source": [
    "#Try the model with the first selected gene\n",
    "gene=['PF3D7_0729900']"
   ]
  },
  {
   "cell_type": "code",
   "execution_count": 86,
   "metadata": {},
   "outputs": [],
   "source": [
    "try_model=tryModel(selected_genes,val_isolates,train,IC50)"
   ]
  },
  {
   "cell_type": "code",
   "execution_count": 87,
   "metadata": {},
   "outputs": [],
   "source": [
    "y=[try_model['y_val'][i][0] for i in range(len(try_model['y_val']))]\n",
    "y_pred=try_model['y_pred']"
   ]
  },
  {
   "cell_type": "code",
   "execution_count": 88,
   "metadata": {
    "scrolled": false
   },
   "outputs": [
    {
     "data": {
      "text/plain": [
       "<matplotlib.collections.PathCollection at 0x206f8dde080>"
      ]
     },
     "execution_count": 88,
     "metadata": {},
     "output_type": "execute_result"
    },
    {
     "data": {
      "image/png": "[encoded data removed]",
      "text/plain": [
       "<Figure size 432x288 with 1 Axes>"
      ]
     },
     "metadata": {
      "needs_background": "light"
     },
     "output_type": "display_data"
    }
   ],
   "source": [
    "plt.scatter(y,y_pred)"
   ]
  },
  {
   "cell_type": "markdown",
   "metadata": {},
   "source": [
    "This model looks good, but we have to evaluate that there is no overfitting. "
   ]
  },
  {
   "cell_type": "markdown",
   "metadata": {},
   "source": [
    "### 11.4 Train the model with all the isolates and only the three selected genes"
   ]
  },
  {
   "cell_type": "code",
   "execution_count": 24,
   "metadata": {},
   "outputs": [
    {
     "data": {
      "text/plain": [
       "['PF3D7_0730200', 'PF3D7_1341600', 'PF3D7_1426200']"
      ]
     },
     "execution_count": 24,
     "metadata": {},
     "output_type": "execute_result"
    }
   ],
   "source": [
    "selected_genes"
   ]
  },
  {
   "cell_type": "code",
   "execution_count": 91,
   "metadata": {},
   "outputs": [
    {
     "data": {
      "text/html": [
       "<div>\n",
       "<style scoped>\n",
       "    .dataframe tbody tr th:only-of-type {\n",
       "        vertical-align: middle;\n",
       "    }\n",
       "\n",
       "    .dataframe tbody tr th {\n",
       "        vertical-align: top;\n",
       "    }\n",
       "\n",
       "    .dataframe thead th {\n",
       "        text-align: right;\n",
       "    }\n",
       "</style>\n",
       "<table border=\"1\" class=\"dataframe\">\n",
       "  <thead>\n",
       "    <tr style=\"text-align: right;\">\n",
       "      <th></th>\n",
       "      <th>PF3D7_0730200_24HR_DHA</th>\n",
       "      <th>PF3D7_0730200_24HR_UT</th>\n",
       "      <th>PF3D7_0730200_6HR_DHA</th>\n",
       "      <th>PF3D7_0730200_6HR_UT</th>\n",
       "      <th>PF3D7_0730200_24HR_6HR_DHA</th>\n",
       "      <th>PF3D7_0730200_24_6HR_UT</th>\n",
       "      <th>PF3D7_0730200_DHA_UT_6HR</th>\n",
       "      <th>PF3D7_0730200_DHA_UT_24HR</th>\n",
       "      <th>PF3D7_1247800_24HR_DHA</th>\n",
       "      <th>PF3D7_1247800_24HR_UT</th>\n",
       "      <th>...</th>\n",
       "      <th>PF3D7_0933600_DHA_UT_6HR</th>\n",
       "      <th>PF3D7_0933600_DHA_UT_24HR</th>\n",
       "      <th>PF3D7_0206200_24HR_DHA</th>\n",
       "      <th>PF3D7_0206200_24HR_UT</th>\n",
       "      <th>PF3D7_0206200_6HR_DHA</th>\n",
       "      <th>PF3D7_0206200_6HR_UT</th>\n",
       "      <th>PF3D7_0206200_24HR_6HR_DHA</th>\n",
       "      <th>PF3D7_0206200_24_6HR_UT</th>\n",
       "      <th>PF3D7_0206200_DHA_UT_6HR</th>\n",
       "      <th>PF3D7_0206200_DHA_UT_24HR</th>\n",
       "    </tr>\n",
       "  </thead>\n",
       "  <tbody>\n",
       "    <tr>\n",
       "      <th>isolate_01</th>\n",
       "      <td>-0.037031</td>\n",
       "      <td>-0.073334</td>\n",
       "      <td>-0.530240</td>\n",
       "      <td>-0.245317</td>\n",
       "      <td>0.493209</td>\n",
       "      <td>0.171984</td>\n",
       "      <td>-0.284922</td>\n",
       "      <td>0.036303</td>\n",
       "      <td>0.573906</td>\n",
       "      <td>0.221630</td>\n",
       "      <td>...</td>\n",
       "      <td>-0.103493</td>\n",
       "      <td>-0.106016</td>\n",
       "      <td>0.275914</td>\n",
       "      <td>-0.034525</td>\n",
       "      <td>-0.066056</td>\n",
       "      <td>0.137937</td>\n",
       "      <td>0.341970</td>\n",
       "      <td>-0.172462</td>\n",
       "      <td>-0.203993</td>\n",
       "      <td>0.310439</td>\n",
       "    </tr>\n",
       "    <tr>\n",
       "      <th>isolate_02</th>\n",
       "      <td>-0.112674</td>\n",
       "      <td>-0.302915</td>\n",
       "      <td>-0.450089</td>\n",
       "      <td>-0.428044</td>\n",
       "      <td>0.337415</td>\n",
       "      <td>0.125129</td>\n",
       "      <td>-0.022045</td>\n",
       "      <td>0.190242</td>\n",
       "      <td>0.479295</td>\n",
       "      <td>0.677604</td>\n",
       "      <td>...</td>\n",
       "      <td>-0.200230</td>\n",
       "      <td>-0.426086</td>\n",
       "      <td>0.011931</td>\n",
       "      <td>0.416156</td>\n",
       "      <td>0.585833</td>\n",
       "      <td>0.159367</td>\n",
       "      <td>-0.573902</td>\n",
       "      <td>0.256789</td>\n",
       "      <td>0.426466</td>\n",
       "      <td>-0.404225</td>\n",
       "    </tr>\n",
       "    <tr>\n",
       "      <th>isolate_03</th>\n",
       "      <td>0.074458</td>\n",
       "      <td>-0.100457</td>\n",
       "      <td>0.117450</td>\n",
       "      <td>-0.109150</td>\n",
       "      <td>-0.042992</td>\n",
       "      <td>0.008693</td>\n",
       "      <td>0.226599</td>\n",
       "      <td>0.174914</td>\n",
       "      <td>0.093206</td>\n",
       "      <td>0.466280</td>\n",
       "      <td>...</td>\n",
       "      <td>-0.747914</td>\n",
       "      <td>-0.487701</td>\n",
       "      <td>-0.291227</td>\n",
       "      <td>0.182642</td>\n",
       "      <td>0.141649</td>\n",
       "      <td>0.268595</td>\n",
       "      <td>-0.432876</td>\n",
       "      <td>-0.085954</td>\n",
       "      <td>-0.126947</td>\n",
       "      <td>-0.473869</td>\n",
       "    </tr>\n",
       "    <tr>\n",
       "      <th>isolate_04</th>\n",
       "      <td>-0.321503</td>\n",
       "      <td>-0.201828</td>\n",
       "      <td>-0.112915</td>\n",
       "      <td>-0.380831</td>\n",
       "      <td>-0.208588</td>\n",
       "      <td>0.179003</td>\n",
       "      <td>0.267916</td>\n",
       "      <td>-0.119675</td>\n",
       "      <td>0.542648</td>\n",
       "      <td>0.523919</td>\n",
       "      <td>...</td>\n",
       "      <td>0.466351</td>\n",
       "      <td>-0.158279</td>\n",
       "      <td>0.810493</td>\n",
       "      <td>-0.237589</td>\n",
       "      <td>0.907898</td>\n",
       "      <td>0.497120</td>\n",
       "      <td>-0.097405</td>\n",
       "      <td>-0.734709</td>\n",
       "      <td>0.410778</td>\n",
       "      <td>1.048082</td>\n",
       "    </tr>\n",
       "    <tr>\n",
       "      <th>isolate_05</th>\n",
       "      <td>-0.038549</td>\n",
       "      <td>-0.250931</td>\n",
       "      <td>-0.265711</td>\n",
       "      <td>-0.085343</td>\n",
       "      <td>0.227162</td>\n",
       "      <td>-0.165588</td>\n",
       "      <td>-0.180369</td>\n",
       "      <td>0.212381</td>\n",
       "      <td>0.907962</td>\n",
       "      <td>0.844514</td>\n",
       "      <td>...</td>\n",
       "      <td>0.001258</td>\n",
       "      <td>-0.347060</td>\n",
       "      <td>-0.016938</td>\n",
       "      <td>0.637588</td>\n",
       "      <td>0.230331</td>\n",
       "      <td>0.118266</td>\n",
       "      <td>-0.247269</td>\n",
       "      <td>0.519322</td>\n",
       "      <td>0.112065</td>\n",
       "      <td>-0.654526</td>\n",
       "    </tr>\n",
       "  </tbody>\n",
       "</table>\n",
       "<p>5 rows × 32 columns</p>\n",
       "</div>"
      ],
      "text/plain": [
       "            PF3D7_0730200_24HR_DHA  PF3D7_0730200_24HR_UT  \\\n",
       "isolate_01               -0.037031              -0.073334   \n",
       "isolate_02               -0.112674              -0.302915   \n",
       "isolate_03                0.074458              -0.100457   \n",
       "isolate_04               -0.321503              -0.201828   \n",
       "isolate_05               -0.038549              -0.250931   \n",
       "\n",
       "            PF3D7_0730200_6HR_DHA  PF3D7_0730200_6HR_UT  \\\n",
       "isolate_01              -0.530240             -0.245317   \n",
       "isolate_02              -0.450089             -0.428044   \n",
       "isolate_03               0.117450             -0.109150   \n",
       "isolate_04              -0.112915             -0.380831   \n",
       "isolate_05              -0.265711             -0.085343   \n",
       "\n",
       "            PF3D7_0730200_24HR_6HR_DHA  PF3D7_0730200_24_6HR_UT  \\\n",
       "isolate_01                    0.493209                 0.171984   \n",
       "isolate_02                    0.337415                 0.125129   \n",
       "isolate_03                   -0.042992                 0.008693   \n",
       "isolate_04                   -0.208588                 0.179003   \n",
       "isolate_05                    0.227162                -0.165588   \n",
       "\n",
       "            PF3D7_0730200_DHA_UT_6HR  PF3D7_0730200_DHA_UT_24HR  \\\n",
       "isolate_01                 -0.284922                   0.036303   \n",
       "isolate_02                 -0.022045                   0.190242   \n",
       "isolate_03                  0.226599                   0.174914   \n",
       "isolate_04                  0.267916                  -0.119675   \n",
       "isolate_05                 -0.180369                   0.212381   \n",
       "\n",
       "            PF3D7_1247800_24HR_DHA  PF3D7_1247800_24HR_UT  ...  \\\n",
       "isolate_01                0.573906               0.221630  ...   \n",
       "isolate_02                0.479295               0.677604  ...   \n",
       "isolate_03                0.093206               0.466280  ...   \n",
       "isolate_04                0.542648               0.523919  ...   \n",
       "isolate_05                0.907962               0.844514  ...   \n",
       "\n",
       "            PF3D7_0933600_DHA_UT_6HR  PF3D7_0933600_DHA_UT_24HR  \\\n",
       "isolate_01                 -0.103493                  -0.106016   \n",
       "isolate_02                 -0.200230                  -0.426086   \n",
       "isolate_03                 -0.747914                  -0.487701   \n",
       "isolate_04                  0.466351                  -0.158279   \n",
       "isolate_05                  0.001258                  -0.347060   \n",
       "\n",
       "            PF3D7_0206200_24HR_DHA  PF3D7_0206200_24HR_UT  \\\n",
       "isolate_01                0.275914              -0.034525   \n",
       "isolate_02                0.011931               0.416156   \n",
       "isolate_03               -0.291227               0.182642   \n",
       "isolate_04                0.810493              -0.237589   \n",
       "isolate_05               -0.016938               0.637588   \n",
       "\n",
       "            PF3D7_0206200_6HR_DHA  PF3D7_0206200_6HR_UT  \\\n",
       "isolate_01              -0.066056              0.137937   \n",
       "isolate_02               0.585833              0.159367   \n",
       "isolate_03               0.141649              0.268595   \n",
       "isolate_04               0.907898              0.497120   \n",
       "isolate_05               0.230331              0.118266   \n",
       "\n",
       "            PF3D7_0206200_24HR_6HR_DHA  PF3D7_0206200_24_6HR_UT  \\\n",
       "isolate_01                    0.341970                -0.172462   \n",
       "isolate_02                   -0.573902                 0.256789   \n",
       "isolate_03                   -0.432876                -0.085954   \n",
       "isolate_04                   -0.097405                -0.734709   \n",
       "isolate_05                   -0.247269                 0.519322   \n",
       "\n",
       "            PF3D7_0206200_DHA_UT_6HR  PF3D7_0206200_DHA_UT_24HR  \n",
       "isolate_01                 -0.203993                   0.310439  \n",
       "isolate_02                  0.426466                  -0.404225  \n",
       "isolate_03                 -0.126947                  -0.473869  \n",
       "isolate_04                  0.410778                   1.048082  \n",
       "isolate_05                  0.112065                  -0.654526  \n",
       "\n",
       "[5 rows x 32 columns]"
      ]
     },
     "execution_count": 91,
     "metadata": {},
     "output_type": "execute_result"
    }
   ],
   "source": [
    "selected_train=train[getGenesColumnLabels(selected_genes)]\n",
    "selected_train.head()"
   ]
  },
  {
   "cell_type": "code",
   "execution_count": 92,
   "metadata": {},
   "outputs": [],
   "source": [
    "X=selected_train\n",
    "y=IC50\n",
    "\n",
    "model=linear_model.Lars(n_nonzero_coefs=5)\n",
    "model=model.fit(X.values,y.values)"
   ]
  },
  {
   "cell_type": "markdown",
   "metadata": {},
   "source": [
    "### 11.5 Save the model"
   ]
  },
  {
   "cell_type": "code",
   "execution_count": 93,
   "metadata": {},
   "outputs": [
    {
     "data": {
      "text/plain": [
       "['../models/model4_150819.pkl']"
      ]
     },
     "execution_count": 93,
     "metadata": {},
     "output_type": "execute_result"
    }
   ],
   "source": [
    "from sklearn.externals import joblib\n",
    "# Output a pickle file for the model\n",
    "joblib.dump(model, '../models/model4_150819.pkl') "
   ]
  },
  {
   "cell_type": "markdown",
   "metadata": {},
   "source": [
    "## 12. Train the model usin KRR after PCA on important genes\n",
    "\n",
    "Use train and test data that only contain the important genes as found from steps 2 - 4 in the data_explore notebook."
   ]
  },
  {
   "cell_type": "code",
   "execution_count": 159,
   "metadata": {},
   "outputs": [],
   "source": [
    "train_PCA_30=pd.read_csv('../data/train_PCA_30.csv', index_col=0)\n",
    "test_PCA_30=pd.read_csv('../data/test_PCA_30.csv', index_col=0)\n",
    "IC50=pd.read_csv('../data/flat_IC50.csv',index_col=0)"
   ]
  },
  {
   "cell_type": "code",
   "execution_count": 160,
   "metadata": {},
   "outputs": [],
   "source": [
    "X=train_PCA_30.values\n",
    "X_test=test_PCA_30.values\n",
    "y=IC50.values"
   ]
  },
  {
   "cell_type": "markdown",
   "metadata": {},
   "source": [
    "### 12.1 Perform crossvalidation"
   ]
  },
  {
   "cell_type": "code",
   "execution_count": 170,
   "metadata": {},
   "outputs": [],
   "source": [
    "from sklearn.kernel_ridge import KernelRidge\n",
    "from sklearn.model_selection import cross_validate\n",
    "reg = KernelRidge(alpha=1)\n",
    "scores = cross_validate(reg, X,y, scoring='r2', cv=5)"
   ]
  },
  {
   "cell_type": "code",
   "execution_count": 171,
   "metadata": {},
   "outputs": [
    {
     "name": "stderr",
     "output_type": "stream",
     "text": [
      "C:\\Users\\Public\\Miniconda3\\lib\\site-packages\\sklearn\\utils\\deprecation.py:125: FutureWarning: You are accessing a training score ('train_score'), which will not be available by default any more in 0.21. If you need training scores, please set return_train_score=True\n",
      "  warnings.warn(*warn_args, **warn_kwargs)\n"
     ]
    },
    {
     "data": {
      "text/plain": [
       "array([0.99985071, 0.99982483, 0.999768  , 0.99989414, 0.99983646])"
      ]
     },
     "execution_count": 171,
     "metadata": {},
     "output_type": "execute_result"
    }
   ],
   "source": [
    "#alpha=1\n",
    "scores['train_score']"
   ]
  },
  {
   "cell_type": "code",
   "execution_count": 172,
   "metadata": {},
   "outputs": [
    {
     "data": {
      "text/plain": [
       "array([-283.45538226, -103.47580956, -237.81059213, -526.85663294,\n",
       "       -653.55066655])"
      ]
     },
     "execution_count": 172,
     "metadata": {},
     "output_type": "execute_result"
    }
   ],
   "source": [
    "#alpha=1\n",
    "scores['test_score']"
   ]
  },
  {
   "cell_type": "code",
   "execution_count": 168,
   "metadata": {},
   "outputs": [
    {
     "name": "stderr",
     "output_type": "stream",
     "text": [
      "C:\\Users\\Public\\Miniconda3\\lib\\site-packages\\sklearn\\utils\\deprecation.py:125: FutureWarning: You are accessing a training score ('train_score'), which will not be available by default any more in 0.21. If you need training scores, please set return_train_score=True\n",
      "  warnings.warn(*warn_args, **warn_kwargs)\n"
     ]
    },
    {
     "data": {
      "text/plain": [
       "array([0.99999398, 0.99999294, 0.99999064, 0.99999573, 0.99999341])"
      ]
     },
     "execution_count": 168,
     "metadata": {},
     "output_type": "execute_result"
    }
   ],
   "source": [
    "#alpha=0.2\n",
    "scores['train_score']"
   ]
  },
  {
   "cell_type": "code",
   "execution_count": 169,
   "metadata": {},
   "outputs": [
    {
     "data": {
      "text/plain": [
       "array([-285.0251006 , -103.96825643, -239.44970712, -529.31170573,\n",
       "       -657.5814164 ])"
      ]
     },
     "execution_count": 169,
     "metadata": {},
     "output_type": "execute_result"
    }
   ],
   "source": [
    "#alpha=0.2\n",
    "scores['test_score']"
   ]
  },
  {
   "cell_type": "code",
   "execution_count": 165,
   "metadata": {},
   "outputs": [
    {
     "name": "stderr",
     "output_type": "stream",
     "text": [
      "C:\\Users\\Public\\Miniconda3\\lib\\site-packages\\sklearn\\utils\\deprecation.py:125: FutureWarning: You are accessing a training score ('train_score'), which will not be available by default any more in 0.21. If you need training scores, please set return_train_score=True\n",
      "  warnings.warn(*warn_args, **warn_kwargs)\n"
     ]
    },
    {
     "data": {
      "text/plain": [
       "array([0.99996251, 0.99995601, 0.99994169, 0.99997341, 0.99995892])"
      ]
     },
     "execution_count": 165,
     "metadata": {},
     "output_type": "execute_result"
    }
   ],
   "source": [
    "#alpha=0.5\n",
    "scores['train_score']"
   ]
  },
  {
   "cell_type": "code",
   "execution_count": 166,
   "metadata": {},
   "outputs": [
    {
     "data": {
      "text/plain": [
       "array([-284.43458967, -103.78304866, -238.83275053, -528.38834695,\n",
       "       -656.06484272])"
      ]
     },
     "execution_count": 166,
     "metadata": {},
     "output_type": "execute_result"
    }
   ],
   "source": [
    "#alpha=0.5\n",
    "scores['test_score']"
   ]
  },
  {
   "cell_type": "code",
   "execution_count": 162,
   "metadata": {},
   "outputs": [
    {
     "name": "stderr",
     "output_type": "stream",
     "text": [
      "C:\\Users\\Public\\Miniconda3\\lib\\site-packages\\sklearn\\utils\\deprecation.py:125: FutureWarning: You are accessing a training score ('train_score'), which will not be available by default any more in 0.21. If you need training scores, please set return_train_score=True\n",
      "  warnings.warn(*warn_args, **warn_kwargs)\n"
     ]
    },
    {
     "data": {
      "text/plain": [
       "array([0.99990428, 0.99988769, 0.99985121, 0.99993212, 0.99989514])"
      ]
     },
     "execution_count": 162,
     "metadata": {},
     "output_type": "execute_result"
    }
   ],
   "source": [
    "#alpha=0.8\n",
    "scores['train_score']"
   ]
  },
  {
   "cell_type": "code",
   "execution_count": 163,
   "metadata": {
    "scrolled": true
   },
   "outputs": [
    {
     "data": {
      "text/plain": [
       "array([-283.84632124, -103.59848985, -238.21854387, -527.46823969,\n",
       "       -654.55432745])"
      ]
     },
     "execution_count": 163,
     "metadata": {},
     "output_type": "execute_result"
    }
   ],
   "source": [
    "#alpha=0.8\n",
    "scores['test_score']"
   ]
  },
  {
   "cell_type": "markdown",
   "metadata": {},
   "source": [
    "## 13. Follow steps from section 2 but using KRR\n",
    "Hacer modelo lineal de manera incremental (un gen con sus 8 valores a la vez)\n",
    "\n",
    "### Isolates for validation\n",
    "* isolate_07\n",
    "* isolate_27\n",
    "* isolate_18\n",
    "* isolate_11\n",
    "* isolate_16\n",
    "\n"
   ]
  },
  {
   "cell_type": "code",
   "execution_count": 184,
   "metadata": {},
   "outputs": [],
   "source": [
    "from sklearn.kernel_ridge import KernelRidge\n",
    "from sklearn import metrics"
   ]
  },
  {
   "cell_type": "markdown",
   "metadata": {},
   "source": [
    "### 13.1 Create the functions\n",
    "\n",
    "Functions are created in step 2.1 of the present notebook"
   ]
  },
  {
   "cell_type": "code",
   "execution_count": 185,
   "metadata": {},
   "outputs": [],
   "source": [
    "#Global variables\n",
    "#val_isolates\n",
    "#genes_dict\n",
    "val_isolates=['isolate_07','isolate_11','isolate_16','isolate_18','isolate_27']"
   ]
  },
  {
   "cell_type": "code",
   "execution_count": 186,
   "metadata": {},
   "outputs": [],
   "source": [
    "def trainModelKRR(genes,val_isolates,dfx,dfy):\n",
    "    train_isolates=findTrainIsolates(val_isolates,dfx)\n",
    "    \n",
    "    X=filterDfByIsolates(train_isolates,dfx)\n",
    "    X=filterDfByGenes(genes,X)\n",
    "    \n",
    "    y=filterDfByIsolates(train_isolates,dfy)\n",
    "    \n",
    "    model=KernelRidge(alpha=1)\n",
    "    model=model.fit(X.values,y.values)\n",
    "    \n",
    "    X_val=filterDfByIsolates(val_isolates,dfx)\n",
    "    X_val=filterDfByGenes(genes,X_val)\n",
    "    \n",
    "    y_val=filterDfByIsolates(val_isolates,dfy).values\n",
    "    \n",
    "    score=model.score(X_val,y_val)\n",
    "    \n",
    "    return score"
   ]
  },
  {
   "cell_type": "markdown",
   "metadata": {},
   "source": [
    "### 13.2 Train the model using KRR"
   ]
  },
  {
   "cell_type": "code",
   "execution_count": 187,
   "metadata": {},
   "outputs": [],
   "source": [
    "selected_genes=[]\n",
    "selected_scores=[0]\n",
    "N=100\n",
    "for i in range(N):\n",
    "    best_gene_so_far=''\n",
    "    best_score_so_far=selected_scores[-1]\n",
    "    \n",
    "    for gene in genes_list:\n",
    "        \n",
    "        if gene not in selected_genes:\n",
    "            genes_to_use=selected_genes+[gene]\n",
    "            \n",
    "            model_score=trainModelKRR(genes_to_use,val_isolates,train,IC50)\n",
    "            \n",
    "            if model_score > best_score_so_far:\n",
    "                best_score_so_far=model_score\n",
    "                best_gene_so_far=gene\n",
    "\n",
    "    \n",
    "    if best_score_so_far>selected_scores[-1]:\n",
    "        selected_genes.append(best_gene_so_far)\n",
    "        selected_scores.append(best_score_so_far)"
   ]
  },
  {
   "cell_type": "code",
   "execution_count": 188,
   "metadata": {},
   "outputs": [
    {
     "data": {
      "text/plain": [
       "[0,\n",
       " 0.7388394895753241,\n",
       " 0.9286970453876029,\n",
       " 0.9824822251956205,\n",
       " 0.995352889833283]"
      ]
     },
     "execution_count": 188,
     "metadata": {},
     "output_type": "execute_result"
    }
   ],
   "source": [
    "selected_scores"
   ]
  },
  {
   "cell_type": "code",
   "execution_count": 189,
   "metadata": {},
   "outputs": [
    {
     "data": {
      "text/plain": [
       "<function matplotlib.pyplot.show(*args, **kw)>"
      ]
     },
     "execution_count": 189,
     "metadata": {},
     "output_type": "execute_result"
    },
    {
     "data": {
      "image/png": "[encoded data removed]",
      "text/plain": [
       "<Figure size 432x288 with 1 Axes>"
      ]
     },
     "metadata": {
      "needs_background": "light"
     },
     "output_type": "display_data"
    }
   ],
   "source": [
    "#N=100\n",
    "x=np.arange(len(selected_scores))\n",
    "y=selected_scores\n",
    "plt.plot(x,y)\n",
    "plt.xticks(x,selected_genes,rotation='vertical')\n",
    "plt.show"
   ]
  },
  {
   "cell_type": "markdown",
   "metadata": {},
   "source": [
    "### 11.3 Try the model with the three selected genes"
   ]
  },
  {
   "cell_type": "code",
   "execution_count": 190,
   "metadata": {},
   "outputs": [],
   "source": [
    "selected_genes=['PF3D7_1323000','PF3D7_1362200','PF3D7_1329100','PF3D7_0818900']"
   ]
  },
  {
   "cell_type": "code",
   "execution_count": 191,
   "metadata": {},
   "outputs": [],
   "source": [
    "def tryModel(genes,val_isolates,dfx,dfy):\n",
    "    model_info={}\n",
    "    \n",
    "    train_isolates=findTrainIsolates(val_isolates,dfx)\n",
    "    \n",
    "    X=filterDfByIsolates(train_isolates,dfx)\n",
    "    X=filterDfByGenes(genes,X)\n",
    "    \n",
    "    y=filterDfByIsolates(train_isolates,dfy)\n",
    "    \n",
    "    model=KernelRidge(alpha=1)\n",
    "    model=model.fit(X.values,y.values)\n",
    "    \n",
    "    X_val=filterDfByIsolates(val_isolates,dfx)\n",
    "    X_val=filterDfByGenes(genes,X_val)\n",
    "    \n",
    "    y_val=filterDfByIsolates(val_isolates,dfy).values\n",
    "    \n",
    "    y_pred=model.predict(X_val)\n",
    "    \n",
    "    score=model.score(X_val,y_val)\n",
    "    \n",
    "    model_info['y']=y.values\n",
    "    model_info['y_val']=y_val\n",
    "    model_info['X']=X.values\n",
    "    model_info['X_val']=X_val\n",
    "    model_info['y_pred']=y_pred\n",
    "    model_info['score']=score\n",
    "    return model_info"
   ]
  },
  {
   "cell_type": "code",
   "execution_count": 192,
   "metadata": {},
   "outputs": [],
   "source": [
    "try_model=tryModel(selected_genes,val_isolates,train,IC50)"
   ]
  },
  {
   "cell_type": "code",
   "execution_count": 193,
   "metadata": {},
   "outputs": [],
   "source": [
    "y=[try_model['y_val'][i][0] for i in range(len(try_model['y_val']))]\n",
    "y_pred=try_model['y_pred']"
   ]
  },
  {
   "cell_type": "code",
   "execution_count": 194,
   "metadata": {
    "scrolled": false
   },
   "outputs": [
    {
     "data": {
      "text/plain": [
       "<matplotlib.collections.PathCollection at 0x206f9f00cc0>"
      ]
     },
     "execution_count": 194,
     "metadata": {},
     "output_type": "execute_result"
    },
    {
     "data": {
      "image/png": "[encoded data removed]",
      "text/plain": [
       "<Figure size 432x288 with 1 Axes>"
      ]
     },
     "metadata": {
      "needs_background": "light"
     },
     "output_type": "display_data"
    }
   ],
   "source": [
    "plt.scatter(y,y_pred)"
   ]
  },
  {
   "cell_type": "markdown",
   "metadata": {},
   "source": [
    "### 11.4 Train the model with all the isolates and only the three selected genes"
   ]
  },
  {
   "cell_type": "code",
   "execution_count": 195,
   "metadata": {},
   "outputs": [
    {
     "data": {
      "text/plain": [
       "['PF3D7_1323000', 'PF3D7_1362200', 'PF3D7_1329100', 'PF3D7_0818900']"
      ]
     },
     "execution_count": 195,
     "metadata": {},
     "output_type": "execute_result"
    }
   ],
   "source": [
    "selected_genes"
   ]
  },
  {
   "cell_type": "code",
   "execution_count": 196,
   "metadata": {},
   "outputs": [
    {
     "data": {
      "text/html": [
       "<div>\n",
       "<style scoped>\n",
       "    .dataframe tbody tr th:only-of-type {\n",
       "        vertical-align: middle;\n",
       "    }\n",
       "\n",
       "    .dataframe tbody tr th {\n",
       "        vertical-align: top;\n",
       "    }\n",
       "\n",
       "    .dataframe thead th {\n",
       "        text-align: right;\n",
       "    }\n",
       "</style>\n",
       "<table border=\"1\" class=\"dataframe\">\n",
       "  <thead>\n",
       "    <tr style=\"text-align: right;\">\n",
       "      <th></th>\n",
       "      <th>PF3D7_1323000_24HR_DHA</th>\n",
       "      <th>PF3D7_1323000_24HR_UT</th>\n",
       "      <th>PF3D7_1323000_6HR_DHA</th>\n",
       "      <th>PF3D7_1323000_6HR_UT</th>\n",
       "      <th>PF3D7_1323000_24HR_6HR_DHA</th>\n",
       "      <th>PF3D7_1323000_24_6HR_UT</th>\n",
       "      <th>PF3D7_1323000_DHA_UT_6HR</th>\n",
       "      <th>PF3D7_1323000_DHA_UT_24HR</th>\n",
       "      <th>PF3D7_1362200_24HR_DHA</th>\n",
       "      <th>PF3D7_1362200_24HR_UT</th>\n",
       "      <th>...</th>\n",
       "      <th>PF3D7_1329100_DHA_UT_6HR</th>\n",
       "      <th>PF3D7_1329100_DHA_UT_24HR</th>\n",
       "      <th>PF3D7_0818900_24HR_DHA</th>\n",
       "      <th>PF3D7_0818900_24HR_UT</th>\n",
       "      <th>PF3D7_0818900_6HR_DHA</th>\n",
       "      <th>PF3D7_0818900_6HR_UT</th>\n",
       "      <th>PF3D7_0818900_24HR_6HR_DHA</th>\n",
       "      <th>PF3D7_0818900_24_6HR_UT</th>\n",
       "      <th>PF3D7_0818900_DHA_UT_6HR</th>\n",
       "      <th>PF3D7_0818900_DHA_UT_24HR</th>\n",
       "    </tr>\n",
       "  </thead>\n",
       "  <tbody>\n",
       "    <tr>\n",
       "      <th>isolate_01</th>\n",
       "      <td>-0.582688</td>\n",
       "      <td>0.235317</td>\n",
       "      <td>-1.434863</td>\n",
       "      <td>-0.232308</td>\n",
       "      <td>0.852175</td>\n",
       "      <td>0.467625</td>\n",
       "      <td>-1.202555</td>\n",
       "      <td>-0.818005</td>\n",
       "      <td>-0.182778</td>\n",
       "      <td>0.036708</td>\n",
       "      <td>...</td>\n",
       "      <td>-0.107237</td>\n",
       "      <td>-0.560692</td>\n",
       "      <td>-0.092294</td>\n",
       "      <td>-0.115486</td>\n",
       "      <td>-0.140164</td>\n",
       "      <td>-0.013975</td>\n",
       "      <td>0.047870</td>\n",
       "      <td>-0.101511</td>\n",
       "      <td>-0.126189</td>\n",
       "      <td>0.023192</td>\n",
       "    </tr>\n",
       "    <tr>\n",
       "      <th>isolate_02</th>\n",
       "      <td>-0.667016</td>\n",
       "      <td>-0.437757</td>\n",
       "      <td>-0.588376</td>\n",
       "      <td>-0.899031</td>\n",
       "      <td>-0.078640</td>\n",
       "      <td>0.461274</td>\n",
       "      <td>0.310655</td>\n",
       "      <td>-0.229258</td>\n",
       "      <td>-0.593614</td>\n",
       "      <td>0.054427</td>\n",
       "      <td>...</td>\n",
       "      <td>0.571898</td>\n",
       "      <td>0.208086</td>\n",
       "      <td>-0.211738</td>\n",
       "      <td>-0.259239</td>\n",
       "      <td>-0.205179</td>\n",
       "      <td>-0.281821</td>\n",
       "      <td>-0.006559</td>\n",
       "      <td>0.022582</td>\n",
       "      <td>0.076642</td>\n",
       "      <td>0.047501</td>\n",
       "    </tr>\n",
       "    <tr>\n",
       "      <th>isolate_03</th>\n",
       "      <td>-1.177201</td>\n",
       "      <td>-1.029589</td>\n",
       "      <td>-0.615262</td>\n",
       "      <td>-0.441903</td>\n",
       "      <td>-0.561939</td>\n",
       "      <td>-0.587685</td>\n",
       "      <td>-0.173359</td>\n",
       "      <td>-0.147612</td>\n",
       "      <td>-0.570606</td>\n",
       "      <td>0.149118</td>\n",
       "      <td>...</td>\n",
       "      <td>0.511762</td>\n",
       "      <td>0.384362</td>\n",
       "      <td>-0.026326</td>\n",
       "      <td>-0.445878</td>\n",
       "      <td>0.079967</td>\n",
       "      <td>-0.817153</td>\n",
       "      <td>-0.106292</td>\n",
       "      <td>0.371275</td>\n",
       "      <td>0.897120</td>\n",
       "      <td>0.419553</td>\n",
       "    </tr>\n",
       "    <tr>\n",
       "      <th>isolate_04</th>\n",
       "      <td>-0.371501</td>\n",
       "      <td>-0.297039</td>\n",
       "      <td>-1.174709</td>\n",
       "      <td>-1.114182</td>\n",
       "      <td>0.803208</td>\n",
       "      <td>0.817143</td>\n",
       "      <td>-0.060527</td>\n",
       "      <td>-0.074462</td>\n",
       "      <td>-0.078809</td>\n",
       "      <td>-0.009189</td>\n",
       "      <td>...</td>\n",
       "      <td>-0.288026</td>\n",
       "      <td>-0.537069</td>\n",
       "      <td>-0.203014</td>\n",
       "      <td>-0.145778</td>\n",
       "      <td>-0.289756</td>\n",
       "      <td>-0.521688</td>\n",
       "      <td>0.086742</td>\n",
       "      <td>0.375910</td>\n",
       "      <td>0.231932</td>\n",
       "      <td>-0.057236</td>\n",
       "    </tr>\n",
       "    <tr>\n",
       "      <th>isolate_05</th>\n",
       "      <td>-1.194063</td>\n",
       "      <td>-0.726577</td>\n",
       "      <td>-0.772119</td>\n",
       "      <td>-0.086344</td>\n",
       "      <td>-0.421944</td>\n",
       "      <td>-0.640232</td>\n",
       "      <td>-0.685775</td>\n",
       "      <td>-0.467486</td>\n",
       "      <td>-0.371096</td>\n",
       "      <td>-0.036870</td>\n",
       "      <td>...</td>\n",
       "      <td>-0.517850</td>\n",
       "      <td>1.422708</td>\n",
       "      <td>0.247644</td>\n",
       "      <td>-0.794295</td>\n",
       "      <td>-0.223348</td>\n",
       "      <td>-0.028819</td>\n",
       "      <td>0.470992</td>\n",
       "      <td>-0.765476</td>\n",
       "      <td>-0.194528</td>\n",
       "      <td>1.041939</td>\n",
       "    </tr>\n",
       "  </tbody>\n",
       "</table>\n",
       "<p>5 rows × 32 columns</p>\n",
       "</div>"
      ],
      "text/plain": [
       "            PF3D7_1323000_24HR_DHA  PF3D7_1323000_24HR_UT  \\\n",
       "isolate_01               -0.582688               0.235317   \n",
       "isolate_02               -0.667016              -0.437757   \n",
       "isolate_03               -1.177201              -1.029589   \n",
       "isolate_04               -0.371501              -0.297039   \n",
       "isolate_05               -1.194063              -0.726577   \n",
       "\n",
       "            PF3D7_1323000_6HR_DHA  PF3D7_1323000_6HR_UT  \\\n",
       "isolate_01              -1.434863             -0.232308   \n",
       "isolate_02              -0.588376             -0.899031   \n",
       "isolate_03              -0.615262             -0.441903   \n",
       "isolate_04              -1.174709             -1.114182   \n",
       "isolate_05              -0.772119             -0.086344   \n",
       "\n",
       "            PF3D7_1323000_24HR_6HR_DHA  PF3D7_1323000_24_6HR_UT  \\\n",
       "isolate_01                    0.852175                 0.467625   \n",
       "isolate_02                   -0.078640                 0.461274   \n",
       "isolate_03                   -0.561939                -0.587685   \n",
       "isolate_04                    0.803208                 0.817143   \n",
       "isolate_05                   -0.421944                -0.640232   \n",
       "\n",
       "            PF3D7_1323000_DHA_UT_6HR  PF3D7_1323000_DHA_UT_24HR  \\\n",
       "isolate_01                 -1.202555                  -0.818005   \n",
       "isolate_02                  0.310655                  -0.229258   \n",
       "isolate_03                 -0.173359                  -0.147612   \n",
       "isolate_04                 -0.060527                  -0.074462   \n",
       "isolate_05                 -0.685775                  -0.467486   \n",
       "\n",
       "            PF3D7_1362200_24HR_DHA  PF3D7_1362200_24HR_UT  ...  \\\n",
       "isolate_01               -0.182778               0.036708  ...   \n",
       "isolate_02               -0.593614               0.054427  ...   \n",
       "isolate_03               -0.570606               0.149118  ...   \n",
       "isolate_04               -0.078809              -0.009189  ...   \n",
       "isolate_05               -0.371096              -0.036870  ...   \n",
       "\n",
       "            PF3D7_1329100_DHA_UT_6HR  PF3D7_1329100_DHA_UT_24HR  \\\n",
       "isolate_01                 -0.107237                  -0.560692   \n",
       "isolate_02                  0.571898                   0.208086   \n",
       "isolate_03                  0.511762                   0.384362   \n",
       "isolate_04                 -0.288026                  -0.537069   \n",
       "isolate_05                 -0.517850                   1.422708   \n",
       "\n",
       "            PF3D7_0818900_24HR_DHA  PF3D7_0818900_24HR_UT  \\\n",
       "isolate_01               -0.092294              -0.115486   \n",
       "isolate_02               -0.211738              -0.259239   \n",
       "isolate_03               -0.026326              -0.445878   \n",
       "isolate_04               -0.203014              -0.145778   \n",
       "isolate_05                0.247644              -0.794295   \n",
       "\n",
       "            PF3D7_0818900_6HR_DHA  PF3D7_0818900_6HR_UT  \\\n",
       "isolate_01              -0.140164             -0.013975   \n",
       "isolate_02              -0.205179             -0.281821   \n",
       "isolate_03               0.079967             -0.817153   \n",
       "isolate_04              -0.289756             -0.521688   \n",
       "isolate_05              -0.223348             -0.028819   \n",
       "\n",
       "            PF3D7_0818900_24HR_6HR_DHA  PF3D7_0818900_24_6HR_UT  \\\n",
       "isolate_01                    0.047870                -0.101511   \n",
       "isolate_02                   -0.006559                 0.022582   \n",
       "isolate_03                   -0.106292                 0.371275   \n",
       "isolate_04                    0.086742                 0.375910   \n",
       "isolate_05                    0.470992                -0.765476   \n",
       "\n",
       "            PF3D7_0818900_DHA_UT_6HR  PF3D7_0818900_DHA_UT_24HR  \n",
       "isolate_01                 -0.126189                   0.023192  \n",
       "isolate_02                  0.076642                   0.047501  \n",
       "isolate_03                  0.897120                   0.419553  \n",
       "isolate_04                  0.231932                  -0.057236  \n",
       "isolate_05                 -0.194528                   1.041939  \n",
       "\n",
       "[5 rows x 32 columns]"
      ]
     },
     "execution_count": 196,
     "metadata": {},
     "output_type": "execute_result"
    }
   ],
   "source": [
    "selected_train=train[getGenesColumnLabels(selected_genes)]\n",
    "selected_train.head()"
   ]
  },
  {
   "cell_type": "code",
   "execution_count": 197,
   "metadata": {},
   "outputs": [],
   "source": [
    "X=selected_train\n",
    "y=IC50\n",
    "\n",
    "model=KernelRidge(alpha=1)\n",
    "model=model.fit(X.values,y.values)"
   ]
  },
  {
   "cell_type": "markdown",
   "metadata": {},
   "source": [
    "### 11.5 Save the model"
   ]
  },
  {
   "cell_type": "code",
   "execution_count": 198,
   "metadata": {},
   "outputs": [
    {
     "data": {
      "text/plain": [
       "['../models/model5_150819.pkl']"
      ]
     },
     "execution_count": 198,
     "metadata": {},
     "output_type": "execute_result"
    }
   ],
   "source": [
    "from sklearn.externals import joblib\n",
    "# Output a pickle file for the model\n",
    "joblib.dump(model, '../models/model5_150819.pkl') "
   ]
  },
  {
   "cell_type": "markdown",
   "metadata": {},
   "source": [
    "### 11.6. Use the model1 on the test data"
   ]
  },
  {
   "cell_type": "code",
   "execution_count": 199,
   "metadata": {
    "scrolled": true
   },
   "outputs": [
    {
     "data": {
      "text/html": [
       "<div>\n",
       "<style scoped>\n",
       "    .dataframe tbody tr th:only-of-type {\n",
       "        vertical-align: middle;\n",
       "    }\n",
       "\n",
       "    .dataframe tbody tr th {\n",
       "        vertical-align: top;\n",
       "    }\n",
       "\n",
       "    .dataframe thead th {\n",
       "        text-align: right;\n",
       "    }\n",
       "</style>\n",
       "<table border=\"1\" class=\"dataframe\">\n",
       "  <thead>\n",
       "    <tr style=\"text-align: right;\">\n",
       "      <th></th>\n",
       "      <th>PF3D7_1320400_24HR_DHA</th>\n",
       "      <th>PF3D7_1320400_24HR_UT</th>\n",
       "      <th>PF3D7_1320400_6HR_DHA</th>\n",
       "      <th>PF3D7_1320400_6HR_UT</th>\n",
       "      <th>PF3D7_1330600_24HR_DHA</th>\n",
       "      <th>PF3D7_1330600_24HR_UT</th>\n",
       "      <th>PF3D7_1330600_6HR_DHA</th>\n",
       "      <th>PF3D7_1330600_6HR_UT</th>\n",
       "      <th>PF3D7_0718500_24HR_DHA</th>\n",
       "      <th>PF3D7_0718500_24HR_UT</th>\n",
       "      <th>...</th>\n",
       "      <th>PF3D7_1220900_DHA_UT_6HR</th>\n",
       "      <th>PF3D7_1220900_DHA_UT_24HR</th>\n",
       "      <th>PF3D7_0815700_24HR_6HR_DHA</th>\n",
       "      <th>PF3D7_0815700_24_6HR_UT</th>\n",
       "      <th>PF3D7_0815700_DHA_UT_6HR</th>\n",
       "      <th>PF3D7_0815700_DHA_UT_24HR</th>\n",
       "      <th>PF3D7_0806400_24HR_6HR_DHA</th>\n",
       "      <th>PF3D7_0806400_24_6HR_UT</th>\n",
       "      <th>PF3D7_0806400_DHA_UT_6HR</th>\n",
       "      <th>PF3D7_0806400_DHA_UT_24HR</th>\n",
       "    </tr>\n",
       "  </thead>\n",
       "  <tbody>\n",
       "    <tr>\n",
       "      <th>isolate_31</th>\n",
       "      <td>-0.496219</td>\n",
       "      <td>-0.205819</td>\n",
       "      <td>-0.297698</td>\n",
       "      <td>-0.176457</td>\n",
       "      <td>-0.026993</td>\n",
       "      <td>-0.184111</td>\n",
       "      <td>-0.111504</td>\n",
       "      <td>0.021236</td>\n",
       "      <td>-0.363312</td>\n",
       "      <td>-0.667733</td>\n",
       "      <td>...</td>\n",
       "      <td>-0.235640</td>\n",
       "      <td>0.297858</td>\n",
       "      <td>-0.727671</td>\n",
       "      <td>0.331430</td>\n",
       "      <td>0.354194</td>\n",
       "      <td>-0.704907</td>\n",
       "      <td>0.436223</td>\n",
       "      <td>0.377827</td>\n",
       "      <td>-0.026954</td>\n",
       "      <td>0.031441</td>\n",
       "    </tr>\n",
       "    <tr>\n",
       "      <th>isolate_32</th>\n",
       "      <td>-0.410900</td>\n",
       "      <td>-0.570203</td>\n",
       "      <td>-0.282694</td>\n",
       "      <td>-0.846817</td>\n",
       "      <td>0.037439</td>\n",
       "      <td>-0.222429</td>\n",
       "      <td>0.518632</td>\n",
       "      <td>-0.891269</td>\n",
       "      <td>-0.017395</td>\n",
       "      <td>0.397179</td>\n",
       "      <td>...</td>\n",
       "      <td>0.747767</td>\n",
       "      <td>-0.005336</td>\n",
       "      <td>-0.315538</td>\n",
       "      <td>-0.900526</td>\n",
       "      <td>-0.440560</td>\n",
       "      <td>0.144428</td>\n",
       "      <td>-0.112116</td>\n",
       "      <td>-0.184576</td>\n",
       "      <td>0.216721</td>\n",
       "      <td>0.289182</td>\n",
       "    </tr>\n",
       "    <tr>\n",
       "      <th>isolate_33</th>\n",
       "      <td>0.126625</td>\n",
       "      <td>-0.134143</td>\n",
       "      <td>0.011314</td>\n",
       "      <td>-0.170277</td>\n",
       "      <td>-0.311933</td>\n",
       "      <td>0.192548</td>\n",
       "      <td>0.476600</td>\n",
       "      <td>-0.225284</td>\n",
       "      <td>-0.210986</td>\n",
       "      <td>-0.153042</td>\n",
       "      <td>...</td>\n",
       "      <td>0.299938</td>\n",
       "      <td>0.089551</td>\n",
       "      <td>-0.333410</td>\n",
       "      <td>0.351006</td>\n",
       "      <td>0.315305</td>\n",
       "      <td>-0.369111</td>\n",
       "      <td>-0.176616</td>\n",
       "      <td>-0.268314</td>\n",
       "      <td>-0.040697</td>\n",
       "      <td>0.051001</td>\n",
       "    </tr>\n",
       "    <tr>\n",
       "      <th>isolate_34</th>\n",
       "      <td>-0.001174</td>\n",
       "      <td>-0.040706</td>\n",
       "      <td>-0.373737</td>\n",
       "      <td>-0.645604</td>\n",
       "      <td>0.258427</td>\n",
       "      <td>0.103350</td>\n",
       "      <td>-0.426120</td>\n",
       "      <td>-0.104769</td>\n",
       "      <td>-0.153527</td>\n",
       "      <td>-0.015403</td>\n",
       "      <td>...</td>\n",
       "      <td>0.131564</td>\n",
       "      <td>0.125892</td>\n",
       "      <td>0.204306</td>\n",
       "      <td>0.721108</td>\n",
       "      <td>0.347970</td>\n",
       "      <td>-0.168831</td>\n",
       "      <td>-0.005535</td>\n",
       "      <td>0.777921</td>\n",
       "      <td>0.819739</td>\n",
       "      <td>0.036283</td>\n",
       "    </tr>\n",
       "    <tr>\n",
       "      <th>isolate_35</th>\n",
       "      <td>-0.119890</td>\n",
       "      <td>-0.425346</td>\n",
       "      <td>-0.626991</td>\n",
       "      <td>-0.443222</td>\n",
       "      <td>-0.262380</td>\n",
       "      <td>-0.317042</td>\n",
       "      <td>0.612304</td>\n",
       "      <td>-0.253117</td>\n",
       "      <td>0.061437</td>\n",
       "      <td>-0.093336</td>\n",
       "      <td>...</td>\n",
       "      <td>0.588694</td>\n",
       "      <td>-0.289170</td>\n",
       "      <td>0.003515</td>\n",
       "      <td>0.082447</td>\n",
       "      <td>-0.041141</td>\n",
       "      <td>-0.120072</td>\n",
       "      <td>0.506484</td>\n",
       "      <td>-0.419034</td>\n",
       "      <td>-0.763776</td>\n",
       "      <td>0.161742</td>\n",
       "    </tr>\n",
       "  </tbody>\n",
       "</table>\n",
       "<p>5 rows × 3848 columns</p>\n",
       "</div>"
      ],
      "text/plain": [
       "            PF3D7_1320400_24HR_DHA  PF3D7_1320400_24HR_UT  \\\n",
       "isolate_31               -0.496219              -0.205819   \n",
       "isolate_32               -0.410900              -0.570203   \n",
       "isolate_33                0.126625              -0.134143   \n",
       "isolate_34               -0.001174              -0.040706   \n",
       "isolate_35               -0.119890              -0.425346   \n",
       "\n",
       "            PF3D7_1320400_6HR_DHA  PF3D7_1320400_6HR_UT  \\\n",
       "isolate_31              -0.297698             -0.176457   \n",
       "isolate_32              -0.282694             -0.846817   \n",
       "isolate_33               0.011314             -0.170277   \n",
       "isolate_34              -0.373737             -0.645604   \n",
       "isolate_35              -0.626991             -0.443222   \n",
       "\n",
       "            PF3D7_1330600_24HR_DHA  PF3D7_1330600_24HR_UT  \\\n",
       "isolate_31               -0.026993              -0.184111   \n",
       "isolate_32                0.037439              -0.222429   \n",
       "isolate_33               -0.311933               0.192548   \n",
       "isolate_34                0.258427               0.103350   \n",
       "isolate_35               -0.262380              -0.317042   \n",
       "\n",
       "            PF3D7_1330600_6HR_DHA  PF3D7_1330600_6HR_UT  \\\n",
       "isolate_31              -0.111504              0.021236   \n",
       "isolate_32               0.518632             -0.891269   \n",
       "isolate_33               0.476600             -0.225284   \n",
       "isolate_34              -0.426120             -0.104769   \n",
       "isolate_35               0.612304             -0.253117   \n",
       "\n",
       "            PF3D7_0718500_24HR_DHA  PF3D7_0718500_24HR_UT  ...  \\\n",
       "isolate_31               -0.363312              -0.667733  ...   \n",
       "isolate_32               -0.017395               0.397179  ...   \n",
       "isolate_33               -0.210986              -0.153042  ...   \n",
       "isolate_34               -0.153527              -0.015403  ...   \n",
       "isolate_35                0.061437              -0.093336  ...   \n",
       "\n",
       "            PF3D7_1220900_DHA_UT_6HR  PF3D7_1220900_DHA_UT_24HR  \\\n",
       "isolate_31                 -0.235640                   0.297858   \n",
       "isolate_32                  0.747767                  -0.005336   \n",
       "isolate_33                  0.299938                   0.089551   \n",
       "isolate_34                  0.131564                   0.125892   \n",
       "isolate_35                  0.588694                  -0.289170   \n",
       "\n",
       "            PF3D7_0815700_24HR_6HR_DHA  PF3D7_0815700_24_6HR_UT  \\\n",
       "isolate_31                   -0.727671                 0.331430   \n",
       "isolate_32                   -0.315538                -0.900526   \n",
       "isolate_33                   -0.333410                 0.351006   \n",
       "isolate_34                    0.204306                 0.721108   \n",
       "isolate_35                    0.003515                 0.082447   \n",
       "\n",
       "            PF3D7_0815700_DHA_UT_6HR  PF3D7_0815700_DHA_UT_24HR  \\\n",
       "isolate_31                  0.354194                  -0.704907   \n",
       "isolate_32                 -0.440560                   0.144428   \n",
       "isolate_33                  0.315305                  -0.369111   \n",
       "isolate_34                  0.347970                  -0.168831   \n",
       "isolate_35                 -0.041141                  -0.120072   \n",
       "\n",
       "            PF3D7_0806400_24HR_6HR_DHA  PF3D7_0806400_24_6HR_UT  \\\n",
       "isolate_31                    0.436223                 0.377827   \n",
       "isolate_32                   -0.112116                -0.184576   \n",
       "isolate_33                   -0.176616                -0.268314   \n",
       "isolate_34                   -0.005535                 0.777921   \n",
       "isolate_35                    0.506484                -0.419034   \n",
       "\n",
       "            PF3D7_0806400_DHA_UT_6HR  PF3D7_0806400_DHA_UT_24HR  \n",
       "isolate_31                 -0.026954                   0.031441  \n",
       "isolate_32                  0.216721                   0.289182  \n",
       "isolate_33                 -0.040697                   0.051001  \n",
       "isolate_34                  0.819739                   0.036283  \n",
       "isolate_35                 -0.763776                   0.161742  \n",
       "\n",
       "[5 rows x 3848 columns]"
      ]
     },
     "execution_count": 199,
     "metadata": {},
     "output_type": "execute_result"
    }
   ],
   "source": [
    "test.head()"
   ]
  },
  {
   "cell_type": "markdown",
   "metadata": {},
   "source": [
    "### 11.6 Make the IC50 predictions"
   ]
  },
  {
   "cell_type": "code",
   "execution_count": 200,
   "metadata": {},
   "outputs": [],
   "source": [
    "#Load the model\n",
    "model_load = joblib.load('../models/model5_150819.pkl') "
   ]
  },
  {
   "cell_type": "code",
   "execution_count": 201,
   "metadata": {},
   "outputs": [
    {
     "data": {
      "text/html": [
       "<div>\n",
       "<style scoped>\n",
       "    .dataframe tbody tr th:only-of-type {\n",
       "        vertical-align: middle;\n",
       "    }\n",
       "\n",
       "    .dataframe tbody tr th {\n",
       "        vertical-align: top;\n",
       "    }\n",
       "\n",
       "    .dataframe thead th {\n",
       "        text-align: right;\n",
       "    }\n",
       "</style>\n",
       "<table border=\"1\" class=\"dataframe\">\n",
       "  <thead>\n",
       "    <tr style=\"text-align: right;\">\n",
       "      <th></th>\n",
       "      <th>PF3D7_1323000_24HR_DHA</th>\n",
       "      <th>PF3D7_1323000_24HR_UT</th>\n",
       "      <th>PF3D7_1323000_6HR_DHA</th>\n",
       "      <th>PF3D7_1323000_6HR_UT</th>\n",
       "      <th>PF3D7_1323000_24HR_6HR_DHA</th>\n",
       "      <th>PF3D7_1323000_24_6HR_UT</th>\n",
       "      <th>PF3D7_1323000_DHA_UT_6HR</th>\n",
       "      <th>PF3D7_1323000_DHA_UT_24HR</th>\n",
       "      <th>PF3D7_1362200_24HR_DHA</th>\n",
       "      <th>PF3D7_1362200_24HR_UT</th>\n",
       "      <th>...</th>\n",
       "      <th>PF3D7_1329100_DHA_UT_6HR</th>\n",
       "      <th>PF3D7_1329100_DHA_UT_24HR</th>\n",
       "      <th>PF3D7_0818900_24HR_DHA</th>\n",
       "      <th>PF3D7_0818900_24HR_UT</th>\n",
       "      <th>PF3D7_0818900_6HR_DHA</th>\n",
       "      <th>PF3D7_0818900_6HR_UT</th>\n",
       "      <th>PF3D7_0818900_24HR_6HR_DHA</th>\n",
       "      <th>PF3D7_0818900_24_6HR_UT</th>\n",
       "      <th>PF3D7_0818900_DHA_UT_6HR</th>\n",
       "      <th>PF3D7_0818900_DHA_UT_24HR</th>\n",
       "    </tr>\n",
       "  </thead>\n",
       "  <tbody>\n",
       "    <tr>\n",
       "      <th>isolate_31</th>\n",
       "      <td>0.362160</td>\n",
       "      <td>-0.006155</td>\n",
       "      <td>-0.803857</td>\n",
       "      <td>-0.796366</td>\n",
       "      <td>1.166017</td>\n",
       "      <td>0.790211</td>\n",
       "      <td>-0.007491</td>\n",
       "      <td>0.368315</td>\n",
       "      <td>-0.303298</td>\n",
       "      <td>-0.179782</td>\n",
       "      <td>...</td>\n",
       "      <td>-0.785088</td>\n",
       "      <td>0.463112</td>\n",
       "      <td>-0.123340</td>\n",
       "      <td>-0.516016</td>\n",
       "      <td>-0.176485</td>\n",
       "      <td>0.219132</td>\n",
       "      <td>0.053146</td>\n",
       "      <td>-0.735148</td>\n",
       "      <td>-0.395617</td>\n",
       "      <td>0.392676</td>\n",
       "    </tr>\n",
       "    <tr>\n",
       "      <th>isolate_32</th>\n",
       "      <td>-0.191774</td>\n",
       "      <td>-0.779432</td>\n",
       "      <td>-0.564029</td>\n",
       "      <td>-0.647686</td>\n",
       "      <td>0.372255</td>\n",
       "      <td>-0.131745</td>\n",
       "      <td>0.083657</td>\n",
       "      <td>0.587658</td>\n",
       "      <td>-0.210903</td>\n",
       "      <td>-0.489182</td>\n",
       "      <td>...</td>\n",
       "      <td>0.125713</td>\n",
       "      <td>-0.522159</td>\n",
       "      <td>-0.075937</td>\n",
       "      <td>0.150002</td>\n",
       "      <td>0.242583</td>\n",
       "      <td>-0.336617</td>\n",
       "      <td>-0.318520</td>\n",
       "      <td>0.486618</td>\n",
       "      <td>0.579199</td>\n",
       "      <td>-0.225939</td>\n",
       "    </tr>\n",
       "    <tr>\n",
       "      <th>isolate_33</th>\n",
       "      <td>-0.334484</td>\n",
       "      <td>-0.880449</td>\n",
       "      <td>-0.689893</td>\n",
       "      <td>-0.515219</td>\n",
       "      <td>0.355410</td>\n",
       "      <td>-0.365230</td>\n",
       "      <td>-0.174674</td>\n",
       "      <td>0.545966</td>\n",
       "      <td>0.114838</td>\n",
       "      <td>0.017443</td>\n",
       "      <td>...</td>\n",
       "      <td>0.295442</td>\n",
       "      <td>0.422695</td>\n",
       "      <td>-0.178803</td>\n",
       "      <td>-0.506534</td>\n",
       "      <td>0.230379</td>\n",
       "      <td>-0.449289</td>\n",
       "      <td>-0.409182</td>\n",
       "      <td>-0.057245</td>\n",
       "      <td>0.679668</td>\n",
       "      <td>0.327730</td>\n",
       "    </tr>\n",
       "    <tr>\n",
       "      <th>isolate_34</th>\n",
       "      <td>-0.718016</td>\n",
       "      <td>-0.967435</td>\n",
       "      <td>0.100222</td>\n",
       "      <td>-0.207841</td>\n",
       "      <td>-0.818238</td>\n",
       "      <td>-0.759594</td>\n",
       "      <td>0.308063</td>\n",
       "      <td>0.249419</td>\n",
       "      <td>-0.187246</td>\n",
       "      <td>-0.371007</td>\n",
       "      <td>...</td>\n",
       "      <td>-0.096872</td>\n",
       "      <td>-0.107334</td>\n",
       "      <td>-0.278627</td>\n",
       "      <td>-0.196599</td>\n",
       "      <td>-0.116313</td>\n",
       "      <td>0.184216</td>\n",
       "      <td>-0.162315</td>\n",
       "      <td>-0.380815</td>\n",
       "      <td>-0.300529</td>\n",
       "      <td>-0.082028</td>\n",
       "    </tr>\n",
       "    <tr>\n",
       "      <th>isolate_35</th>\n",
       "      <td>-0.129765</td>\n",
       "      <td>-0.360100</td>\n",
       "      <td>-0.167618</td>\n",
       "      <td>-0.486846</td>\n",
       "      <td>0.037852</td>\n",
       "      <td>0.126746</td>\n",
       "      <td>0.319228</td>\n",
       "      <td>0.230335</td>\n",
       "      <td>0.135629</td>\n",
       "      <td>-0.461348</td>\n",
       "      <td>...</td>\n",
       "      <td>1.186195</td>\n",
       "      <td>0.204827</td>\n",
       "      <td>-0.205279</td>\n",
       "      <td>0.061793</td>\n",
       "      <td>0.408609</td>\n",
       "      <td>-0.525774</td>\n",
       "      <td>-0.613888</td>\n",
       "      <td>0.587568</td>\n",
       "      <td>0.934383</td>\n",
       "      <td>-0.267072</td>\n",
       "    </tr>\n",
       "  </tbody>\n",
       "</table>\n",
       "<p>5 rows × 32 columns</p>\n",
       "</div>"
      ],
      "text/plain": [
       "            PF3D7_1323000_24HR_DHA  PF3D7_1323000_24HR_UT  \\\n",
       "isolate_31                0.362160              -0.006155   \n",
       "isolate_32               -0.191774              -0.779432   \n",
       "isolate_33               -0.334484              -0.880449   \n",
       "isolate_34               -0.718016              -0.967435   \n",
       "isolate_35               -0.129765              -0.360100   \n",
       "\n",
       "            PF3D7_1323000_6HR_DHA  PF3D7_1323000_6HR_UT  \\\n",
       "isolate_31              -0.803857             -0.796366   \n",
       "isolate_32              -0.564029             -0.647686   \n",
       "isolate_33              -0.689893             -0.515219   \n",
       "isolate_34               0.100222             -0.207841   \n",
       "isolate_35              -0.167618             -0.486846   \n",
       "\n",
       "            PF3D7_1323000_24HR_6HR_DHA  PF3D7_1323000_24_6HR_UT  \\\n",
       "isolate_31                    1.166017                 0.790211   \n",
       "isolate_32                    0.372255                -0.131745   \n",
       "isolate_33                    0.355410                -0.365230   \n",
       "isolate_34                   -0.818238                -0.759594   \n",
       "isolate_35                    0.037852                 0.126746   \n",
       "\n",
       "            PF3D7_1323000_DHA_UT_6HR  PF3D7_1323000_DHA_UT_24HR  \\\n",
       "isolate_31                 -0.007491                   0.368315   \n",
       "isolate_32                  0.083657                   0.587658   \n",
       "isolate_33                 -0.174674                   0.545966   \n",
       "isolate_34                  0.308063                   0.249419   \n",
       "isolate_35                  0.319228                   0.230335   \n",
       "\n",
       "            PF3D7_1362200_24HR_DHA  PF3D7_1362200_24HR_UT  ...  \\\n",
       "isolate_31               -0.303298              -0.179782  ...   \n",
       "isolate_32               -0.210903              -0.489182  ...   \n",
       "isolate_33                0.114838               0.017443  ...   \n",
       "isolate_34               -0.187246              -0.371007  ...   \n",
       "isolate_35                0.135629              -0.461348  ...   \n",
       "\n",
       "            PF3D7_1329100_DHA_UT_6HR  PF3D7_1329100_DHA_UT_24HR  \\\n",
       "isolate_31                 -0.785088                   0.463112   \n",
       "isolate_32                  0.125713                  -0.522159   \n",
       "isolate_33                  0.295442                   0.422695   \n",
       "isolate_34                 -0.096872                  -0.107334   \n",
       "isolate_35                  1.186195                   0.204827   \n",
       "\n",
       "            PF3D7_0818900_24HR_DHA  PF3D7_0818900_24HR_UT  \\\n",
       "isolate_31               -0.123340              -0.516016   \n",
       "isolate_32               -0.075937               0.150002   \n",
       "isolate_33               -0.178803              -0.506534   \n",
       "isolate_34               -0.278627              -0.196599   \n",
       "isolate_35               -0.205279               0.061793   \n",
       "\n",
       "            PF3D7_0818900_6HR_DHA  PF3D7_0818900_6HR_UT  \\\n",
       "isolate_31              -0.176485              0.219132   \n",
       "isolate_32               0.242583             -0.336617   \n",
       "isolate_33               0.230379             -0.449289   \n",
       "isolate_34              -0.116313              0.184216   \n",
       "isolate_35               0.408609             -0.525774   \n",
       "\n",
       "            PF3D7_0818900_24HR_6HR_DHA  PF3D7_0818900_24_6HR_UT  \\\n",
       "isolate_31                    0.053146                -0.735148   \n",
       "isolate_32                   -0.318520                 0.486618   \n",
       "isolate_33                   -0.409182                -0.057245   \n",
       "isolate_34                   -0.162315                -0.380815   \n",
       "isolate_35                   -0.613888                 0.587568   \n",
       "\n",
       "            PF3D7_0818900_DHA_UT_6HR  PF3D7_0818900_DHA_UT_24HR  \n",
       "isolate_31                 -0.395617                   0.392676  \n",
       "isolate_32                  0.579199                  -0.225939  \n",
       "isolate_33                  0.679668                   0.327730  \n",
       "isolate_34                 -0.300529                  -0.082028  \n",
       "isolate_35                  0.934383                  -0.267072  \n",
       "\n",
       "[5 rows x 32 columns]"
      ]
     },
     "execution_count": 201,
     "metadata": {},
     "output_type": "execute_result"
    }
   ],
   "source": [
    "selected_test=test[getGenesColumnLabels(selected_genes)]\n",
    "selected_test.head()"
   ]
  },
  {
   "cell_type": "code",
   "execution_count": 202,
   "metadata": {},
   "outputs": [
    {
     "data": {
      "text/html": [
       "<div>\n",
       "<style scoped>\n",
       "    .dataframe tbody tr th:only-of-type {\n",
       "        vertical-align: middle;\n",
       "    }\n",
       "\n",
       "    .dataframe tbody tr th {\n",
       "        vertical-align: top;\n",
       "    }\n",
       "\n",
       "    .dataframe thead th {\n",
       "        text-align: right;\n",
       "    }\n",
       "</style>\n",
       "<table border=\"1\" class=\"dataframe\">\n",
       "  <thead>\n",
       "    <tr style=\"text-align: right;\">\n",
       "      <th></th>\n",
       "      <th>PF3D7_1323000_24HR_DHA</th>\n",
       "      <th>PF3D7_1323000_24HR_UT</th>\n",
       "      <th>PF3D7_1323000_6HR_DHA</th>\n",
       "      <th>PF3D7_1323000_6HR_UT</th>\n",
       "      <th>PF3D7_1323000_24HR_6HR_DHA</th>\n",
       "      <th>PF3D7_1323000_24_6HR_UT</th>\n",
       "      <th>PF3D7_1323000_DHA_UT_6HR</th>\n",
       "      <th>PF3D7_1323000_DHA_UT_24HR</th>\n",
       "      <th>PF3D7_1362200_24HR_DHA</th>\n",
       "      <th>PF3D7_1362200_24HR_UT</th>\n",
       "      <th>...</th>\n",
       "      <th>PF3D7_1329100_DHA_UT_6HR</th>\n",
       "      <th>PF3D7_1329100_DHA_UT_24HR</th>\n",
       "      <th>PF3D7_0818900_24HR_DHA</th>\n",
       "      <th>PF3D7_0818900_24HR_UT</th>\n",
       "      <th>PF3D7_0818900_6HR_DHA</th>\n",
       "      <th>PF3D7_0818900_6HR_UT</th>\n",
       "      <th>PF3D7_0818900_24HR_6HR_DHA</th>\n",
       "      <th>PF3D7_0818900_24_6HR_UT</th>\n",
       "      <th>PF3D7_0818900_DHA_UT_6HR</th>\n",
       "      <th>PF3D7_0818900_DHA_UT_24HR</th>\n",
       "    </tr>\n",
       "  </thead>\n",
       "  <tbody>\n",
       "    <tr>\n",
       "      <th>isolate_31</th>\n",
       "      <td>0.362160</td>\n",
       "      <td>-0.006155</td>\n",
       "      <td>-0.803857</td>\n",
       "      <td>-0.796366</td>\n",
       "      <td>1.166017</td>\n",
       "      <td>0.790211</td>\n",
       "      <td>-0.007491</td>\n",
       "      <td>0.368315</td>\n",
       "      <td>-0.303298</td>\n",
       "      <td>-0.179782</td>\n",
       "      <td>...</td>\n",
       "      <td>-0.785088</td>\n",
       "      <td>0.463112</td>\n",
       "      <td>-0.123340</td>\n",
       "      <td>-0.516016</td>\n",
       "      <td>-0.176485</td>\n",
       "      <td>0.219132</td>\n",
       "      <td>0.053146</td>\n",
       "      <td>-0.735148</td>\n",
       "      <td>-0.395617</td>\n",
       "      <td>0.392676</td>\n",
       "    </tr>\n",
       "    <tr>\n",
       "      <th>isolate_32</th>\n",
       "      <td>-0.191774</td>\n",
       "      <td>-0.779432</td>\n",
       "      <td>-0.564029</td>\n",
       "      <td>-0.647686</td>\n",
       "      <td>0.372255</td>\n",
       "      <td>-0.131745</td>\n",
       "      <td>0.083657</td>\n",
       "      <td>0.587658</td>\n",
       "      <td>-0.210903</td>\n",
       "      <td>-0.489182</td>\n",
       "      <td>...</td>\n",
       "      <td>0.125713</td>\n",
       "      <td>-0.522159</td>\n",
       "      <td>-0.075937</td>\n",
       "      <td>0.150002</td>\n",
       "      <td>0.242583</td>\n",
       "      <td>-0.336617</td>\n",
       "      <td>-0.318520</td>\n",
       "      <td>0.486618</td>\n",
       "      <td>0.579199</td>\n",
       "      <td>-0.225939</td>\n",
       "    </tr>\n",
       "    <tr>\n",
       "      <th>isolate_33</th>\n",
       "      <td>-0.334484</td>\n",
       "      <td>-0.880449</td>\n",
       "      <td>-0.689893</td>\n",
       "      <td>-0.515219</td>\n",
       "      <td>0.355410</td>\n",
       "      <td>-0.365230</td>\n",
       "      <td>-0.174674</td>\n",
       "      <td>0.545966</td>\n",
       "      <td>0.114838</td>\n",
       "      <td>0.017443</td>\n",
       "      <td>...</td>\n",
       "      <td>0.295442</td>\n",
       "      <td>0.422695</td>\n",
       "      <td>-0.178803</td>\n",
       "      <td>-0.506534</td>\n",
       "      <td>0.230379</td>\n",
       "      <td>-0.449289</td>\n",
       "      <td>-0.409182</td>\n",
       "      <td>-0.057245</td>\n",
       "      <td>0.679668</td>\n",
       "      <td>0.327730</td>\n",
       "    </tr>\n",
       "    <tr>\n",
       "      <th>isolate_34</th>\n",
       "      <td>-0.718016</td>\n",
       "      <td>-0.967435</td>\n",
       "      <td>0.100222</td>\n",
       "      <td>-0.207841</td>\n",
       "      <td>-0.818238</td>\n",
       "      <td>-0.759594</td>\n",
       "      <td>0.308063</td>\n",
       "      <td>0.249419</td>\n",
       "      <td>-0.187246</td>\n",
       "      <td>-0.371007</td>\n",
       "      <td>...</td>\n",
       "      <td>-0.096872</td>\n",
       "      <td>-0.107334</td>\n",
       "      <td>-0.278627</td>\n",
       "      <td>-0.196599</td>\n",
       "      <td>-0.116313</td>\n",
       "      <td>0.184216</td>\n",
       "      <td>-0.162315</td>\n",
       "      <td>-0.380815</td>\n",
       "      <td>-0.300529</td>\n",
       "      <td>-0.082028</td>\n",
       "    </tr>\n",
       "    <tr>\n",
       "      <th>isolate_35</th>\n",
       "      <td>-0.129765</td>\n",
       "      <td>-0.360100</td>\n",
       "      <td>-0.167618</td>\n",
       "      <td>-0.486846</td>\n",
       "      <td>0.037852</td>\n",
       "      <td>0.126746</td>\n",
       "      <td>0.319228</td>\n",
       "      <td>0.230335</td>\n",
       "      <td>0.135629</td>\n",
       "      <td>-0.461348</td>\n",
       "      <td>...</td>\n",
       "      <td>1.186195</td>\n",
       "      <td>0.204827</td>\n",
       "      <td>-0.205279</td>\n",
       "      <td>0.061793</td>\n",
       "      <td>0.408609</td>\n",
       "      <td>-0.525774</td>\n",
       "      <td>-0.613888</td>\n",
       "      <td>0.587568</td>\n",
       "      <td>0.934383</td>\n",
       "      <td>-0.267072</td>\n",
       "    </tr>\n",
       "  </tbody>\n",
       "</table>\n",
       "<p>5 rows × 32 columns</p>\n",
       "</div>"
      ],
      "text/plain": [
       "            PF3D7_1323000_24HR_DHA  PF3D7_1323000_24HR_UT  \\\n",
       "isolate_31                0.362160              -0.006155   \n",
       "isolate_32               -0.191774              -0.779432   \n",
       "isolate_33               -0.334484              -0.880449   \n",
       "isolate_34               -0.718016              -0.967435   \n",
       "isolate_35               -0.129765              -0.360100   \n",
       "\n",
       "            PF3D7_1323000_6HR_DHA  PF3D7_1323000_6HR_UT  \\\n",
       "isolate_31              -0.803857             -0.796366   \n",
       "isolate_32              -0.564029             -0.647686   \n",
       "isolate_33              -0.689893             -0.515219   \n",
       "isolate_34               0.100222             -0.207841   \n",
       "isolate_35              -0.167618             -0.486846   \n",
       "\n",
       "            PF3D7_1323000_24HR_6HR_DHA  PF3D7_1323000_24_6HR_UT  \\\n",
       "isolate_31                    1.166017                 0.790211   \n",
       "isolate_32                    0.372255                -0.131745   \n",
       "isolate_33                    0.355410                -0.365230   \n",
       "isolate_34                   -0.818238                -0.759594   \n",
       "isolate_35                    0.037852                 0.126746   \n",
       "\n",
       "            PF3D7_1323000_DHA_UT_6HR  PF3D7_1323000_DHA_UT_24HR  \\\n",
       "isolate_31                 -0.007491                   0.368315   \n",
       "isolate_32                  0.083657                   0.587658   \n",
       "isolate_33                 -0.174674                   0.545966   \n",
       "isolate_34                  0.308063                   0.249419   \n",
       "isolate_35                  0.319228                   0.230335   \n",
       "\n",
       "            PF3D7_1362200_24HR_DHA  PF3D7_1362200_24HR_UT  ...  \\\n",
       "isolate_31               -0.303298              -0.179782  ...   \n",
       "isolate_32               -0.210903              -0.489182  ...   \n",
       "isolate_33                0.114838               0.017443  ...   \n",
       "isolate_34               -0.187246              -0.371007  ...   \n",
       "isolate_35                0.135629              -0.461348  ...   \n",
       "\n",
       "            PF3D7_1329100_DHA_UT_6HR  PF3D7_1329100_DHA_UT_24HR  \\\n",
       "isolate_31                 -0.785088                   0.463112   \n",
       "isolate_32                  0.125713                  -0.522159   \n",
       "isolate_33                  0.295442                   0.422695   \n",
       "isolate_34                 -0.096872                  -0.107334   \n",
       "isolate_35                  1.186195                   0.204827   \n",
       "\n",
       "            PF3D7_0818900_24HR_DHA  PF3D7_0818900_24HR_UT  \\\n",
       "isolate_31               -0.123340              -0.516016   \n",
       "isolate_32               -0.075937               0.150002   \n",
       "isolate_33               -0.178803              -0.506534   \n",
       "isolate_34               -0.278627              -0.196599   \n",
       "isolate_35               -0.205279               0.061793   \n",
       "\n",
       "            PF3D7_0818900_6HR_DHA  PF3D7_0818900_6HR_UT  \\\n",
       "isolate_31              -0.176485              0.219132   \n",
       "isolate_32               0.242583             -0.336617   \n",
       "isolate_33               0.230379             -0.449289   \n",
       "isolate_34              -0.116313              0.184216   \n",
       "isolate_35               0.408609             -0.525774   \n",
       "\n",
       "            PF3D7_0818900_24HR_6HR_DHA  PF3D7_0818900_24_6HR_UT  \\\n",
       "isolate_31                    0.053146                -0.735148   \n",
       "isolate_32                   -0.318520                 0.486618   \n",
       "isolate_33                   -0.409182                -0.057245   \n",
       "isolate_34                   -0.162315                -0.380815   \n",
       "isolate_35                   -0.613888                 0.587568   \n",
       "\n",
       "            PF3D7_0818900_DHA_UT_6HR  PF3D7_0818900_DHA_UT_24HR  \n",
       "isolate_31                 -0.395617                   0.392676  \n",
       "isolate_32                  0.579199                  -0.225939  \n",
       "isolate_33                  0.679668                   0.327730  \n",
       "isolate_34                 -0.300529                  -0.082028  \n",
       "isolate_35                  0.934383                  -0.267072  \n",
       "\n",
       "[5 rows x 32 columns]"
      ]
     },
     "execution_count": 202,
     "metadata": {},
     "output_type": "execute_result"
    }
   ],
   "source": [
    "X_test=selected_test\n",
    "X_test.head()"
   ]
  },
  {
   "cell_type": "code",
   "execution_count": 203,
   "metadata": {},
   "outputs": [],
   "source": [
    "IC50_pred=model_load.predict(X_test)"
   ]
  },
  {
   "cell_type": "markdown",
   "metadata": {},
   "source": [
    "### 11.7 Format the predictions for submission"
   ]
  },
  {
   "cell_type": "code",
   "execution_count": 204,
   "metadata": {},
   "outputs": [],
   "source": [
    "temp_list=[]\n",
    "for value in IC50_pred:\n",
    "    temp_list.append(value[0])\n",
    "IC50_pred=temp_list"
   ]
  },
  {
   "cell_type": "code",
   "execution_count": 205,
   "metadata": {},
   "outputs": [],
   "source": [
    "submission=pd.DataFrame({'Isolate':isolates_list_test,'Predicted_IC50':IC50_pred})"
   ]
  },
  {
   "cell_type": "code",
   "execution_count": 206,
   "metadata": {
    "scrolled": true
   },
   "outputs": [
    {
     "data": {
      "text/html": [
       "<div>\n",
       "<style scoped>\n",
       "    .dataframe tbody tr th:only-of-type {\n",
       "        vertical-align: middle;\n",
       "    }\n",
       "\n",
       "    .dataframe tbody tr th {\n",
       "        vertical-align: top;\n",
       "    }\n",
       "\n",
       "    .dataframe thead th {\n",
       "        text-align: right;\n",
       "    }\n",
       "</style>\n",
       "<table border=\"1\" class=\"dataframe\">\n",
       "  <thead>\n",
       "    <tr style=\"text-align: right;\">\n",
       "      <th></th>\n",
       "      <th>Isolate</th>\n",
       "      <th>Predicted_IC50</th>\n",
       "    </tr>\n",
       "  </thead>\n",
       "  <tbody>\n",
       "    <tr>\n",
       "      <th>0</th>\n",
       "      <td>isolate_31</td>\n",
       "      <td>1.053570</td>\n",
       "    </tr>\n",
       "    <tr>\n",
       "      <th>1</th>\n",
       "      <td>isolate_32</td>\n",
       "      <td>1.184980</td>\n",
       "    </tr>\n",
       "    <tr>\n",
       "      <th>2</th>\n",
       "      <td>isolate_33</td>\n",
       "      <td>0.875668</td>\n",
       "    </tr>\n",
       "    <tr>\n",
       "      <th>3</th>\n",
       "      <td>isolate_34</td>\n",
       "      <td>1.308534</td>\n",
       "    </tr>\n",
       "    <tr>\n",
       "      <th>4</th>\n",
       "      <td>isolate_35</td>\n",
       "      <td>0.067821</td>\n",
       "    </tr>\n",
       "  </tbody>\n",
       "</table>\n",
       "</div>"
      ],
      "text/plain": [
       "      Isolate  Predicted_IC50\n",
       "0  isolate_31        1.053570\n",
       "1  isolate_32        1.184980\n",
       "2  isolate_33        0.875668\n",
       "3  isolate_34        1.308534\n",
       "4  isolate_35        0.067821"
      ]
     },
     "execution_count": 206,
     "metadata": {},
     "output_type": "execute_result"
    }
   ],
   "source": [
    "submission.head()"
   ]
  },
  {
   "cell_type": "markdown",
   "metadata": {},
   "source": [
    "### 11.8 Save submissions to file"
   ]
  },
  {
   "cell_type": "code",
   "execution_count": 207,
   "metadata": {},
   "outputs": [],
   "source": [
    "submission.to_csv('../submissions/lylat_SubCh1_model5_150819.txt', sep='\\t',index=None)"
   ]
  },
  {
   "cell_type": "markdown",
   "metadata": {},
   "source": [
    "## 14. Train the model usin KRR after KPCA on important genes\n",
    "\n",
    "Use train and test data that only contain the important genes as found from steps 2 - 4 in the data_explore notebook."
   ]
  },
  {
   "cell_type": "code",
   "execution_count": 173,
   "metadata": {},
   "outputs": [],
   "source": [
    "train_PCA_30=pd.read_csv('../data/train_KPCA_30.csv', index_col=0)\n",
    "test_PCA_30=pd.read_csv('../data/test_KPCA_30.csv', index_col=0)\n",
    "IC50=pd.read_csv('../data/flat_IC50.csv',index_col=0)"
   ]
  },
  {
   "cell_type": "code",
   "execution_count": 143,
   "metadata": {},
   "outputs": [],
   "source": [
    "X=train_PCA_30.values\n",
    "X_test=test_PCA_30.values\n",
    "y=IC50.values"
   ]
  },
  {
   "cell_type": "markdown",
   "metadata": {},
   "source": [
    "### 14.1 Perform crossvalidation"
   ]
  },
  {
   "cell_type": "code",
   "execution_count": 156,
   "metadata": {},
   "outputs": [],
   "source": [
    "from sklearn.kernel_ridge import KernelRidge\n",
    "from sklearn.model_selection import cross_validate\n",
    "reg = KernelRidge(alpha=0.8)\n",
    "scores = cross_validate(reg, X,y, scoring='r2', cv=5)"
   ]
  },
  {
   "cell_type": "code",
   "execution_count": 148,
   "metadata": {},
   "outputs": [
    {
     "name": "stderr",
     "output_type": "stream",
     "text": [
      "C:\\Users\\Public\\Miniconda3\\lib\\site-packages\\sklearn\\utils\\deprecation.py:125: FutureWarning: You are accessing a training score ('train_score'), which will not be available by default any more in 0.21. If you need training scores, please set return_train_score=True\n",
      "  warnings.warn(*warn_args, **warn_kwargs)\n"
     ]
    },
    {
     "data": {
      "text/plain": [
       "array([-0.42650565, -1.08096814, -0.48092885, -0.31061224, -0.57433094])"
      ]
     },
     "execution_count": 148,
     "metadata": {},
     "output_type": "execute_result"
    }
   ],
   "source": [
    "#alpha=1\n",
    "scores['train_score']"
   ]
  },
  {
   "cell_type": "code",
   "execution_count": 149,
   "metadata": {},
   "outputs": [
    {
     "data": {
      "text/plain": [
       "array([-136.55519829,  -46.84658957, -102.75297785, -219.92454546,\n",
       "       -253.87446314])"
      ]
     },
     "execution_count": 149,
     "metadata": {},
     "output_type": "execute_result"
    }
   ],
   "source": [
    "#alpha=1\n",
    "scores['test_score']"
   ]
  },
  {
   "cell_type": "code",
   "execution_count": 151,
   "metadata": {},
   "outputs": [
    {
     "name": "stderr",
     "output_type": "stream",
     "text": [
      "C:\\Users\\Public\\Miniconda3\\lib\\site-packages\\sklearn\\utils\\deprecation.py:125: FutureWarning: You are accessing a training score ('train_score'), which will not be available by default any more in 0.21. If you need training scores, please set return_train_score=True\n",
      "  warnings.warn(*warn_args, **warn_kwargs)\n"
     ]
    },
    {
     "data": {
      "text/plain": [
       "array([0.86491135, 0.78531512, 0.86636579, 0.86351211, 0.84791563])"
      ]
     },
     "execution_count": 151,
     "metadata": {},
     "output_type": "execute_result"
    }
   ],
   "source": [
    "#alpha=0.2\n",
    "scores['train_score']"
   ]
  },
  {
   "cell_type": "code",
   "execution_count": 152,
   "metadata": {},
   "outputs": [
    {
     "data": {
      "text/plain": [
       "array([-257.71412968,  -86.3215084 , -193.20510798, -403.00413967,\n",
       "       -513.85236608])"
      ]
     },
     "execution_count": 152,
     "metadata": {},
     "output_type": "execute_result"
    }
   ],
   "source": [
    "#alpha=0.2\n",
    "scores['test_score']"
   ]
  },
  {
   "cell_type": "code",
   "execution_count": 154,
   "metadata": {},
   "outputs": [
    {
     "name": "stderr",
     "output_type": "stream",
     "text": [
      "C:\\Users\\Public\\Miniconda3\\lib\\site-packages\\sklearn\\utils\\deprecation.py:125: FutureWarning: You are accessing a training score ('train_score'), which will not be available by default any more in 0.21. If you need training scores, please set return_train_score=True\n",
      "  warnings.warn(*warn_args, **warn_kwargs)\n"
     ]
    },
    {
     "data": {
      "text/plain": [
       "array([0.4167619 , 0.11496521, 0.41037733, 0.44220476, 0.34918313])"
      ]
     },
     "execution_count": 154,
     "metadata": {},
     "output_type": "execute_result"
    }
   ],
   "source": [
    "#alpha=0.5\n",
    "scores['train_score']"
   ]
  },
  {
   "cell_type": "code",
   "execution_count": 155,
   "metadata": {},
   "outputs": [
    {
     "data": {
      "text/plain": [
       "array([-194.79997841,  -65.64715722, -146.8563478 , -307.32411013,\n",
       "       -376.90861916])"
      ]
     },
     "execution_count": 155,
     "metadata": {},
     "output_type": "execute_result"
    }
   ],
   "source": [
    "#alpha=0.5\n",
    "scores['test_score']"
   ]
  },
  {
   "cell_type": "code",
   "execution_count": 157,
   "metadata": {},
   "outputs": [
    {
     "name": "stderr",
     "output_type": "stream",
     "text": [
      "C:\\Users\\Public\\Miniconda3\\lib\\site-packages\\sklearn\\utils\\deprecation.py:125: FutureWarning: You are accessing a training score ('train_score'), which will not be available by default any more in 0.21. If you need training scores, please set return_train_score=True\n",
      "  warnings.warn(*warn_args, **warn_kwargs)\n"
     ]
    },
    {
     "data": {
      "text/plain": [
       "array([-0.09522704, -0.61756207, -0.12635377, -0.01800658, -0.213422  ])"
      ]
     },
     "execution_count": 157,
     "metadata": {},
     "output_type": "execute_result"
    }
   ],
   "source": [
    "#alpha=0.8\n",
    "scores['train_score']"
   ]
  },
  {
   "cell_type": "code",
   "execution_count": 158,
   "metadata": {
    "scrolled": true
   },
   "outputs": [
    {
     "data": {
      "text/plain": [
       "array([-155.3515397 ,  -52.89162896, -117.11522204, -248.11633742,\n",
       "       -293.11292347])"
      ]
     },
     "execution_count": 158,
     "metadata": {},
     "output_type": "execute_result"
    }
   ],
   "source": [
    "#alpha=0.8\n",
    "scores['test_score']"
   ]
  },
  {
   "cell_type": "code",
   "execution_count": null,
   "metadata": {},
   "outputs": [],
   "source": []
  },
  {
   "cell_type": "markdown",
   "metadata": {},
   "source": [
    "## 15. Train the model usin KRR after KPCA on important genes\n",
    "\n",
    "Use train and test data that only contain the important genes as found from steps 2 - 4 in the data_explore notebook."
   ]
  },
  {
   "cell_type": "code",
   "execution_count": 174,
   "metadata": {},
   "outputs": [],
   "source": [
    "train_PCA_30=pd.read_csv('../data/train_KPCA_30.csv', index_col=0)\n",
    "test_PCA_30=pd.read_csv('../data/test_KPCA_30.csv', index_col=0)\n",
    "IC50=pd.read_csv('../data/flat_IC50.csv',index_col=0)"
   ]
  },
  {
   "cell_type": "code",
   "execution_count": 175,
   "metadata": {},
   "outputs": [],
   "source": [
    "X=train_PCA_30.values\n",
    "X_test=test_PCA_30.values\n",
    "y=IC50.values"
   ]
  },
  {
   "cell_type": "markdown",
   "metadata": {},
   "source": [
    "### 15.1 Perform crossvalidation"
   ]
  },
  {
   "cell_type": "code",
   "execution_count": 181,
   "metadata": {},
   "outputs": [],
   "source": [
    "from sklearn.preprocessing import PolynomialFeatures\n",
    "from sklearn.model_selection import cross_validate\n",
    "poly = PolynomialFeatures(3)\n",
    "X_ =poly.fit_transform(X)\n",
    "predict_=poly.fit_transform(y)\n",
    "reg = linear_model.LinearRegression()\n",
    "scores = cross_validate(reg, X_,y, scoring='r2', cv=5)"
   ]
  },
  {
   "cell_type": "code",
   "execution_count": 179,
   "metadata": {},
   "outputs": [
    {
     "name": "stderr",
     "output_type": "stream",
     "text": [
      "C:\\Users\\Public\\Miniconda3\\lib\\site-packages\\sklearn\\utils\\deprecation.py:125: FutureWarning: You are accessing a training score ('train_score'), which will not be available by default any more in 0.21. If you need training scores, please set return_train_score=True\n",
      "  warnings.warn(*warn_args, **warn_kwargs)\n"
     ]
    },
    {
     "data": {
      "text/plain": [
       "array([1., 1., 1., 1., 1.])"
      ]
     },
     "execution_count": 179,
     "metadata": {},
     "output_type": "execute_result"
    }
   ],
   "source": [
    "#degree=2\n",
    "scores['train_score']"
   ]
  },
  {
   "cell_type": "code",
   "execution_count": 180,
   "metadata": {},
   "outputs": [
    {
     "data": {
      "text/plain": [
       "array([-0.19457568, -0.31157891, -0.19260019, -0.55908457, -0.93483827])"
      ]
     },
     "execution_count": 180,
     "metadata": {},
     "output_type": "execute_result"
    }
   ],
   "source": [
    "#degree=2\n",
    "scores['test_score']"
   ]
  },
  {
   "cell_type": "code",
   "execution_count": 182,
   "metadata": {},
   "outputs": [
    {
     "name": "stderr",
     "output_type": "stream",
     "text": [
      "C:\\Users\\Public\\Miniconda3\\lib\\site-packages\\sklearn\\utils\\deprecation.py:125: FutureWarning: You are accessing a training score ('train_score'), which will not be available by default any more in 0.21. If you need training scores, please set return_train_score=True\n",
      "  warnings.warn(*warn_args, **warn_kwargs)\n"
     ]
    },
    {
     "data": {
      "text/plain": [
       "array([1., 1., 1., 1., 1.])"
      ]
     },
     "execution_count": 182,
     "metadata": {},
     "output_type": "execute_result"
    }
   ],
   "source": [
    "#degree=3\n",
    "scores['train_score']"
   ]
  },
  {
   "cell_type": "code",
   "execution_count": 183,
   "metadata": {},
   "outputs": [
    {
     "data": {
      "text/plain": [
       "array([-0.20369391, -0.31747801,  0.02877661, -0.56689358, -1.31891124])"
      ]
     },
     "execution_count": 183,
     "metadata": {},
     "output_type": "execute_result"
    }
   ],
   "source": [
    "#degree=3\n",
    "scores['test_score']"
   ]
  },
  {
   "cell_type": "markdown",
   "metadata": {},
   "source": [
    "## 16. KRR KPCA"
   ]
  },
  {
   "cell_type": "code",
   "execution_count": 208,
   "metadata": {},
   "outputs": [],
   "source": [
    "train_PCA_30=pd.read_csv('../data/train_KPCA_30.csv', index_col=0)\n",
    "test_PCA_30=pd.read_csv('../data/test_KPCA_30.csv', index_col=0)\n",
    "IC50=pd.read_csv('../data/flat_IC50.csv',index_col=0)"
   ]
  },
  {
   "cell_type": "code",
   "execution_count": 209,
   "metadata": {},
   "outputs": [
    {
     "data": {
      "text/html": [
       "<div>\n",
       "<style scoped>\n",
       "    .dataframe tbody tr th:only-of-type {\n",
       "        vertical-align: middle;\n",
       "    }\n",
       "\n",
       "    .dataframe tbody tr th {\n",
       "        vertical-align: top;\n",
       "    }\n",
       "\n",
       "    .dataframe thead th {\n",
       "        text-align: right;\n",
       "    }\n",
       "</style>\n",
       "<table border=\"1\" class=\"dataframe\">\n",
       "  <thead>\n",
       "    <tr style=\"text-align: right;\">\n",
       "      <th></th>\n",
       "      <th>component0</th>\n",
       "      <th>component1</th>\n",
       "      <th>component2</th>\n",
       "      <th>component3</th>\n",
       "      <th>component4</th>\n",
       "      <th>component5</th>\n",
       "      <th>component6</th>\n",
       "      <th>component7</th>\n",
       "      <th>component8</th>\n",
       "      <th>component9</th>\n",
       "      <th>...</th>\n",
       "      <th>component19</th>\n",
       "      <th>component20</th>\n",
       "      <th>component21</th>\n",
       "      <th>component22</th>\n",
       "      <th>component23</th>\n",
       "      <th>component24</th>\n",
       "      <th>component25</th>\n",
       "      <th>component26</th>\n",
       "      <th>component27</th>\n",
       "      <th>component28</th>\n",
       "    </tr>\n",
       "  </thead>\n",
       "  <tbody>\n",
       "    <tr>\n",
       "      <th>isolate_01</th>\n",
       "      <td>0.855442</td>\n",
       "      <td>-0.472970</td>\n",
       "      <td>1.901321</td>\n",
       "      <td>0.540272</td>\n",
       "      <td>-0.164262</td>\n",
       "      <td>1.378649</td>\n",
       "      <td>-0.087422</td>\n",
       "      <td>1.080168</td>\n",
       "      <td>1.406046</td>\n",
       "      <td>0.501912</td>\n",
       "      <td>...</td>\n",
       "      <td>-0.125647</td>\n",
       "      <td>0.146947</td>\n",
       "      <td>0.004725</td>\n",
       "      <td>0.062196</td>\n",
       "      <td>-0.038486</td>\n",
       "      <td>-0.020817</td>\n",
       "      <td>0.015966</td>\n",
       "      <td>-0.040886</td>\n",
       "      <td>0.006138</td>\n",
       "      <td>0.014636</td>\n",
       "    </tr>\n",
       "    <tr>\n",
       "      <th>isolate_02</th>\n",
       "      <td>-0.294937</td>\n",
       "      <td>-0.094889</td>\n",
       "      <td>-0.415360</td>\n",
       "      <td>-0.013869</td>\n",
       "      <td>0.074343</td>\n",
       "      <td>-0.024556</td>\n",
       "      <td>-0.149523</td>\n",
       "      <td>0.018164</td>\n",
       "      <td>0.007472</td>\n",
       "      <td>0.191945</td>\n",
       "      <td>...</td>\n",
       "      <td>0.137268</td>\n",
       "      <td>0.116966</td>\n",
       "      <td>0.239059</td>\n",
       "      <td>0.411837</td>\n",
       "      <td>-0.054205</td>\n",
       "      <td>-0.122467</td>\n",
       "      <td>0.123959</td>\n",
       "      <td>-0.139064</td>\n",
       "      <td>-1.178237</td>\n",
       "      <td>0.096424</td>\n",
       "    </tr>\n",
       "    <tr>\n",
       "      <th>isolate_03</th>\n",
       "      <td>-2.683168</td>\n",
       "      <td>1.008550</td>\n",
       "      <td>0.026654</td>\n",
       "      <td>0.216388</td>\n",
       "      <td>-0.166778</td>\n",
       "      <td>0.144331</td>\n",
       "      <td>-1.101647</td>\n",
       "      <td>0.241857</td>\n",
       "      <td>0.870913</td>\n",
       "      <td>-0.678470</td>\n",
       "      <td>...</td>\n",
       "      <td>-0.106840</td>\n",
       "      <td>-0.014089</td>\n",
       "      <td>-0.062692</td>\n",
       "      <td>-0.041208</td>\n",
       "      <td>0.032225</td>\n",
       "      <td>0.037344</td>\n",
       "      <td>-0.018574</td>\n",
       "      <td>0.013455</td>\n",
       "      <td>0.083786</td>\n",
       "      <td>0.001119</td>\n",
       "    </tr>\n",
       "    <tr>\n",
       "      <th>isolate_04</th>\n",
       "      <td>0.424188</td>\n",
       "      <td>-0.028240</td>\n",
       "      <td>0.126848</td>\n",
       "      <td>0.131625</td>\n",
       "      <td>-0.468503</td>\n",
       "      <td>-0.190703</td>\n",
       "      <td>0.037089</td>\n",
       "      <td>-0.041926</td>\n",
       "      <td>-0.346738</td>\n",
       "      <td>-0.276255</td>\n",
       "      <td>...</td>\n",
       "      <td>0.050131</td>\n",
       "      <td>-0.049565</td>\n",
       "      <td>0.043768</td>\n",
       "      <td>0.804699</td>\n",
       "      <td>1.104823</td>\n",
       "      <td>-0.794988</td>\n",
       "      <td>-0.012154</td>\n",
       "      <td>0.453306</td>\n",
       "      <td>0.156504</td>\n",
       "      <td>0.036931</td>\n",
       "    </tr>\n",
       "    <tr>\n",
       "      <th>isolate_05</th>\n",
       "      <td>0.070782</td>\n",
       "      <td>-0.772040</td>\n",
       "      <td>-0.672431</td>\n",
       "      <td>0.171722</td>\n",
       "      <td>1.538923</td>\n",
       "      <td>-0.597955</td>\n",
       "      <td>-0.012666</td>\n",
       "      <td>-0.641139</td>\n",
       "      <td>1.069180</td>\n",
       "      <td>-0.683365</td>\n",
       "      <td>...</td>\n",
       "      <td>-0.180733</td>\n",
       "      <td>0.206127</td>\n",
       "      <td>-0.026392</td>\n",
       "      <td>-0.061657</td>\n",
       "      <td>0.098443</td>\n",
       "      <td>0.061930</td>\n",
       "      <td>0.048743</td>\n",
       "      <td>0.053784</td>\n",
       "      <td>0.084953</td>\n",
       "      <td>-0.013224</td>\n",
       "    </tr>\n",
       "  </tbody>\n",
       "</table>\n",
       "<p>5 rows × 29 columns</p>\n",
       "</div>"
      ],
      "text/plain": [
       "            component0  component1  component2  component3  component4  \\\n",
       "isolate_01    0.855442   -0.472970    1.901321    0.540272   -0.164262   \n",
       "isolate_02   -0.294937   -0.094889   -0.415360   -0.013869    0.074343   \n",
       "isolate_03   -2.683168    1.008550    0.026654    0.216388   -0.166778   \n",
       "isolate_04    0.424188   -0.028240    0.126848    0.131625   -0.468503   \n",
       "isolate_05    0.070782   -0.772040   -0.672431    0.171722    1.538923   \n",
       "\n",
       "            component5  component6  component7  component8  component9  ...  \\\n",
       "isolate_01    1.378649   -0.087422    1.080168    1.406046    0.501912  ...   \n",
       "isolate_02   -0.024556   -0.149523    0.018164    0.007472    0.191945  ...   \n",
       "isolate_03    0.144331   -1.101647    0.241857    0.870913   -0.678470  ...   \n",
       "isolate_04   -0.190703    0.037089   -0.041926   -0.346738   -0.276255  ...   \n",
       "isolate_05   -0.597955   -0.012666   -0.641139    1.069180   -0.683365  ...   \n",
       "\n",
       "            component19  component20  component21  component22  component23  \\\n",
       "isolate_01    -0.125647     0.146947     0.004725     0.062196    -0.038486   \n",
       "isolate_02     0.137268     0.116966     0.239059     0.411837    -0.054205   \n",
       "isolate_03    -0.106840    -0.014089    -0.062692    -0.041208     0.032225   \n",
       "isolate_04     0.050131    -0.049565     0.043768     0.804699     1.104823   \n",
       "isolate_05    -0.180733     0.206127    -0.026392    -0.061657     0.098443   \n",
       "\n",
       "            component24  component25  component26  component27  component28  \n",
       "isolate_01    -0.020817     0.015966    -0.040886     0.006138     0.014636  \n",
       "isolate_02    -0.122467     0.123959    -0.139064    -1.178237     0.096424  \n",
       "isolate_03     0.037344    -0.018574     0.013455     0.083786     0.001119  \n",
       "isolate_04    -0.794988    -0.012154     0.453306     0.156504     0.036931  \n",
       "isolate_05     0.061930     0.048743     0.053784     0.084953    -0.013224  \n",
       "\n",
       "[5 rows x 29 columns]"
      ]
     },
     "execution_count": 209,
     "metadata": {},
     "output_type": "execute_result"
    }
   ],
   "source": [
    "train_PCA_30.head()"
   ]
  },
  {
   "cell_type": "code",
   "execution_count": 211,
   "metadata": {},
   "outputs": [
    {
     "data": {
      "text/plain": [
       "['component0',\n",
       " 'component1',\n",
       " 'component2',\n",
       " 'component3',\n",
       " 'component4',\n",
       " 'component5',\n",
       " 'component6',\n",
       " 'component7',\n",
       " 'component8',\n",
       " 'component9',\n",
       " 'component10',\n",
       " 'component11',\n",
       " 'component12',\n",
       " 'component13',\n",
       " 'component14',\n",
       " 'component15',\n",
       " 'component16',\n",
       " 'component17',\n",
       " 'component18',\n",
       " 'component19',\n",
       " 'component20',\n",
       " 'component21',\n",
       " 'component22',\n",
       " 'component23',\n",
       " 'component24',\n",
       " 'component25',\n",
       " 'component26',\n",
       " 'component27',\n",
       " 'component28']"
      ]
     },
     "execution_count": 211,
     "metadata": {},
     "output_type": "execute_result"
    }
   ],
   "source": [
    "components_list=list(train_PCA_30.columns)\n",
    "components_list"
   ]
  },
  {
   "cell_type": "code",
   "execution_count": 212,
   "metadata": {},
   "outputs": [],
   "source": [
    "#Global variables\n",
    "#val_isolates\n",
    "#genes_dict\n",
    "val_isolates=['isolate_07','isolate_11','isolate_16','isolate_18','isolate_27']"
   ]
  },
  {
   "cell_type": "code",
   "execution_count": 213,
   "metadata": {},
   "outputs": [],
   "source": [
    "def findTrainIsolates(val_isolates,df):\n",
    "#Takes a list of isolates chosen to be the validation set and the train df.\n",
    "#Returns the isolates not in val_isolates\n",
    "    train_isolates=list(set(df.index)-set(val_isolates))\n",
    "    train_isolates.sort()\n",
    "    return train_isolates"
   ]
  },
  {
   "cell_type": "code",
   "execution_count": 215,
   "metadata": {},
   "outputs": [],
   "source": [
    "def filterDfByComponents(components,df):\n",
    "#Takes a list of genes e.g.['PF3D7_1360200','PF3D7_1212800'] and a dataframe\n",
    "#Returns the columns of the dataframe whose labels are in genes\n",
    "    filtered_df=df[components]\n",
    "    return filtered_df"
   ]
  },
  {
   "cell_type": "code",
   "execution_count": 214,
   "metadata": {},
   "outputs": [],
   "source": [
    "def filterDfByIsolates(isolates,df):\n",
    "#Takes a list of isolates and a dataframe\n",
    "#Returns the rows of the dataframe whose index are in isolates\n",
    "    filtered_df=df.loc[isolates]\n",
    "    return filtered_df"
   ]
  },
  {
   "cell_type": "code",
   "execution_count": 227,
   "metadata": {},
   "outputs": [],
   "source": [
    "def trainModelKRRComponent(components,val_isolates,dfx,dfy):\n",
    "    train_isolates=findTrainIsolates(val_isolates,dfx)\n",
    "    \n",
    "    X=filterDfByIsolates(train_isolates,dfx)\n",
    "    X=filterDfByComponents(components,X)\n",
    "    \n",
    "    y=filterDfByIsolates(train_isolates,dfy)\n",
    "    \n",
    "    model=KernelRidge(alpha=5)\n",
    "    model=model.fit(X.values,y.values)\n",
    "    \n",
    "    X_val=filterDfByIsolates(val_isolates,dfx)\n",
    "    X_val=filterDfByComponents(components,X_val)\n",
    "    \n",
    "    y_val=filterDfByIsolates(val_isolates,dfy).values\n",
    "    \n",
    "    score=model.score(X_val,y_val)\n",
    "    \n",
    "    return score"
   ]
  },
  {
   "cell_type": "code",
   "execution_count": 228,
   "metadata": {},
   "outputs": [],
   "source": [
    "selected_components=[]\n",
    "selected_scores=[0]\n",
    "N=100\n",
    "for i in range(N):\n",
    "    best_component_so_far=''\n",
    "    best_score_so_far=selected_scores[-1]\n",
    "    \n",
    "    for component in components_list:\n",
    "        \n",
    "        if component not in selected_components:\n",
    "            components_to_use=selected_components+[component]\n",
    "            \n",
    "            model_score=trainModelKRRComponent(components_to_use,val_isolates,train_PCA_30,IC50)\n",
    "            \n",
    "            if model_score > best_score_so_far:\n",
    "                best_score_so_far=model_score\n",
    "                best_component_so_far=component\n",
    "\n",
    "    \n",
    "    if best_score_so_far>selected_scores[-1]:\n",
    "        selected_component.append(best_component_so_far)\n",
    "        selected_scores.append(best_score_so_far)"
   ]
  },
  {
   "cell_type": "code",
   "execution_count": 229,
   "metadata": {},
   "outputs": [
    {
     "data": {
      "text/plain": [
       "[0]"
      ]
     },
     "execution_count": 229,
     "metadata": {},
     "output_type": "execute_result"
    }
   ],
   "source": [
    "selected_scores"
   ]
  },
  {
   "cell_type": "code",
   "execution_count": 226,
   "metadata": {},
   "outputs": [
    {
     "data": {
      "text/plain": [
       "[]"
      ]
     },
     "execution_count": 226,
     "metadata": {},
     "output_type": "execute_result"
    }
   ],
   "source": [
    "selected_components"
   ]
  },
  {
   "cell_type": "code",
   "execution_count": null,
   "metadata": {},
   "outputs": [],
   "source": []
  },
  {
   "cell_type": "code",
   "execution_count": null,
   "metadata": {},
   "outputs": [],
   "source": []
  },
  {
   "cell_type": "code",
   "execution_count": null,
   "metadata": {},
   "outputs": [],
   "source": []
  },
  {
   "cell_type": "code",
   "execution_count": null,
   "metadata": {},
   "outputs": [],
   "source": []
  },
  {
   "cell_type": "code",
   "execution_count": null,
   "metadata": {},
   "outputs": [],
   "source": []
  },
  {
   "cell_type": "code",
   "execution_count": null,
   "metadata": {},
   "outputs": [],
   "source": []
  },
  {
   "cell_type": "code",
   "execution_count": null,
   "metadata": {},
   "outputs": [],
   "source": []
  },
  {
   "cell_type": "code",
   "execution_count": null,
   "metadata": {},
   "outputs": [],
   "source": []
  },
  {
   "cell_type": "code",
   "execution_count": null,
   "metadata": {},
   "outputs": [],
   "source": []
  },
  {
   "cell_type": "code",
   "execution_count": null,
   "metadata": {},
   "outputs": [],
   "source": []
  },
  {
   "cell_type": "code",
   "execution_count": null,
   "metadata": {},
   "outputs": [],
   "source": []
  }
 ],
 "metadata": {
  "kernelspec": {
   "display_name": "Python 3",
   "language": "python",
   "name": "python3"
  },
  "language_info": {
   "codemirror_mode": {
    "name": "ipython",
    "version": 3
   },
   "file_extension": ".py",
   "mimetype": "text/x-python",
   "name": "python",
   "nbconvert_exporter": "python",
   "pygments_lexer": "ipython3",
   "version": "3.6.8"
  }
 },
 "nbformat": 4,
 "nbformat_minor": 2
}
