{
 "cells": [
  {
   "cell_type": "markdown",
   "metadata": {},
   "source": [
    "## Runs XGBoost code from script and it also plots top 15 contributing genes"
   ]
  },
  {
   "cell_type": "code",
   "execution_count": 1,
   "metadata": {},
   "outputs": [
    {
     "name": "stdout",
     "output_type": "stream",
     "text": [
      "Training size: 930, Validation size:104\n",
      "[0]\ttraining-auc:0.87342\tvalidation-auc:0.739437\n",
      "Multiple eval metrics have been passed: 'validation-auc' will be used for early stopping.\n",
      "\n",
      "Will train until validation-auc hasn't improved in 30 rounds.\n",
      "[1]\ttraining-auc:0.945418\tvalidation-auc:0.823303\n",
      "[2]\ttraining-auc:0.973472\tvalidation-auc:0.799402\n",
      "[3]\ttraining-auc:0.980037\tvalidation-auc:0.799616\n",
      "[4]\ttraining-auc:0.98533\tvalidation-auc:0.794067\n",
      "[5]\ttraining-auc:0.989345\tvalidation-auc:0.784891\n",
      "[6]\ttraining-auc:0.990752\tvalidation-auc:0.792574\n",
      "[7]\ttraining-auc:0.995697\tvalidation-auc:0.787879\n",
      "[8]\ttraining-auc:0.996071\tvalidation-auc:0.798122\n",
      "[9]\ttraining-auc:0.99726\tvalidation-auc:0.787879\n",
      "[10]\ttraining-auc:0.998409\tvalidation-auc:0.795988\n",
      "[11]\ttraining-auc:0.998783\tvalidation-auc:0.802817\n",
      "[12]\ttraining-auc:0.999151\tvalidation-auc:0.799402\n",
      "[13]\ttraining-auc:0.999117\tvalidation-auc:0.804097\n",
      "[14]\ttraining-auc:0.99927\tvalidation-auc:0.798549\n",
      "[15]\ttraining-auc:0.999547\tvalidation-auc:0.800256\n",
      "[16]\ttraining-auc:0.999745\tvalidation-auc:0.795988\n",
      "[17]\ttraining-auc:0.999813\tvalidation-auc:0.795988\n",
      "[18]\ttraining-auc:0.999898\tvalidation-auc:0.789586\n",
      "[19]\ttraining-auc:0.999943\tvalidation-auc:0.794281\n",
      "[20]\ttraining-auc:0.99996\tvalidation-auc:0.795988\n",
      "[21]\ttraining-auc:0.999983\tvalidation-auc:0.803671\n",
      "[22]\ttraining-auc:0.999994\tvalidation-auc:0.803671\n",
      "[23]\ttraining-auc:0.999994\tvalidation-auc:0.792147\n",
      "[24]\ttraining-auc:1\tvalidation-auc:0.79044\n",
      "[25]\ttraining-auc:1\tvalidation-auc:0.792147\n",
      "[26]\ttraining-auc:1\tvalidation-auc:0.791293\n",
      "[27]\ttraining-auc:1\tvalidation-auc:0.79044\n",
      "[28]\ttraining-auc:1\tvalidation-auc:0.793854\n",
      "[29]\ttraining-auc:1\tvalidation-auc:0.792574\n",
      "[30]\ttraining-auc:1\tvalidation-auc:0.796415\n",
      "[31]\ttraining-auc:1\tvalidation-auc:0.797695\n",
      "Stopping. Best iteration:\n",
      "[1]\ttraining-auc:0.945418\tvalidation-auc:0.823303\n",
      "\n",
      "Finished\n"
     ]
    },
    {
     "data": {
      "image/png": "[encoded data removed]",
      "text/plain": [
       "<Figure size 432x288 with 1 Axes>"
      ]
     },
     "metadata": {
      "needs_background": "light"
     },
     "output_type": "display_data"
    }
   ],
   "source": [
    "import xgboost as xgb\n",
    "import pandas as pd\n",
    "import numpy as np\n",
    "from sklearn.preprocessing import LabelEncoder\n",
    "from sklearn.model_selection import train_test_split\n",
    "import matplotlib.pyplot as plt\n",
    "%matplotlib inline\n",
    "\n",
    "# Load data\n",
    "train = pd.read_csv(\"../data/SubCh2_TrainingData.csv\")\n",
    "\n",
    "# Filter out rows with Clearance rate = 'nan'\n",
    "rows_to_keep = [row for row in range(len(train)) if str(train['ClearanceRate'][row]) != 'nan']\n",
    "train = train.iloc[rows_to_keep,:].reset_index(drop=True)\n",
    "gene_names = list(train.columns)[4:4956]\n",
    "\n",
    "# Encode Clearance Rates as labels\n",
    "y_raw = list(train['ClearanceRate'])\n",
    "labelE = LabelEncoder().fit(y_raw)\n",
    "y = labelE.transform(y_raw)\n",
    "\n",
    "# Build feature matrix X\n",
    "X = train.iloc[:,4:4956].values\n",
    "\n",
    "# Split data into training and validation\n",
    "X_train, X_val, y_train, y_val = train_test_split(X,y,test_size=0.1)\n",
    "print(\"Training size: {}, Validation size:{}\".format(len(y_train),len(y_val)))\n",
    "\n",
    "# Build DMatrixes for XGBoost\n",
    "dtrain = xgb.DMatrix(X_train, label=y_train, feature_names=gene_names)\n",
    "dval = xgb.DMatrix(X_val, label=y_val, feature_names=gene_names)\n",
    "\n",
    "# Declare XGBoost parameters\n",
    "num_round = 200\n",
    "param = {\n",
    "    'booster': 'gbtree',\n",
    "    'max_depth': 5,\n",
    "    'eta': 0.1,\n",
    "    'lambda': 1,\n",
    "    'alpha': 1,\n",
    "    'colsample_bytree': 0.5,\n",
    "    'objective': 'binary:logistic',\n",
    "    'eval_metric': 'auc',\n",
    "    'verbose': 2\n",
    "    }\n",
    "\n",
    "# Prepare XGBoost run\n",
    "evallist = [(dtrain, 'training'), (dval, 'validation')]\n",
    "\n",
    "# Train model with early stopping (stop if validation score doesn't improve after 10 rounds)\n",
    "bst = xgb.train(param, dtrain, num_round, evallist, early_stopping_rounds=30)\n",
    "\n",
    "# Plot top 15 genes contributing to XGBoost\n",
    "xgb.plot_importance(bst, max_num_features=20)\n",
    "\n",
    "print(\"Finished\")"
   ]
  },
  {
   "cell_type": "code",
   "execution_count": 84,
   "metadata": {},
   "outputs": [],
   "source": [
    "feature_gains = bst.get_score(importance_type='gain')\n",
    "feature_gains_df = pd.DataFrame()\n",
    "feature_gains_df['Gene'] = list(feature_gains.keys())\n",
    "feature_gains_df['XGBoostGain'] = list(feature_gains.values())"
   ]
  },
  {
   "cell_type": "code",
   "execution_count": 110,
   "metadata": {},
   "outputs": [],
   "source": [
    "important_genes = list(feature_gains_df.sort_values(by=\"XGBoostGain\", ascending=False).head(100)['Gene'])"
   ]
  },
  {
   "cell_type": "code",
   "execution_count": 134,
   "metadata": {},
   "outputs": [],
   "source": [
    "# Save list of important genes\n",
    "f = open('xgboost_SubCh2_July21st_Top100_genes.txt', 'w')\n",
    "f.write(\"\\n\".join(important_genes)+\"\\n\")\n",
    "f.close()"
   ]
  },
  {
   "cell_type": "code",
   "execution_count": 130,
   "metadata": {},
   "outputs": [
    {
     "name": "stdout",
     "output_type": "stream",
     "text": [
      "Training size: 930, Validation size:104\n"
     ]
    }
   ],
   "source": [
    "new_X = train[important_genes].values\n",
    "# Split data into training and validation\n",
    "X_train, X_val, y_train, y_val = train_test_split(new_X,y,test_size=0.1)\n",
    "print(\"Training size: {}, Validation size:{}\".format(len(y_train),len(y_val)))\n",
    "\n",
    "# Build DMatrixes for XGBoost\n",
    "dtrain = xgb.DMatrix(X_train, label=y_train, feature_names=important_genes)\n",
    "dval = xgb.DMatrix(X_val, label=y_val, feature_names=important_genes)"
   ]
  },
  {
   "cell_type": "code",
   "execution_count": 131,
   "metadata": {},
   "outputs": [
    {
     "name": "stdout",
     "output_type": "stream",
     "text": [
      "[0]\ttraining-auc:0.871472\tvalidation-auc:0.802976\n",
      "[1]\ttraining-auc:0.923814\tvalidation-auc:0.818155\n",
      "[2]\ttraining-auc:0.93522\tvalidation-auc:0.865179\n",
      "[3]\ttraining-auc:0.953793\tvalidation-auc:0.864583\n",
      "[4]\ttraining-auc:0.964568\tvalidation-auc:0.874405\n",
      "[5]\ttraining-auc:0.97352\tvalidation-auc:0.873214\n",
      "[6]\ttraining-auc:0.977567\tvalidation-auc:0.886905\n",
      "[7]\ttraining-auc:0.977677\tvalidation-auc:0.89881\n",
      "[8]\ttraining-auc:0.978891\tvalidation-auc:0.899405\n",
      "[9]\ttraining-auc:0.981958\tvalidation-auc:0.9\n",
      "[10]\ttraining-auc:0.983521\tvalidation-auc:0.90119\n",
      "[11]\ttraining-auc:0.984738\tvalidation-auc:0.895833\n",
      "[12]\ttraining-auc:0.987381\tvalidation-auc:0.892262\n",
      "[13]\ttraining-auc:0.988328\tvalidation-auc:0.897619\n",
      "[14]\ttraining-auc:0.98977\tvalidation-auc:0.899405\n",
      "[15]\ttraining-auc:0.990068\tvalidation-auc:0.894643\n",
      "[16]\ttraining-auc:0.991174\tvalidation-auc:0.899405\n",
      "[17]\ttraining-auc:0.991923\tvalidation-auc:0.903571\n",
      "[18]\ttraining-auc:0.992644\tvalidation-auc:0.902381\n",
      "[19]\ttraining-auc:0.993162\tvalidation-auc:0.903571\n",
      "[20]\ttraining-auc:0.993751\tvalidation-auc:0.900595\n",
      "[21]\ttraining-auc:0.994103\tvalidation-auc:0.905357\n",
      "[22]\ttraining-auc:0.995221\tvalidation-auc:0.916071\n",
      "[23]\ttraining-auc:0.995689\tvalidation-auc:0.920238\n",
      "[24]\ttraining-auc:0.99614\tvalidation-auc:0.915476\n",
      "[25]\ttraining-auc:0.996625\tvalidation-auc:0.918452\n",
      "[26]\ttraining-auc:0.996867\tvalidation-auc:0.91369\n",
      "[27]\ttraining-auc:0.997242\tvalidation-auc:0.914286\n",
      "[28]\ttraining-auc:0.997495\tvalidation-auc:0.915476\n",
      "[29]\ttraining-auc:0.997583\tvalidation-auc:0.91369\n",
      "[30]\ttraining-auc:0.997748\tvalidation-auc:0.917262\n",
      "[31]\ttraining-auc:0.997891\tvalidation-auc:0.916667\n",
      "[32]\ttraining-auc:0.998106\tvalidation-auc:0.916071\n",
      "[33]\ttraining-auc:0.998216\tvalidation-auc:0.916071\n",
      "[34]\ttraining-auc:0.998216\tvalidation-auc:0.915476\n",
      "[35]\ttraining-auc:0.998425\tvalidation-auc:0.914881\n",
      "[36]\ttraining-auc:0.998458\tvalidation-auc:0.918452\n",
      "[37]\ttraining-auc:0.998613\tvalidation-auc:0.919048\n",
      "[38]\ttraining-auc:0.998728\tvalidation-auc:0.916071\n",
      "[39]\ttraining-auc:0.998937\tvalidation-auc:0.919048\n",
      "[40]\ttraining-auc:0.999064\tvalidation-auc:0.914881\n",
      "[41]\ttraining-auc:0.999147\tvalidation-auc:0.914881\n",
      "[42]\ttraining-auc:0.99913\tvalidation-auc:0.917857\n",
      "[43]\ttraining-auc:0.999224\tvalidation-auc:0.917262\n",
      "[44]\ttraining-auc:0.999334\tvalidation-auc:0.920238\n",
      "[45]\ttraining-auc:0.999394\tvalidation-auc:0.917857\n",
      "[46]\ttraining-auc:0.999438\tvalidation-auc:0.917857\n",
      "[47]\ttraining-auc:0.999471\tvalidation-auc:0.919643\n",
      "[48]\ttraining-auc:0.99956\tvalidation-auc:0.919643\n",
      "[49]\ttraining-auc:0.99962\tvalidation-auc:0.922619\n",
      "Finished\n"
     ]
    },
    {
     "data": {
      "image/png": "[encoded data removed]",
      "text/plain": [
       "<Figure size 432x288 with 1 Axes>"
      ]
     },
     "metadata": {
      "needs_background": "light"
     },
     "output_type": "display_data"
    }
   ],
   "source": [
    "# Declare XGBoost parameters\n",
    "num_round = 50\n",
    "param = {\n",
    "    'booster': 'gbtree',\n",
    "    'max_depth': 5,\n",
    "    'eta': 0.1,\n",
    "    'lambda': 1,\n",
    "    'alpha': 1,\n",
    "    'colsample_bytree': 0.5,\n",
    "    'objective': 'binary:logistic',\n",
    "    'eval_metric': 'auc',\n",
    "    'verbose': 1\n",
    "    }\n",
    "\n",
    "# Prepare XGBoost run\n",
    "evallist = [(dtrain, 'training'), (dval, 'validation')]\n",
    "\n",
    "# Train model with early stopping (stop if validation score doesn't improve after 10 rounds)\n",
    "new_bst = xgb.train(param, dtrain, num_round, evallist)\n",
    "\n",
    "# Plot top 15 genes contributing to XGBoost\n",
    "xgb.plot_importance(new_bst, max_num_features=20)\n",
    "\n",
    "print(\"Finished\")"
   ]
  },
  {
   "cell_type": "code",
   "execution_count": 145,
   "metadata": {},
   "outputs": [
    {
     "data": {
      "text/plain": [
       "array([0, 0, 0, 0, 0, 1, 0, 0, 0, 0, 1, 0, 0, 0, 0, 0, 1, 1, 0, 0, 1, 0,\n",
       "       0, 1, 1, 0, 0, 1, 0, 1, 0, 0, 0, 0, 0, 0, 0, 0, 1, 0, 1, 0, 0, 0,\n",
       "       0, 0, 0, 0, 0, 1])"
      ]
     },
     "execution_count": 145,
     "metadata": {},
     "output_type": "execute_result"
    }
   ],
   "source": [
    "y_train[0:50]"
   ]
  },
  {
   "cell_type": "code",
   "execution_count": 144,
   "metadata": {},
   "outputs": [
    {
     "data": {
      "text/plain": [
       "array([0.0929867 , 0.18099236, 0.03195775, 0.04635876, 0.05870049,\n",
       "       0.9027359 , 0.02242251, 0.21903972, 0.05524328, 0.03900386,\n",
       "       0.7869904 , 0.06108579, 0.19757989, 0.09970681, 0.17906144,\n",
       "       0.0324567 , 0.86265916, 0.76807994, 0.04222521, 0.02797829,\n",
       "       0.65961295, 0.3454149 , 0.05235843, 0.899923  , 0.8149364 ,\n",
       "       0.12776555, 0.03266413, 0.88770384, 0.04777519, 0.8366397 ,\n",
       "       0.14834619, 0.04201986, 0.09579649, 0.02173538, 0.03288419,\n",
       "       0.15035129, 0.05910593, 0.02264834, 0.7274121 , 0.04654683,\n",
       "       0.8282165 , 0.07460906, 0.21669306, 0.09416491, 0.13383718,\n",
       "       0.03832954, 0.09568746, 0.06078291, 0.08526761, 0.5399396 ],\n",
       "      dtype=float32)"
      ]
     },
     "execution_count": 144,
     "metadata": {},
     "output_type": "execute_result"
    }
   ],
   "source": [
    "new_bst.predict(dtrain)[0:50]"
   ]
  },
  {
   "cell_type": "code",
   "execution_count": 132,
   "metadata": {},
   "outputs": [],
   "source": [
    "# Save model\n",
    "import pickle\n",
    "with open('xgboost_SubCh2_July21st.pkl', 'wb') as xgboost_model_file:\n",
    "    pickle.dump(new_bst, xgboost_model_file)"
   ]
  },
  {
   "cell_type": "markdown",
   "metadata": {},
   "source": [
    "# Make predictions for test set\n",
    "\n",
    "#### 0 = Fast\n",
    "\n",
    "#### 1 = Slow"
   ]
  },
  {
   "cell_type": "code",
   "execution_count": 2,
   "metadata": {},
   "outputs": [
    {
     "data": {
      "text/html": [
       "<div>\n",
       "<style scoped>\n",
       "    .dataframe tbody tr th:only-of-type {\n",
       "        vertical-align: middle;\n",
       "    }\n",
       "\n",
       "    .dataframe tbody tr th {\n",
       "        vertical-align: top;\n",
       "    }\n",
       "\n",
       "    .dataframe thead th {\n",
       "        text-align: right;\n",
       "    }\n",
       "</style>\n",
       "<table border=\"1\" class=\"dataframe\">\n",
       "  <thead>\n",
       "    <tr style=\"text-align: right;\">\n",
       "      <th></th>\n",
       "      <th>Sample_Names</th>\n",
       "      <th>Country</th>\n",
       "      <th>Asexual_Stage</th>\n",
       "      <th>Isolate</th>\n",
       "      <th>Timepoint</th>\n",
       "      <th>Treatment</th>\n",
       "      <th>BioRep</th>\n",
       "      <th>MAL1.465720.465873.bc..rv..</th>\n",
       "      <th>MAL1.48287.48430....kr...can</th>\n",
       "      <th>MAL1.562126.562246.bc..r...</th>\n",
       "      <th>...</th>\n",
       "      <th>PF3D7_1478800</th>\n",
       "      <th>PF3D7_1479000</th>\n",
       "      <th>PF3D7_1479200</th>\n",
       "      <th>PF3D7_1479400</th>\n",
       "      <th>PF3D7_1479500</th>\n",
       "      <th>PF3D7_1479600</th>\n",
       "      <th>PF3D7_1479900</th>\n",
       "      <th>PF3D7_1480000</th>\n",
       "      <th>PF3D7_1480100</th>\n",
       "      <th>ClearanceRate</th>\n",
       "    </tr>\n",
       "  </thead>\n",
       "  <tbody>\n",
       "    <tr>\n",
       "      <th>0</th>\n",
       "      <td>isolate_02.24HR.DHA.BRep1</td>\n",
       "      <td>Thailand_Myanmar_Border</td>\n",
       "      <td>50</td>\n",
       "      <td>isolate_02</td>\n",
       "      <td>24HR</td>\n",
       "      <td>DHA</td>\n",
       "      <td>BRep1</td>\n",
       "      <td>-0.178971</td>\n",
       "      <td>-1.922426</td>\n",
       "      <td>-1.875015</td>\n",
       "      <td>...</td>\n",
       "      <td>0.790819</td>\n",
       "      <td>-0.070151</td>\n",
       "      <td>0.024133</td>\n",
       "      <td>-2.215227</td>\n",
       "      <td>-1.957654</td>\n",
       "      <td>-2.188635</td>\n",
       "      <td>-1.722201</td>\n",
       "      <td>-3.995680</td>\n",
       "      <td>-0.902979</td>\n",
       "      <td>NaN</td>\n",
       "    </tr>\n",
       "    <tr>\n",
       "      <th>1</th>\n",
       "      <td>isolate_02.24HR.DHA.BRep2</td>\n",
       "      <td>Thailand_Myanmar_Border</td>\n",
       "      <td>16</td>\n",
       "      <td>isolate_02</td>\n",
       "      <td>24HR</td>\n",
       "      <td>DHA</td>\n",
       "      <td>BRep2</td>\n",
       "      <td>1.337421</td>\n",
       "      <td>-1.764941</td>\n",
       "      <td>-0.414673</td>\n",
       "      <td>...</td>\n",
       "      <td>0.659458</td>\n",
       "      <td>-1.288305</td>\n",
       "      <td>0.806314</td>\n",
       "      <td>-3.733712</td>\n",
       "      <td>-1.990368</td>\n",
       "      <td>-1.633418</td>\n",
       "      <td>-2.104227</td>\n",
       "      <td>-5.767710</td>\n",
       "      <td>-2.177930</td>\n",
       "      <td>NaN</td>\n",
       "    </tr>\n",
       "    <tr>\n",
       "      <th>2</th>\n",
       "      <td>isolate_02.24HR.DHA.BRep3</td>\n",
       "      <td>Thailand_Myanmar_Border</td>\n",
       "      <td>8</td>\n",
       "      <td>isolate_02</td>\n",
       "      <td>24HR</td>\n",
       "      <td>DHA</td>\n",
       "      <td>BRep3</td>\n",
       "      <td>-0.717441</td>\n",
       "      <td>-1.151982</td>\n",
       "      <td>-1.693989</td>\n",
       "      <td>...</td>\n",
       "      <td>0.846346</td>\n",
       "      <td>0.279816</td>\n",
       "      <td>0.115002</td>\n",
       "      <td>-1.305902</td>\n",
       "      <td>-0.679212</td>\n",
       "      <td>-2.099512</td>\n",
       "      <td>-1.626372</td>\n",
       "      <td>-4.422711</td>\n",
       "      <td>-1.408485</td>\n",
       "      <td>NaN</td>\n",
       "    </tr>\n",
       "    <tr>\n",
       "      <th>3</th>\n",
       "      <td>isolate_02.24HR.DHA.BRep4</td>\n",
       "      <td>Thailand_Myanmar_Border</td>\n",
       "      <td>6</td>\n",
       "      <td>isolate_02</td>\n",
       "      <td>24HR</td>\n",
       "      <td>DHA</td>\n",
       "      <td>BRep4</td>\n",
       "      <td>0.143501</td>\n",
       "      <td>-1.496923</td>\n",
       "      <td>-1.219010</td>\n",
       "      <td>...</td>\n",
       "      <td>0.927822</td>\n",
       "      <td>0.375290</td>\n",
       "      <td>1.113241</td>\n",
       "      <td>-4.016287</td>\n",
       "      <td>-1.327287</td>\n",
       "      <td>-2.375500</td>\n",
       "      <td>-1.939162</td>\n",
       "      <td>-3.500963</td>\n",
       "      <td>-0.796143</td>\n",
       "      <td>NaN</td>\n",
       "    </tr>\n",
       "    <tr>\n",
       "      <th>4</th>\n",
       "      <td>isolate_02.24HR.UT.BRep1</td>\n",
       "      <td>Thailand_Myanmar_Border</td>\n",
       "      <td>48</td>\n",
       "      <td>isolate_02</td>\n",
       "      <td>24HR</td>\n",
       "      <td>UT</td>\n",
       "      <td>BRep1</td>\n",
       "      <td>-0.078235</td>\n",
       "      <td>-1.885653</td>\n",
       "      <td>-1.350747</td>\n",
       "      <td>...</td>\n",
       "      <td>-0.718147</td>\n",
       "      <td>0.193968</td>\n",
       "      <td>-0.125951</td>\n",
       "      <td>0.048244</td>\n",
       "      <td>-1.316566</td>\n",
       "      <td>-2.247523</td>\n",
       "      <td>-1.104079</td>\n",
       "      <td>-4.776909</td>\n",
       "      <td>-2.218115</td>\n",
       "      <td>NaN</td>\n",
       "    </tr>\n",
       "  </tbody>\n",
       "</table>\n",
       "<p>5 rows × 4968 columns</p>\n",
       "</div>"
      ],
      "text/plain": [
       "                Sample_Names                  Country  Asexual_Stage  \\\n",
       "0  isolate_02.24HR.DHA.BRep1  Thailand_Myanmar_Border             50   \n",
       "1  isolate_02.24HR.DHA.BRep2  Thailand_Myanmar_Border             16   \n",
       "2  isolate_02.24HR.DHA.BRep3  Thailand_Myanmar_Border              8   \n",
       "3  isolate_02.24HR.DHA.BRep4  Thailand_Myanmar_Border              6   \n",
       "4   isolate_02.24HR.UT.BRep1  Thailand_Myanmar_Border             48   \n",
       "\n",
       "      Isolate Timepoint Treatment BioRep  MAL1.465720.465873.bc..rv..  \\\n",
       "0  isolate_02      24HR       DHA  BRep1                    -0.178971   \n",
       "1  isolate_02      24HR       DHA  BRep2                     1.337421   \n",
       "2  isolate_02      24HR       DHA  BRep3                    -0.717441   \n",
       "3  isolate_02      24HR       DHA  BRep4                     0.143501   \n",
       "4  isolate_02      24HR        UT  BRep1                    -0.078235   \n",
       "\n",
       "   MAL1.48287.48430....kr...can  MAL1.562126.562246.bc..r...      ...        \\\n",
       "0                     -1.922426                    -1.875015      ...         \n",
       "1                     -1.764941                    -0.414673      ...         \n",
       "2                     -1.151982                    -1.693989      ...         \n",
       "3                     -1.496923                    -1.219010      ...         \n",
       "4                     -1.885653                    -1.350747      ...         \n",
       "\n",
       "   PF3D7_1478800  PF3D7_1479000  PF3D7_1479200  PF3D7_1479400  PF3D7_1479500  \\\n",
       "0       0.790819      -0.070151       0.024133      -2.215227      -1.957654   \n",
       "1       0.659458      -1.288305       0.806314      -3.733712      -1.990368   \n",
       "2       0.846346       0.279816       0.115002      -1.305902      -0.679212   \n",
       "3       0.927822       0.375290       1.113241      -4.016287      -1.327287   \n",
       "4      -0.718147       0.193968      -0.125951       0.048244      -1.316566   \n",
       "\n",
       "   PF3D7_1479600  PF3D7_1479900  PF3D7_1480000  PF3D7_1480100  ClearanceRate  \n",
       "0      -2.188635      -1.722201      -3.995680      -0.902979            NaN  \n",
       "1      -1.633418      -2.104227      -5.767710      -2.177930            NaN  \n",
       "2      -2.099512      -1.626372      -4.422711      -1.408485            NaN  \n",
       "3      -2.375500      -1.939162      -3.500963      -0.796143            NaN  \n",
       "4      -2.247523      -1.104079      -4.776909      -2.218115            NaN  \n",
       "\n",
       "[5 rows x 4968 columns]"
      ]
     },
     "execution_count": 2,
     "metadata": {},
     "output_type": "execute_result"
    }
   ],
   "source": [
    "test = pd.read_csv('../data/SubCh2_TestData.csv')\n",
    "test.head()"
   ]
  },
  {
   "cell_type": "markdown",
   "metadata": {},
   "source": [
    "## Note: I'm not averaging results across biological replicates, but we should do this in the next round"
   ]
  },
  {
   "cell_type": "code",
   "execution_count": 141,
   "metadata": {},
   "outputs": [],
   "source": [
    "results = {}\n",
    "for isolate in list(set(test['Isolate'])):\n",
    "    tmp = test[test['Isolate']==isolate].copy().reset_index(drop=True)\n",
    "    tmp_X = tmp[important_genes].values\n",
    "    dtmp = xgb.DMatrix(tmp_X, feature_names=important_genes)\n",
    "    tmp_y = new_bst.predict(dtmp)\n",
    "    results[isolate] = tmp_y"
   ]
  },
  {
   "cell_type": "code",
   "execution_count": 8,
   "metadata": {},
   "outputs": [],
   "source": [
    "test_isolates = list(set(test['Isolate']))\n",
    "test_isolates.sort()"
   ]
  },
  {
   "cell_type": "code",
   "execution_count": 151,
   "metadata": {},
   "outputs": [],
   "source": [
    "f = open('../submissions/lylat_SubCh2_xgboost1_2107.txt','w')\n",
    "f.write(\"Isolate\"+\"\\t\"+\"Predicted_Categorical_Clearance\\n\")\n",
    "for isolate in test_isolates:\n",
    "    f.write(isolate+\"\\t\")\n",
    "    predicted = max(results[isolate])\n",
    "    if predicted < 0.5:\n",
    "        f.write(\"Fast\\n\")\n",
    "    else:\n",
    "        f.write(\"Slow\\n\")\n",
    "f.close()"
   ]
  },
  {
   "cell_type": "markdown",
   "metadata": {},
   "source": [
    "# Make predictions from scratch"
   ]
  },
  {
   "cell_type": "code",
   "execution_count": 3,
   "metadata": {},
   "outputs": [],
   "source": [
    "f = open('xgboost_SubCh2_July21st_Top100_genes.txt', 'r')\n",
    "important_genes = f.read().splitlines()\n",
    "f.close()\n",
    "\n",
    "import pickle\n",
    "f = open('xgboost_SubCh2_July21st.pkl', 'rb')\n",
    "new_bst = pickle.load(f)\n",
    "f.close()"
   ]
  },
  {
   "cell_type": "code",
   "execution_count": 4,
   "metadata": {},
   "outputs": [],
   "source": [
    "results = {}\n",
    "for isolate in list(set(test['Isolate'])):\n",
    "    tmp = test[test['Isolate']==isolate].copy().reset_index(drop=True)\n",
    "    tmp_X = tmp[important_genes].values\n",
    "    dtmp = xgb.DMatrix(tmp_X, feature_names=important_genes)\n",
    "    tmp_y = new_bst.predict(dtmp)\n",
    "    results[isolate] = tmp_y"
   ]
  },
  {
   "cell_type": "code",
   "execution_count": 10,
   "metadata": {},
   "outputs": [],
   "source": [
    "f = open('../submissions/lylat_SubCh2_model1_210719.txt','w')\n",
    "f.write(\"Isolate\\tPredicted_Categorical_Clearance\\tProbability\\n\")\n",
    "for isolate in test_isolates:\n",
    "    f.write(isolate+\"\\t\")\n",
    "    predicted = max(results[isolate])\n",
    "    if predicted < 0.5:\n",
    "        f.write(\"FAST\\t\")\n",
    "        f.write(str(1-predicted) + \"\\n\")\n",
    "    else:\n",
    "        f.write(\"SLOW\\t\")\n",
    "        f.write(str(predicted) + \"\\n\")\n",
    "f.close()"
   ]
  },
  {
   "cell_type": "code",
   "execution_count": null,
   "metadata": {},
   "outputs": [],
   "source": []
  }
 ],
 "metadata": {
  "kernelspec": {
   "display_name": "Python 3",
   "language": "python",
   "name": "python3"
  },
  "language_info": {
   "codemirror_mode": {
    "name": "ipython",
    "version": 3
   },
   "file_extension": ".py",
   "mimetype": "text/x-python",
   "name": "python",
   "nbconvert_exporter": "python",
   "pygments_lexer": "ipython3",
   "version": "3.6.6"
  }
 },
 "nbformat": 4,
 "nbformat_minor": 2
}
