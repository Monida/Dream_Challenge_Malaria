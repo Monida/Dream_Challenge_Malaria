{
 "cells": [
  {
   "cell_type": "markdown",
   "metadata": {},
   "source": [
    "## Runs XGBoost code from script and it also plots top 15 contributing genes"
   ]
  },
  {
   "cell_type": "code",
   "execution_count": null,
   "metadata": {},
   "outputs": [],
   "source": [
    "import xgboost as xgb\n",
    "import pandas as pd\n",
    "import numpy as np\n",
    "from sklearn.preprocessing import LabelEncoder\n",
    "from sklearn.model_selection import train_test_split\n",
    "import matplotlib.pyplot as plt\n",
    "%matplotlib inline\n",
    "\n",
    "# Load data\n",
    "train = pd.read_csv(\"../data/SubCh2_TrainingData.csv\")\n",
    "\n",
    "# Filter out rows with Clearance rate = 'nan'\n",
    "rows_to_keep = [row for row in range(len(train)) if str(train['ClearanceRate'][row]) != 'nan']\n",
    "train = train.iloc[rows_to_keep,:].reset_index(drop=True)\n",
    "gene_names = list(train.columns)[4:4956]\n",
    "\n",
    "# Encode Clearance Rates as labels\n",
    "y_raw = list(train['ClearanceRate'])\n",
    "labelE = LabelEncoder().fit(y_raw)\n",
    "y = labelE.transform(y_raw)\n",
    "\n",
    "# Build feature matrix X\n",
    "X = train.iloc[:,4:4956].values\n",
    "\n",
    "# Split data into training and validation\n",
    "X_train, X_val, y_train, y_val = train_test_split(X,y,test_size=0.1,random_state=8)\n",
    "print(\"Training size: {}, Validation size:{}\".format(len(y_train),len(y_val)))\n",
    "\n",
    "# Build DMatrixes for XGBoost\n",
    "dtrain = xgb.DMatrix(X_train, label=y_train, feature_names=gene_names)\n",
    "dval = xgb.DMatrix(X_val, label=y_val, feature_names=gene_names)\n",
    "\n",
    "# Declare XGBoost parameters\n",
    "num_round = 200\n",
    "param = {\n",
    "    'booster': 'gbtree',\n",
    "    'max_depth': 5,\n",
    "    'eta': 0.1,\n",
    "    'lambda': 1,\n",
    "    'alpha': 1,\n",
    "    'colsample_bytree': 0.5,\n",
    "    'objective': 'binary:logistic',\n",
    "    'eval_metric': 'auc',\n",
    "    'verbose': 2\n",
    "    }\n",
    "\n",
    "# Prepare XGBoost run\n",
    "evallist = [(dtrain, 'training'), (dval, 'validation')]\n",
    "\n",
    "# Train model with early stopping (stop if validation score doesn't improve after 10 rounds)\n",
    "bst = xgb.train(param, dtrain, num_round, evallist, early_stopping_rounds=30)\n",
    "\n",
    "# Plot top 15 genes contributing to XGBoost\n",
    "xgb.plot_importance(bst, max_num_features=15)\n",
    "\n",
    "print(\"Finished\")"
   ]
  }
 ],
 "metadata": {
  "kernelspec": {
   "display_name": "Python 2",
   "language": "python",
   "name": "python2"
  },
  "language_info": {
   "codemirror_mode": {
    "name": "ipython",
    "version": 2
   },
   "file_extension": ".py",
   "mimetype": "text/x-python",
   "name": "python",
   "nbconvert_exporter": "python",
   "pygments_lexer": "ipython2",
   "version": "2.7.13"
  }
 },
 "nbformat": 4,
 "nbformat_minor": 2
}
